{
 "cells": [
  {
   "cell_type": "markdown",
   "id": "minimal-queue",
   "metadata": {},
   "source": [
    "# Import Packages"
   ]
  },
  {
   "cell_type": "code",
   "execution_count": 1,
   "id": "recognized-equilibrium",
   "metadata": {
    "ExecuteTime": {
     "end_time": "2021-01-26T04:40:12.765388Z",
     "start_time": "2021-01-26T04:40:12.744168Z"
    }
   },
   "outputs": [],
   "source": [
    "%load_ext autoreload\n",
    "%autoreload 2"
   ]
  },
  {
   "cell_type": "code",
   "execution_count": 2,
   "id": "revolutionary-links",
   "metadata": {
    "ExecuteTime": {
     "end_time": "2021-01-26T04:40:13.122500Z",
     "start_time": "2021-01-26T04:40:12.767329Z"
    }
   },
   "outputs": [
    {
     "name": "stdout",
     "output_type": "stream",
     "text": [
      "environment variable OVERLAY_MONETARY_BASE_PATH not set defaulting to /home/michael/PycharmProjects/overlay-monetary\n"
     ]
    }
   ],
   "source": [
    "import os\n",
    "\n",
    "import pandas as pd\n",
    "\n",
    "from ovm.paths import HISTORICAL_DATA_DIRECTORY"
   ]
  },
  {
   "cell_type": "code",
   "execution_count": 9,
   "id": "republican-grenada",
   "metadata": {},
   "outputs": [
    {
     "name": "stdout",
     "output_type": "stream",
     "text": [
      "/home/michael/PycharmProjects/overlay-monetary/data/historical/kucoin/1m/EOS-ETH        \n",
      "/home/michael/PycharmProjects/overlay-monetary/data/historical/kucoin/1m/EOS-BTC        \n",
      "/home/michael/PycharmProjects/overlay-monetary/data/historical/kucoin/1m/TRX-BTC        \n",
      "/home/michael/PycharmProjects/overlay-monetary/data/historical/kucoin/1m/ETH-USDT        \n",
      "/home/michael/PycharmProjects/overlay-monetary/data/historical/kucoin/1m/ADA-USDT        \n",
      "/home/michael/PycharmProjects/overlay-monetary/data/historical/kucoin/1m/ADA-BTC        \n",
      "/home/michael/PycharmProjects/overlay-monetary/data/historical/kucoin/1m/ETH-BTC        \n",
      "/home/michael/PycharmProjects/overlay-monetary/data/historical/kucoin/1m/SNX-USDT        \n",
      "/home/michael/PycharmProjects/overlay-monetary/data/historical/kucoin/1m/MKR-ETH        \n",
      "/home/michael/PycharmProjects/overlay-monetary/data/historical/kucoin/1m/BTC-USDT        \n",
      "/home/michael/PycharmProjects/overlay-monetary/data/historical/kucoin/1m/TRX-USDT        \n",
      "/home/michael/PycharmProjects/overlay-monetary/data/historical/kucoin/1m/XRP-BTC        \n",
      "/home/michael/PycharmProjects/overlay-monetary/data/historical/kucoin/1m/XRP-USDT        \n",
      "/home/michael/PycharmProjects/overlay-monetary/data/historical/kucoin/1m/TRX-ETH        \n",
      "/home/michael/PycharmProjects/overlay-monetary/data/historical/kucoin/1m/ETC-BTC        \n",
      "/home/michael/PycharmProjects/overlay-monetary/data/historical/kucoin/1m/ETC-ETH        \n",
      "/home/michael/PycharmProjects/overlay-monetary/data/historical/kucoin/1m/SNX-ETH        \n",
      "/home/michael/PycharmProjects/overlay-monetary/data/historical/kucoin/1m/ETC-USDT        \n",
      "/home/michael/PycharmProjects/overlay-monetary/data/historical/kucoin/1m/XRP-ETH        \n",
      "/home/michael/PycharmProjects/overlay-monetary/data/historical/kucoin/1m/MKR-BTC        \n",
      "/home/michael/PycharmProjects/overlay-monetary/data/historical/kucoin/1m/SNX-BTC        \n",
      "/home/michael/PycharmProjects/overlay-monetary/data/historical/kucoin/1m/MKR-USDT        \n",
      "/home/michael/PycharmProjects/overlay-monetary/data/historical/kucoin/1m/EOS-USDT        \n",
      "/home/michael/PycharmProjects/overlay-monetary/data/historical/ftx/15m/UNI-USD        \n",
      "/home/michael/PycharmProjects/overlay-monetary/data/historical/ftx/15m/CREAM-USD        \n",
      "/home/michael/PycharmProjects/overlay-monetary/data/historical/ftx/15m/COMP-USD        \n",
      "/home/michael/PycharmProjects/overlay-monetary/data/historical/ftx/15m/BAL-USD        \n",
      "/home/michael/PycharmProjects/overlay-monetary/data/historical/ftx/15m/ETH-USD        \n",
      "/home/michael/PycharmProjects/overlay-monetary/data/historical/ftx/15m/YFI-USD        \n",
      "/home/michael/PycharmProjects/overlay-monetary/data/historical/ftx/15m/LINK-USD        \n",
      "/home/michael/PycharmProjects/overlay-monetary/data/historical/ftx/15m/SUSHI-USD        \n",
      "/home/michael/PycharmProjects/overlay-monetary/data/historical/ftx/15m/BTC-USD        \n",
      "/home/michael/PycharmProjects/overlay-monetary/data/historical/ftx/15m/AAVE-USD        \n",
      "/home/michael/PycharmProjects/overlay-monetary/data/historical/ftx/5m/UNI-USD        \n",
      "/home/michael/PycharmProjects/overlay-monetary/data/historical/ftx/5m/CREAM-USD        \n",
      "/home/michael/PycharmProjects/overlay-monetary/data/historical/ftx/5m/COMP-USD        \n",
      "/home/michael/PycharmProjects/overlay-monetary/data/historical/ftx/5m/BAL-USD        \n",
      "/home/michael/PycharmProjects/overlay-monetary/data/historical/ftx/5m/ETH-USD        \n",
      "/home/michael/PycharmProjects/overlay-monetary/data/historical/ftx/5m/YFI-USD        \n",
      "/home/michael/PycharmProjects/overlay-monetary/data/historical/ftx/5m/LINK-USD        \n",
      "/home/michael/PycharmProjects/overlay-monetary/data/historical/ftx/5m/SUSHI-USD        \n",
      "/home/michael/PycharmProjects/overlay-monetary/data/historical/ftx/5m/BTC-USD        \n",
      "/home/michael/PycharmProjects/overlay-monetary/data/historical/ftx/5m/AAVE-USD        \n",
      "/home/michael/PycharmProjects/overlay-monetary/data/historical/ftx/15s/UNI-USD        \n",
      "/home/michael/PycharmProjects/overlay-monetary/data/historical/ftx/15s/CREAM-USD        \n",
      "/home/michael/PycharmProjects/overlay-monetary/data/historical/ftx/15s/COMP-USD        \n",
      "/home/michael/PycharmProjects/overlay-monetary/data/historical/ftx/15s/BAL-USD        \n",
      "/home/michael/PycharmProjects/overlay-monetary/data/historical/ftx/15s/ETH-USD        \n",
      "/home/michael/PycharmProjects/overlay-monetary/data/historical/ftx/15s/YFI-USD        \n",
      "/home/michael/PycharmProjects/overlay-monetary/data/historical/ftx/15s/LINK-USD        \n",
      "/home/michael/PycharmProjects/overlay-monetary/data/historical/ftx/15s/SUSHI-USD        \n",
      "/home/michael/PycharmProjects/overlay-monetary/data/historical/ftx/15s/BTC-USD        \n",
      "/home/michael/PycharmProjects/overlay-monetary/data/historical/ftx/15s/AAVE-USD        \n",
      "/home/michael/PycharmProjects/overlay-monetary/data/historical/ftx/1m/UNI-USD        \n",
      "/home/michael/PycharmProjects/overlay-monetary/data/historical/ftx/1m/CREAM-USD        \n",
      "/home/michael/PycharmProjects/overlay-monetary/data/historical/ftx/1m/COMP-USD        \n",
      "/home/michael/PycharmProjects/overlay-monetary/data/historical/ftx/1m/BAL-USD        \n",
      "/home/michael/PycharmProjects/overlay-monetary/data/historical/ftx/1m/ETH-USD        \n",
      "/home/michael/PycharmProjects/overlay-monetary/data/historical/ftx/1m/YFI-USD        \n",
      "/home/michael/PycharmProjects/overlay-monetary/data/historical/ftx/1m/LINK-USD        \n",
      "/home/michael/PycharmProjects/overlay-monetary/data/historical/ftx/1m/SUSHI-USD        \n",
      "/home/michael/PycharmProjects/overlay-monetary/data/historical/ftx/1m/BTC-USD        \n",
      "/home/michael/PycharmProjects/overlay-monetary/data/historical/ftx/1m/AAVE-USD        \n"
     ]
    }
   ],
   "source": [
    "for root, dirs, files in os.walk(HISTORICAL_DATA_DIRECTORY, topdown=False):\n",
    "    for name in files:\n",
    "        old_file_path = os.path.join(root, name)\n",
    "        file_path_without_extension, file_extension = os.path.splitext(old_file_path)\n",
    "        \n",
    "        if not file_extension or file_extension == '':\n",
    "            print(f'{file_path_without_extension}        {file_extension}')\n",
    "            os.rename(file_path_without_extension, file_path_without_extension + '.parq')"
   ]
  },
  {
   "cell_type": "code",
   "execution_count": 6,
   "id": "imposed-james",
   "metadata": {},
   "outputs": [
    {
     "data": {
      "text/plain": [
       "''"
      ]
     },
     "execution_count": 6,
     "metadata": {},
     "output_type": "execute_result"
    }
   ],
   "source": [
    "file_extension"
   ]
  },
  {
   "cell_type": "code",
   "execution_count": 3,
   "id": "twenty-customs",
   "metadata": {
    "ExecuteTime": {
     "end_time": "2021-01-26T04:40:20.572502Z",
     "start_time": "2021-01-26T04:40:13.124730Z"
    }
   },
   "outputs": [
    {
     "name": "stdout",
     "output_type": "stream",
     "text": [
      "/Volumes/GIT/PycharmProjects/overlay-monetary/data/simulation/ftx/15s/sims-42/sim-COMP-USD.parq\n",
      "/Volumes/GIT/PycharmProjects/overlay-monetary/data/simulation/ftx/15s/sims-42/sim-BTC-USD.parq\n",
      "/Volumes/GIT/PycharmProjects/overlay-monetary/data/simulation/ftx/15s/sims-42/sim-LINK-USD.parq\n",
      "/Volumes/GIT/PycharmProjects/overlay-monetary/data/simulation/ftx/15s/sims-42/sim-ETH-USD.parq\n",
      "/Volumes/GIT/PycharmProjects/overlay-monetary/data/simulation/ftx/15s/sims-42/sim-YFI-USD.parq\n",
      "/Volumes/GIT/PycharmProjects/overlay-monetary/data/simulation/ftx/15s/sims-42/sim-BAL-USD.parq\n",
      "/Volumes/GIT/PycharmProjects/overlay-monetary/data/simulation/ftx/15s/sims-some-seed/sim-COMP-USD.parq\n",
      "/Volumes/GIT/PycharmProjects/overlay-monetary/data/simulation/ftx/15s/sims-some-seed/sim-BTC-USD.parq\n",
      "/Volumes/GIT/PycharmProjects/overlay-monetary/data/simulation/ftx/15s/sims-some-seed/sim-LINK-USD.parq\n",
      "/Volumes/GIT/PycharmProjects/overlay-monetary/data/simulation/ftx/15s/sims-some-seed/sim-ETH-USD.parq\n",
      "/Volumes/GIT/PycharmProjects/overlay-monetary/data/simulation/ftx/15s/sims-some-seed/sim-YFI-USD.parq\n",
      "/Volumes/GIT/PycharmProjects/overlay-monetary/data/simulation/ftx/15s/sims-some-seed/sim-BAL-USD.parq\n",
      "/Volumes/GIT/PycharmProjects/overlay-monetary/data/simulation/ftx/15s/sims-115/sim-COMP-USD.parq\n",
      "/Volumes/GIT/PycharmProjects/overlay-monetary/data/simulation/ftx/15s/sims-115/sim-BTC-USD.parq\n",
      "/Volumes/GIT/PycharmProjects/overlay-monetary/data/simulation/ftx/15s/sims-115/sim-LINK-USD.parq\n",
      "/Volumes/GIT/PycharmProjects/overlay-monetary/data/simulation/ftx/15s/sims-115/sim-ETH-USD.parq\n",
      "/Volumes/GIT/PycharmProjects/overlay-monetary/data/simulation/ftx/15s/sims-115/sim-YFI-USD.parq\n",
      "/Volumes/GIT/PycharmProjects/overlay-monetary/data/simulation/ftx/15s/sims-115/sim-BAL-USD.parq\n",
      "/Volumes/GIT/PycharmProjects/overlay-monetary/data/simulation/ftx/15s/sims-100/sim-COMP-USD.parq\n",
      "/Volumes/GIT/PycharmProjects/overlay-monetary/data/simulation/ftx/15s/sims-100/sim-BTC-USD.parq\n",
      "/Volumes/GIT/PycharmProjects/overlay-monetary/data/simulation/ftx/15s/sims-100/sim-LINK-USD.parq\n",
      "/Volumes/GIT/PycharmProjects/overlay-monetary/data/simulation/ftx/15s/sims-100/sim-ETH-USD.parq\n",
      "/Volumes/GIT/PycharmProjects/overlay-monetary/data/simulation/ftx/15s/sims-100/sim-YFI-USD.parq\n",
      "/Volumes/GIT/PycharmProjects/overlay-monetary/data/simulation/ftx/15s/sims-100/sim-BAL-USD.parq\n",
      "/Volumes/GIT/PycharmProjects/overlay-monetary/data/simulation/kucoin/1m/sims-42/sim-EOS-ETH.parq\n",
      "/Volumes/GIT/PycharmProjects/overlay-monetary/data/simulation/kucoin/1m/sims-42/sim-ETC-ETH.parq\n",
      "/Volumes/GIT/PycharmProjects/overlay-monetary/data/simulation/kucoin/1m/sims-42/sim-MKR-ETH.parq\n",
      "/Volumes/GIT/PycharmProjects/overlay-monetary/data/simulation/kucoin/1m/sims-42/sim-SNX-BTC.parq\n",
      "/Volumes/GIT/PycharmProjects/overlay-monetary/data/simulation/kucoin/1m/sims-42/sim-EOS-USDT.parq\n",
      "/Volumes/GIT/PycharmProjects/overlay-monetary/data/simulation/kucoin/1m/sims-42/sim-XRP-ETH.parq\n",
      "/Volumes/GIT/PycharmProjects/overlay-monetary/data/simulation/kucoin/1m/sims-42/sim-ETH-USDT.parq\n",
      "/Volumes/GIT/PycharmProjects/overlay-monetary/data/simulation/kucoin/1m/sims-42/sim-ETC-USDT.parq\n",
      "/Volumes/GIT/PycharmProjects/overlay-monetary/data/simulation/kucoin/1m/sims-42/sim-BTC-USDT.parq\n",
      "/Volumes/GIT/PycharmProjects/overlay-monetary/data/simulation/kucoin/1m/sims-42/sim-TRX-ETH.parq\n",
      "/Volumes/GIT/PycharmProjects/overlay-monetary/data/simulation/kucoin/1m/sims-42/sim-ADA-BTC.parq\n",
      "/Volumes/GIT/PycharmProjects/overlay-monetary/data/simulation/kucoin/1m/sims-42/sim-XRP-BTC.parq\n",
      "/Volumes/GIT/PycharmProjects/overlay-monetary/data/simulation/kucoin/1m/sims-42/sim-TRX-USDT.parq\n",
      "/Volumes/GIT/PycharmProjects/overlay-monetary/data/simulation/kucoin/1m/sims-42/sim-EOS-BTC.parq\n",
      "/Volumes/GIT/PycharmProjects/overlay-monetary/data/simulation/kucoin/1m/sims-42/sim-XRP-USDT.parq\n",
      "/Volumes/GIT/PycharmProjects/overlay-monetary/data/simulation/kucoin/1m/sims-42/sim-SNX-ETH.parq\n",
      "/Volumes/GIT/PycharmProjects/overlay-monetary/data/simulation/kucoin/1m/sims-42/sim-MKR-BTC.parq\n",
      "/Volumes/GIT/PycharmProjects/overlay-monetary/data/simulation/kucoin/1m/sims-42/sim-ETC-BTC.parq\n",
      "/Volumes/GIT/PycharmProjects/overlay-monetary/data/simulation/kucoin/1m/sims-42/sim-ETH-BTC.parq\n",
      "/Volumes/GIT/PycharmProjects/overlay-monetary/data/simulation/kucoin/1m/sims-42/sim-ADA-USDT.parq\n",
      "/Volumes/GIT/PycharmProjects/overlay-monetary/data/simulation/kucoin/1m/sims-42/sim-TRX-BTC.parq\n"
     ]
    }
   ],
   "source": [
    "# for root, dirs, files in os.walk(SIMULATED_DATA_DIRECTORY, topdown=False):\n",
    "#     for name in files:\n",
    "#         old_file_path = os.path.join(root, name)\n",
    "#         file_path_without_extension, file_extension = os.path.splitext(old_file_path)\n",
    "\n",
    "#         if file_extension.lower() == '.csv':\n",
    "#             new_file_path = file_path_without_extension + '.parq'\n",
    "#             print(new_file_path)\n",
    "#             simulated_data = pd.read_csv(old_file_path)\n",
    "#             simulated_data.to_parquet(new_file_path)"
   ]
  },
  {
   "cell_type": "code",
   "execution_count": null,
   "id": "supposed-sheffield",
   "metadata": {},
   "outputs": [],
   "source": []
  }
 ],
 "metadata": {
  "kernelspec": {
   "display_name": "Python 3",
   "language": "python",
   "name": "python3"
  },
  "language_info": {
   "codemirror_mode": {
    "name": "ipython",
    "version": 3
   },
   "file_extension": ".py",
   "mimetype": "text/x-python",
   "name": "python",
   "nbconvert_exporter": "python",
   "pygments_lexer": "ipython3",
   "version": "3.8.5"
  },
  "toc": {
   "base_numbering": 1,
   "nav_menu": {},
   "number_sections": true,
   "sideBar": true,
   "skip_h1_title": false,
   "title_cell": "Table of Contents",
   "title_sidebar": "Contents",
   "toc_cell": false,
   "toc_position": {},
   "toc_section_display": true,
   "toc_window_display": false
  }
 },
 "nbformat": 4,
 "nbformat_minor": 5
}
