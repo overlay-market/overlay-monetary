{
 "cells": [
  {
   "cell_type": "markdown",
   "metadata": {},
   "source": [
    "# Import Packages"
   ]
  },
  {
   "cell_type": "code",
   "execution_count": 1,
   "metadata": {
    "ExecuteTime": {
     "end_time": "2021-01-27T00:34:59.825648Z",
     "start_time": "2021-01-27T00:34:59.802396Z"
    }
   },
   "outputs": [],
   "source": [
    "%load_ext autoreload\n",
    "%autoreload 2"
   ]
  },
  {
   "cell_type": "code",
   "execution_count": 2,
   "metadata": {
    "ExecuteTime": {
     "end_time": "2021-01-27T00:35:03.446648Z",
     "start_time": "2021-01-27T00:34:59.827596Z"
    }
   },
   "outputs": [
    {
     "name": "stdout",
     "output_type": "stream",
     "text": [
      "environment variable OVERLAY_MONETARY_BASE_PATH not set defaulting to /Volumes/GIT/PycharmProjects/overlay-monetary\n"
     ]
    }
   ],
   "source": [
    "import os\n",
    "\n",
    "import pandas as pd\n",
    "\n",
    "from ovm.paths import HISTORICAL_DATA_DIRECTORY"
   ]
  },
  {
   "cell_type": "code",
   "execution_count": 3,
   "metadata": {
    "ExecuteTime": {
     "end_time": "2021-01-27T00:35:03.512355Z",
     "start_time": "2021-01-27T00:35:03.449630Z"
    }
   },
   "outputs": [
    {
     "name": "stdout",
     "output_type": "stream",
     "text": [
      "/Volumes/GIT/PycharmProjects/overlay-monetary/data/historical/ftx/15s/YFI-USD        \n",
      "/Volumes/GIT/PycharmProjects/overlay-monetary/data/historical/ftx/15s/ETH-USD        \n",
      "/Volumes/GIT/PycharmProjects/overlay-monetary/data/historical/ftx/15s/CREAM-USD        \n",
      "/Volumes/GIT/PycharmProjects/overlay-monetary/data/historical/ftx/15s/SUSHI-USD        \n",
      "/Volumes/GIT/PycharmProjects/overlay-monetary/data/historical/ftx/15s/LINK-USD        \n",
      "/Volumes/GIT/PycharmProjects/overlay-monetary/data/historical/ftx/15s/BAL-USD        \n",
      "/Volumes/GIT/PycharmProjects/overlay-monetary/data/historical/ftx/15s/UNI-USD        \n",
      "/Volumes/GIT/PycharmProjects/overlay-monetary/data/historical/ftx/15s/AAVE-USD        \n",
      "/Volumes/GIT/PycharmProjects/overlay-monetary/data/historical/ftx/15s/COMP-USD        \n",
      "/Volumes/GIT/PycharmProjects/overlay-monetary/data/historical/ftx/15s/BTC-USD        \n",
      "/Volumes/GIT/PycharmProjects/overlay-monetary/data/historical/ftx/5m/YFI-USD        \n",
      "/Volumes/GIT/PycharmProjects/overlay-monetary/data/historical/ftx/5m/ETH-USD        \n",
      "/Volumes/GIT/PycharmProjects/overlay-monetary/data/historical/ftx/5m/CREAM-USD        \n",
      "/Volumes/GIT/PycharmProjects/overlay-monetary/data/historical/ftx/5m/SUSHI-USD        \n",
      "/Volumes/GIT/PycharmProjects/overlay-monetary/data/historical/ftx/5m/LINK-USD        \n",
      "/Volumes/GIT/PycharmProjects/overlay-monetary/data/historical/ftx/5m/BAL-USD        \n",
      "/Volumes/GIT/PycharmProjects/overlay-monetary/data/historical/ftx/5m/UNI-USD        \n",
      "/Volumes/GIT/PycharmProjects/overlay-monetary/data/historical/ftx/5m/AAVE-USD        \n",
      "/Volumes/GIT/PycharmProjects/overlay-monetary/data/historical/ftx/5m/COMP-USD        \n",
      "/Volumes/GIT/PycharmProjects/overlay-monetary/data/historical/ftx/5m/BTC-USD        \n",
      "/Volumes/GIT/PycharmProjects/overlay-monetary/data/historical/ftx/15m/YFI-USD        \n",
      "/Volumes/GIT/PycharmProjects/overlay-monetary/data/historical/ftx/15m/ETH-USD        \n",
      "/Volumes/GIT/PycharmProjects/overlay-monetary/data/historical/ftx/15m/CREAM-USD        \n",
      "/Volumes/GIT/PycharmProjects/overlay-monetary/data/historical/ftx/15m/SUSHI-USD        \n",
      "/Volumes/GIT/PycharmProjects/overlay-monetary/data/historical/ftx/15m/LINK-USD        \n",
      "/Volumes/GIT/PycharmProjects/overlay-monetary/data/historical/ftx/15m/BAL-USD        \n",
      "/Volumes/GIT/PycharmProjects/overlay-monetary/data/historical/ftx/15m/UNI-USD        \n",
      "/Volumes/GIT/PycharmProjects/overlay-monetary/data/historical/ftx/15m/AAVE-USD        \n",
      "/Volumes/GIT/PycharmProjects/overlay-monetary/data/historical/ftx/15m/COMP-USD        \n",
      "/Volumes/GIT/PycharmProjects/overlay-monetary/data/historical/ftx/15m/BTC-USD        \n",
      "/Volumes/GIT/PycharmProjects/overlay-monetary/data/historical/ftx/1m/YFI-USD        \n",
      "/Volumes/GIT/PycharmProjects/overlay-monetary/data/historical/ftx/1m/ETH-USD        \n",
      "/Volumes/GIT/PycharmProjects/overlay-monetary/data/historical/ftx/1m/CREAM-USD        \n",
      "/Volumes/GIT/PycharmProjects/overlay-monetary/data/historical/ftx/1m/SUSHI-USD        \n",
      "/Volumes/GIT/PycharmProjects/overlay-monetary/data/historical/ftx/1m/LINK-USD        \n",
      "/Volumes/GIT/PycharmProjects/overlay-monetary/data/historical/ftx/1m/BAL-USD        \n",
      "/Volumes/GIT/PycharmProjects/overlay-monetary/data/historical/ftx/1m/UNI-USD        \n",
      "/Volumes/GIT/PycharmProjects/overlay-monetary/data/historical/ftx/1m/AAVE-USD        \n",
      "/Volumes/GIT/PycharmProjects/overlay-monetary/data/historical/ftx/1m/COMP-USD        \n",
      "/Volumes/GIT/PycharmProjects/overlay-monetary/data/historical/ftx/1m/BTC-USD        \n",
      "/Volumes/GIT/PycharmProjects/overlay-monetary/data/historical/kucoin/1m/XRP-BTC        \n",
      "/Volumes/GIT/PycharmProjects/overlay-monetary/data/historical/kucoin/1m/SNX-ETH        \n",
      "/Volumes/GIT/PycharmProjects/overlay-monetary/data/historical/kucoin/1m/TRX-BTC        \n",
      "/Volumes/GIT/PycharmProjects/overlay-monetary/data/historical/kucoin/1m/ETH-USDT        \n",
      "/Volumes/GIT/PycharmProjects/overlay-monetary/data/historical/kucoin/1m/MKR-ETH        \n",
      "/Volumes/GIT/PycharmProjects/overlay-monetary/data/historical/kucoin/1m/ETC-USDT        \n",
      "/Volumes/GIT/PycharmProjects/overlay-monetary/data/historical/kucoin/1m/TRX-USDT        \n",
      "/Volumes/GIT/PycharmProjects/overlay-monetary/data/historical/kucoin/1m/ETC-BTC        \n",
      "/Volumes/GIT/PycharmProjects/overlay-monetary/data/historical/kucoin/1m/EOS-ETH        \n",
      "/Volumes/GIT/PycharmProjects/overlay-monetary/data/historical/kucoin/1m/ADA-USDT        \n",
      "/Volumes/GIT/PycharmProjects/overlay-monetary/data/historical/kucoin/1m/ETH-BTC        \n",
      "/Volumes/GIT/PycharmProjects/overlay-monetary/data/historical/kucoin/1m/ETC-ETH        \n",
      "/Volumes/GIT/PycharmProjects/overlay-monetary/data/historical/kucoin/1m/MKR-USDT        \n",
      "/Volumes/GIT/PycharmProjects/overlay-monetary/data/historical/kucoin/1m/BTC-USDT        \n",
      "/Volumes/GIT/PycharmProjects/overlay-monetary/data/historical/kucoin/1m/EOS-BTC        \n",
      "/Volumes/GIT/PycharmProjects/overlay-monetary/data/historical/kucoin/1m/XRP-USDT        \n",
      "/Volumes/GIT/PycharmProjects/overlay-monetary/data/historical/kucoin/1m/ADA-BTC        \n",
      "/Volumes/GIT/PycharmProjects/overlay-monetary/data/historical/kucoin/1m/XRP-ETH        \n",
      "/Volumes/GIT/PycharmProjects/overlay-monetary/data/historical/kucoin/1m/SNX-USDT        \n",
      "/Volumes/GIT/PycharmProjects/overlay-monetary/data/historical/kucoin/1m/TRX-ETH        \n",
      "/Volumes/GIT/PycharmProjects/overlay-monetary/data/historical/kucoin/1m/SNX-BTC        \n",
      "/Volumes/GIT/PycharmProjects/overlay-monetary/data/historical/kucoin/1m/MKR-BTC        \n",
      "/Volumes/GIT/PycharmProjects/overlay-monetary/data/historical/kucoin/1m/EOS-USDT        \n",
      "/Volumes/GIT/PycharmProjects/overlay-monetary/data/historical/kucoin/.DS_Store        \n",
      "/Volumes/GIT/PycharmProjects/overlay-monetary/data/historical/.DS_Store        \n"
     ]
    }
   ],
   "source": [
    "for root, dirs, files in os.walk(HISTORICAL_DATA_DIRECTORY, topdown=False):\n",
    "    for name in files:\n",
    "        old_file_path = os.path.join(root, name)\n",
    "        file_path_without_extension, file_extension = os.path.splitext(old_file_path)\n",
    "        \n",
    "        if not file_extension or file_extension == '':\n",
    "            print(f'{file_path_without_extension}        {file_extension}')\n",
    "            os.rename(file_path_without_extension, file_path_without_extension + '.parq')"
   ]
  },
  {
   "cell_type": "code",
   "execution_count": null,
   "metadata": {},
   "outputs": [],
   "source": []
  }
 ],
 "metadata": {
  "kernelspec": {
   "display_name": "Python 3",
   "language": "python",
   "name": "python3"
  },
  "language_info": {
   "codemirror_mode": {
    "name": "ipython",
    "version": 3
   },
   "file_extension": ".py",
   "mimetype": "text/x-python",
   "name": "python",
   "nbconvert_exporter": "python",
   "pygments_lexer": "ipython3",
   "version": "3.8.5"
  },
  "toc": {
   "base_numbering": 1,
   "nav_menu": {},
   "number_sections": true,
   "sideBar": true,
   "skip_h1_title": false,
   "title_cell": "Table of Contents",
   "title_sidebar": "Contents",
   "toc_cell": false,
   "toc_position": {},
   "toc_section_display": true,
   "toc_window_display": false
  }
 },
 "nbformat": 4,
 "nbformat_minor": 5
}
