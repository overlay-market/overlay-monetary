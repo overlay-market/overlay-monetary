{
 "cells": [
  {
   "cell_type": "code",
   "execution_count": 1,
   "metadata": {
    "ExecuteTime": {
     "end_time": "2021-01-16T18:09:47.178967Z",
     "start_time": "2021-01-16T18:09:47.156019Z"
    }
   },
   "outputs": [],
   "source": [
    "%load_ext autoreload\n",
    "%autoreload 2"
   ]
  },
  {
   "cell_type": "code",
   "execution_count": 2,
   "metadata": {
    "ExecuteTime": {
     "end_time": "2021-01-16T18:09:49.904799Z",
     "start_time": "2021-01-16T18:09:47.181072Z"
    }
   },
   "outputs": [],
   "source": [
    "from datetime import datetime\n",
    "import typing as tp\n",
    "\n",
    "import arch\n",
    "import matplotlib.pyplot as plt\n",
    "import numpy as np\n",
    "import os\n",
    "import pandas as pd\n",
    "import pyarrow\n",
    "import scipy as sp\n",
    "import statsmodels.api as sm\n",
    "from statsmodels.tsa.stattools import adfuller\n",
    "\n",
    "from ovm.historical.data_io import (\n",
    "    PriceHistoryColumnNames as PHCN, \n",
    "    compute_number_of_days_in_price_history, \n",
    "    compute_log_returns_from_price_history, \n",
    "    save_price_histories, \n",
    "    load_price_history\n",
    ")\n",
    "\n",
    "from ovm.paths import (\n",
    "    HistoricalDataSource, \n",
    "    construct_historical_data_directory\n",
    ")\n",
    "\n",
    "from ovm.time_resolution import TimeResolution"
   ]
  },
  {
   "cell_type": "code",
   "execution_count": 3,
   "metadata": {
    "ExecuteTime": {
     "end_time": "2021-01-16T18:09:49.956904Z",
     "start_time": "2021-01-16T18:09:49.907030Z"
    }
   },
   "outputs": [],
   "source": [
    "from recombinator import (\n",
    "    stationary_bootstrap, \n",
    "    tapered_block_bootstrap\n",
    ")\n",
    "\n",
    "from recombinator.optimal_block_length import optimal_block_length"
   ]
  },
  {
   "cell_type": "code",
   "execution_count": 4,
   "metadata": {
    "ExecuteTime": {
     "end_time": "2021-01-16T18:09:50.003947Z",
     "start_time": "2021-01-16T18:09:49.959607Z"
    }
   },
   "outputs": [],
   "source": [
    "%matplotlib inline"
   ]
  },
  {
   "cell_type": "code",
   "execution_count": 5,
   "metadata": {
    "ExecuteTime": {
     "end_time": "2021-01-16T18:09:50.046033Z",
     "start_time": "2021-01-16T18:09:50.005705Z"
    }
   },
   "outputs": [],
   "source": [
    "# def adf_test(timeseries):\n",
    "#     print ('Results of Dickey-Fuller Test:')\n",
    "#     dftest = adfuller(timeseries, autolag='AIC')\n",
    "#     dfoutput = pd.Series(dftest[0:4], index=['Test Statistic','p-value','#Lags Used','Number of Observations Used'])\n",
    "#     for key,value in dftest[4].items():\n",
    "#        dfoutput['Critical Value (%s)'%key] = value\n",
    "#     print (dfoutput)"
   ]
  },
  {
   "cell_type": "code",
   "execution_count": 6,
   "metadata": {
    "ExecuteTime": {
     "end_time": "2021-01-16T18:09:50.090807Z",
     "start_time": "2021-01-16T18:09:50.048095Z"
    }
   },
   "outputs": [],
   "source": [
    "time_resolution = TimeResolution.FIFTEEN_SECONDS\n",
    "directory_path = \\\n",
    "    construct_historical_data_directory(\n",
    "        historical_data_source=HistoricalDataSource.FTX, \n",
    "        time_resolution=time_resolution)\n",
    "directory_path"
   ]
  },
  {
   "cell_type": "code",
   "execution_count": 8,
   "metadata": {
    "ExecuteTime": {
     "end_time": "2021-01-16T18:09:50.179163Z",
     "start_time": "2021-01-16T18:09:50.139827Z"
    }
   },
   "outputs": [],
   "source": [
    "price_history_file_name = 'ETH-USD'"
   ]
  },
  {
   "cell_type": "code",
   "execution_count": 9,
   "metadata": {
    "ExecuteTime": {
     "end_time": "2021-01-16T18:09:50.368008Z",
     "start_time": "2021-01-16T18:09:50.183476Z"
    }
   },
   "outputs": [],
   "source": [
    "price_history = \\\n",
    "    load_price_history(filename=price_history_file_name, \n",
    "                       series_name=price_history_file_name, \n",
    "                       directory_path=directory_path, \n",
    "                       period_length_in_seconds=time_resolution.in_seconds)\n",
    "df = price_history.price_history_df"
   ]
  },
  {
   "cell_type": "code",
   "execution_count": 10,
   "metadata": {
    "ExecuteTime": {
     "end_time": "2021-01-16T18:09:50.409553Z",
     "start_time": "2021-01-16T18:09:50.369644Z"
    }
   },
   "outputs": [],
   "source": [
    "# df = pd.read_parquet(path=os.path.join(directory_path, price_history_file_name))"
   ]
  },
  {
   "cell_type": "code",
   "execution_count": 11,
   "metadata": {
    "ExecuteTime": {
     "end_time": "2021-01-16T18:09:50.461192Z",
     "start_time": "2021-01-16T18:09:50.411524Z"
    }
   },
   "outputs": [
    {
     "data": {
      "text/html": [
       "<div>\n",
       "<style scoped>\n",
       "    .dataframe tbody tr th:only-of-type {\n",
       "        vertical-align: middle;\n",
       "    }\n",
       "\n",
       "    .dataframe tbody tr th {\n",
       "        vertical-align: top;\n",
       "    }\n",
       "\n",
       "    .dataframe thead th {\n",
       "        text-align: right;\n",
       "    }\n",
       "</style>\n",
       "<table border=\"1\" class=\"dataframe\">\n",
       "  <thead>\n",
       "    <tr style=\"text-align: right;\">\n",
       "      <th></th>\n",
       "      <th>open</th>\n",
       "      <th>high</th>\n",
       "      <th>low</th>\n",
       "      <th>close</th>\n",
       "      <th>volume</th>\n",
       "    </tr>\n",
       "    <tr>\n",
       "      <th>start_time</th>\n",
       "      <th></th>\n",
       "      <th></th>\n",
       "      <th></th>\n",
       "      <th></th>\n",
       "      <th></th>\n",
       "    </tr>\n",
       "  </thead>\n",
       "  <tbody>\n",
       "    <tr>\n",
       "      <th>1606257540000</th>\n",
       "      <td>601.14</td>\n",
       "      <td>601.14</td>\n",
       "      <td>601.14</td>\n",
       "      <td>601.14</td>\n",
       "      <td>0.00000</td>\n",
       "    </tr>\n",
       "    <tr>\n",
       "      <th>1606257555000</th>\n",
       "      <td>601.14</td>\n",
       "      <td>601.23</td>\n",
       "      <td>601.11</td>\n",
       "      <td>601.23</td>\n",
       "      <td>0.00000</td>\n",
       "    </tr>\n",
       "    <tr>\n",
       "      <th>1606257570000</th>\n",
       "      <td>601.23</td>\n",
       "      <td>601.32</td>\n",
       "      <td>601.23</td>\n",
       "      <td>601.32</td>\n",
       "      <td>0.00000</td>\n",
       "    </tr>\n",
       "    <tr>\n",
       "      <th>1606257585000</th>\n",
       "      <td>601.32</td>\n",
       "      <td>601.32</td>\n",
       "      <td>601.32</td>\n",
       "      <td>601.32</td>\n",
       "      <td>0.00000</td>\n",
       "    </tr>\n",
       "    <tr>\n",
       "      <th>1606257600000</th>\n",
       "      <td>601.32</td>\n",
       "      <td>601.87</td>\n",
       "      <td>601.32</td>\n",
       "      <td>601.80</td>\n",
       "      <td>0.00000</td>\n",
       "    </tr>\n",
       "    <tr>\n",
       "      <th>1606257615000</th>\n",
       "      <td>601.80</td>\n",
       "      <td>602.47</td>\n",
       "      <td>601.80</td>\n",
       "      <td>602.47</td>\n",
       "      <td>1.80624</td>\n",
       "    </tr>\n",
       "    <tr>\n",
       "      <th>1606257630000</th>\n",
       "      <td>602.47</td>\n",
       "      <td>602.67</td>\n",
       "      <td>602.47</td>\n",
       "      <td>602.67</td>\n",
       "      <td>0.60248</td>\n",
       "    </tr>\n",
       "    <tr>\n",
       "      <th>1606257645000</th>\n",
       "      <td>602.67</td>\n",
       "      <td>602.90</td>\n",
       "      <td>602.67</td>\n",
       "      <td>602.90</td>\n",
       "      <td>1.20556</td>\n",
       "    </tr>\n",
       "    <tr>\n",
       "      <th>1606257660000</th>\n",
       "      <td>602.91</td>\n",
       "      <td>603.24</td>\n",
       "      <td>602.91</td>\n",
       "      <td>603.24</td>\n",
       "      <td>121.18508</td>\n",
       "    </tr>\n",
       "    <tr>\n",
       "      <th>1606257675000</th>\n",
       "      <td>603.24</td>\n",
       "      <td>603.24</td>\n",
       "      <td>603.24</td>\n",
       "      <td>603.24</td>\n",
       "      <td>0.00000</td>\n",
       "    </tr>\n",
       "    <tr>\n",
       "      <th>1606257690000</th>\n",
       "      <td>603.24</td>\n",
       "      <td>603.47</td>\n",
       "      <td>603.24</td>\n",
       "      <td>603.47</td>\n",
       "      <td>39.81400</td>\n",
       "    </tr>\n",
       "    <tr>\n",
       "      <th>1606257705000</th>\n",
       "      <td>603.47</td>\n",
       "      <td>603.47</td>\n",
       "      <td>603.47</td>\n",
       "      <td>603.47</td>\n",
       "      <td>0.00000</td>\n",
       "    </tr>\n",
       "    <tr>\n",
       "      <th>1606257720000</th>\n",
       "      <td>603.47</td>\n",
       "      <td>603.88</td>\n",
       "      <td>603.47</td>\n",
       "      <td>603.80</td>\n",
       "      <td>199.83405</td>\n",
       "    </tr>\n",
       "    <tr>\n",
       "      <th>1606257735000</th>\n",
       "      <td>603.80</td>\n",
       "      <td>603.81</td>\n",
       "      <td>603.80</td>\n",
       "      <td>603.80</td>\n",
       "      <td>0.00000</td>\n",
       "    </tr>\n",
       "    <tr>\n",
       "      <th>1606257750000</th>\n",
       "      <td>603.80</td>\n",
       "      <td>603.80</td>\n",
       "      <td>603.68</td>\n",
       "      <td>603.75</td>\n",
       "      <td>0.00000</td>\n",
       "    </tr>\n",
       "  </tbody>\n",
       "</table>\n",
       "</div>"
      ],
      "text/plain": [
       "                 open    high     low   close     volume\n",
       "start_time                                              \n",
       "1606257540000  601.14  601.14  601.14  601.14    0.00000\n",
       "1606257555000  601.14  601.23  601.11  601.23    0.00000\n",
       "1606257570000  601.23  601.32  601.23  601.32    0.00000\n",
       "1606257585000  601.32  601.32  601.32  601.32    0.00000\n",
       "1606257600000  601.32  601.87  601.32  601.80    0.00000\n",
       "1606257615000  601.80  602.47  601.80  602.47    1.80624\n",
       "1606257630000  602.47  602.67  602.47  602.67    0.60248\n",
       "1606257645000  602.67  602.90  602.67  602.90    1.20556\n",
       "1606257660000  602.91  603.24  602.91  603.24  121.18508\n",
       "1606257675000  603.24  603.24  603.24  603.24    0.00000\n",
       "1606257690000  603.24  603.47  603.24  603.47   39.81400\n",
       "1606257705000  603.47  603.47  603.47  603.47    0.00000\n",
       "1606257720000  603.47  603.88  603.47  603.80  199.83405\n",
       "1606257735000  603.80  603.81  603.80  603.80    0.00000\n",
       "1606257750000  603.80  603.80  603.68  603.75    0.00000"
      ]
     },
     "execution_count": 11,
     "metadata": {},
     "output_type": "execute_result"
    }
   ],
   "source": [
    "df.tail(15)"
   ]
  },
  {
   "cell_type": "code",
   "execution_count": 12,
   "metadata": {
    "ExecuteTime": {
     "end_time": "2021-01-16T18:09:50.502124Z",
     "start_time": "2021-01-16T18:09:50.463104Z"
    }
   },
   "outputs": [],
   "source": [
    "# def compute_log_returns_from_price_history(price_history_df: pd.DataFrame, \n",
    "#                                            period_length_in_seconds: float, \n",
    "#                                            name: tp.Optional[str] = None) -> pd.Series:\n",
    "#     log_returns = np.log(price_history_df[PHCN.CLOSE]).diff().dropna() * np.sqrt(365 * 24 * 60 * 60 / period_length_in_seconds)\n",
    "#     if name is not None:\n",
    "#         log_returns.name = name\n",
    "#     return log_returns"
   ]
  },
  {
   "cell_type": "code",
   "execution_count": 13,
   "metadata": {
    "ExecuteTime": {
     "end_time": "2021-01-16T18:09:50.618432Z",
     "start_time": "2021-01-16T18:09:50.503926Z"
    }
   },
   "outputs": [],
   "source": [
    "log_return_series = \\\n",
    "    compute_log_returns_from_price_history(df, period_length_in_seconds=15, name='eth/usd return')"
   ]
  },
  {
   "cell_type": "code",
   "execution_count": 14,
   "metadata": {
    "ExecuteTime": {
     "end_time": "2021-01-16T18:09:50.664159Z",
     "start_time": "2021-01-16T18:09:50.620543Z"
    }
   },
   "outputs": [],
   "source": [
    "# log_return_series = np.log(df[PHCN.CLOSE]).diff().dropna() * np.sqrt(365 * 24 * 60 * 4)"
   ]
  },
  {
   "cell_type": "code",
   "execution_count": 15,
   "metadata": {
    "ExecuteTime": {
     "end_time": "2021-01-16T18:09:51.127475Z",
     "start_time": "2021-01-16T18:09:50.666427Z"
    }
   },
   "outputs": [
    {
     "data": {
      "image/png": "[encoded data removed]",
      "text/plain": [
       "<Figure size 432x288 with 1 Axes>"
      ]
     },
     "metadata": {
      "needs_background": "light"
     },
     "output_type": "display_data"
    }
   ],
   "source": [
    "plt.plot(df[PHCN.CLOSE]);"
   ]
  },
  {
   "cell_type": "code",
   "execution_count": 16,
   "metadata": {
    "ExecuteTime": {
     "end_time": "2021-01-16T18:09:51.560073Z",
     "start_time": "2021-01-16T18:09:51.129246Z"
    }
   },
   "outputs": [
    {
     "data": {
      "image/png": "[encoded data removed]",
      "text/plain": [
       "<Figure size 432x288 with 1 Axes>"
      ]
     },
     "metadata": {
      "needs_background": "light"
     },
     "output_type": "display_data"
    }
   ],
   "source": [
    "plt.plot(log_return_series);"
   ]
  },
  {
   "cell_type": "markdown",
   "metadata": {},
   "source": [
    "## GJR Garch with Normal Distribution"
   ]
  },
  {
   "cell_type": "code",
   "execution_count": 17,
   "metadata": {
    "ExecuteTime": {
     "end_time": "2021-01-16T18:10:04.393131Z",
     "start_time": "2021-01-16T18:09:51.562663Z"
    }
   },
   "outputs": [
    {
     "name": "stdout",
     "output_type": "stream",
     "text": [
      "Iteration:      1,   Func. Count:      7,   Neg. LLF: 298871595353.7077\n",
      "Iteration:      2,   Func. Count:     22,   Neg. LLF: 2148565.6778441425\n",
      "Optimization terminated successfully    (Exit mode 0)\n",
      "            Current function value: 2148565.6745523433\n",
      "            Iterations: 6\n",
      "            Function evaluations: 22\n",
      "            Gradient evaluations: 2\n"
     ]
    },
    {
     "data": {
      "text/html": [
       "<table class=\"simpletable\">\n",
       "<caption>Constant Mean - GJR-GARCH Model Results</caption>\n",
       "<tr>\n",
       "  <th>Dep. Variable:</th>   <td>eth/usd return</td>   <th>  R-squared:         </th>   <td>  -0.000</td>  \n",
       "</tr>\n",
       "<tr>\n",
       "  <th>Mean Model:</th>       <td>Constant Mean</td>   <th>  Adj. R-squared:    </th>   <td>  -0.000</td>  \n",
       "</tr>\n",
       "<tr>\n",
       "  <th>Vol Model:</th>          <td>GJR-GARCH</td>     <th>  Log-Likelihood:    </th> <td>-2.14857e+06</td>\n",
       "</tr>\n",
       "<tr>\n",
       "  <th>Distribution:</th>        <td>Normal</td>       <th>  AIC:               </th>  <td>4.29714e+06</td>\n",
       "</tr>\n",
       "<tr>\n",
       "  <th>Method:</th>        <td>Maximum Likelihood</td> <th>  BIC:               </th>  <td>4.29721e+06</td>\n",
       "</tr>\n",
       "<tr>\n",
       "  <th></th>                        <td></td>          <th>  No. Observations:  </th>    <td>2515223</td>  \n",
       "</tr>\n",
       "<tr>\n",
       "  <th>Date:</th>           <td>Fri, Jan 22 2021</td>  <th>  Df Residuals:      </th>    <td>2515218</td>  \n",
       "</tr>\n",
       "<tr>\n",
       "  <th>Time:</th>               <td>13:35:34</td>      <th>  Df Model:          </th>       <td>5</td>     \n",
       "</tr>\n",
       "</table>\n",
       "<table class=\"simpletable\">\n",
       "<caption>Mean Model</caption>\n",
       "<tr>\n",
       "   <td></td>     <th>coef</th>      <th>std err</th>      <th>t</th>       <th>P>|t|</th>      <th>95.0% Conf. Int.</th>   \n",
       "</tr>\n",
       "<tr>\n",
       "  <th>mu</th> <td>-8.0130e-03</td> <td>4.458e-03</td> <td>   -1.798</td> <td>7.225e-02</td> <td>[-1.675e-02,7.240e-04]</td>\n",
       "</tr>\n",
       "</table>\n",
       "<table class=\"simpletable\">\n",
       "<caption>Volatility Model</caption>\n",
       "<tr>\n",
       "      <td></td>        <th>coef</th>     <th>std err</th>      <th>t</th>       <th>P>|t|</th>      <th>95.0% Conf. Int.</th>   \n",
       "</tr>\n",
       "<tr>\n",
       "  <th>omega</th>    <td>    0.0173</td> <td>1.099e-02</td> <td>    1.577</td> <td>    0.115</td> <td>[-4.211e-03,3.889e-02]</td>\n",
       "</tr>\n",
       "<tr>\n",
       "  <th>alpha[1]</th> <td>    0.1000</td> <td>2.186e-02</td> <td>    4.575</td> <td>4.755e-06</td>   <td>[5.716e-02,  0.143]</td> \n",
       "</tr>\n",
       "<tr>\n",
       "  <th>gamma[1]</th> <td>    0.1000</td> <td>5.756e-02</td> <td>    1.737</td> <td>8.232e-02</td>  <td>[-1.281e-02,  0.213]</td> \n",
       "</tr>\n",
       "<tr>\n",
       "  <th>beta[1]</th>  <td>    0.8300</td> <td>6.006e-02</td> <td>   13.819</td> <td>1.970e-43</td>    <td>[  0.712,  0.948]</td>  \n",
       "</tr>\n",
       "</table><br/><br/>Covariance estimator: robust"
      ],
      "text/plain": [
       "<class 'statsmodels.iolib.summary.Summary'>\n",
       "\"\"\"\n",
       "                   Constant Mean - GJR-GARCH Model Results                    \n",
       "==============================================================================\n",
       "Dep. Variable:         eth/usd return   R-squared:                      -0.000\n",
       "Mean Model:             Constant Mean   Adj. R-squared:                 -0.000\n",
       "Vol Model:                  GJR-GARCH   Log-Likelihood:           -2.14857e+06\n",
       "Distribution:                  Normal   AIC:                       4.29714e+06\n",
       "Method:            Maximum Likelihood   BIC:                       4.29721e+06\n",
       "                                        No. Observations:              2515223\n",
       "Date:                Fri, Jan 22 2021   Df Residuals:                  2515218\n",
       "Time:                        13:35:34   Df Model:                            5\n",
       "                                  Mean Model                                  \n",
       "==============================================================================\n",
       "                  coef    std err          t      P>|t|       95.0% Conf. Int.\n",
       "------------------------------------------------------------------------------\n",
       "mu         -8.0130e-03  4.458e-03     -1.798  7.225e-02 [-1.675e-02,7.240e-04]\n",
       "                               Volatility Model                              \n",
       "=============================================================================\n",
       "                 coef    std err          t      P>|t|       95.0% Conf. Int.\n",
       "-----------------------------------------------------------------------------\n",
       "omega          0.0173  1.099e-02      1.577      0.115 [-4.211e-03,3.889e-02]\n",
       "alpha[1]       0.1000  2.186e-02      4.575  4.755e-06    [5.716e-02,  0.143]\n",
       "gamma[1]       0.1000  5.756e-02      1.737  8.232e-02   [-1.281e-02,  0.213]\n",
       "beta[1]        0.8300  6.006e-02     13.819  1.970e-43      [  0.712,  0.948]\n",
       "=============================================================================\n",
       "\n",
       "Covariance estimator: robust\n",
       "\"\"\""
      ]
     },
     "execution_count": 17,
     "metadata": {},
     "output_type": "execute_result"
    }
   ],
   "source": [
    "# a standard GJR-GARCH(1,1) model\n",
    "gjr_garch = arch.arch_model(log_return_series, \n",
    "                        vol='garch', \n",
    "                        p=1, \n",
    "                        o=1, \n",
    "                        q=1)\n",
    "gjr_garch_fitted = gjr_garch.fit()\n",
    "gjr_garch_fitted.summary()"
   ]
  },
  {
   "cell_type": "markdown",
   "metadata": {},
   "source": [
    "## With Normal Distribution"
   ]
  },
  {
   "cell_type": "code",
   "execution_count": 18,
   "metadata": {
    "ExecuteTime": {
     "end_time": "2021-01-16T18:10:14.788293Z",
     "start_time": "2021-01-16T18:10:04.395091Z"
    },
    "scrolled": false
   },
   "outputs": [
    {
     "name": "stdout",
     "output_type": "stream",
     "text": [
      "Iteration:      1,   Func. Count:      6,   Neg. LLF: 15198100694.193094\n",
      "Iteration:      2,   Func. Count:     19,   Neg. LLF: 2155588.805328296\n",
      "Optimization terminated successfully    (Exit mode 0)\n",
      "            Current function value: 2155588.816852394\n",
      "            Iterations: 6\n",
      "            Function evaluations: 19\n",
      "            Gradient evaluations: 2\n"
     ]
    },
    {
     "data": {
      "text/html": [
       "<table class=\"simpletable\">\n",
       "<caption>Constant Mean - GARCH Model Results</caption>\n",
       "<tr>\n",
       "  <th>Dep. Variable:</th>   <td>eth/usd return</td>   <th>  R-squared:         </th>   <td>  -0.000</td>  \n",
       "</tr>\n",
       "<tr>\n",
       "  <th>Mean Model:</th>       <td>Constant Mean</td>   <th>  Adj. R-squared:    </th>   <td>  -0.000</td>  \n",
       "</tr>\n",
       "<tr>\n",
       "  <th>Vol Model:</th>            <td>GARCH</td>       <th>  Log-Likelihood:    </th> <td>-2.15559e+06</td>\n",
       "</tr>\n",
       "<tr>\n",
       "  <th>Distribution:</th>        <td>Normal</td>       <th>  AIC:               </th>  <td>4.31119e+06</td>\n",
       "</tr>\n",
       "<tr>\n",
       "  <th>Method:</th>        <td>Maximum Likelihood</td> <th>  BIC:               </th>  <td>4.31124e+06</td>\n",
       "</tr>\n",
       "<tr>\n",
       "  <th></th>                        <td></td>          <th>  No. Observations:  </th>    <td>2515223</td>  \n",
       "</tr>\n",
       "<tr>\n",
       "  <th>Date:</th>           <td>Fri, Jan 22 2021</td>  <th>  Df Residuals:      </th>    <td>2515219</td>  \n",
       "</tr>\n",
       "<tr>\n",
       "  <th>Time:</th>               <td>13:35:42</td>      <th>  Df Model:          </th>       <td>4</td>     \n",
       "</tr>\n",
       "</table>\n",
       "<table class=\"simpletable\">\n",
       "<caption>Mean Model</caption>\n",
       "<tr>\n",
       "   <td></td>     <th>coef</th>     <th>std err</th>      <th>t</th>       <th>P>|t|</th>     <th>95.0% Conf. Int.</th>   \n",
       "</tr>\n",
       "<tr>\n",
       "  <th>mu</th> <td>3.9583e-03</td> <td>3.918e-04</td> <td>   10.103</td> <td>5.363e-24</td> <td>[3.190e-03,4.726e-03]</td>\n",
       "</tr>\n",
       "</table>\n",
       "<table class=\"simpletable\">\n",
       "<caption>Volatility Model</caption>\n",
       "<tr>\n",
       "      <td></td>        <th>coef</th>     <th>std err</th>      <th>t</th>       <th>P>|t|</th>     <th>95.0% Conf. Int.</th>   \n",
       "</tr>\n",
       "<tr>\n",
       "  <th>omega</th>    <td>    0.0173</td> <td>5.604e-03</td> <td>    3.094</td> <td>1.976e-03</td> <td>[6.354e-03,2.832e-02]</td>\n",
       "</tr>\n",
       "<tr>\n",
       "  <th>alpha[1]</th> <td>    0.2000</td> <td>3.185e-02</td> <td>    6.279</td> <td>3.414e-10</td>   <td>[  0.138,  0.262]</td>  \n",
       "</tr>\n",
       "<tr>\n",
       "  <th>beta[1]</th>  <td>    0.7800</td> <td>4.045e-02</td> <td>   19.282</td> <td>7.555e-83</td>   <td>[  0.701,  0.859]</td>  \n",
       "</tr>\n",
       "</table><br/><br/>Covariance estimator: robust"
      ],
      "text/plain": [
       "<class 'statsmodels.iolib.summary.Summary'>\n",
       "\"\"\"\n",
       "                     Constant Mean - GARCH Model Results                      \n",
       "==============================================================================\n",
       "Dep. Variable:         eth/usd return   R-squared:                      -0.000\n",
       "Mean Model:             Constant Mean   Adj. R-squared:                 -0.000\n",
       "Vol Model:                      GARCH   Log-Likelihood:           -2.15559e+06\n",
       "Distribution:                  Normal   AIC:                       4.31119e+06\n",
       "Method:            Maximum Likelihood   BIC:                       4.31124e+06\n",
       "                                        No. Observations:              2515223\n",
       "Date:                Fri, Jan 22 2021   Df Residuals:                  2515219\n",
       "Time:                        13:35:42   Df Model:                            4\n",
       "                                 Mean Model                                 \n",
       "============================================================================\n",
       "                 coef    std err          t      P>|t|      95.0% Conf. Int.\n",
       "----------------------------------------------------------------------------\n",
       "mu         3.9583e-03  3.918e-04     10.103  5.363e-24 [3.190e-03,4.726e-03]\n",
       "                              Volatility Model                              \n",
       "============================================================================\n",
       "                 coef    std err          t      P>|t|      95.0% Conf. Int.\n",
       "----------------------------------------------------------------------------\n",
       "omega          0.0173  5.604e-03      3.094  1.976e-03 [6.354e-03,2.832e-02]\n",
       "alpha[1]       0.2000  3.185e-02      6.279  3.414e-10     [  0.138,  0.262]\n",
       "beta[1]        0.7800  4.045e-02     19.282  7.555e-83     [  0.701,  0.859]\n",
       "============================================================================\n",
       "\n",
       "Covariance estimator: robust\n",
       "\"\"\""
      ]
     },
     "execution_count": 18,
     "metadata": {},
     "output_type": "execute_result"
    }
   ],
   "source": [
    "# a standard GARCH(1,1) model\n",
    "garch = arch.arch_model(log_return_series, \n",
    "                        vol='garch', \n",
    "                        p=1, \n",
    "                        o=0, \n",
    "                        q=1)\n",
    "garch_fitted = garch.fit()\n",
    "garch_fitted.summary()"
   ]
  },
  {
   "cell_type": "code",
   "execution_count": 19,
   "metadata": {
    "ExecuteTime": {
     "end_time": "2021-01-16T18:10:17.422050Z",
     "start_time": "2021-01-16T18:10:14.790745Z"
    }
   },
   "outputs": [
    {
     "data": {
      "image/png": "[encoded data removed]",
      "text/plain": [
       "<Figure size 432x288 with 1 Axes>"
      ]
     },
     "metadata": {
      "needs_background": "light"
     },
     "output_type": "display_data"
    }
   ],
   "source": [
    "# plot residuals\n",
    "sm.qqplot(garch_fitted.resid);"
   ]
  },
  {
   "cell_type": "code",
   "execution_count": 20,
   "metadata": {
    "ExecuteTime": {
     "end_time": "2021-01-16T18:10:32.550192Z",
     "start_time": "2021-01-16T18:10:17.424554Z"
    }
   },
   "outputs": [
    {
     "name": "stdout",
     "output_type": "stream",
     "text": [
      "Iteration:      1,   Func. Count:      7,   Neg. LLF: 146233422278516.78\n",
      "Iteration:      2,   Func. Count:     21,   Neg. LLF: 17979184.584930327\n",
      "Iteration:      3,   Func. Count:     31,   Neg. LLF: 85069436873637.98\n",
      "Iteration:      4,   Func. Count:     44,   Neg. LLF: 2127846.8339645253\n",
      "Optimization terminated successfully    (Exit mode 0)\n",
      "            Current function value: 2127846.835878087\n",
      "            Iterations: 8\n",
      "            Function evaluations: 44\n",
      "            Gradient evaluations: 4\n"
     ]
    },
    {
     "data": {
      "text/html": [
       "<table class=\"simpletable\">\n",
       "<caption>Constant Mean - GARCH Model Results</caption>\n",
       "<tr>\n",
       "  <th>Dep. Variable:</th>   <td>eth/usd return</td>   <th>  R-squared:         </th>   <td>  -0.000</td>  \n",
       "</tr>\n",
       "<tr>\n",
       "  <th>Mean Model:</th>       <td>Constant Mean</td>   <th>  Adj. R-squared:    </th>   <td>  -0.000</td>  \n",
       "</tr>\n",
       "<tr>\n",
       "  <th>Vol Model:</th>            <td>GARCH</td>       <th>  Log-Likelihood:    </th> <td>-2.12785e+06</td>\n",
       "</tr>\n",
       "<tr>\n",
       "  <th>Distribution:</th>        <td>Normal</td>       <th>  AIC:               </th>  <td>4.25570e+06</td>\n",
       "</tr>\n",
       "<tr>\n",
       "  <th>Method:</th>        <td>Maximum Likelihood</td> <th>  BIC:               </th>  <td>4.25577e+06</td>\n",
       "</tr>\n",
       "<tr>\n",
       "  <th></th>                        <td></td>          <th>  No. Observations:  </th>    <td>2515223</td>  \n",
       "</tr>\n",
       "<tr>\n",
       "  <th>Date:</th>           <td>Fri, Jan 22 2021</td>  <th>  Df Residuals:      </th>    <td>2515218</td>  \n",
       "</tr>\n",
       "<tr>\n",
       "  <th>Time:</th>               <td>13:35:54</td>      <th>  Df Model:          </th>       <td>5</td>     \n",
       "</tr>\n",
       "</table>\n",
       "<table class=\"simpletable\">\n",
       "<caption>Mean Model</caption>\n",
       "<tr>\n",
       "   <td></td>     <th>coef</th>     <th>std err</th>      <th>t</th>       <th>P>|t|</th>     <th>95.0% Conf. Int.</th>   \n",
       "</tr>\n",
       "<tr>\n",
       "  <th>mu</th> <td>3.2719e-03</td> <td>3.518e-04</td> <td>    9.299</td> <td>1.414e-20</td> <td>[2.582e-03,3.961e-03]</td>\n",
       "</tr>\n",
       "</table>\n",
       "<table class=\"simpletable\">\n",
       "<caption>Volatility Model</caption>\n",
       "<tr>\n",
       "      <td></td>        <th>coef</th>     <th>std err</th>      <th>t</th>       <th>P>|t|</th>      <th>95.0% Conf. Int.</th>   \n",
       "</tr>\n",
       "<tr>\n",
       "  <th>omega</th>    <td>    0.0173</td> <td>9.108e-03</td> <td>    1.903</td> <td>5.701e-02</td> <td>[-5.165e-04,3.519e-02]</td>\n",
       "</tr>\n",
       "<tr>\n",
       "  <th>alpha[1]</th> <td>    0.2002</td> <td>4.481e-02</td> <td>    4.467</td> <td>7.939e-06</td>    <td>[  0.112,  0.288]</td>  \n",
       "</tr>\n",
       "<tr>\n",
       "  <th>beta[1]</th>  <td>    0.3901</td> <td>8.372e-02</td> <td>    4.660</td> <td>3.164e-06</td>    <td>[  0.226,  0.554]</td>  \n",
       "</tr>\n",
       "<tr>\n",
       "  <th>beta[2]</th>  <td>    0.3901</td> <td>2.858e-02</td> <td>   13.653</td> <td>1.943e-42</td>    <td>[  0.334,  0.446]</td>  \n",
       "</tr>\n",
       "</table><br/><br/>Covariance estimator: robust"
      ],
      "text/plain": [
       "<class 'statsmodels.iolib.summary.Summary'>\n",
       "\"\"\"\n",
       "                     Constant Mean - GARCH Model Results                      \n",
       "==============================================================================\n",
       "Dep. Variable:         eth/usd return   R-squared:                      -0.000\n",
       "Mean Model:             Constant Mean   Adj. R-squared:                 -0.000\n",
       "Vol Model:                      GARCH   Log-Likelihood:           -2.12785e+06\n",
       "Distribution:                  Normal   AIC:                       4.25570e+06\n",
       "Method:            Maximum Likelihood   BIC:                       4.25577e+06\n",
       "                                        No. Observations:              2515223\n",
       "Date:                Fri, Jan 22 2021   Df Residuals:                  2515218\n",
       "Time:                        13:35:54   Df Model:                            5\n",
       "                                 Mean Model                                 \n",
       "============================================================================\n",
       "                 coef    std err          t      P>|t|      95.0% Conf. Int.\n",
       "----------------------------------------------------------------------------\n",
       "mu         3.2719e-03  3.518e-04      9.299  1.414e-20 [2.582e-03,3.961e-03]\n",
       "                               Volatility Model                              \n",
       "=============================================================================\n",
       "                 coef    std err          t      P>|t|       95.0% Conf. Int.\n",
       "-----------------------------------------------------------------------------\n",
       "omega          0.0173  9.108e-03      1.903  5.701e-02 [-5.165e-04,3.519e-02]\n",
       "alpha[1]       0.2002  4.481e-02      4.467  7.939e-06      [  0.112,  0.288]\n",
       "beta[1]        0.3901  8.372e-02      4.660  3.164e-06      [  0.226,  0.554]\n",
       "beta[2]        0.3901  2.858e-02     13.653  1.943e-42      [  0.334,  0.446]\n",
       "=============================================================================\n",
       "\n",
       "Covariance estimator: robust\n",
       "\"\"\""
      ]
     },
     "execution_count": 20,
     "metadata": {},
     "output_type": "execute_result"
    }
   ],
   "source": [
    "# a standard GARCH(1,2) model\n",
    "garch_12 = arch.arch_model(log_return_series, \n",
    "                        vol='garch', \n",
    "                        p=1, \n",
    "                        o=0, \n",
    "                        q=2)\n",
    "garch_12_fitted = garch_12.fit()\n",
    "garch_12_fitted.summary()"
   ]
  },
  {
   "cell_type": "code",
   "execution_count": 21,
   "metadata": {
    "ExecuteTime": {
     "end_time": "2021-01-16T18:10:47.411616Z",
     "start_time": "2021-01-16T18:10:32.552468Z"
    }
   },
   "outputs": [
    {
     "name": "stdout",
     "output_type": "stream",
     "text": [
      "Iteration:      1,   Func. Count:      8,   Neg. LLF: 6781580275.658885\n",
      "Iteration:      2,   Func. Count:     23,   Neg. LLF: 3.5653417738783994e+17\n",
      "Iteration:      3,   Func. Count:     36,   Neg. LLF: 2.2158628228867453e+19\n",
      "Iteration:      4,   Func. Count:     50,   Neg. LLF: 1.196736936453928e+18\n",
      "Iteration:      5,   Func. Count:     64,   Neg. LLF: 623348779168287.1\n",
      "Iteration:      6,   Func. Count:     75,   Neg. LLF: 210001806.95024866\n",
      "Iteration:      7,   Func. Count:     88,   Neg. LLF: 2119950.696974484\n",
      "Optimization terminated successfully    (Exit mode 0)\n",
      "            Current function value: 2119950.694755092\n",
      "            Iterations: 11\n",
      "            Function evaluations: 88\n",
      "            Gradient evaluations: 7\n"
     ]
    },
    {
     "data": {
      "text/html": [
       "<table class=\"simpletable\">\n",
       "<caption>Constant Mean - GARCH Model Results</caption>\n",
       "<tr>\n",
       "  <th>Dep. Variable:</th>   <td>eth/usd return</td>   <th>  R-squared:         </th>   <td>  -0.000</td>  \n",
       "</tr>\n",
       "<tr>\n",
       "  <th>Mean Model:</th>       <td>Constant Mean</td>   <th>  Adj. R-squared:    </th>   <td>  -0.000</td>  \n",
       "</tr>\n",
       "<tr>\n",
       "  <th>Vol Model:</th>            <td>GARCH</td>       <th>  Log-Likelihood:    </th> <td>-2.11995e+06</td>\n",
       "</tr>\n",
       "<tr>\n",
       "  <th>Distribution:</th>        <td>Normal</td>       <th>  AIC:               </th>  <td>4.23991e+06</td>\n",
       "</tr>\n",
       "<tr>\n",
       "  <th>Method:</th>        <td>Maximum Likelihood</td> <th>  BIC:               </th>  <td>4.23999e+06</td>\n",
       "</tr>\n",
       "<tr>\n",
       "  <th></th>                        <td></td>          <th>  No. Observations:  </th>    <td>2515223</td>  \n",
       "</tr>\n",
       "<tr>\n",
       "  <th>Date:</th>           <td>Fri, Jan 22 2021</td>  <th>  Df Residuals:      </th>    <td>2515217</td>  \n",
       "</tr>\n",
       "<tr>\n",
       "  <th>Time:</th>               <td>13:36:06</td>      <th>  Df Model:          </th>       <td>6</td>     \n",
       "</tr>\n",
       "</table>\n",
       "<table class=\"simpletable\">\n",
       "<caption>Mean Model</caption>\n",
       "<tr>\n",
       "   <td></td>     <th>coef</th>     <th>std err</th>      <th>t</th>       <th>P>|t|</th>     <th>95.0% Conf. Int.</th>   \n",
       "</tr>\n",
       "<tr>\n",
       "  <th>mu</th> <td>2.8692e-03</td> <td>3.381e-04</td> <td>    8.486</td> <td>2.145e-17</td> <td>[2.206e-03,3.532e-03]</td>\n",
       "</tr>\n",
       "</table>\n",
       "<table class=\"simpletable\">\n",
       "<caption>Volatility Model</caption>\n",
       "<tr>\n",
       "      <td></td>        <th>coef</th>     <th>std err</th>      <th>t</th>       <th>P>|t|</th>      <th>95.0% Conf. Int.</th>   \n",
       "</tr>\n",
       "<tr>\n",
       "  <th>omega</th>    <td>    0.0173</td> <td>1.722e-02</td> <td>    1.007</td> <td>    0.314</td> <td>[-1.642e-02,5.108e-02]</td>\n",
       "</tr>\n",
       "<tr>\n",
       "  <th>alpha[1]</th> <td>    0.2000</td> <td>8.645e-02</td> <td>    2.313</td> <td>2.073e-02</td>   <td>[3.051e-02,  0.369]</td> \n",
       "</tr>\n",
       "<tr>\n",
       "  <th>beta[1]</th>  <td>    0.2599</td> <td>8.357e-02</td> <td>    3.111</td> <td>1.867e-03</td>   <td>[9.615e-02,  0.424]</td> \n",
       "</tr>\n",
       "<tr>\n",
       "  <th>beta[2]</th>  <td>    0.2599</td> <td>7.619e-02</td> <td>    3.412</td> <td>6.458e-04</td>    <td>[  0.111,  0.409]</td>  \n",
       "</tr>\n",
       "<tr>\n",
       "  <th>beta[3]</th>  <td>    0.2599</td> <td>4.401e-02</td> <td>    5.906</td> <td>3.501e-09</td>    <td>[  0.174,  0.346]</td>  \n",
       "</tr>\n",
       "</table><br/><br/>Covariance estimator: robust"
      ],
      "text/plain": [
       "<class 'statsmodels.iolib.summary.Summary'>\n",
       "\"\"\"\n",
       "                     Constant Mean - GARCH Model Results                      \n",
       "==============================================================================\n",
       "Dep. Variable:         eth/usd return   R-squared:                      -0.000\n",
       "Mean Model:             Constant Mean   Adj. R-squared:                 -0.000\n",
       "Vol Model:                      GARCH   Log-Likelihood:           -2.11995e+06\n",
       "Distribution:                  Normal   AIC:                       4.23991e+06\n",
       "Method:            Maximum Likelihood   BIC:                       4.23999e+06\n",
       "                                        No. Observations:              2515223\n",
       "Date:                Fri, Jan 22 2021   Df Residuals:                  2515217\n",
       "Time:                        13:36:06   Df Model:                            6\n",
       "                                 Mean Model                                 \n",
       "============================================================================\n",
       "                 coef    std err          t      P>|t|      95.0% Conf. Int.\n",
       "----------------------------------------------------------------------------\n",
       "mu         2.8692e-03  3.381e-04      8.486  2.145e-17 [2.206e-03,3.532e-03]\n",
       "                               Volatility Model                              \n",
       "=============================================================================\n",
       "                 coef    std err          t      P>|t|       95.0% Conf. Int.\n",
       "-----------------------------------------------------------------------------\n",
       "omega          0.0173  1.722e-02      1.007      0.314 [-1.642e-02,5.108e-02]\n",
       "alpha[1]       0.2000  8.645e-02      2.313  2.073e-02    [3.051e-02,  0.369]\n",
       "beta[1]        0.2599  8.357e-02      3.111  1.867e-03    [9.615e-02,  0.424]\n",
       "beta[2]        0.2599  7.619e-02      3.412  6.458e-04      [  0.111,  0.409]\n",
       "beta[3]        0.2599  4.401e-02      5.906  3.501e-09      [  0.174,  0.346]\n",
       "=============================================================================\n",
       "\n",
       "Covariance estimator: robust\n",
       "\"\"\""
      ]
     },
     "execution_count": 21,
     "metadata": {},
     "output_type": "execute_result"
    }
   ],
   "source": [
    "# a standard GARCH(1,3) model\n",
    "garch_13 = arch.arch_model(log_return_series, \n",
    "                        vol='garch', \n",
    "                        p=1, \n",
    "                        o=0, \n",
    "                        q=3)\n",
    "garch_13_fitted = garch_13.fit()\n",
    "garch_13_fitted.summary()"
   ]
  },
  {
   "cell_type": "code",
   "execution_count": 22,
   "metadata": {
    "ExecuteTime": {
     "end_time": "2021-01-16T18:11:02.811443Z",
     "start_time": "2021-01-16T18:10:47.413591Z"
    },
    "scrolled": false
   },
   "outputs": [
    {
     "name": "stdout",
     "output_type": "stream",
     "text": [
      "Iteration:      1,   Func. Count:      7,   Neg. LLF: 17074344582.91698\n",
      "Iteration:      2,   Func. Count:     22,   Neg. LLF: 17953382.309306044\n",
      "Iteration:      3,   Func. Count:     33,   Neg. LLF: 9.789860030775487e+21\n",
      "Iteration:      4,   Func. Count:     46,   Neg. LLF: 2164180.998818061\n",
      "Optimization terminated successfully    (Exit mode 0)\n",
      "            Current function value: 2164181.0082995836\n",
      "            Iterations: 8\n",
      "            Function evaluations: 46\n",
      "            Gradient evaluations: 4\n"
     ]
    },
    {
     "data": {
      "text/html": [
       "<table class=\"simpletable\">\n",
       "<caption>Constant Mean - GARCH Model Results</caption>\n",
       "<tr>\n",
       "  <th>Dep. Variable:</th>   <td>eth/usd return</td>   <th>  R-squared:         </th>   <td>  -0.000</td>  \n",
       "</tr>\n",
       "<tr>\n",
       "  <th>Mean Model:</th>       <td>Constant Mean</td>   <th>  Adj. R-squared:    </th>   <td>  -0.000</td>  \n",
       "</tr>\n",
       "<tr>\n",
       "  <th>Vol Model:</th>            <td>GARCH</td>       <th>  Log-Likelihood:    </th> <td>-2.16418e+06</td>\n",
       "</tr>\n",
       "<tr>\n",
       "  <th>Distribution:</th>        <td>Normal</td>       <th>  AIC:               </th>  <td>4.32837e+06</td>\n",
       "</tr>\n",
       "<tr>\n",
       "  <th>Method:</th>        <td>Maximum Likelihood</td> <th>  BIC:               </th>  <td>4.32844e+06</td>\n",
       "</tr>\n",
       "<tr>\n",
       "  <th></th>                        <td></td>          <th>  No. Observations:  </th>    <td>2515223</td>  \n",
       "</tr>\n",
       "<tr>\n",
       "  <th>Date:</th>           <td>Fri, Jan 22 2021</td>  <th>  Df Residuals:      </th>    <td>2515218</td>  \n",
       "</tr>\n",
       "<tr>\n",
       "  <th>Time:</th>               <td>13:36:18</td>      <th>  Df Model:          </th>       <td>5</td>     \n",
       "</tr>\n",
       "</table>\n",
       "<table class=\"simpletable\">\n",
       "<caption>Mean Model</caption>\n",
       "<tr>\n",
       "   <td></td>     <th>coef</th>     <th>std err</th>      <th>t</th>       <th>P>|t|</th>     <th>95.0% Conf. Int.</th>   \n",
       "</tr>\n",
       "<tr>\n",
       "  <th>mu</th> <td>4.1823e-03</td> <td>4.746e-04</td> <td>    8.812</td> <td>1.232e-18</td> <td>[3.252e-03,5.113e-03]</td>\n",
       "</tr>\n",
       "</table>\n",
       "<table class=\"simpletable\">\n",
       "<caption>Volatility Model</caption>\n",
       "<tr>\n",
       "      <td></td>        <th>coef</th>     <th>std err</th>      <th>t</th>       <th>P>|t|</th>     <th>95.0% Conf. Int.</th>   \n",
       "</tr>\n",
       "<tr>\n",
       "  <th>omega</th>    <td>    0.0175</td> <td>7.571e-03</td> <td>    2.316</td> <td>2.054e-02</td> <td>[2.698e-03,3.237e-02]</td>\n",
       "</tr>\n",
       "<tr>\n",
       "  <th>alpha[1]</th> <td>    0.1000</td> <td>5.326e-03</td> <td>   18.779</td> <td>1.128e-78</td>  <td>[8.958e-02,  0.110]</td> \n",
       "</tr>\n",
       "<tr>\n",
       "  <th>alpha[2]</th> <td>    0.1000</td> <td>4.320e-02</td> <td>    2.315</td> <td>2.059e-02</td>  <td>[1.535e-02,  0.185]</td> \n",
       "</tr>\n",
       "<tr>\n",
       "  <th>beta[1]</th>  <td>    0.7800</td> <td>5.742e-02</td> <td>   13.584</td> <td>4.967e-42</td>   <td>[  0.667,  0.893]</td>  \n",
       "</tr>\n",
       "</table><br/><br/>Covariance estimator: robust"
      ],
      "text/plain": [
       "<class 'statsmodels.iolib.summary.Summary'>\n",
       "\"\"\"\n",
       "                     Constant Mean - GARCH Model Results                      \n",
       "==============================================================================\n",
       "Dep. Variable:         eth/usd return   R-squared:                      -0.000\n",
       "Mean Model:             Constant Mean   Adj. R-squared:                 -0.000\n",
       "Vol Model:                      GARCH   Log-Likelihood:           -2.16418e+06\n",
       "Distribution:                  Normal   AIC:                       4.32837e+06\n",
       "Method:            Maximum Likelihood   BIC:                       4.32844e+06\n",
       "                                        No. Observations:              2515223\n",
       "Date:                Fri, Jan 22 2021   Df Residuals:                  2515218\n",
       "Time:                        13:36:18   Df Model:                            5\n",
       "                                 Mean Model                                 \n",
       "============================================================================\n",
       "                 coef    std err          t      P>|t|      95.0% Conf. Int.\n",
       "----------------------------------------------------------------------------\n",
       "mu         4.1823e-03  4.746e-04      8.812  1.232e-18 [3.252e-03,5.113e-03]\n",
       "                              Volatility Model                              \n",
       "============================================================================\n",
       "                 coef    std err          t      P>|t|      95.0% Conf. Int.\n",
       "----------------------------------------------------------------------------\n",
       "omega          0.0175  7.571e-03      2.316  2.054e-02 [2.698e-03,3.237e-02]\n",
       "alpha[1]       0.1000  5.326e-03     18.779  1.128e-78   [8.958e-02,  0.110]\n",
       "alpha[2]       0.1000  4.320e-02      2.315  2.059e-02   [1.535e-02,  0.185]\n",
       "beta[1]        0.7800  5.742e-02     13.584  4.967e-42     [  0.667,  0.893]\n",
       "============================================================================\n",
       "\n",
       "Covariance estimator: robust\n",
       "\"\"\""
      ]
     },
     "execution_count": 22,
     "metadata": {},
     "output_type": "execute_result"
    }
   ],
   "source": [
    "# a standard GARCH(2,1) model\n",
    "garch_21 = arch.arch_model(log_return_series, \n",
    "                        vol='garch', \n",
    "                        p=2, \n",
    "                        o=0, \n",
    "                        q=1)\n",
    "garch_21_fitted = garch_21.fit()\n",
    "garch_21_fitted.summary()"
   ]
  },
  {
   "cell_type": "markdown",
   "metadata": {},
   "source": [
    "## With T Distribution"
   ]
  },
  {
   "cell_type": "code",
   "execution_count": 23,
   "metadata": {
    "ExecuteTime": {
     "end_time": "2021-01-16T18:11:24.448306Z",
     "start_time": "2021-01-16T18:11:02.817676Z"
    },
    "scrolled": false
   },
   "outputs": [
    {
     "name": "stdout",
     "output_type": "stream",
     "text": [
      "Iteration:      1,   Func. Count:      7,   Neg. LLF: 214398673.52729997\n",
      "Iteration:      2,   Func. Count:     20,   Neg. LLF: 1771834.7322120625\n",
      "Optimization terminated successfully    (Exit mode 0)\n",
      "            Current function value: 1771834.7315221645\n",
      "            Iterations: 6\n",
      "            Function evaluations: 20\n",
      "            Gradient evaluations: 2\n"
     ]
    },
    {
     "data": {
      "text/html": [
       "<table class=\"simpletable\">\n",
       "<caption>Constant Mean - GARCH Model Results</caption>\n",
       "<tr>\n",
       "  <th>Dep. Variable:</th>      <td>eth/usd return</td>      <th>  R-squared:         </th>   <td>  -0.000</td>  \n",
       "</tr>\n",
       "<tr>\n",
       "  <th>Mean Model:</th>          <td>Constant Mean</td>      <th>  Adj. R-squared:    </th>   <td>  -0.000</td>  \n",
       "</tr>\n",
       "<tr>\n",
       "  <th>Vol Model:</th>               <td>GARCH</td>          <th>  Log-Likelihood:    </th> <td>-1.77183e+06</td>\n",
       "</tr>\n",
       "<tr>\n",
       "  <th>Distribution:</th>  <td>Standardized Student's t</td> <th>  AIC:               </th>  <td>3.54368e+06</td>\n",
       "</tr>\n",
       "<tr>\n",
       "  <th>Method:</th>           <td>Maximum Likelihood</td>    <th>  BIC:               </th>  <td>3.54374e+06</td>\n",
       "</tr>\n",
       "<tr>\n",
       "  <th></th>                           <td></td>             <th>  No. Observations:  </th>    <td>2515223</td>  \n",
       "</tr>\n",
       "<tr>\n",
       "  <th>Date:</th>              <td>Fri, Jan 22 2021</td>     <th>  Df Residuals:      </th>    <td>2515218</td>  \n",
       "</tr>\n",
       "<tr>\n",
       "  <th>Time:</th>                  <td>13:36:27</td>         <th>  Df Model:          </th>       <td>5</td>     \n",
       "</tr>\n",
       "</table>\n",
       "<table class=\"simpletable\">\n",
       "<caption>Mean Model</caption>\n",
       "<tr>\n",
       "   <td></td>     <th>coef</th>     <th>std err</th>      <th>t</th>       <th>P>|t|</th>      <th>95.0% Conf. Int.</th>   \n",
       "</tr>\n",
       "<tr>\n",
       "  <th>mu</th> <td>7.1350e-05</td> <td>1.560e-04</td> <td>    0.457</td> <td>    0.647</td> <td>[-2.344e-04,3.771e-04]</td>\n",
       "</tr>\n",
       "</table>\n",
       "<table class=\"simpletable\">\n",
       "<caption>Volatility Model</caption>\n",
       "<tr>\n",
       "      <td></td>        <th>coef</th>     <th>std err</th>      <th>t</th>     <th>P>|t|</th>   <th>95.0% Conf. Int.</th>   \n",
       "</tr>\n",
       "<tr>\n",
       "  <th>omega</th>    <td>    0.0173</td> <td>1.096e-04</td> <td>  158.204</td> <td>0.000</td> <td>[1.712e-02,1.755e-02]</td>\n",
       "</tr>\n",
       "<tr>\n",
       "  <th>alpha[1]</th> <td>    0.2000</td> <td>9.204e-04</td> <td>  217.299</td> <td>0.000</td>   <td>[  0.198,  0.202]</td>  \n",
       "</tr>\n",
       "<tr>\n",
       "  <th>beta[1]</th>  <td>    0.7800</td> <td>8.549e-04</td> <td>  912.373</td> <td>0.000</td>   <td>[  0.778,  0.782]</td>  \n",
       "</tr>\n",
       "</table>\n",
       "<table class=\"simpletable\">\n",
       "<caption>Distribution</caption>\n",
       "<tr>\n",
       "   <td></td>     <th>coef</th>     <th>std err</th>      <th>t</th>     <th>P>|t|</th> <th>95.0% Conf. Int.</th> \n",
       "</tr>\n",
       "<tr>\n",
       "  <th>nu</th> <td>    4.0220</td> <td>7.024e-03</td> <td>  572.605</td> <td>0.000</td> <td>[  4.008,  4.036]</td>\n",
       "</tr>\n",
       "</table><br/><br/>Covariance estimator: robust"
      ],
      "text/plain": [
       "<class 'statsmodels.iolib.summary.Summary'>\n",
       "\"\"\"\n",
       "                        Constant Mean - GARCH Model Results                         \n",
       "====================================================================================\n",
       "Dep. Variable:               eth/usd return   R-squared:                      -0.000\n",
       "Mean Model:                   Constant Mean   Adj. R-squared:                 -0.000\n",
       "Vol Model:                            GARCH   Log-Likelihood:           -1.77183e+06\n",
       "Distribution:      Standardized Student's t   AIC:                       3.54368e+06\n",
       "Method:                  Maximum Likelihood   BIC:                       3.54374e+06\n",
       "                                              No. Observations:              2515223\n",
       "Date:                      Fri, Jan 22 2021   Df Residuals:                  2515218\n",
       "Time:                              13:36:27   Df Model:                            5\n",
       "                                  Mean Model                                 \n",
       "=============================================================================\n",
       "                 coef    std err          t      P>|t|       95.0% Conf. Int.\n",
       "-----------------------------------------------------------------------------\n",
       "mu         7.1350e-05  1.560e-04      0.457      0.647 [-2.344e-04,3.771e-04]\n",
       "                              Volatility Model                              \n",
       "============================================================================\n",
       "                 coef    std err          t      P>|t|      95.0% Conf. Int.\n",
       "----------------------------------------------------------------------------\n",
       "omega          0.0173  1.096e-04    158.204      0.000 [1.712e-02,1.755e-02]\n",
       "alpha[1]       0.2000  9.204e-04    217.299      0.000     [  0.198,  0.202]\n",
       "beta[1]        0.7800  8.549e-04    912.373      0.000     [  0.778,  0.782]\n",
       "                              Distribution                              \n",
       "========================================================================\n",
       "                 coef    std err          t      P>|t|  95.0% Conf. Int.\n",
       "------------------------------------------------------------------------\n",
       "nu             4.0220  7.024e-03    572.605      0.000 [  4.008,  4.036]\n",
       "========================================================================\n",
       "\n",
       "Covariance estimator: robust\n",
       "\"\"\""
      ]
     },
     "execution_count": 23,
     "metadata": {},
     "output_type": "execute_result"
    }
   ],
   "source": [
    "# a GARCH(1,1) model with Student t distributed errors \n",
    "garch_11_t = \\\n",
    "    arch.arch_model(log_return_series, \n",
    "                    vol='garch', \n",
    "                    p=1, \n",
    "                    o=0, \n",
    "                    q=1, \n",
    "                    dist='StudentsT'\n",
    "                   )\n",
    "garch_11_t_fitted = garch_11_t.fit()\n",
    "garch_11_t_fitted.summary()"
   ]
  },
  {
   "cell_type": "code",
   "execution_count": 24,
   "metadata": {
    "ExecuteTime": {
     "end_time": "2021-01-16T18:11:32.710986Z",
     "start_time": "2021-01-16T18:11:24.451090Z"
    }
   },
   "outputs": [
    {
     "data": {
      "image/png": "[encoded data removed]",
      "text/plain": [
       "<Figure size 432x288 with 1 Axes>"
      ]
     },
     "metadata": {
      "needs_background": "light"
     },
     "output_type": "display_data"
    }
   ],
   "source": [
    "# plot residuals\n",
    "sm.qqplot(garch_11_t_fitted.resid, dist=sp.stats.t(garch_11_t_fitted.params['nu']));"
   ]
  },
  {
   "cell_type": "code",
   "execution_count": 25,
   "metadata": {
    "ExecuteTime": {
     "end_time": "2021-01-16T18:11:32.768313Z",
     "start_time": "2021-01-16T18:11:32.712865Z"
    }
   },
   "outputs": [
    {
     "data": {
      "text/html": [
       "<div>\n",
       "<style scoped>\n",
       "    .dataframe tbody tr th:only-of-type {\n",
       "        vertical-align: middle;\n",
       "    }\n",
       "\n",
       "    .dataframe tbody tr th {\n",
       "        vertical-align: top;\n",
       "    }\n",
       "\n",
       "    .dataframe thead th {\n",
       "        text-align: right;\n",
       "    }\n",
       "</style>\n",
       "<table border=\"1\" class=\"dataframe\">\n",
       "  <thead>\n",
       "    <tr style=\"text-align: right;\">\n",
       "      <th></th>\n",
       "      <th>data</th>\n",
       "      <th>volatility</th>\n",
       "      <th>errors</th>\n",
       "    </tr>\n",
       "  </thead>\n",
       "  <tbody>\n",
       "    <tr>\n",
       "      <th>0</th>\n",
       "      <td>-0.109799</td>\n",
       "      <td>0.500629</td>\n",
       "      <td>-0.109870</td>\n",
       "    </tr>\n",
       "    <tr>\n",
       "      <th>1</th>\n",
       "      <td>-0.596806</td>\n",
       "      <td>0.463943</td>\n",
       "      <td>-0.596877</td>\n",
       "    </tr>\n",
       "    <tr>\n",
       "      <th>2</th>\n",
       "      <td>-0.296657</td>\n",
       "      <td>0.506438</td>\n",
       "      <td>-0.296729</td>\n",
       "    </tr>\n",
       "    <tr>\n",
       "      <th>3</th>\n",
       "      <td>0.484932</td>\n",
       "      <td>0.484769</td>\n",
       "      <td>0.484861</td>\n",
       "    </tr>\n",
       "    <tr>\n",
       "      <th>4</th>\n",
       "      <td>-0.483777</td>\n",
       "      <td>0.497650</td>\n",
       "      <td>-0.483848</td>\n",
       "    </tr>\n",
       "  </tbody>\n",
       "</table>\n",
       "</div>"
      ],
      "text/plain": [
       "       data  volatility    errors\n",
       "0 -0.109799    0.500629 -0.109870\n",
       "1 -0.596806    0.463943 -0.596877\n",
       "2 -0.296657    0.506438 -0.296729\n",
       "3  0.484932    0.484769  0.484861\n",
       "4 -0.483777    0.497650 -0.483848"
      ]
     },
     "execution_count": 25,
     "metadata": {},
     "output_type": "execute_result"
    }
   ],
   "source": [
    "sim_mod = arch.arch_model(None, vol='garch', p=1, o=0, q=1, dist=\"StudentsT\")\n",
    "\n",
    "sim_data = sim_mod.simulate(garch_11_t_fitted.params, 1000)\n",
    "sim_data.head()"
   ]
  },
  {
   "cell_type": "code",
   "execution_count": 26,
   "metadata": {
    "ExecuteTime": {
     "end_time": "2021-01-16T18:11:54.452657Z",
     "start_time": "2021-01-16T18:11:32.770057Z"
    }
   },
   "outputs": [
    {
     "name": "stdout",
     "output_type": "stream",
     "text": [
      "Iteration:      1,   Func. Count:      8,   Neg. LLF: 764723437.7723403\n",
      "Iteration:      2,   Func. Count:     22,   Neg. LLF: 1772364.3434145811\n",
      "Optimization terminated successfully    (Exit mode 0)\n",
      "            Current function value: 1772364.3427048707\n",
      "            Iterations: 6\n",
      "            Function evaluations: 22\n",
      "            Gradient evaluations: 2\n"
     ]
    },
    {
     "data": {
      "text/html": [
       "<table class=\"simpletable\">\n",
       "<caption>Constant Mean - GARCH Model Results</caption>\n",
       "<tr>\n",
       "  <th>Dep. Variable:</th>      <td>eth/usd return</td>      <th>  R-squared:         </th>   <td>  -0.000</td>  \n",
       "</tr>\n",
       "<tr>\n",
       "  <th>Mean Model:</th>          <td>Constant Mean</td>      <th>  Adj. R-squared:    </th>   <td>  -0.000</td>  \n",
       "</tr>\n",
       "<tr>\n",
       "  <th>Vol Model:</th>               <td>GARCH</td>          <th>  Log-Likelihood:    </th> <td>-1.77236e+06</td>\n",
       "</tr>\n",
       "<tr>\n",
       "  <th>Distribution:</th>  <td>Standardized Student's t</td> <th>  AIC:               </th>  <td>3.54474e+06</td>\n",
       "</tr>\n",
       "<tr>\n",
       "  <th>Method:</th>           <td>Maximum Likelihood</td>    <th>  BIC:               </th>  <td>3.54482e+06</td>\n",
       "</tr>\n",
       "<tr>\n",
       "  <th></th>                           <td></td>             <th>  No. Observations:  </th>    <td>2515223</td>  \n",
       "</tr>\n",
       "<tr>\n",
       "  <th>Date:</th>              <td>Fri, Jan 22 2021</td>     <th>  Df Residuals:      </th>    <td>2515217</td>  \n",
       "</tr>\n",
       "<tr>\n",
       "  <th>Time:</th>                  <td>13:36:44</td>         <th>  Df Model:          </th>       <td>6</td>     \n",
       "</tr>\n",
       "</table>\n",
       "<table class=\"simpletable\">\n",
       "<caption>Mean Model</caption>\n",
       "<tr>\n",
       "   <td></td>     <th>coef</th>     <th>std err</th>      <th>t</th>       <th>P>|t|</th>      <th>95.0% Conf. Int.</th>   \n",
       "</tr>\n",
       "<tr>\n",
       "  <th>mu</th> <td>2.0644e-04</td> <td>1.558e-04</td> <td>    1.325</td> <td>    0.185</td> <td>[-9.893e-05,5.118e-04]</td>\n",
       "</tr>\n",
       "</table>\n",
       "<table class=\"simpletable\">\n",
       "<caption>Volatility Model</caption>\n",
       "<tr>\n",
       "      <td></td>        <th>coef</th>     <th>std err</th>      <th>t</th>     <th>P>|t|</th>   <th>95.0% Conf. Int.</th>   \n",
       "</tr>\n",
       "<tr>\n",
       "  <th>omega</th>    <td>    0.0173</td> <td>1.009e-04</td> <td>  171.888</td> <td>0.000</td> <td>[1.714e-02,1.753e-02]</td>\n",
       "</tr>\n",
       "<tr>\n",
       "  <th>alpha[1]</th> <td>    0.2000</td> <td>9.414e-04</td> <td>  212.460</td> <td>0.000</td>   <td>[  0.198,  0.202]</td>  \n",
       "</tr>\n",
       "<tr>\n",
       "  <th>beta[1]</th>  <td>    0.3900</td> <td>5.175e-03</td> <td>   75.363</td> <td>0.000</td>   <td>[  0.380,  0.400]</td>  \n",
       "</tr>\n",
       "<tr>\n",
       "  <th>beta[2]</th>  <td>    0.3900</td> <td>5.222e-03</td> <td>   74.680</td> <td>0.000</td>   <td>[  0.380,  0.400]</td>  \n",
       "</tr>\n",
       "</table>\n",
       "<table class=\"simpletable\">\n",
       "<caption>Distribution</caption>\n",
       "<tr>\n",
       "   <td></td>     <th>coef</th>     <th>std err</th>      <th>t</th>     <th>P>|t|</th> <th>95.0% Conf. Int.</th> \n",
       "</tr>\n",
       "<tr>\n",
       "  <th>nu</th> <td>    4.0231</td> <td>6.240e-03</td> <td>  644.777</td> <td>0.000</td> <td>[  4.011,  4.035]</td>\n",
       "</tr>\n",
       "</table><br/><br/>Covariance estimator: robust"
      ],
      "text/plain": [
       "<class 'statsmodels.iolib.summary.Summary'>\n",
       "\"\"\"\n",
       "                        Constant Mean - GARCH Model Results                         \n",
       "====================================================================================\n",
       "Dep. Variable:               eth/usd return   R-squared:                      -0.000\n",
       "Mean Model:                   Constant Mean   Adj. R-squared:                 -0.000\n",
       "Vol Model:                            GARCH   Log-Likelihood:           -1.77236e+06\n",
       "Distribution:      Standardized Student's t   AIC:                       3.54474e+06\n",
       "Method:                  Maximum Likelihood   BIC:                       3.54482e+06\n",
       "                                              No. Observations:              2515223\n",
       "Date:                      Fri, Jan 22 2021   Df Residuals:                  2515217\n",
       "Time:                              13:36:44   Df Model:                            6\n",
       "                                  Mean Model                                 \n",
       "=============================================================================\n",
       "                 coef    std err          t      P>|t|       95.0% Conf. Int.\n",
       "-----------------------------------------------------------------------------\n",
       "mu         2.0644e-04  1.558e-04      1.325      0.185 [-9.893e-05,5.118e-04]\n",
       "                              Volatility Model                              \n",
       "============================================================================\n",
       "                 coef    std err          t      P>|t|      95.0% Conf. Int.\n",
       "----------------------------------------------------------------------------\n",
       "omega          0.0173  1.009e-04    171.888      0.000 [1.714e-02,1.753e-02]\n",
       "alpha[1]       0.2000  9.414e-04    212.460      0.000     [  0.198,  0.202]\n",
       "beta[1]        0.3900  5.175e-03     75.363      0.000     [  0.380,  0.400]\n",
       "beta[2]        0.3900  5.222e-03     74.680      0.000     [  0.380,  0.400]\n",
       "                              Distribution                              \n",
       "========================================================================\n",
       "                 coef    std err          t      P>|t|  95.0% Conf. Int.\n",
       "------------------------------------------------------------------------\n",
       "nu             4.0231  6.240e-03    644.777      0.000 [  4.011,  4.035]\n",
       "========================================================================\n",
       "\n",
       "Covariance estimator: robust\n",
       "\"\"\""
      ]
     },
     "execution_count": 26,
     "metadata": {},
     "output_type": "execute_result"
    }
   ],
   "source": [
    "# a GARCH(1,2) model with Student t distributed errors \n",
    "garch_12_t = \\\n",
    "    arch.arch_model(log_return_series, \n",
    "                    vol='garch', \n",
    "                    p=1, \n",
    "                    o=0, \n",
    "                    q=2, \n",
    "                    dist='StudentsT')\n",
    "garch_12_t_fitted = garch_12_t.fit()\n",
    "garch_12_t_fitted.summary()"
   ]
  },
  {
   "cell_type": "code",
   "execution_count": 27,
   "metadata": {
    "ExecuteTime": {
     "end_time": "2021-01-16T18:12:15.652119Z",
     "start_time": "2021-01-16T18:11:54.454685Z"
    }
   },
   "outputs": [
    {
     "name": "stdout",
     "output_type": "stream",
     "text": [
      "Iteration:      1,   Func. Count:      9,   Neg. LLF: 320579384.109592\n",
      "Iteration:      2,   Func. Count:     24,   Neg. LLF: 1775522.7536625278\n",
      "Optimization terminated successfully    (Exit mode 0)\n",
      "            Current function value: 1775522.7529379404\n",
      "            Iterations: 6\n",
      "            Function evaluations: 24\n",
      "            Gradient evaluations: 2\n"
     ]
    },
    {
     "data": {
      "text/html": [
       "<table class=\"simpletable\">\n",
       "<caption>Constant Mean - GARCH Model Results</caption>\n",
       "<tr>\n",
       "  <th>Dep. Variable:</th>      <td>eth/usd return</td>      <th>  R-squared:         </th>   <td>  -0.000</td>  \n",
       "</tr>\n",
       "<tr>\n",
       "  <th>Mean Model:</th>          <td>Constant Mean</td>      <th>  Adj. R-squared:    </th>   <td>  -0.000</td>  \n",
       "</tr>\n",
       "<tr>\n",
       "  <th>Vol Model:</th>               <td>GARCH</td>          <th>  Log-Likelihood:    </th> <td>-1.77552e+06</td>\n",
       "</tr>\n",
       "<tr>\n",
       "  <th>Distribution:</th>  <td>Standardized Student's t</td> <th>  AIC:               </th>  <td>3.55106e+06</td>\n",
       "</tr>\n",
       "<tr>\n",
       "  <th>Method:</th>           <td>Maximum Likelihood</td>    <th>  BIC:               </th>  <td>3.55115e+06</td>\n",
       "</tr>\n",
       "<tr>\n",
       "  <th></th>                           <td></td>             <th>  No. Observations:  </th>    <td>2515223</td>  \n",
       "</tr>\n",
       "<tr>\n",
       "  <th>Date:</th>              <td>Fri, Jan 22 2021</td>     <th>  Df Residuals:      </th>    <td>2515216</td>  \n",
       "</tr>\n",
       "<tr>\n",
       "  <th>Time:</th>                  <td>13:36:58</td>         <th>  Df Model:          </th>       <td>7</td>     \n",
       "</tr>\n",
       "</table>\n",
       "<table class=\"simpletable\">\n",
       "<caption>Mean Model</caption>\n",
       "<tr>\n",
       "   <td></td>     <th>coef</th>      <th>std err</th>      <th>t</th>       <th>P>|t|</th>      <th>95.0% Conf. Int.</th>   \n",
       "</tr>\n",
       "<tr>\n",
       "  <th>mu</th> <td>-2.5935e-04</td> <td>1.559e-04</td> <td>   -1.664</td> <td>9.611e-02</td> <td>[-5.648e-04,4.613e-05]</td>\n",
       "</tr>\n",
       "</table>\n",
       "<table class=\"simpletable\">\n",
       "<caption>Volatility Model</caption>\n",
       "<tr>\n",
       "      <td></td>        <th>coef</th>     <th>std err</th>      <th>t</th>        <th>P>|t|</th>     <th>95.0% Conf. Int.</th>   \n",
       "</tr>\n",
       "<tr>\n",
       "  <th>omega</th>    <td>    0.0173</td> <td>9.854e-05</td> <td>  175.939</td>    <td>0.000</td>   <td>[1.714e-02,1.753e-02]</td>\n",
       "</tr>\n",
       "<tr>\n",
       "  <th>alpha[1]</th> <td>    0.2000</td> <td>1.012e-03</td> <td>  197.622</td>    <td>0.000</td>     <td>[  0.198,  0.202]</td>  \n",
       "</tr>\n",
       "<tr>\n",
       "  <th>beta[1]</th>  <td>    0.2600</td> <td>6.368e-03</td> <td>   40.827</td>    <td>0.000</td>     <td>[  0.248,  0.272]</td>  \n",
       "</tr>\n",
       "<tr>\n",
       "  <th>beta[2]</th>  <td>    0.2600</td> <td>7.397e-03</td> <td>   35.150</td> <td>1.154e-270</td>   <td>[  0.246,  0.274]</td>  \n",
       "</tr>\n",
       "<tr>\n",
       "  <th>beta[3]</th>  <td>    0.2600</td> <td>6.666e-03</td> <td>   39.006</td>    <td>0.000</td>     <td>[  0.247,  0.273]</td>  \n",
       "</tr>\n",
       "</table>\n",
       "<table class=\"simpletable\">\n",
       "<caption>Distribution</caption>\n",
       "<tr>\n",
       "   <td></td>     <th>coef</th>     <th>std err</th>      <th>t</th>     <th>P>|t|</th> <th>95.0% Conf. Int.</th> \n",
       "</tr>\n",
       "<tr>\n",
       "  <th>nu</th> <td>    4.0220</td> <td>5.918e-03</td> <td>  679.591</td> <td>0.000</td> <td>[  4.010,  4.034]</td>\n",
       "</tr>\n",
       "</table><br/><br/>Covariance estimator: robust"
      ],
      "text/plain": [
       "<class 'statsmodels.iolib.summary.Summary'>\n",
       "\"\"\"\n",
       "                        Constant Mean - GARCH Model Results                         \n",
       "====================================================================================\n",
       "Dep. Variable:               eth/usd return   R-squared:                      -0.000\n",
       "Mean Model:                   Constant Mean   Adj. R-squared:                 -0.000\n",
       "Vol Model:                            GARCH   Log-Likelihood:           -1.77552e+06\n",
       "Distribution:      Standardized Student's t   AIC:                       3.55106e+06\n",
       "Method:                  Maximum Likelihood   BIC:                       3.55115e+06\n",
       "                                              No. Observations:              2515223\n",
       "Date:                      Fri, Jan 22 2021   Df Residuals:                  2515216\n",
       "Time:                              13:36:58   Df Model:                            7\n",
       "                                  Mean Model                                  \n",
       "==============================================================================\n",
       "                  coef    std err          t      P>|t|       95.0% Conf. Int.\n",
       "------------------------------------------------------------------------------\n",
       "mu         -2.5935e-04  1.559e-04     -1.664  9.611e-02 [-5.648e-04,4.613e-05]\n",
       "                              Volatility Model                              \n",
       "============================================================================\n",
       "                 coef    std err          t      P>|t|      95.0% Conf. Int.\n",
       "----------------------------------------------------------------------------\n",
       "omega          0.0173  9.854e-05    175.939      0.000 [1.714e-02,1.753e-02]\n",
       "alpha[1]       0.2000  1.012e-03    197.622      0.000     [  0.198,  0.202]\n",
       "beta[1]        0.2600  6.368e-03     40.827      0.000     [  0.248,  0.272]\n",
       "beta[2]        0.2600  7.397e-03     35.150 1.154e-270     [  0.246,  0.274]\n",
       "beta[3]        0.2600  6.666e-03     39.006      0.000     [  0.247,  0.273]\n",
       "                              Distribution                              \n",
       "========================================================================\n",
       "                 coef    std err          t      P>|t|  95.0% Conf. Int.\n",
       "------------------------------------------------------------------------\n",
       "nu             4.0220  5.918e-03    679.591      0.000 [  4.010,  4.034]\n",
       "========================================================================\n",
       "\n",
       "Covariance estimator: robust\n",
       "\"\"\""
      ]
     },
     "execution_count": 27,
     "metadata": {},
     "output_type": "execute_result"
    }
   ],
   "source": [
    "# a GARCH(1,3) model with Student t distributed errors \n",
    "garch_13_t = arch.arch_model(log_return_series, \n",
    "                        vol='garch', \n",
    "                        p=1, \n",
    "                        o=0, \n",
    "                        q=3, \n",
    "                        dist='StudentsT')\n",
    "garch_13_t_fitted = garch_13_t.fit()\n",
    "garch_13_t_fitted.summary()"
   ]
  },
  {
   "cell_type": "markdown",
   "metadata": {},
   "source": [
    "## With Skewed T Distribution"
   ]
  },
  {
   "cell_type": "code",
   "execution_count": 28,
   "metadata": {
    "ExecuteTime": {
     "end_time": "2021-01-16T18:12:42.948955Z",
     "start_time": "2021-01-16T18:12:15.654012Z"
    }
   },
   "outputs": [
    {
     "name": "stdout",
     "output_type": "stream",
     "text": [
      "Iteration:      1,   Func. Count:      8,   Neg. LLF: 119880692.99891086\n",
      "Iteration:      2,   Func. Count:     23,   Neg. LLF: 1771832.4399991932\n",
      "Optimization terminated successfully    (Exit mode 0)\n",
      "            Current function value: 1771832.440179665\n",
      "            Iterations: 6\n",
      "            Function evaluations: 23\n",
      "            Gradient evaluations: 2\n"
     ]
    },
    {
     "data": {
      "text/html": [
       "<table class=\"simpletable\">\n",
       "<caption>Constant Mean - GARCH Model Results</caption>\n",
       "<tr>\n",
       "  <th>Dep. Variable:</th>        <td>eth/usd return</td>         <th>  R-squared:         </th>   <td>  -0.000</td>  \n",
       "</tr>\n",
       "<tr>\n",
       "  <th>Mean Model:</th>            <td>Constant Mean</td>         <th>  Adj. R-squared:    </th>   <td>  -0.000</td>  \n",
       "</tr>\n",
       "<tr>\n",
       "  <th>Vol Model:</th>                 <td>GARCH</td>             <th>  Log-Likelihood:    </th> <td>-1.77183e+06</td>\n",
       "</tr>\n",
       "<tr>\n",
       "  <th>Distribution:</th>  <td>Standardized Skew Student's t</td> <th>  AIC:               </th>  <td>3.54368e+06</td>\n",
       "</tr>\n",
       "<tr>\n",
       "  <th>Method:</th>             <td>Maximum Likelihood</td>       <th>  BIC:               </th>  <td>3.54375e+06</td>\n",
       "</tr>\n",
       "<tr>\n",
       "  <th></th>                             <td></td>                <th>  No. Observations:  </th>    <td>2515223</td>  \n",
       "</tr>\n",
       "<tr>\n",
       "  <th>Date:</th>                <td>Fri, Jan 22 2021</td>        <th>  Df Residuals:      </th>    <td>2515217</td>  \n",
       "</tr>\n",
       "<tr>\n",
       "  <th>Time:</th>                    <td>13:37:14</td>            <th>  Df Model:          </th>       <td>6</td>     \n",
       "</tr>\n",
       "</table>\n",
       "<table class=\"simpletable\">\n",
       "<caption>Mean Model</caption>\n",
       "<tr>\n",
       "   <td></td>     <th>coef</th>     <th>std err</th>      <th>t</th>       <th>P>|t|</th>      <th>95.0% Conf. Int.</th>   \n",
       "</tr>\n",
       "<tr>\n",
       "  <th>mu</th> <td>5.2161e-05</td> <td>2.709e-04</td> <td>    0.193</td> <td>    0.847</td> <td>[-4.789e-04,5.832e-04]</td>\n",
       "</tr>\n",
       "</table>\n",
       "<table class=\"simpletable\">\n",
       "<caption>Volatility Model</caption>\n",
       "<tr>\n",
       "      <td></td>        <th>coef</th>     <th>std err</th>      <th>t</th>     <th>P>|t|</th>   <th>95.0% Conf. Int.</th>   \n",
       "</tr>\n",
       "<tr>\n",
       "  <th>omega</th>    <td>    0.0173</td> <td>1.096e-04</td> <td>  158.200</td> <td>0.000</td> <td>[1.712e-02,1.755e-02]</td>\n",
       "</tr>\n",
       "<tr>\n",
       "  <th>alpha[1]</th> <td>    0.2000</td> <td>9.204e-04</td> <td>  217.298</td> <td>0.000</td>   <td>[  0.198,  0.202]</td>  \n",
       "</tr>\n",
       "<tr>\n",
       "  <th>beta[1]</th>  <td>    0.7800</td> <td>8.549e-04</td> <td>  912.355</td> <td>0.000</td>   <td>[  0.778,  0.782]</td>  \n",
       "</tr>\n",
       "</table>\n",
       "<table class=\"simpletable\">\n",
       "<caption>Distribution</caption>\n",
       "<tr>\n",
       "     <td></td>       <th>coef</th>     <th>std err</th>      <th>t</th>       <th>P>|t|</th>      <th>95.0% Conf. Int.</th>   \n",
       "</tr>\n",
       "<tr>\n",
       "  <th>nu</th>     <td>    4.0220</td> <td>7.024e-03</td> <td>  572.597</td>   <td>0.000</td>      <td>[  4.008,  4.036]</td>  \n",
       "</tr>\n",
       "<tr>\n",
       "  <th>lambda</th> <td>4.4737e-08</td> <td>6.075e-04</td> <td>7.364e-05</td> <td>    1.000</td> <td>[-1.191e-03,1.191e-03]</td>\n",
       "</tr>\n",
       "</table><br/><br/>Covariance estimator: robust"
      ],
      "text/plain": [
       "<class 'statsmodels.iolib.summary.Summary'>\n",
       "\"\"\"\n",
       "                           Constant Mean - GARCH Model Results                           \n",
       "=========================================================================================\n",
       "Dep. Variable:                    eth/usd return   R-squared:                      -0.000\n",
       "Mean Model:                        Constant Mean   Adj. R-squared:                 -0.000\n",
       "Vol Model:                                 GARCH   Log-Likelihood:           -1.77183e+06\n",
       "Distribution:      Standardized Skew Student's t   AIC:                       3.54368e+06\n",
       "Method:                       Maximum Likelihood   BIC:                       3.54375e+06\n",
       "                                                   No. Observations:              2515223\n",
       "Date:                           Fri, Jan 22 2021   Df Residuals:                  2515217\n",
       "Time:                                   13:37:14   Df Model:                            6\n",
       "                                  Mean Model                                 \n",
       "=============================================================================\n",
       "                 coef    std err          t      P>|t|       95.0% Conf. Int.\n",
       "-----------------------------------------------------------------------------\n",
       "mu         5.2161e-05  2.709e-04      0.193      0.847 [-4.789e-04,5.832e-04]\n",
       "                              Volatility Model                              \n",
       "============================================================================\n",
       "                 coef    std err          t      P>|t|      95.0% Conf. Int.\n",
       "----------------------------------------------------------------------------\n",
       "omega          0.0173  1.096e-04    158.200      0.000 [1.712e-02,1.755e-02]\n",
       "alpha[1]       0.2000  9.204e-04    217.298      0.000     [  0.198,  0.202]\n",
       "beta[1]        0.7800  8.549e-04    912.355      0.000     [  0.778,  0.782]\n",
       "                                 Distribution                                \n",
       "=============================================================================\n",
       "                 coef    std err          t      P>|t|       95.0% Conf. Int.\n",
       "-----------------------------------------------------------------------------\n",
       "nu             4.0220  7.024e-03    572.597      0.000      [  4.008,  4.036]\n",
       "lambda     4.4737e-08  6.075e-04  7.364e-05      1.000 [-1.191e-03,1.191e-03]\n",
       "=============================================================================\n",
       "\n",
       "Covariance estimator: robust\n",
       "\"\"\""
      ]
     },
     "execution_count": 28,
     "metadata": {},
     "output_type": "execute_result"
    }
   ],
   "source": [
    "# a GARCH(1,1) model with Student t distributed errors \n",
    "garch_11_skewt = \\\n",
    "    arch.arch_model(log_return_series, \n",
    "                    vol='garch', \n",
    "                    p=1, \n",
    "                    o=0, \n",
    "                    q=1, \n",
    "                    dist='skewt'\n",
    "                   )\n",
    "garch_11_skewt_fitted = garch_11_skewt.fit()\n",
    "garch_11_skewt_fitted.summary()"
   ]
  },
  {
   "cell_type": "code",
   "execution_count": 29,
   "metadata": {
    "ExecuteTime": {
     "end_time": "2021-01-16T18:12:43.729206Z",
     "start_time": "2021-01-16T18:12:42.951064Z"
    }
   },
   "outputs": [],
   "source": [
    "bootstrap_log_returns = \\\n",
    "    stationary_bootstrap(x=log_return_series.values, \n",
    "                         block_length=24 * 60 * 60 / 15, \n",
    "                         replications=10)"
   ]
  },
  {
   "cell_type": "code",
   "execution_count": 30,
   "metadata": {
    "ExecuteTime": {
     "end_time": "2021-01-16T18:12:43.776061Z",
     "start_time": "2021-01-16T18:12:43.731117Z"
    }
   },
   "outputs": [
    {
     "data": {
      "text/plain": [
       "(10, 2515223)"
      ]
     },
     "execution_count": 30,
     "metadata": {},
     "output_type": "execute_result"
    }
   ],
   "source": [
    "bootstrap_log_returns.shape"
   ]
  },
  {
   "cell_type": "code",
   "execution_count": 31,
   "metadata": {
    "ExecuteTime": {
     "end_time": "2021-01-16T18:12:43.877200Z",
     "start_time": "2021-01-16T18:12:43.778378Z"
    }
   },
   "outputs": [
    {
     "data": {
      "text/plain": [
       "array([  15000,   30000,   45000,   60000,   75000,   90000,  105000,\n",
       "        120000,  135000,  150000,  165000,  180000,  195000,  210000,\n",
       "        240000,  285000,  315000,  330000,  375000,  390000,  420000,\n",
       "        540000,  555000,  630000,  765000,  795000,  870000, 1050000,\n",
       "       1230000, 1245000, 4335000])"
      ]
     },
     "execution_count": 31,
     "metadata": {},
     "output_type": "execute_result"
    }
   ],
   "source": [
    "np.unique(np.diff(df.index.values))"
   ]
  },
  {
   "cell_type": "code",
   "execution_count": 32,
   "metadata": {
    "ExecuteTime": {
     "end_time": "2021-01-16T18:12:43.932966Z",
     "start_time": "2021-01-16T18:12:43.879518Z"
    }
   },
   "outputs": [
    {
     "data": {
      "text/plain": [
       "759"
      ]
     },
     "execution_count": 32,
     "metadata": {},
     "output_type": "execute_result"
    }
   ],
   "source": [
    "(np.diff(df.index.values) != 15000).sum()"
   ]
  },
  {
   "cell_type": "code",
   "execution_count": 33,
   "metadata": {
    "ExecuteTime": {
     "end_time": "2021-01-16T18:12:44.167684Z",
     "start_time": "2021-01-16T18:12:43.934761Z"
    }
   },
   "outputs": [
    {
     "data": {
      "text/plain": [
       "(array([2.515212e+06, 6.000000e+00, 4.000000e+00, 0.000000e+00,\n",
       "        0.000000e+00, 0.000000e+00, 0.000000e+00, 0.000000e+00,\n",
       "        0.000000e+00, 1.000000e+00]),\n",
       " array([  15000.,  447000.,  879000., 1311000., 1743000., 2175000.,\n",
       "        2607000., 3039000., 3471000., 3903000., 4335000.]),\n",
       " <BarContainer object of 10 artists>)"
      ]
     },
     "execution_count": 33,
     "metadata": {},
     "output_type": "execute_result"
    },
    {
     "data": {
      "image/png": "[encoded data removed]",
      "text/plain": [
       "<Figure size 432x288 with 1 Axes>"
      ]
     },
     "metadata": {
      "needs_background": "light"
     },
     "output_type": "display_data"
    }
   ],
   "source": [
    "plt.hist(np.diff(df.index.values))"
   ]
  },
  {
   "cell_type": "code",
   "execution_count": 34,
   "metadata": {
    "ExecuteTime": {
     "end_time": "2021-01-16T18:12:44.214064Z",
     "start_time": "2021-01-16T18:12:44.170032Z"
    }
   },
   "outputs": [
    {
     "data": {
      "text/plain": [
       "2515224"
      ]
     },
     "execution_count": 34,
     "metadata": {},
     "output_type": "execute_result"
    }
   ],
   "source": [
    "len(df)"
   ]
  },
  {
   "cell_type": "code",
   "execution_count": null,
   "metadata": {},
   "outputs": [],
   "source": []
  }
 ],
 "metadata": {
  "kernelspec": {
   "display_name": "Python 3",
   "language": "python",
   "name": "python3"
  },
  "language_info": {
   "codemirror_mode": {
    "name": "ipython",
    "version": 3
   },
   "file_extension": ".py",
   "mimetype": "text/x-python",
   "name": "python",
   "nbconvert_exporter": "python",
   "pygments_lexer": "ipython3",
   "version": "3.8.5"
  },
  "toc": {
   "base_numbering": 1,
   "nav_menu": {},
   "number_sections": true,
   "sideBar": true,
   "skip_h1_title": false,
   "title_cell": "Table of Contents",
   "title_sidebar": "Contents",
   "toc_cell": false,
   "toc_position": {
    "height": "calc(100% - 180px)",
    "left": "10px",
    "top": "150px",
    "width": "266.3999938964844px"
   },
   "toc_section_display": true,
   "toc_window_display": true
  }
 },
 "nbformat": 4,
 "nbformat_minor": 4
}
