{
 "cells": [
  {
   "cell_type": "code",
   "execution_count": 1,
   "metadata": {
    "ExecuteTime": {
     "end_time": "2021-01-16T18:09:47.178967Z",
     "start_time": "2021-01-16T18:09:47.156019Z"
    }
   },
   "outputs": [],
   "source": [
    "%load_ext autoreload\n",
    "%autoreload 2"
   ]
  },
  {
   "cell_type": "code",
   "execution_count": 2,
   "metadata": {
    "ExecuteTime": {
     "end_time": "2021-01-16T18:09:49.904799Z",
     "start_time": "2021-01-16T18:09:47.181072Z"
    }
   },
   "outputs": [],
   "source": [
    "from datetime import datetime\n",
    "import typing as tp\n",
    "\n",
    "import arch\n",
    "import matplotlib.pyplot as plt\n",
    "import numpy as np\n",
    "import os\n",
    "import pandas as pd\n",
    "import pyarrow\n",
    "import scipy as sp\n",
    "import statsmodels.api as sm\n",
    "from statsmodels.tsa.stattools import adfuller\n",
    "\n",
    "from ovm.historical.data_io import (\n",
    "    PriceHistoryColumnNames as PHCN, \n",
    "    compute_number_of_days_in_price_history, \n",
    "    compute_log_returns_from_price_history, \n",
    "    save_price_histories, \n",
    "    load_price_history\n",
    ")\n",
    "\n",
    "from ovm.paths import HISTORICAL_DATA_DIRECTORY\n",
    "\n",
    "from ovm.utils import TimeResolution"
   ]
  },
  {
   "cell_type": "code",
   "execution_count": 3,
   "metadata": {
    "ExecuteTime": {
     "end_time": "2021-01-16T18:09:49.956904Z",
     "start_time": "2021-01-16T18:09:49.907030Z"
    }
   },
   "outputs": [],
   "source": [
    "from recombinator import (\n",
    "    stationary_bootstrap, \n",
    "    tapered_block_bootstrap\n",
    ")\n",
    "\n",
    "from recombinator.optimal_block_length import optimal_block_length"
   ]
  },
  {
   "cell_type": "code",
   "execution_count": 4,
   "metadata": {
    "ExecuteTime": {
     "end_time": "2021-01-16T18:09:50.003947Z",
     "start_time": "2021-01-16T18:09:49.959607Z"
    }
   },
   "outputs": [],
   "source": [
    "%matplotlib inline"
   ]
  },
  {
   "cell_type": "code",
   "execution_count": 5,
   "metadata": {
    "ExecuteTime": {
     "end_time": "2021-01-16T18:09:50.046033Z",
     "start_time": "2021-01-16T18:09:50.005705Z"
    }
   },
   "outputs": [],
   "source": [
    "# def adf_test(timeseries):\n",
    "#     print ('Results of Dickey-Fuller Test:')\n",
    "#     dftest = adfuller(timeseries, autolag='AIC')\n",
    "#     dfoutput = pd.Series(dftest[0:4], index=['Test Statistic','p-value','#Lags Used','Number of Observations Used'])\n",
    "#     for key,value in dftest[4].items():\n",
    "#        dfoutput['Critical Value (%s)'%key] = value\n",
    "#     print (dfoutput)"
   ]
  },
  {
   "cell_type": "code",
   "execution_count": 6,
   "metadata": {
    "ExecuteTime": {
     "end_time": "2021-01-16T18:09:50.090807Z",
     "start_time": "2021-01-16T18:09:50.048095Z"
    }
   },
   "outputs": [],
   "source": [
    "time_resolution = TimeResolution.FIFTEEN_SECONDS\n",
    "# directory_path = time_resolution.value\n",
    "directory_path = os.path.join(HISTORICAL_DATA_DIRECTORY, time_resolution.value)"
   ]
  },
  {
   "cell_type": "code",
   "execution_count": 7,
   "metadata": {
    "ExecuteTime": {
     "end_time": "2021-01-16T18:09:50.134746Z",
     "start_time": "2021-01-16T18:09:50.092514Z"
    }
   },
   "outputs": [
    {
     "data": {
      "text/plain": [
       "'/Volumes/GIT/PycharmProjects/overlay-monetary/data/historical/15s'"
      ]
     },
     "execution_count": 7,
     "metadata": {},
     "output_type": "execute_result"
    }
   ],
   "source": [
    "directory_path"
   ]
  },
  {
   "cell_type": "code",
   "execution_count": 8,
   "metadata": {
    "ExecuteTime": {
     "end_time": "2021-01-16T18:09:50.179163Z",
     "start_time": "2021-01-16T18:09:50.139827Z"
    }
   },
   "outputs": [],
   "source": [
    "price_history_file_name = 'ETH-USD'"
   ]
  },
  {
   "cell_type": "code",
   "execution_count": 9,
   "metadata": {
    "ExecuteTime": {
     "end_time": "2021-01-16T18:09:50.368008Z",
     "start_time": "2021-01-16T18:09:50.183476Z"
    }
   },
   "outputs": [],
   "source": [
    "price_history = \\\n",
    "    load_price_history(filename=price_history_file_name, \n",
    "                       series_name=price_history_file_name, \n",
    "                       directory_path=directory_path, \n",
    "                       period_length_in_seconds=time_resolution.in_seconds)\n",
    "df = price_history.price_history_df"
   ]
  },
  {
   "cell_type": "code",
   "execution_count": 10,
   "metadata": {
    "ExecuteTime": {
     "end_time": "2021-01-16T18:09:50.409553Z",
     "start_time": "2021-01-16T18:09:50.369644Z"
    }
   },
   "outputs": [],
   "source": [
    "# df = pd.read_parquet(path=os.path.join(directory_path, price_history_file_name))"
   ]
  },
  {
   "cell_type": "code",
   "execution_count": 11,
   "metadata": {
    "ExecuteTime": {
     "end_time": "2021-01-16T18:09:50.461192Z",
     "start_time": "2021-01-16T18:09:50.411524Z"
    }
   },
   "outputs": [
    {
     "data": {
      "text/html": [
       "<div>\n",
       "<style scoped>\n",
       "    .dataframe tbody tr th:only-of-type {\n",
       "        vertical-align: middle;\n",
       "    }\n",
       "\n",
       "    .dataframe tbody tr th {\n",
       "        vertical-align: top;\n",
       "    }\n",
       "\n",
       "    .dataframe thead th {\n",
       "        text-align: right;\n",
       "    }\n",
       "</style>\n",
       "<table border=\"1\" class=\"dataframe\">\n",
       "  <thead>\n",
       "    <tr style=\"text-align: right;\">\n",
       "      <th></th>\n",
       "      <th>open</th>\n",
       "      <th>high</th>\n",
       "      <th>low</th>\n",
       "      <th>close</th>\n",
       "      <th>volume</th>\n",
       "    </tr>\n",
       "    <tr>\n",
       "      <th>start_time</th>\n",
       "      <th></th>\n",
       "      <th></th>\n",
       "      <th></th>\n",
       "      <th></th>\n",
       "      <th></th>\n",
       "    </tr>\n",
       "  </thead>\n",
       "  <tbody>\n",
       "    <tr>\n",
       "      <th>1605818895000</th>\n",
       "      <td>474.79</td>\n",
       "      <td>474.79</td>\n",
       "      <td>474.51</td>\n",
       "      <td>474.54</td>\n",
       "      <td>0.00000</td>\n",
       "    </tr>\n",
       "    <tr>\n",
       "      <th>1605818910000</th>\n",
       "      <td>474.54</td>\n",
       "      <td>474.78</td>\n",
       "      <td>474.54</td>\n",
       "      <td>474.78</td>\n",
       "      <td>0.00000</td>\n",
       "    </tr>\n",
       "    <tr>\n",
       "      <th>1605818925000</th>\n",
       "      <td>474.78</td>\n",
       "      <td>474.78</td>\n",
       "      <td>474.78</td>\n",
       "      <td>474.78</td>\n",
       "      <td>0.00000</td>\n",
       "    </tr>\n",
       "    <tr>\n",
       "      <th>1605818940000</th>\n",
       "      <td>474.78</td>\n",
       "      <td>474.78</td>\n",
       "      <td>474.62</td>\n",
       "      <td>474.67</td>\n",
       "      <td>1043.25872</td>\n",
       "    </tr>\n",
       "    <tr>\n",
       "      <th>1605818955000</th>\n",
       "      <td>474.67</td>\n",
       "      <td>474.71</td>\n",
       "      <td>474.64</td>\n",
       "      <td>474.64</td>\n",
       "      <td>0.00000</td>\n",
       "    </tr>\n",
       "    <tr>\n",
       "      <th>1605818970000</th>\n",
       "      <td>474.64</td>\n",
       "      <td>474.64</td>\n",
       "      <td>474.60</td>\n",
       "      <td>474.63</td>\n",
       "      <td>0.00000</td>\n",
       "    </tr>\n",
       "    <tr>\n",
       "      <th>1605818985000</th>\n",
       "      <td>474.63</td>\n",
       "      <td>474.63</td>\n",
       "      <td>474.40</td>\n",
       "      <td>474.42</td>\n",
       "      <td>498.17250</td>\n",
       "    </tr>\n",
       "    <tr>\n",
       "      <th>1605819000000</th>\n",
       "      <td>474.42</td>\n",
       "      <td>474.69</td>\n",
       "      <td>474.40</td>\n",
       "      <td>474.69</td>\n",
       "      <td>2378.65030</td>\n",
       "    </tr>\n",
       "    <tr>\n",
       "      <th>1605819015000</th>\n",
       "      <td>474.69</td>\n",
       "      <td>474.70</td>\n",
       "      <td>474.69</td>\n",
       "      <td>474.69</td>\n",
       "      <td>0.00000</td>\n",
       "    </tr>\n",
       "    <tr>\n",
       "      <th>1605819030000</th>\n",
       "      <td>474.69</td>\n",
       "      <td>474.69</td>\n",
       "      <td>474.68</td>\n",
       "      <td>474.68</td>\n",
       "      <td>0.00000</td>\n",
       "    </tr>\n",
       "    <tr>\n",
       "      <th>1605819045000</th>\n",
       "      <td>474.68</td>\n",
       "      <td>474.68</td>\n",
       "      <td>474.68</td>\n",
       "      <td>474.68</td>\n",
       "      <td>0.00000</td>\n",
       "    </tr>\n",
       "    <tr>\n",
       "      <th>1605819060000</th>\n",
       "      <td>474.68</td>\n",
       "      <td>474.68</td>\n",
       "      <td>474.58</td>\n",
       "      <td>474.63</td>\n",
       "      <td>0.00000</td>\n",
       "    </tr>\n",
       "    <tr>\n",
       "      <th>1605819075000</th>\n",
       "      <td>474.63</td>\n",
       "      <td>474.63</td>\n",
       "      <td>474.63</td>\n",
       "      <td>474.63</td>\n",
       "      <td>0.00000</td>\n",
       "    </tr>\n",
       "    <tr>\n",
       "      <th>1605819090000</th>\n",
       "      <td>474.63</td>\n",
       "      <td>474.69</td>\n",
       "      <td>474.63</td>\n",
       "      <td>474.69</td>\n",
       "      <td>0.00000</td>\n",
       "    </tr>\n",
       "    <tr>\n",
       "      <th>1605819105000</th>\n",
       "      <td>474.69</td>\n",
       "      <td>474.69</td>\n",
       "      <td>474.69</td>\n",
       "      <td>474.69</td>\n",
       "      <td>0.00000</td>\n",
       "    </tr>\n",
       "  </tbody>\n",
       "</table>\n",
       "</div>"
      ],
      "text/plain": [
       "                 open    high     low   close      volume\n",
       "start_time                                               \n",
       "1605818895000  474.79  474.79  474.51  474.54     0.00000\n",
       "1605818910000  474.54  474.78  474.54  474.78     0.00000\n",
       "1605818925000  474.78  474.78  474.78  474.78     0.00000\n",
       "1605818940000  474.78  474.78  474.62  474.67  1043.25872\n",
       "1605818955000  474.67  474.71  474.64  474.64     0.00000\n",
       "1605818970000  474.64  474.64  474.60  474.63     0.00000\n",
       "1605818985000  474.63  474.63  474.40  474.42   498.17250\n",
       "1605819000000  474.42  474.69  474.40  474.69  2378.65030\n",
       "1605819015000  474.69  474.70  474.69  474.69     0.00000\n",
       "1605819030000  474.69  474.69  474.68  474.68     0.00000\n",
       "1605819045000  474.68  474.68  474.68  474.68     0.00000\n",
       "1605819060000  474.68  474.68  474.58  474.63     0.00000\n",
       "1605819075000  474.63  474.63  474.63  474.63     0.00000\n",
       "1605819090000  474.63  474.69  474.63  474.69     0.00000\n",
       "1605819105000  474.69  474.69  474.69  474.69     0.00000"
      ]
     },
     "execution_count": 11,
     "metadata": {},
     "output_type": "execute_result"
    }
   ],
   "source": [
    "df.tail(15)"
   ]
  },
  {
   "cell_type": "code",
   "execution_count": 12,
   "metadata": {
    "ExecuteTime": {
     "end_time": "2021-01-16T18:09:50.502124Z",
     "start_time": "2021-01-16T18:09:50.463104Z"
    }
   },
   "outputs": [],
   "source": [
    "# def compute_log_returns_from_price_history(price_history_df: pd.DataFrame, \n",
    "#                                            period_length_in_seconds: float, \n",
    "#                                            name: tp.Optional[str] = None) -> pd.Series:\n",
    "#     log_returns = np.log(price_history_df[PHCN.CLOSE]).diff().dropna() * np.sqrt(365 * 24 * 60 * 60 / period_length_in_seconds)\n",
    "#     if name is not None:\n",
    "#         log_returns.name = name\n",
    "#     return log_returns"
   ]
  },
  {
   "cell_type": "code",
   "execution_count": 13,
   "metadata": {
    "ExecuteTime": {
     "end_time": "2021-01-16T18:09:50.618432Z",
     "start_time": "2021-01-16T18:09:50.503926Z"
    }
   },
   "outputs": [],
   "source": [
    "log_return_series = \\\n",
    "    compute_log_returns_from_price_history(df, period_length_in_seconds=15, name='eth/usd return')"
   ]
  },
  {
   "cell_type": "code",
   "execution_count": 14,
   "metadata": {
    "ExecuteTime": {
     "end_time": "2021-01-16T18:09:50.664159Z",
     "start_time": "2021-01-16T18:09:50.620543Z"
    }
   },
   "outputs": [],
   "source": [
    "# log_return_series = np.log(df[PHCN.CLOSE]).diff().dropna() * np.sqrt(365 * 24 * 60 * 4)"
   ]
  },
  {
   "cell_type": "code",
   "execution_count": 15,
   "metadata": {
    "ExecuteTime": {
     "end_time": "2021-01-16T18:09:51.127475Z",
     "start_time": "2021-01-16T18:09:50.666427Z"
    }
   },
   "outputs": [
    {
     "data": {
      "image/png": "[encoded data removed]",
      "text/plain": [
       "<Figure size 432x288 with 1 Axes>"
      ]
     },
     "metadata": {
      "needs_background": "light"
     },
     "output_type": "display_data"
    }
   ],
   "source": [
    "plt.plot(df[PHCN.CLOSE]);"
   ]
  },
  {
   "cell_type": "code",
   "execution_count": 16,
   "metadata": {
    "ExecuteTime": {
     "end_time": "2021-01-16T18:09:51.560073Z",
     "start_time": "2021-01-16T18:09:51.129246Z"
    }
   },
   "outputs": [
    {
     "data": {
      "image/png": "[encoded data removed]",
      "text/plain": [
       "<Figure size 432x288 with 1 Axes>"
      ]
     },
     "metadata": {
      "needs_background": "light"
     },
     "output_type": "display_data"
    }
   ],
   "source": [
    "plt.plot(log_return_series);"
   ]
  },
  {
   "cell_type": "markdown",
   "metadata": {},
   "source": [
    "## GJR Garch with Normal Distribution"
   ]
  },
  {
   "cell_type": "code",
   "execution_count": 17,
   "metadata": {
    "ExecuteTime": {
     "end_time": "2021-01-16T18:10:04.393131Z",
     "start_time": "2021-01-16T18:09:51.562663Z"
    }
   },
   "outputs": [
    {
     "name": "stdout",
     "output_type": "stream",
     "text": [
      "Iteration:      1,   Func. Count:      7,   Neg. LLF: 293565973163.7814\n",
      "Iteration:      2,   Func. Count:     22,   Neg. LLF: 2111234.1006934894\n",
      "Optimization terminated successfully    (Exit mode 0)\n",
      "            Current function value: 2111234.0972447153\n",
      "            Iterations: 6\n",
      "            Function evaluations: 22\n",
      "            Gradient evaluations: 2\n"
     ]
    },
    {
     "data": {
      "text/html": [
       "<table class=\"simpletable\">\n",
       "<caption>Constant Mean - GJR-GARCH Model Results</caption>\n",
       "<tr>\n",
       "  <th>Dep. Variable:</th>   <td>eth/usd return</td>   <th>  R-squared:         </th>   <td>  -0.000</td>  \n",
       "</tr>\n",
       "<tr>\n",
       "  <th>Mean Model:</th>       <td>Constant Mean</td>   <th>  Adj. R-squared:    </th>   <td>  -0.000</td>  \n",
       "</tr>\n",
       "<tr>\n",
       "  <th>Vol Model:</th>          <td>GJR-GARCH</td>     <th>  Log-Likelihood:    </th> <td>-2.11123e+06</td>\n",
       "</tr>\n",
       "<tr>\n",
       "  <th>Distribution:</th>        <td>Normal</td>       <th>  AIC:               </th>  <td>4.22248e+06</td>\n",
       "</tr>\n",
       "<tr>\n",
       "  <th>Method:</th>        <td>Maximum Likelihood</td> <th>  BIC:               </th>  <td>4.22254e+06</td>\n",
       "</tr>\n",
       "<tr>\n",
       "  <th></th>                        <td></td>          <th>  No. Observations:  </th>    <td>2485980</td>  \n",
       "</tr>\n",
       "<tr>\n",
       "  <th>Date:</th>           <td>Sat, Jan 16 2021</td>  <th>  Df Residuals:      </th>    <td>2485975</td>  \n",
       "</tr>\n",
       "<tr>\n",
       "  <th>Time:</th>               <td>10:09:58</td>      <th>  Df Model:          </th>       <td>5</td>     \n",
       "</tr>\n",
       "</table>\n",
       "<table class=\"simpletable\">\n",
       "<caption>Mean Model</caption>\n",
       "<tr>\n",
       "   <td></td>     <th>coef</th>      <th>std err</th>      <th>t</th>       <th>P>|t|</th>      <th>95.0% Conf. Int.</th>   \n",
       "</tr>\n",
       "<tr>\n",
       "  <th>mu</th> <td>-8.1379e-03</td> <td>4.482e-03</td> <td>   -1.816</td> <td>6.942e-02</td> <td>[-1.692e-02,6.466e-04]</td>\n",
       "</tr>\n",
       "</table>\n",
       "<table class=\"simpletable\">\n",
       "<caption>Volatility Model</caption>\n",
       "<tr>\n",
       "      <td></td>        <th>coef</th>     <th>std err</th>      <th>t</th>       <th>P>|t|</th>      <th>95.0% Conf. Int.</th>   \n",
       "</tr>\n",
       "<tr>\n",
       "  <th>omega</th>    <td>    0.0173</td> <td>1.080e-02</td> <td>    1.603</td> <td>    0.109</td> <td>[-3.854e-03,3.847e-02]</td>\n",
       "</tr>\n",
       "<tr>\n",
       "  <th>alpha[1]</th> <td>    0.1000</td> <td>2.152e-02</td> <td>    4.647</td> <td>3.370e-06</td>   <td>[5.782e-02,  0.142]</td> \n",
       "</tr>\n",
       "<tr>\n",
       "  <th>gamma[1]</th> <td>    0.1000</td> <td>5.741e-02</td> <td>    1.742</td> <td>8.151e-02</td>  <td>[-1.251e-02,  0.213]</td> \n",
       "</tr>\n",
       "<tr>\n",
       "  <th>beta[1]</th>  <td>    0.8300</td> <td>5.927e-02</td> <td>   14.004</td> <td>1.483e-44</td>    <td>[  0.714,  0.946]</td>  \n",
       "</tr>\n",
       "</table><br/><br/>Covariance estimator: robust"
      ],
      "text/plain": [
       "<class 'statsmodels.iolib.summary.Summary'>\n",
       "\"\"\"\n",
       "                   Constant Mean - GJR-GARCH Model Results                    \n",
       "==============================================================================\n",
       "Dep. Variable:         eth/usd return   R-squared:                      -0.000\n",
       "Mean Model:             Constant Mean   Adj. R-squared:                 -0.000\n",
       "Vol Model:                  GJR-GARCH   Log-Likelihood:           -2.11123e+06\n",
       "Distribution:                  Normal   AIC:                       4.22248e+06\n",
       "Method:            Maximum Likelihood   BIC:                       4.22254e+06\n",
       "                                        No. Observations:              2485980\n",
       "Date:                Sat, Jan 16 2021   Df Residuals:                  2485975\n",
       "Time:                        10:09:58   Df Model:                            5\n",
       "                                  Mean Model                                  \n",
       "==============================================================================\n",
       "                  coef    std err          t      P>|t|       95.0% Conf. Int.\n",
       "------------------------------------------------------------------------------\n",
       "mu         -8.1379e-03  4.482e-03     -1.816  6.942e-02 [-1.692e-02,6.466e-04]\n",
       "                               Volatility Model                              \n",
       "=============================================================================\n",
       "                 coef    std err          t      P>|t|       95.0% Conf. Int.\n",
       "-----------------------------------------------------------------------------\n",
       "omega          0.0173  1.080e-02      1.603      0.109 [-3.854e-03,3.847e-02]\n",
       "alpha[1]       0.1000  2.152e-02      4.647  3.370e-06    [5.782e-02,  0.142]\n",
       "gamma[1]       0.1000  5.741e-02      1.742  8.151e-02   [-1.251e-02,  0.213]\n",
       "beta[1]        0.8300  5.927e-02     14.004  1.483e-44      [  0.714,  0.946]\n",
       "=============================================================================\n",
       "\n",
       "Covariance estimator: robust\n",
       "\"\"\""
      ]
     },
     "execution_count": 17,
     "metadata": {},
     "output_type": "execute_result"
    }
   ],
   "source": [
    "# a standard GJR-GARCH(1,1) model\n",
    "gjr_garch = arch.arch_model(log_return_series, \n",
    "                        vol='garch', \n",
    "                        p=1, \n",
    "                        o=1, \n",
    "                        q=1)\n",
    "gjr_garch_fitted = gjr_garch.fit()\n",
    "gjr_garch_fitted.summary()"
   ]
  },
  {
   "cell_type": "markdown",
   "metadata": {},
   "source": [
    "## With Normal Distribution"
   ]
  },
  {
   "cell_type": "code",
   "execution_count": 18,
   "metadata": {
    "ExecuteTime": {
     "end_time": "2021-01-16T18:10:14.788293Z",
     "start_time": "2021-01-16T18:10:04.395091Z"
    },
    "scrolled": false
   },
   "outputs": [
    {
     "name": "stdout",
     "output_type": "stream",
     "text": [
      "Iteration:      1,   Func. Count:      6,   Neg. LLF: 632030138171419.9\n",
      "Iteration:      2,   Func. Count:     19,   Neg. LLF: 2117900.1877745283\n",
      "Optimization terminated successfully    (Exit mode 0)\n",
      "            Current function value: 2117900.199066052\n",
      "            Iterations: 6\n",
      "            Function evaluations: 19\n",
      "            Gradient evaluations: 2\n"
     ]
    },
    {
     "data": {
      "text/html": [
       "<table class=\"simpletable\">\n",
       "<caption>Constant Mean - GARCH Model Results</caption>\n",
       "<tr>\n",
       "  <th>Dep. Variable:</th>   <td>eth/usd return</td>   <th>  R-squared:         </th>   <td>  -0.000</td>  \n",
       "</tr>\n",
       "<tr>\n",
       "  <th>Mean Model:</th>       <td>Constant Mean</td>   <th>  Adj. R-squared:    </th>   <td>  -0.000</td>  \n",
       "</tr>\n",
       "<tr>\n",
       "  <th>Vol Model:</th>            <td>GARCH</td>       <th>  Log-Likelihood:    </th> <td>-2.11790e+06</td>\n",
       "</tr>\n",
       "<tr>\n",
       "  <th>Distribution:</th>        <td>Normal</td>       <th>  AIC:               </th>  <td>4.23581e+06</td>\n",
       "</tr>\n",
       "<tr>\n",
       "  <th>Method:</th>        <td>Maximum Likelihood</td> <th>  BIC:               </th>  <td>4.23586e+06</td>\n",
       "</tr>\n",
       "<tr>\n",
       "  <th></th>                        <td></td>          <th>  No. Observations:  </th>    <td>2485980</td>  \n",
       "</tr>\n",
       "<tr>\n",
       "  <th>Date:</th>           <td>Sat, Jan 16 2021</td>  <th>  Df Residuals:      </th>    <td>2485976</td>  \n",
       "</tr>\n",
       "<tr>\n",
       "  <th>Time:</th>               <td>10:10:11</td>      <th>  Df Model:          </th>       <td>4</td>     \n",
       "</tr>\n",
       "</table>\n",
       "<table class=\"simpletable\">\n",
       "<caption>Mean Model</caption>\n",
       "<tr>\n",
       "   <td></td>     <th>coef</th>     <th>std err</th>      <th>t</th>       <th>P>|t|</th>     <th>95.0% Conf. Int.</th>   \n",
       "</tr>\n",
       "<tr>\n",
       "  <th>mu</th> <td>3.8281e-03</td> <td>3.901e-04</td> <td>    9.813</td> <td>9.891e-23</td> <td>[3.064e-03,4.593e-03]</td>\n",
       "</tr>\n",
       "</table>\n",
       "<table class=\"simpletable\">\n",
       "<caption>Volatility Model</caption>\n",
       "<tr>\n",
       "      <td></td>        <th>coef</th>     <th>std err</th>      <th>t</th>       <th>P>|t|</th>     <th>95.0% Conf. Int.</th>   \n",
       "</tr>\n",
       "<tr>\n",
       "  <th>omega</th>    <td>    0.0173</td> <td>5.621e-03</td> <td>    3.079</td> <td>2.079e-03</td> <td>[6.289e-03,2.832e-02]</td>\n",
       "</tr>\n",
       "<tr>\n",
       "  <th>alpha[1]</th> <td>    0.2000</td> <td>3.206e-02</td> <td>    6.238</td> <td>4.439e-10</td>   <td>[  0.137,  0.263]</td>  \n",
       "</tr>\n",
       "<tr>\n",
       "  <th>beta[1]</th>  <td>    0.7800</td> <td>4.069e-02</td> <td>   19.171</td> <td>6.456e-82</td>   <td>[  0.700,  0.860]</td>  \n",
       "</tr>\n",
       "</table><br/><br/>Covariance estimator: robust"
      ],
      "text/plain": [
       "<class 'statsmodels.iolib.summary.Summary'>\n",
       "\"\"\"\n",
       "                     Constant Mean - GARCH Model Results                      \n",
       "==============================================================================\n",
       "Dep. Variable:         eth/usd return   R-squared:                      -0.000\n",
       "Mean Model:             Constant Mean   Adj. R-squared:                 -0.000\n",
       "Vol Model:                      GARCH   Log-Likelihood:           -2.11790e+06\n",
       "Distribution:                  Normal   AIC:                       4.23581e+06\n",
       "Method:            Maximum Likelihood   BIC:                       4.23586e+06\n",
       "                                        No. Observations:              2485980\n",
       "Date:                Sat, Jan 16 2021   Df Residuals:                  2485976\n",
       "Time:                        10:10:11   Df Model:                            4\n",
       "                                 Mean Model                                 \n",
       "============================================================================\n",
       "                 coef    std err          t      P>|t|      95.0% Conf. Int.\n",
       "----------------------------------------------------------------------------\n",
       "mu         3.8281e-03  3.901e-04      9.813  9.891e-23 [3.064e-03,4.593e-03]\n",
       "                              Volatility Model                              \n",
       "============================================================================\n",
       "                 coef    std err          t      P>|t|      95.0% Conf. Int.\n",
       "----------------------------------------------------------------------------\n",
       "omega          0.0173  5.621e-03      3.079  2.079e-03 [6.289e-03,2.832e-02]\n",
       "alpha[1]       0.2000  3.206e-02      6.238  4.439e-10     [  0.137,  0.263]\n",
       "beta[1]        0.7800  4.069e-02     19.171  6.456e-82     [  0.700,  0.860]\n",
       "============================================================================\n",
       "\n",
       "Covariance estimator: robust\n",
       "\"\"\""
      ]
     },
     "execution_count": 18,
     "metadata": {},
     "output_type": "execute_result"
    }
   ],
   "source": [
    "# a standard GARCH(1,1) model\n",
    "garch = arch.arch_model(log_return_series, \n",
    "                        vol='garch', \n",
    "                        p=1, \n",
    "                        o=0, \n",
    "                        q=1)\n",
    "garch_fitted = garch.fit()\n",
    "garch_fitted.summary()"
   ]
  },
  {
   "cell_type": "code",
   "execution_count": 19,
   "metadata": {
    "ExecuteTime": {
     "end_time": "2021-01-16T18:10:17.422050Z",
     "start_time": "2021-01-16T18:10:14.790745Z"
    }
   },
   "outputs": [
    {
     "data": {
      "image/png": "[encoded data removed]",
      "text/plain": [
       "<Figure size 432x288 with 1 Axes>"
      ]
     },
     "metadata": {
      "needs_background": "light"
     },
     "output_type": "display_data"
    }
   ],
   "source": [
    "# plot residuals\n",
    "sm.qqplot(garch_fitted.resid);"
   ]
  },
  {
   "cell_type": "code",
   "execution_count": 20,
   "metadata": {
    "ExecuteTime": {
     "end_time": "2021-01-16T18:10:32.550192Z",
     "start_time": "2021-01-16T18:10:17.424554Z"
    }
   },
   "outputs": [
    {
     "name": "stdout",
     "output_type": "stream",
     "text": [
      "Iteration:      1,   Func. Count:      7,   Neg. LLF: 146650444974899.1\n",
      "Iteration:      2,   Func. Count:     21,   Neg. LLF: 181049011.782299\n",
      "Iteration:      3,   Func. Count:     34,   Neg. LLF: 17759232.993646353\n",
      "Iteration:      4,   Func. Count:     45,   Neg. LLF: 15431689075823.87\n",
      "Iteration:      5,   Func. Count:     58,   Neg. LLF: 2090468.999129576\n",
      "Optimization terminated successfully    (Exit mode 0)\n",
      "            Current function value: 2090469.0010463565\n",
      "            Iterations: 9\n",
      "            Function evaluations: 58\n",
      "            Gradient evaluations: 5\n"
     ]
    },
    {
     "data": {
      "text/html": [
       "<table class=\"simpletable\">\n",
       "<caption>Constant Mean - GARCH Model Results</caption>\n",
       "<tr>\n",
       "  <th>Dep. Variable:</th>   <td>eth/usd return</td>   <th>  R-squared:         </th>   <td>  -0.000</td>  \n",
       "</tr>\n",
       "<tr>\n",
       "  <th>Mean Model:</th>       <td>Constant Mean</td>   <th>  Adj. R-squared:    </th>   <td>  -0.000</td>  \n",
       "</tr>\n",
       "<tr>\n",
       "  <th>Vol Model:</th>            <td>GARCH</td>       <th>  Log-Likelihood:    </th> <td>-2.09047e+06</td>\n",
       "</tr>\n",
       "<tr>\n",
       "  <th>Distribution:</th>        <td>Normal</td>       <th>  AIC:               </th>  <td>4.18095e+06</td>\n",
       "</tr>\n",
       "<tr>\n",
       "  <th>Method:</th>        <td>Maximum Likelihood</td> <th>  BIC:               </th>  <td>4.18101e+06</td>\n",
       "</tr>\n",
       "<tr>\n",
       "  <th></th>                        <td></td>          <th>  No. Observations:  </th>    <td>2485980</td>  \n",
       "</tr>\n",
       "<tr>\n",
       "  <th>Date:</th>           <td>Sat, Jan 16 2021</td>  <th>  Df Residuals:      </th>    <td>2485975</td>  \n",
       "</tr>\n",
       "<tr>\n",
       "  <th>Time:</th>               <td>10:10:27</td>      <th>  Df Model:          </th>       <td>5</td>     \n",
       "</tr>\n",
       "</table>\n",
       "<table class=\"simpletable\">\n",
       "<caption>Mean Model</caption>\n",
       "<tr>\n",
       "   <td></td>     <th>coef</th>     <th>std err</th>      <th>t</th>       <th>P>|t|</th>     <th>95.0% Conf. Int.</th>   \n",
       "</tr>\n",
       "<tr>\n",
       "  <th>mu</th> <td>3.2293e-03</td> <td>3.510e-04</td> <td>    9.199</td> <td>3.613e-20</td> <td>[2.541e-03,3.917e-03]</td>\n",
       "</tr>\n",
       "</table>\n",
       "<table class=\"simpletable\">\n",
       "<caption>Volatility Model</caption>\n",
       "<tr>\n",
       "      <td></td>        <th>coef</th>     <th>std err</th>      <th>t</th>       <th>P>|t|</th>      <th>95.0% Conf. Int.</th>   \n",
       "</tr>\n",
       "<tr>\n",
       "  <th>omega</th>    <td>    0.0173</td> <td>9.055e-03</td> <td>    1.911</td> <td>5.595e-02</td> <td>[-4.397e-04,3.505e-02]</td>\n",
       "</tr>\n",
       "<tr>\n",
       "  <th>alpha[1]</th> <td>    0.2000</td> <td>4.458e-02</td> <td>    4.487</td> <td>7.215e-06</td>    <td>[  0.113,  0.287]</td>  \n",
       "</tr>\n",
       "<tr>\n",
       "  <th>beta[1]</th>  <td>    0.3900</td> <td>8.396e-02</td> <td>    4.646</td> <td>3.390e-06</td>    <td>[  0.225,  0.555]</td>  \n",
       "</tr>\n",
       "<tr>\n",
       "  <th>beta[2]</th>  <td>    0.3900</td> <td>2.893e-02</td> <td>   13.481</td> <td>2.021e-41</td>    <td>[  0.333,  0.447]</td>  \n",
       "</tr>\n",
       "</table><br/><br/>Covariance estimator: robust"
      ],
      "text/plain": [
       "<class 'statsmodels.iolib.summary.Summary'>\n",
       "\"\"\"\n",
       "                     Constant Mean - GARCH Model Results                      \n",
       "==============================================================================\n",
       "Dep. Variable:         eth/usd return   R-squared:                      -0.000\n",
       "Mean Model:             Constant Mean   Adj. R-squared:                 -0.000\n",
       "Vol Model:                      GARCH   Log-Likelihood:           -2.09047e+06\n",
       "Distribution:                  Normal   AIC:                       4.18095e+06\n",
       "Method:            Maximum Likelihood   BIC:                       4.18101e+06\n",
       "                                        No. Observations:              2485980\n",
       "Date:                Sat, Jan 16 2021   Df Residuals:                  2485975\n",
       "Time:                        10:10:27   Df Model:                            5\n",
       "                                 Mean Model                                 \n",
       "============================================================================\n",
       "                 coef    std err          t      P>|t|      95.0% Conf. Int.\n",
       "----------------------------------------------------------------------------\n",
       "mu         3.2293e-03  3.510e-04      9.199  3.613e-20 [2.541e-03,3.917e-03]\n",
       "                               Volatility Model                              \n",
       "=============================================================================\n",
       "                 coef    std err          t      P>|t|       95.0% Conf. Int.\n",
       "-----------------------------------------------------------------------------\n",
       "omega          0.0173  9.055e-03      1.911  5.595e-02 [-4.397e-04,3.505e-02]\n",
       "alpha[1]       0.2000  4.458e-02      4.487  7.215e-06      [  0.113,  0.287]\n",
       "beta[1]        0.3900  8.396e-02      4.646  3.390e-06      [  0.225,  0.555]\n",
       "beta[2]        0.3900  2.893e-02     13.481  2.021e-41      [  0.333,  0.447]\n",
       "=============================================================================\n",
       "\n",
       "Covariance estimator: robust\n",
       "\"\"\""
      ]
     },
     "execution_count": 20,
     "metadata": {},
     "output_type": "execute_result"
    }
   ],
   "source": [
    "# a standard GARCH(1,2) model\n",
    "garch_12 = arch.arch_model(log_return_series, \n",
    "                        vol='garch', \n",
    "                        p=1, \n",
    "                        o=0, \n",
    "                        q=2)\n",
    "garch_12_fitted = garch_12.fit()\n",
    "garch_12_fitted.summary()"
   ]
  },
  {
   "cell_type": "code",
   "execution_count": 21,
   "metadata": {
    "ExecuteTime": {
     "end_time": "2021-01-16T18:10:47.411616Z",
     "start_time": "2021-01-16T18:10:32.552468Z"
    }
   },
   "outputs": [
    {
     "name": "stdout",
     "output_type": "stream",
     "text": [
      "Iteration:      1,   Func. Count:      8,   Neg. LLF: 8.29331050786012e+21\n",
      "Iteration:      2,   Func. Count:     22,   Neg. LLF: 2082687.04680927\n",
      "Optimization terminated successfully    (Exit mode 0)\n",
      "            Current function value: 2082687.044359638\n",
      "            Iterations: 6\n",
      "            Function evaluations: 22\n",
      "            Gradient evaluations: 2\n"
     ]
    },
    {
     "data": {
      "text/html": [
       "<table class=\"simpletable\">\n",
       "<caption>Constant Mean - GARCH Model Results</caption>\n",
       "<tr>\n",
       "  <th>Dep. Variable:</th>   <td>eth/usd return</td>   <th>  R-squared:         </th>   <td>  -0.000</td>  \n",
       "</tr>\n",
       "<tr>\n",
       "  <th>Mean Model:</th>       <td>Constant Mean</td>   <th>  Adj. R-squared:    </th>   <td>  -0.000</td>  \n",
       "</tr>\n",
       "<tr>\n",
       "  <th>Vol Model:</th>            <td>GARCH</td>       <th>  Log-Likelihood:    </th> <td>-2.08269e+06</td>\n",
       "</tr>\n",
       "<tr>\n",
       "  <th>Distribution:</th>        <td>Normal</td>       <th>  AIC:               </th>  <td>4.16539e+06</td>\n",
       "</tr>\n",
       "<tr>\n",
       "  <th>Method:</th>        <td>Maximum Likelihood</td> <th>  BIC:               </th>  <td>4.16546e+06</td>\n",
       "</tr>\n",
       "<tr>\n",
       "  <th></th>                        <td></td>          <th>  No. Observations:  </th>    <td>2485980</td>  \n",
       "</tr>\n",
       "<tr>\n",
       "  <th>Date:</th>           <td>Sat, Jan 16 2021</td>  <th>  Df Residuals:      </th>    <td>2485974</td>  \n",
       "</tr>\n",
       "<tr>\n",
       "  <th>Time:</th>               <td>10:10:39</td>      <th>  Df Model:          </th>       <td>6</td>     \n",
       "</tr>\n",
       "</table>\n",
       "<table class=\"simpletable\">\n",
       "<caption>Mean Model</caption>\n",
       "<tr>\n",
       "   <td></td>     <th>coef</th>     <th>std err</th>      <th>t</th>       <th>P>|t|</th>     <th>95.0% Conf. Int.</th>   \n",
       "</tr>\n",
       "<tr>\n",
       "  <th>mu</th> <td>2.7726e-03</td> <td>3.333e-04</td> <td>    8.319</td> <td>8.878e-17</td> <td>[2.119e-03,3.426e-03]</td>\n",
       "</tr>\n",
       "</table>\n",
       "<table class=\"simpletable\">\n",
       "<caption>Volatility Model</caption>\n",
       "<tr>\n",
       "      <td></td>        <th>coef</th>     <th>std err</th>      <th>t</th>       <th>P>|t|</th>      <th>95.0% Conf. Int.</th>   \n",
       "</tr>\n",
       "<tr>\n",
       "  <th>omega</th>    <td>    0.0173</td> <td>1.822e-02</td> <td>    0.950</td> <td>    0.342</td> <td>[-1.840e-02,5.302e-02]</td>\n",
       "</tr>\n",
       "<tr>\n",
       "  <th>alpha[1]</th> <td>    0.2000</td> <td>9.292e-02</td> <td>    2.152</td> <td>3.136e-02</td>   <td>[1.789e-02,  0.382]</td> \n",
       "</tr>\n",
       "<tr>\n",
       "  <th>beta[1]</th>  <td>    0.2600</td> <td>8.942e-02</td> <td>    2.908</td> <td>3.641e-03</td>   <td>[8.475e-02,  0.435]</td> \n",
       "</tr>\n",
       "<tr>\n",
       "  <th>beta[2]</th>  <td>    0.2600</td> <td>8.104e-02</td> <td>    3.208</td> <td>1.335e-03</td>    <td>[  0.101,  0.419]</td>  \n",
       "</tr>\n",
       "<tr>\n",
       "  <th>beta[3]</th>  <td>    0.2600</td> <td>4.771e-02</td> <td>    5.449</td> <td>5.053e-08</td>    <td>[  0.166,  0.354]</td>  \n",
       "</tr>\n",
       "</table><br/><br/>Covariance estimator: robust"
      ],
      "text/plain": [
       "<class 'statsmodels.iolib.summary.Summary'>\n",
       "\"\"\"\n",
       "                     Constant Mean - GARCH Model Results                      \n",
       "==============================================================================\n",
       "Dep. Variable:         eth/usd return   R-squared:                      -0.000\n",
       "Mean Model:             Constant Mean   Adj. R-squared:                 -0.000\n",
       "Vol Model:                      GARCH   Log-Likelihood:           -2.08269e+06\n",
       "Distribution:                  Normal   AIC:                       4.16539e+06\n",
       "Method:            Maximum Likelihood   BIC:                       4.16546e+06\n",
       "                                        No. Observations:              2485980\n",
       "Date:                Sat, Jan 16 2021   Df Residuals:                  2485974\n",
       "Time:                        10:10:39   Df Model:                            6\n",
       "                                 Mean Model                                 \n",
       "============================================================================\n",
       "                 coef    std err          t      P>|t|      95.0% Conf. Int.\n",
       "----------------------------------------------------------------------------\n",
       "mu         2.7726e-03  3.333e-04      8.319  8.878e-17 [2.119e-03,3.426e-03]\n",
       "                               Volatility Model                              \n",
       "=============================================================================\n",
       "                 coef    std err          t      P>|t|       95.0% Conf. Int.\n",
       "-----------------------------------------------------------------------------\n",
       "omega          0.0173  1.822e-02      0.950      0.342 [-1.840e-02,5.302e-02]\n",
       "alpha[1]       0.2000  9.292e-02      2.152  3.136e-02    [1.789e-02,  0.382]\n",
       "beta[1]        0.2600  8.942e-02      2.908  3.641e-03    [8.475e-02,  0.435]\n",
       "beta[2]        0.2600  8.104e-02      3.208  1.335e-03      [  0.101,  0.419]\n",
       "beta[3]        0.2600  4.771e-02      5.449  5.053e-08      [  0.166,  0.354]\n",
       "=============================================================================\n",
       "\n",
       "Covariance estimator: robust\n",
       "\"\"\""
      ]
     },
     "execution_count": 21,
     "metadata": {},
     "output_type": "execute_result"
    }
   ],
   "source": [
    "# a standard GARCH(1,3) model\n",
    "garch_13 = arch.arch_model(log_return_series, \n",
    "                        vol='garch', \n",
    "                        p=1, \n",
    "                        o=0, \n",
    "                        q=3)\n",
    "garch_13_fitted = garch_13.fit()\n",
    "garch_13_fitted.summary()"
   ]
  },
  {
   "cell_type": "code",
   "execution_count": 22,
   "metadata": {
    "ExecuteTime": {
     "end_time": "2021-01-16T18:11:02.811443Z",
     "start_time": "2021-01-16T18:10:47.413591Z"
    },
    "scrolled": false
   },
   "outputs": [
    {
     "name": "stdout",
     "output_type": "stream",
     "text": [
      "Iteration:      1,   Func. Count:      7,   Neg. LLF: 2.03707115932229e+22\n",
      "Iteration:      2,   Func. Count:     21,   Neg. LLF: 5205813410.901851\n",
      "Iteration:      3,   Func. Count:     35,   Neg. LLF: 4733643.350093263\n",
      "Iteration:      4,   Func. Count:     45,   Neg. LLF: 2126523.4892509305\n",
      "Optimization terminated successfully    (Exit mode 0)\n",
      "            Current function value: 2126523.497946362\n",
      "            Iterations: 8\n",
      "            Function evaluations: 45\n",
      "            Gradient evaluations: 4\n"
     ]
    },
    {
     "data": {
      "text/html": [
       "<table class=\"simpletable\">\n",
       "<caption>Constant Mean - GARCH Model Results</caption>\n",
       "<tr>\n",
       "  <th>Dep. Variable:</th>   <td>eth/usd return</td>   <th>  R-squared:         </th>   <td>  -0.000</td>  \n",
       "</tr>\n",
       "<tr>\n",
       "  <th>Mean Model:</th>       <td>Constant Mean</td>   <th>  Adj. R-squared:    </th>   <td>  -0.000</td>  \n",
       "</tr>\n",
       "<tr>\n",
       "  <th>Vol Model:</th>            <td>GARCH</td>       <th>  Log-Likelihood:    </th> <td>-2.12652e+06</td>\n",
       "</tr>\n",
       "<tr>\n",
       "  <th>Distribution:</th>        <td>Normal</td>       <th>  AIC:               </th>  <td>4.25306e+06</td>\n",
       "</tr>\n",
       "<tr>\n",
       "  <th>Method:</th>        <td>Maximum Likelihood</td> <th>  BIC:               </th>  <td>4.25312e+06</td>\n",
       "</tr>\n",
       "<tr>\n",
       "  <th></th>                        <td></td>          <th>  No. Observations:  </th>    <td>2485980</td>  \n",
       "</tr>\n",
       "<tr>\n",
       "  <th>Date:</th>           <td>Sat, Jan 16 2021</td>  <th>  Df Residuals:      </th>    <td>2485975</td>  \n",
       "</tr>\n",
       "<tr>\n",
       "  <th>Time:</th>               <td>10:10:56</td>      <th>  Df Model:          </th>       <td>5</td>     \n",
       "</tr>\n",
       "</table>\n",
       "<table class=\"simpletable\">\n",
       "<caption>Mean Model</caption>\n",
       "<tr>\n",
       "   <td></td>     <th>coef</th>     <th>std err</th>      <th>t</th>       <th>P>|t|</th>     <th>95.0% Conf. Int.</th>   \n",
       "</tr>\n",
       "<tr>\n",
       "  <th>mu</th> <td>4.0383e-03</td> <td>4.714e-04</td> <td>    8.567</td> <td>1.063e-17</td> <td>[3.114e-03,4.962e-03]</td>\n",
       "</tr>\n",
       "</table>\n",
       "<table class=\"simpletable\">\n",
       "<caption>Volatility Model</caption>\n",
       "<tr>\n",
       "      <td></td>        <th>coef</th>     <th>std err</th>      <th>t</th>       <th>P>|t|</th>     <th>95.0% Conf. Int.</th>   \n",
       "</tr>\n",
       "<tr>\n",
       "  <th>omega</th>    <td>    0.0178</td> <td>8.208e-03</td> <td>    2.168</td> <td>3.016e-02</td> <td>[1.707e-03,3.388e-02]</td>\n",
       "</tr>\n",
       "<tr>\n",
       "  <th>alpha[1]</th> <td>    0.1000</td> <td>5.396e-03</td> <td>   18.530</td> <td>1.178e-76</td>  <td>[8.942e-02,  0.111]</td> \n",
       "</tr>\n",
       "<tr>\n",
       "  <th>alpha[2]</th> <td>    0.1000</td> <td>4.630e-02</td> <td>    2.159</td> <td>3.082e-02</td>  <td>[9.236e-03,  0.191]</td> \n",
       "</tr>\n",
       "<tr>\n",
       "  <th>beta[1]</th>  <td>    0.7799</td> <td>6.111e-02</td> <td>   12.763</td> <td>2.647e-37</td>   <td>[  0.660,  0.900]</td>  \n",
       "</tr>\n",
       "</table><br/><br/>Covariance estimator: robust"
      ],
      "text/plain": [
       "<class 'statsmodels.iolib.summary.Summary'>\n",
       "\"\"\"\n",
       "                     Constant Mean - GARCH Model Results                      \n",
       "==============================================================================\n",
       "Dep. Variable:         eth/usd return   R-squared:                      -0.000\n",
       "Mean Model:             Constant Mean   Adj. R-squared:                 -0.000\n",
       "Vol Model:                      GARCH   Log-Likelihood:           -2.12652e+06\n",
       "Distribution:                  Normal   AIC:                       4.25306e+06\n",
       "Method:            Maximum Likelihood   BIC:                       4.25312e+06\n",
       "                                        No. Observations:              2485980\n",
       "Date:                Sat, Jan 16 2021   Df Residuals:                  2485975\n",
       "Time:                        10:10:56   Df Model:                            5\n",
       "                                 Mean Model                                 \n",
       "============================================================================\n",
       "                 coef    std err          t      P>|t|      95.0% Conf. Int.\n",
       "----------------------------------------------------------------------------\n",
       "mu         4.0383e-03  4.714e-04      8.567  1.063e-17 [3.114e-03,4.962e-03]\n",
       "                              Volatility Model                              \n",
       "============================================================================\n",
       "                 coef    std err          t      P>|t|      95.0% Conf. Int.\n",
       "----------------------------------------------------------------------------\n",
       "omega          0.0178  8.208e-03      2.168  3.016e-02 [1.707e-03,3.388e-02]\n",
       "alpha[1]       0.1000  5.396e-03     18.530  1.178e-76   [8.942e-02,  0.111]\n",
       "alpha[2]       0.1000  4.630e-02      2.159  3.082e-02   [9.236e-03,  0.191]\n",
       "beta[1]        0.7799  6.111e-02     12.763  2.647e-37     [  0.660,  0.900]\n",
       "============================================================================\n",
       "\n",
       "Covariance estimator: robust\n",
       "\"\"\""
      ]
     },
     "execution_count": 22,
     "metadata": {},
     "output_type": "execute_result"
    }
   ],
   "source": [
    "# a standard GARCH(2,1) model\n",
    "garch_21 = arch.arch_model(log_return_series, \n",
    "                        vol='garch', \n",
    "                        p=2, \n",
    "                        o=0, \n",
    "                        q=1)\n",
    "garch_21_fitted = garch_21.fit()\n",
    "garch_21_fitted.summary()"
   ]
  },
  {
   "cell_type": "markdown",
   "metadata": {},
   "source": [
    "## With T Distribution"
   ]
  },
  {
   "cell_type": "code",
   "execution_count": 23,
   "metadata": {
    "ExecuteTime": {
     "end_time": "2021-01-16T18:11:24.448306Z",
     "start_time": "2021-01-16T18:11:02.817676Z"
    },
    "scrolled": false
   },
   "outputs": [
    {
     "name": "stdout",
     "output_type": "stream",
     "text": [
      "Iteration:      1,   Func. Count:      7,   Neg. LLF: 79129805.79060787\n",
      "Iteration:      2,   Func. Count:     22,   Neg. LLF: 80888917.61945553\n",
      "Iteration:      3,   Func. Count:     33,   Neg. LLF: 119768896.6174169\n",
      "Iteration:      4,   Func. Count:     48,   Neg. LLF: 90686505.20289567\n",
      "Iteration:      5,   Func. Count:     61,   Neg. LLF: 83119316.84795986\n",
      "Iteration:      6,   Func. Count:     73,   Neg. LLF: 115634579.87095194\n",
      "Iteration:      7,   Func. Count:     86,   Neg. LLF: 1735173.053234503\n",
      "Optimization terminated successfully    (Exit mode 0)\n",
      "            Current function value: 1735173.0525404052\n",
      "            Iterations: 11\n",
      "            Function evaluations: 86\n",
      "            Gradient evaluations: 7\n"
     ]
    },
    {
     "data": {
      "text/html": [
       "<table class=\"simpletable\">\n",
       "<caption>Constant Mean - GARCH Model Results</caption>\n",
       "<tr>\n",
       "  <th>Dep. Variable:</th>      <td>eth/usd return</td>      <th>  R-squared:         </th>   <td>  -0.000</td>  \n",
       "</tr>\n",
       "<tr>\n",
       "  <th>Mean Model:</th>          <td>Constant Mean</td>      <th>  Adj. R-squared:    </th>   <td>  -0.000</td>  \n",
       "</tr>\n",
       "<tr>\n",
       "  <th>Vol Model:</th>               <td>GARCH</td>          <th>  Log-Likelihood:    </th> <td>-1.73517e+06</td>\n",
       "</tr>\n",
       "<tr>\n",
       "  <th>Distribution:</th>  <td>Standardized Student's t</td> <th>  AIC:               </th>  <td>3.47036e+06</td>\n",
       "</tr>\n",
       "<tr>\n",
       "  <th>Method:</th>           <td>Maximum Likelihood</td>    <th>  BIC:               </th>  <td>3.47042e+06</td>\n",
       "</tr>\n",
       "<tr>\n",
       "  <th></th>                           <td></td>             <th>  No. Observations:  </th>    <td>2485980</td>  \n",
       "</tr>\n",
       "<tr>\n",
       "  <th>Date:</th>              <td>Sat, Jan 16 2021</td>     <th>  Df Residuals:      </th>    <td>2485975</td>  \n",
       "</tr>\n",
       "<tr>\n",
       "  <th>Time:</th>                  <td>10:11:17</td>         <th>  Df Model:          </th>       <td>5</td>     \n",
       "</tr>\n",
       "</table>\n",
       "<table class=\"simpletable\">\n",
       "<caption>Mean Model</caption>\n",
       "<tr>\n",
       "   <td></td>     <th>coef</th>     <th>std err</th>      <th>t</th>       <th>P>|t|</th>      <th>95.0% Conf. Int.</th>   \n",
       "</tr>\n",
       "<tr>\n",
       "  <th>mu</th> <td>6.9918e-06</td> <td>1.559e-04</td> <td>4.484e-02</td> <td>    0.964</td> <td>[-2.986e-04,3.126e-04]</td>\n",
       "</tr>\n",
       "</table>\n",
       "<table class=\"simpletable\">\n",
       "<caption>Volatility Model</caption>\n",
       "<tr>\n",
       "      <td></td>        <th>coef</th>     <th>std err</th>      <th>t</th>     <th>P>|t|</th>   <th>95.0% Conf. Int.</th>   \n",
       "</tr>\n",
       "<tr>\n",
       "  <th>omega</th>    <td>    0.0173</td> <td>1.090e-04</td> <td>  158.707</td> <td>0.000</td> <td>[1.709e-02,1.752e-02]</td>\n",
       "</tr>\n",
       "<tr>\n",
       "  <th>alpha[1]</th> <td>    0.2000</td> <td>9.372e-04</td> <td>  213.394</td> <td>0.000</td>   <td>[  0.198,  0.202]</td>  \n",
       "</tr>\n",
       "<tr>\n",
       "  <th>beta[1]</th>  <td>    0.7800</td> <td>8.571e-04</td> <td>  909.991</td> <td>0.000</td>   <td>[  0.778,  0.782]</td>  \n",
       "</tr>\n",
       "</table>\n",
       "<table class=\"simpletable\">\n",
       "<caption>Distribution</caption>\n",
       "<tr>\n",
       "   <td></td>     <th>coef</th>     <th>std err</th>      <th>t</th>     <th>P>|t|</th> <th>95.0% Conf. Int.</th> \n",
       "</tr>\n",
       "<tr>\n",
       "  <th>nu</th> <td>    4.0216</td> <td>6.907e-03</td> <td>  582.222</td> <td>0.000</td> <td>[  4.008,  4.035]</td>\n",
       "</tr>\n",
       "</table><br/><br/>Covariance estimator: robust"
      ],
      "text/plain": [
       "<class 'statsmodels.iolib.summary.Summary'>\n",
       "\"\"\"\n",
       "                        Constant Mean - GARCH Model Results                         \n",
       "====================================================================================\n",
       "Dep. Variable:               eth/usd return   R-squared:                      -0.000\n",
       "Mean Model:                   Constant Mean   Adj. R-squared:                 -0.000\n",
       "Vol Model:                            GARCH   Log-Likelihood:           -1.73517e+06\n",
       "Distribution:      Standardized Student's t   AIC:                       3.47036e+06\n",
       "Method:                  Maximum Likelihood   BIC:                       3.47042e+06\n",
       "                                              No. Observations:              2485980\n",
       "Date:                      Sat, Jan 16 2021   Df Residuals:                  2485975\n",
       "Time:                              10:11:17   Df Model:                            5\n",
       "                                  Mean Model                                 \n",
       "=============================================================================\n",
       "                 coef    std err          t      P>|t|       95.0% Conf. Int.\n",
       "-----------------------------------------------------------------------------\n",
       "mu         6.9918e-06  1.559e-04  4.484e-02      0.964 [-2.986e-04,3.126e-04]\n",
       "                              Volatility Model                              \n",
       "============================================================================\n",
       "                 coef    std err          t      P>|t|      95.0% Conf. Int.\n",
       "----------------------------------------------------------------------------\n",
       "omega          0.0173  1.090e-04    158.707      0.000 [1.709e-02,1.752e-02]\n",
       "alpha[1]       0.2000  9.372e-04    213.394      0.000     [  0.198,  0.202]\n",
       "beta[1]        0.7800  8.571e-04    909.991      0.000     [  0.778,  0.782]\n",
       "                              Distribution                              \n",
       "========================================================================\n",
       "                 coef    std err          t      P>|t|  95.0% Conf. Int.\n",
       "------------------------------------------------------------------------\n",
       "nu             4.0216  6.907e-03    582.222      0.000 [  4.008,  4.035]\n",
       "========================================================================\n",
       "\n",
       "Covariance estimator: robust\n",
       "\"\"\""
      ]
     },
     "execution_count": 23,
     "metadata": {},
     "output_type": "execute_result"
    }
   ],
   "source": [
    "# a GARCH(1,1) model with Student t distributed errors \n",
    "garch_11_t = \\\n",
    "    arch.arch_model(log_return_series, \n",
    "                    vol='garch', \n",
    "                    p=1, \n",
    "                    o=0, \n",
    "                    q=1, \n",
    "                    dist='StudentsT'\n",
    "                   )\n",
    "garch_11_t_fitted = garch_11_t.fit()\n",
    "garch_11_t_fitted.summary()"
   ]
  },
  {
   "cell_type": "code",
   "execution_count": 24,
   "metadata": {
    "ExecuteTime": {
     "end_time": "2021-01-16T18:11:32.710986Z",
     "start_time": "2021-01-16T18:11:24.451090Z"
    }
   },
   "outputs": [
    {
     "data": {
      "image/png": "[encoded data removed]",
      "text/plain": [
       "<Figure size 432x288 with 1 Axes>"
      ]
     },
     "metadata": {
      "needs_background": "light"
     },
     "output_type": "display_data"
    }
   ],
   "source": [
    "# plot residuals\n",
    "sm.qqplot(garch_11_t_fitted.resid, dist=sp.stats.t(garch_11_t_fitted.params['nu']));"
   ]
  },
  {
   "cell_type": "code",
   "execution_count": 25,
   "metadata": {
    "ExecuteTime": {
     "end_time": "2021-01-16T18:11:32.768313Z",
     "start_time": "2021-01-16T18:11:32.712865Z"
    }
   },
   "outputs": [
    {
     "data": {
      "text/html": [
       "<div>\n",
       "<style scoped>\n",
       "    .dataframe tbody tr th:only-of-type {\n",
       "        vertical-align: middle;\n",
       "    }\n",
       "\n",
       "    .dataframe tbody tr th {\n",
       "        vertical-align: top;\n",
       "    }\n",
       "\n",
       "    .dataframe thead th {\n",
       "        text-align: right;\n",
       "    }\n",
       "</style>\n",
       "<table border=\"1\" class=\"dataframe\">\n",
       "  <thead>\n",
       "    <tr style=\"text-align: right;\">\n",
       "      <th></th>\n",
       "      <th>data</th>\n",
       "      <th>volatility</th>\n",
       "      <th>errors</th>\n",
       "    </tr>\n",
       "  </thead>\n",
       "  <tbody>\n",
       "    <tr>\n",
       "      <th>0</th>\n",
       "      <td>-0.015451</td>\n",
       "      <td>0.586223</td>\n",
       "      <td>-0.015458</td>\n",
       "    </tr>\n",
       "    <tr>\n",
       "      <th>1</th>\n",
       "      <td>1.029117</td>\n",
       "      <td>0.534231</td>\n",
       "      <td>1.029110</td>\n",
       "    </tr>\n",
       "    <tr>\n",
       "      <th>2</th>\n",
       "      <td>-1.091048</td>\n",
       "      <td>0.672107</td>\n",
       "      <td>-1.091055</td>\n",
       "    </tr>\n",
       "    <tr>\n",
       "      <th>3</th>\n",
       "      <td>-0.142989</td>\n",
       "      <td>0.779567</td>\n",
       "      <td>-0.142996</td>\n",
       "    </tr>\n",
       "    <tr>\n",
       "      <th>4</th>\n",
       "      <td>0.538763</td>\n",
       "      <td>0.703857</td>\n",
       "      <td>0.538756</td>\n",
       "    </tr>\n",
       "  </tbody>\n",
       "</table>\n",
       "</div>"
      ],
      "text/plain": [
       "       data  volatility    errors\n",
       "0 -0.015451    0.586223 -0.015458\n",
       "1  1.029117    0.534231  1.029110\n",
       "2 -1.091048    0.672107 -1.091055\n",
       "3 -0.142989    0.779567 -0.142996\n",
       "4  0.538763    0.703857  0.538756"
      ]
     },
     "execution_count": 25,
     "metadata": {},
     "output_type": "execute_result"
    }
   ],
   "source": [
    "sim_mod = arch.arch_model(None, vol='garch', p=1, o=0, q=1, dist=\"StudentsT\")\n",
    "\n",
    "sim_data = sim_mod.simulate(garch_11_t_fitted.params, 1000)\n",
    "sim_data.head()"
   ]
  },
  {
   "cell_type": "code",
   "execution_count": 26,
   "metadata": {
    "ExecuteTime": {
     "end_time": "2021-01-16T18:11:54.452657Z",
     "start_time": "2021-01-16T18:11:32.770057Z"
    }
   },
   "outputs": [
    {
     "name": "stdout",
     "output_type": "stream",
     "text": [
      "Iteration:      1,   Func. Count:      8,   Neg. LLF: 664937301.9294909\n",
      "Iteration:      2,   Func. Count:     23,   Neg. LLF: 86890503.37439324\n",
      "Iteration:      3,   Func. Count:     36,   Neg. LLF: 113234228.24052942\n",
      "Iteration:      4,   Func. Count:     50,   Neg. LLF: 1735880.4918644843\n",
      "Optimization terminated successfully    (Exit mode 0)\n",
      "            Current function value: 1735880.4911508432\n",
      "            Iterations: 8\n",
      "            Function evaluations: 50\n",
      "            Gradient evaluations: 4\n"
     ]
    },
    {
     "data": {
      "text/html": [
       "<table class=\"simpletable\">\n",
       "<caption>Constant Mean - GARCH Model Results</caption>\n",
       "<tr>\n",
       "  <th>Dep. Variable:</th>      <td>eth/usd return</td>      <th>  R-squared:         </th>   <td>  -0.000</td>  \n",
       "</tr>\n",
       "<tr>\n",
       "  <th>Mean Model:</th>          <td>Constant Mean</td>      <th>  Adj. R-squared:    </th>   <td>  -0.000</td>  \n",
       "</tr>\n",
       "<tr>\n",
       "  <th>Vol Model:</th>               <td>GARCH</td>          <th>  Log-Likelihood:    </th> <td>-1.73588e+06</td>\n",
       "</tr>\n",
       "<tr>\n",
       "  <th>Distribution:</th>  <td>Standardized Student's t</td> <th>  AIC:               </th>  <td>3.47177e+06</td>\n",
       "</tr>\n",
       "<tr>\n",
       "  <th>Method:</th>           <td>Maximum Likelihood</td>    <th>  BIC:               </th>  <td>3.47185e+06</td>\n",
       "</tr>\n",
       "<tr>\n",
       "  <th></th>                           <td></td>             <th>  No. Observations:  </th>    <td>2485980</td>  \n",
       "</tr>\n",
       "<tr>\n",
       "  <th>Date:</th>              <td>Sat, Jan 16 2021</td>     <th>  Df Residuals:      </th>    <td>2485974</td>  \n",
       "</tr>\n",
       "<tr>\n",
       "  <th>Time:</th>                  <td>10:11:43</td>         <th>  Df Model:          </th>       <td>6</td>     \n",
       "</tr>\n",
       "</table>\n",
       "<table class=\"simpletable\">\n",
       "<caption>Mean Model</caption>\n",
       "<tr>\n",
       "   <td></td>     <th>coef</th>      <th>std err</th>      <th>t</th>       <th>P>|t|</th>      <th>95.0% Conf. Int.</th>   \n",
       "</tr>\n",
       "<tr>\n",
       "  <th>mu</th> <td>-7.0648e-05</td> <td>1.557e-04</td> <td>   -0.454</td> <td>    0.650</td> <td>[-3.759e-04,2.346e-04]</td>\n",
       "</tr>\n",
       "</table>\n",
       "<table class=\"simpletable\">\n",
       "<caption>Volatility Model</caption>\n",
       "<tr>\n",
       "      <td></td>        <th>coef</th>     <th>std err</th>      <th>t</th>     <th>P>|t|</th>   <th>95.0% Conf. Int.</th>   \n",
       "</tr>\n",
       "<tr>\n",
       "  <th>omega</th>    <td>    0.0173</td> <td>1.005e-04</td> <td>  172.288</td> <td>0.000</td> <td>[1.711e-02,1.750e-02]</td>\n",
       "</tr>\n",
       "<tr>\n",
       "  <th>alpha[1]</th> <td>    0.2000</td> <td>9.619e-04</td> <td>  207.910</td> <td>0.000</td>   <td>[  0.198,  0.202]</td>  \n",
       "</tr>\n",
       "<tr>\n",
       "  <th>beta[1]</th>  <td>    0.3900</td> <td>5.287e-03</td> <td>   73.760</td> <td>0.000</td>   <td>[  0.380,  0.400]</td>  \n",
       "</tr>\n",
       "<tr>\n",
       "  <th>beta[2]</th>  <td>    0.3900</td> <td>5.342e-03</td> <td>   73.003</td> <td>0.000</td>   <td>[  0.380,  0.400]</td>  \n",
       "</tr>\n",
       "</table>\n",
       "<table class=\"simpletable\">\n",
       "<caption>Distribution</caption>\n",
       "<tr>\n",
       "   <td></td>     <th>coef</th>     <th>std err</th>      <th>t</th>     <th>P>|t|</th> <th>95.0% Conf. Int.</th> \n",
       "</tr>\n",
       "<tr>\n",
       "  <th>nu</th> <td>    4.0227</td> <td>6.156e-03</td> <td>  653.491</td> <td>0.000</td> <td>[  4.011,  4.035]</td>\n",
       "</tr>\n",
       "</table><br/><br/>Covariance estimator: robust"
      ],
      "text/plain": [
       "<class 'statsmodels.iolib.summary.Summary'>\n",
       "\"\"\"\n",
       "                        Constant Mean - GARCH Model Results                         \n",
       "====================================================================================\n",
       "Dep. Variable:               eth/usd return   R-squared:                      -0.000\n",
       "Mean Model:                   Constant Mean   Adj. R-squared:                 -0.000\n",
       "Vol Model:                            GARCH   Log-Likelihood:           -1.73588e+06\n",
       "Distribution:      Standardized Student's t   AIC:                       3.47177e+06\n",
       "Method:                  Maximum Likelihood   BIC:                       3.47185e+06\n",
       "                                              No. Observations:              2485980\n",
       "Date:                      Sat, Jan 16 2021   Df Residuals:                  2485974\n",
       "Time:                              10:11:43   Df Model:                            6\n",
       "                                  Mean Model                                  \n",
       "==============================================================================\n",
       "                  coef    std err          t      P>|t|       95.0% Conf. Int.\n",
       "------------------------------------------------------------------------------\n",
       "mu         -7.0648e-05  1.557e-04     -0.454      0.650 [-3.759e-04,2.346e-04]\n",
       "                              Volatility Model                              \n",
       "============================================================================\n",
       "                 coef    std err          t      P>|t|      95.0% Conf. Int.\n",
       "----------------------------------------------------------------------------\n",
       "omega          0.0173  1.005e-04    172.288      0.000 [1.711e-02,1.750e-02]\n",
       "alpha[1]       0.2000  9.619e-04    207.910      0.000     [  0.198,  0.202]\n",
       "beta[1]        0.3900  5.287e-03     73.760      0.000     [  0.380,  0.400]\n",
       "beta[2]        0.3900  5.342e-03     73.003      0.000     [  0.380,  0.400]\n",
       "                              Distribution                              \n",
       "========================================================================\n",
       "                 coef    std err          t      P>|t|  95.0% Conf. Int.\n",
       "------------------------------------------------------------------------\n",
       "nu             4.0227  6.156e-03    653.491      0.000 [  4.011,  4.035]\n",
       "========================================================================\n",
       "\n",
       "Covariance estimator: robust\n",
       "\"\"\""
      ]
     },
     "execution_count": 26,
     "metadata": {},
     "output_type": "execute_result"
    }
   ],
   "source": [
    "# a GARCH(1,2) model with Student t distributed errors \n",
    "garch_12_t = \\\n",
    "    arch.arch_model(log_return_series, \n",
    "                    vol='garch', \n",
    "                    p=1, \n",
    "                    o=0, \n",
    "                    q=2, \n",
    "                    dist='StudentsT')\n",
    "garch_12_t_fitted = garch_12_t.fit()\n",
    "garch_12_t_fitted.summary()"
   ]
  },
  {
   "cell_type": "code",
   "execution_count": 27,
   "metadata": {
    "ExecuteTime": {
     "end_time": "2021-01-16T18:12:15.652119Z",
     "start_time": "2021-01-16T18:11:54.454685Z"
    }
   },
   "outputs": [
    {
     "name": "stdout",
     "output_type": "stream",
     "text": [
      "Iteration:      1,   Func. Count:      9,   Neg. LLF: 557090541.2769711\n",
      "Iteration:      2,   Func. Count:     24,   Neg. LLF: 1739107.9985534672\n",
      "Optimization terminated successfully    (Exit mode 0)\n",
      "            Current function value: 1739107.997825212\n",
      "            Iterations: 6\n",
      "            Function evaluations: 24\n",
      "            Gradient evaluations: 2\n"
     ]
    },
    {
     "data": {
      "text/html": [
       "<table class=\"simpletable\">\n",
       "<caption>Constant Mean - GARCH Model Results</caption>\n",
       "<tr>\n",
       "  <th>Dep. Variable:</th>      <td>eth/usd return</td>      <th>  R-squared:         </th>   <td>  -0.000</td>  \n",
       "</tr>\n",
       "<tr>\n",
       "  <th>Mean Model:</th>          <td>Constant Mean</td>      <th>  Adj. R-squared:    </th>   <td>  -0.000</td>  \n",
       "</tr>\n",
       "<tr>\n",
       "  <th>Vol Model:</th>               <td>GARCH</td>          <th>  Log-Likelihood:    </th> <td>-1.73911e+06</td>\n",
       "</tr>\n",
       "<tr>\n",
       "  <th>Distribution:</th>  <td>Standardized Student's t</td> <th>  AIC:               </th>  <td>3.47823e+06</td>\n",
       "</tr>\n",
       "<tr>\n",
       "  <th>Method:</th>           <td>Maximum Likelihood</td>    <th>  BIC:               </th>  <td>3.47832e+06</td>\n",
       "</tr>\n",
       "<tr>\n",
       "  <th></th>                           <td></td>             <th>  No. Observations:  </th>    <td>2485980</td>  \n",
       "</tr>\n",
       "<tr>\n",
       "  <th>Date:</th>              <td>Sat, Jan 16 2021</td>     <th>  Df Residuals:      </th>    <td>2485973</td>  \n",
       "</tr>\n",
       "<tr>\n",
       "  <th>Time:</th>                  <td>10:12:02</td>         <th>  Df Model:          </th>       <td>7</td>     \n",
       "</tr>\n",
       "</table>\n",
       "<table class=\"simpletable\">\n",
       "<caption>Mean Model</caption>\n",
       "<tr>\n",
       "   <td></td>     <th>coef</th>     <th>std err</th>      <th>t</th>       <th>P>|t|</th>      <th>95.0% Conf. Int.</th>   \n",
       "</tr>\n",
       "<tr>\n",
       "  <th>mu</th> <td>1.0332e-04</td> <td>1.558e-04</td> <td>    0.663</td> <td>    0.507</td> <td>[-2.020e-04,4.086e-04]</td>\n",
       "</tr>\n",
       "</table>\n",
       "<table class=\"simpletable\">\n",
       "<caption>Volatility Model</caption>\n",
       "<tr>\n",
       "      <td></td>        <th>coef</th>     <th>std err</th>      <th>t</th>        <th>P>|t|</th>     <th>95.0% Conf. Int.</th>   \n",
       "</tr>\n",
       "<tr>\n",
       "  <th>omega</th>    <td>    0.0173</td> <td>9.822e-05</td> <td>  176.200</td>    <td>0.000</td>   <td>[1.711e-02,1.750e-02]</td>\n",
       "</tr>\n",
       "<tr>\n",
       "  <th>alpha[1]</th> <td>    0.2000</td> <td>1.039e-03</td> <td>  192.536</td>    <td>0.000</td>     <td>[  0.198,  0.202]</td>  \n",
       "</tr>\n",
       "<tr>\n",
       "  <th>beta[1]</th>  <td>    0.2600</td> <td>6.498e-03</td> <td>   40.014</td>    <td>0.000</td>     <td>[  0.247,  0.273]</td>  \n",
       "</tr>\n",
       "<tr>\n",
       "  <th>beta[2]</th>  <td>    0.2600</td> <td>7.523e-03</td> <td>   34.561</td> <td>9.605e-262</td>   <td>[  0.245,  0.275]</td>  \n",
       "</tr>\n",
       "<tr>\n",
       "  <th>beta[3]</th>  <td>    0.2600</td> <td>6.838e-03</td> <td>   38.025</td>    <td>0.000</td>     <td>[  0.247,  0.273]</td>  \n",
       "</tr>\n",
       "</table>\n",
       "<table class=\"simpletable\">\n",
       "<caption>Distribution</caption>\n",
       "<tr>\n",
       "   <td></td>     <th>coef</th>     <th>std err</th>      <th>t</th>     <th>P>|t|</th> <th>95.0% Conf. Int.</th> \n",
       "</tr>\n",
       "<tr>\n",
       "  <th>nu</th> <td>    4.0216</td> <td>5.852e-03</td> <td>  687.264</td> <td>0.000</td> <td>[  4.010,  4.033]</td>\n",
       "</tr>\n",
       "</table><br/><br/>Covariance estimator: robust"
      ],
      "text/plain": [
       "<class 'statsmodels.iolib.summary.Summary'>\n",
       "\"\"\"\n",
       "                        Constant Mean - GARCH Model Results                         \n",
       "====================================================================================\n",
       "Dep. Variable:               eth/usd return   R-squared:                      -0.000\n",
       "Mean Model:                   Constant Mean   Adj. R-squared:                 -0.000\n",
       "Vol Model:                            GARCH   Log-Likelihood:           -1.73911e+06\n",
       "Distribution:      Standardized Student's t   AIC:                       3.47823e+06\n",
       "Method:                  Maximum Likelihood   BIC:                       3.47832e+06\n",
       "                                              No. Observations:              2485980\n",
       "Date:                      Sat, Jan 16 2021   Df Residuals:                  2485973\n",
       "Time:                              10:12:02   Df Model:                            7\n",
       "                                  Mean Model                                 \n",
       "=============================================================================\n",
       "                 coef    std err          t      P>|t|       95.0% Conf. Int.\n",
       "-----------------------------------------------------------------------------\n",
       "mu         1.0332e-04  1.558e-04      0.663      0.507 [-2.020e-04,4.086e-04]\n",
       "                              Volatility Model                              \n",
       "============================================================================\n",
       "                 coef    std err          t      P>|t|      95.0% Conf. Int.\n",
       "----------------------------------------------------------------------------\n",
       "omega          0.0173  9.822e-05    176.200      0.000 [1.711e-02,1.750e-02]\n",
       "alpha[1]       0.2000  1.039e-03    192.536      0.000     [  0.198,  0.202]\n",
       "beta[1]        0.2600  6.498e-03     40.014      0.000     [  0.247,  0.273]\n",
       "beta[2]        0.2600  7.523e-03     34.561 9.605e-262     [  0.245,  0.275]\n",
       "beta[3]        0.2600  6.838e-03     38.025      0.000     [  0.247,  0.273]\n",
       "                              Distribution                              \n",
       "========================================================================\n",
       "                 coef    std err          t      P>|t|  95.0% Conf. Int.\n",
       "------------------------------------------------------------------------\n",
       "nu             4.0216  5.852e-03    687.264      0.000 [  4.010,  4.033]\n",
       "========================================================================\n",
       "\n",
       "Covariance estimator: robust\n",
       "\"\"\""
      ]
     },
     "execution_count": 27,
     "metadata": {},
     "output_type": "execute_result"
    }
   ],
   "source": [
    "# a GARCH(1,3) model with Student t distributed errors \n",
    "garch_13_t = arch.arch_model(log_return_series, \n",
    "                        vol='garch', \n",
    "                        p=1, \n",
    "                        o=0, \n",
    "                        q=3, \n",
    "                        dist='StudentsT')\n",
    "garch_13_t_fitted = garch_13_t.fit()\n",
    "garch_13_t_fitted.summary()"
   ]
  },
  {
   "cell_type": "markdown",
   "metadata": {},
   "source": [
    "## With Skewed T Distribution"
   ]
  },
  {
   "cell_type": "code",
   "execution_count": 28,
   "metadata": {
    "ExecuteTime": {
     "end_time": "2021-01-16T18:12:42.948955Z",
     "start_time": "2021-01-16T18:12:15.654012Z"
    }
   },
   "outputs": [
    {
     "name": "stdout",
     "output_type": "stream",
     "text": [
      "Iteration:      1,   Func. Count:      8,   Neg. LLF: 6645890898.9108515\n",
      "Iteration:      2,   Func. Count:     23,   Neg. LLF: 79960789.9672098\n",
      "Iteration:      3,   Func. Count:     35,   Neg. LLF: 228810676.6304806\n",
      "Iteration:      4,   Func. Count:     51,   Neg. LLF: 199595838.17183885\n",
      "Iteration:      5,   Func. Count:     64,   Neg. LLF: 1735176.5985001575\n",
      "Optimization terminated successfully    (Exit mode 0)\n",
      "            Current function value: 1735176.5986928972\n",
      "            Iterations: 9\n",
      "            Function evaluations: 64\n",
      "            Gradient evaluations: 5\n"
     ]
    },
    {
     "data": {
      "text/html": [
       "<table class=\"simpletable\">\n",
       "<caption>Constant Mean - GARCH Model Results</caption>\n",
       "<tr>\n",
       "  <th>Dep. Variable:</th>        <td>eth/usd return</td>         <th>  R-squared:         </th>   <td>  -0.000</td>  \n",
       "</tr>\n",
       "<tr>\n",
       "  <th>Mean Model:</th>            <td>Constant Mean</td>         <th>  Adj. R-squared:    </th>   <td>  -0.000</td>  \n",
       "</tr>\n",
       "<tr>\n",
       "  <th>Vol Model:</th>                 <td>GARCH</td>             <th>  Log-Likelihood:    </th> <td>-1.73518e+06</td>\n",
       "</tr>\n",
       "<tr>\n",
       "  <th>Distribution:</th>  <td>Standardized Skew Student's t</td> <th>  AIC:               </th>  <td>3.47037e+06</td>\n",
       "</tr>\n",
       "<tr>\n",
       "  <th>Method:</th>             <td>Maximum Likelihood</td>       <th>  BIC:               </th>  <td>3.47044e+06</td>\n",
       "</tr>\n",
       "<tr>\n",
       "  <th></th>                             <td></td>                <th>  No. Observations:  </th>    <td>2485980</td>  \n",
       "</tr>\n",
       "<tr>\n",
       "  <th>Date:</th>                <td>Sat, Jan 16 2021</td>        <th>  Df Residuals:      </th>    <td>2485974</td>  \n",
       "</tr>\n",
       "<tr>\n",
       "  <th>Time:</th>                    <td>10:12:29</td>            <th>  Df Model:          </th>       <td>6</td>     \n",
       "</tr>\n",
       "</table>\n",
       "<table class=\"simpletable\">\n",
       "<caption>Mean Model</caption>\n",
       "<tr>\n",
       "   <td></td>     <th>coef</th>     <th>std err</th>      <th>t</th>       <th>P>|t|</th>      <th>95.0% Conf. Int.</th>   \n",
       "</tr>\n",
       "<tr>\n",
       "  <th>mu</th> <td>1.1780e-04</td> <td>2.719e-04</td> <td>    0.433</td> <td>    0.665</td> <td>[-4.150e-04,6.507e-04]</td>\n",
       "</tr>\n",
       "</table>\n",
       "<table class=\"simpletable\">\n",
       "<caption>Volatility Model</caption>\n",
       "<tr>\n",
       "      <td></td>        <th>coef</th>     <th>std err</th>      <th>t</th>     <th>P>|t|</th>   <th>95.0% Conf. Int.</th>   \n",
       "</tr>\n",
       "<tr>\n",
       "  <th>omega</th>    <td>    0.0173</td> <td>1.090e-04</td> <td>  158.715</td> <td>0.000</td> <td>[1.709e-02,1.752e-02]</td>\n",
       "</tr>\n",
       "<tr>\n",
       "  <th>alpha[1]</th> <td>    0.2000</td> <td>9.372e-04</td> <td>  213.392</td> <td>0.000</td>   <td>[  0.198,  0.202]</td>  \n",
       "</tr>\n",
       "<tr>\n",
       "  <th>beta[1]</th>  <td>    0.7800</td> <td>8.571e-04</td> <td>  910.037</td> <td>0.000</td>   <td>[  0.778,  0.782]</td>  \n",
       "</tr>\n",
       "</table>\n",
       "<table class=\"simpletable\">\n",
       "<caption>Distribution</caption>\n",
       "<tr>\n",
       "     <td></td>       <th>coef</th>     <th>std err</th>      <th>t</th>       <th>P>|t|</th>      <th>95.0% Conf. Int.</th>   \n",
       "</tr>\n",
       "<tr>\n",
       "  <th>nu</th>     <td>    4.0216</td> <td>6.907e-03</td> <td>  582.272</td>   <td>0.000</td>      <td>[  4.008,  4.035]</td>  \n",
       "</tr>\n",
       "<tr>\n",
       "  <th>lambda</th> <td>1.0380e-05</td> <td>6.116e-04</td> <td>1.697e-02</td> <td>    0.986</td> <td>[-1.188e-03,1.209e-03]</td>\n",
       "</tr>\n",
       "</table><br/><br/>Covariance estimator: robust"
      ],
      "text/plain": [
       "<class 'statsmodels.iolib.summary.Summary'>\n",
       "\"\"\"\n",
       "                           Constant Mean - GARCH Model Results                           \n",
       "=========================================================================================\n",
       "Dep. Variable:                    eth/usd return   R-squared:                      -0.000\n",
       "Mean Model:                        Constant Mean   Adj. R-squared:                 -0.000\n",
       "Vol Model:                                 GARCH   Log-Likelihood:           -1.73518e+06\n",
       "Distribution:      Standardized Skew Student's t   AIC:                       3.47037e+06\n",
       "Method:                       Maximum Likelihood   BIC:                       3.47044e+06\n",
       "                                                   No. Observations:              2485980\n",
       "Date:                           Sat, Jan 16 2021   Df Residuals:                  2485974\n",
       "Time:                                   10:12:29   Df Model:                            6\n",
       "                                  Mean Model                                 \n",
       "=============================================================================\n",
       "                 coef    std err          t      P>|t|       95.0% Conf. Int.\n",
       "-----------------------------------------------------------------------------\n",
       "mu         1.1780e-04  2.719e-04      0.433      0.665 [-4.150e-04,6.507e-04]\n",
       "                              Volatility Model                              \n",
       "============================================================================\n",
       "                 coef    std err          t      P>|t|      95.0% Conf. Int.\n",
       "----------------------------------------------------------------------------\n",
       "omega          0.0173  1.090e-04    158.715      0.000 [1.709e-02,1.752e-02]\n",
       "alpha[1]       0.2000  9.372e-04    213.392      0.000     [  0.198,  0.202]\n",
       "beta[1]        0.7800  8.571e-04    910.037      0.000     [  0.778,  0.782]\n",
       "                                 Distribution                                \n",
       "=============================================================================\n",
       "                 coef    std err          t      P>|t|       95.0% Conf. Int.\n",
       "-----------------------------------------------------------------------------\n",
       "nu             4.0216  6.907e-03    582.272      0.000      [  4.008,  4.035]\n",
       "lambda     1.0380e-05  6.116e-04  1.697e-02      0.986 [-1.188e-03,1.209e-03]\n",
       "=============================================================================\n",
       "\n",
       "Covariance estimator: robust\n",
       "\"\"\""
      ]
     },
     "execution_count": 28,
     "metadata": {},
     "output_type": "execute_result"
    }
   ],
   "source": [
    "# a GARCH(1,1) model with Student t distributed errors \n",
    "garch_11_skewt = \\\n",
    "    arch.arch_model(log_return_series, \n",
    "                    vol='garch', \n",
    "                    p=1, \n",
    "                    o=0, \n",
    "                    q=1, \n",
    "                    dist='skewt'\n",
    "                   )\n",
    "garch_11_skewt_fitted = garch_11_skewt.fit()\n",
    "garch_11_skewt_fitted.summary()"
   ]
  },
  {
   "cell_type": "code",
   "execution_count": 29,
   "metadata": {
    "ExecuteTime": {
     "end_time": "2021-01-16T18:12:43.729206Z",
     "start_time": "2021-01-16T18:12:42.951064Z"
    }
   },
   "outputs": [],
   "source": [
    "bootstrap_log_returns = \\\n",
    "    stationary_bootstrap(x=log_return_series.values, \n",
    "                         block_length=24 * 60 * 60 / 15, \n",
    "                         replications=10)"
   ]
  },
  {
   "cell_type": "code",
   "execution_count": 30,
   "metadata": {
    "ExecuteTime": {
     "end_time": "2021-01-16T18:12:43.776061Z",
     "start_time": "2021-01-16T18:12:43.731117Z"
    }
   },
   "outputs": [
    {
     "data": {
      "text/plain": [
       "(10, 2485980)"
      ]
     },
     "execution_count": 30,
     "metadata": {},
     "output_type": "execute_result"
    }
   ],
   "source": [
    "bootstrap_log_returns.shape"
   ]
  },
  {
   "cell_type": "code",
   "execution_count": 31,
   "metadata": {
    "ExecuteTime": {
     "end_time": "2021-01-16T18:12:43.877200Z",
     "start_time": "2021-01-16T18:12:43.778378Z"
    }
   },
   "outputs": [
    {
     "data": {
      "text/plain": [
       "array([  15000,   30000,   45000,   60000,   75000,   90000,  105000,\n",
       "        120000,  135000,  150000,  165000,  180000,  195000,  210000,\n",
       "        240000,  285000,  315000,  330000,  375000,  390000,  420000,\n",
       "        540000,  555000,  630000,  765000,  795000,  870000, 1050000,\n",
       "       1230000, 1245000, 4335000])"
      ]
     },
     "execution_count": 31,
     "metadata": {},
     "output_type": "execute_result"
    }
   ],
   "source": [
    "np.unique(np.diff(df.index.values))"
   ]
  },
  {
   "cell_type": "code",
   "execution_count": 32,
   "metadata": {
    "ExecuteTime": {
     "end_time": "2021-01-16T18:12:43.932966Z",
     "start_time": "2021-01-16T18:12:43.879518Z"
    }
   },
   "outputs": [
    {
     "data": {
      "text/plain": [
       "759"
      ]
     },
     "execution_count": 32,
     "metadata": {},
     "output_type": "execute_result"
    }
   ],
   "source": [
    "(np.diff(df.index.values) != 15000).sum()"
   ]
  },
  {
   "cell_type": "code",
   "execution_count": 33,
   "metadata": {
    "ExecuteTime": {
     "end_time": "2021-01-16T18:12:44.167684Z",
     "start_time": "2021-01-16T18:12:43.934761Z"
    }
   },
   "outputs": [
    {
     "data": {
      "text/plain": [
       "(array([2.485969e+06, 6.000000e+00, 4.000000e+00, 0.000000e+00,\n",
       "        0.000000e+00, 0.000000e+00, 0.000000e+00, 0.000000e+00,\n",
       "        0.000000e+00, 1.000000e+00]),\n",
       " array([  15000.,  447000.,  879000., 1311000., 1743000., 2175000.,\n",
       "        2607000., 3039000., 3471000., 3903000., 4335000.]),\n",
       " <BarContainer object of 10 artists>)"
      ]
     },
     "execution_count": 33,
     "metadata": {},
     "output_type": "execute_result"
    },
    {
     "data": {
      "image/png": "[encoded data removed]",
      "text/plain": [
       "<Figure size 432x288 with 1 Axes>"
      ]
     },
     "metadata": {
      "needs_background": "light"
     },
     "output_type": "display_data"
    }
   ],
   "source": [
    "plt.hist(np.diff(df.index.values))"
   ]
  },
  {
   "cell_type": "code",
   "execution_count": 34,
   "metadata": {
    "ExecuteTime": {
     "end_time": "2021-01-16T18:12:44.214064Z",
     "start_time": "2021-01-16T18:12:44.170032Z"
    }
   },
   "outputs": [
    {
     "data": {
      "text/plain": [
       "2485981"
      ]
     },
     "execution_count": 34,
     "metadata": {},
     "output_type": "execute_result"
    }
   ],
   "source": [
    "len(df)"
   ]
  },
  {
   "cell_type": "code",
   "execution_count": null,
   "metadata": {},
   "outputs": [],
   "source": []
  }
 ],
 "metadata": {
  "kernelspec": {
   "display_name": "Python 3",
   "language": "python",
   "name": "python3"
  },
  "language_info": {
   "codemirror_mode": {
    "name": "ipython",
    "version": 3
   },
   "file_extension": ".py",
   "mimetype": "text/x-python",
   "name": "python",
   "nbconvert_exporter": "python",
   "pygments_lexer": "ipython3",
   "version": "3.8.5"
  },
  "toc": {
   "base_numbering": 1,
   "nav_menu": {},
   "number_sections": true,
   "sideBar": true,
   "skip_h1_title": false,
   "title_cell": "Table of Contents",
   "title_sidebar": "Contents",
   "toc_cell": false,
   "toc_position": {
    "height": "calc(100% - 180px)",
    "left": "10px",
    "top": "150px",
    "width": "266.3999938964844px"
   },
   "toc_section_display": true,
   "toc_window_display": true
  }
 },
 "nbformat": 4,
 "nbformat_minor": 4
}
