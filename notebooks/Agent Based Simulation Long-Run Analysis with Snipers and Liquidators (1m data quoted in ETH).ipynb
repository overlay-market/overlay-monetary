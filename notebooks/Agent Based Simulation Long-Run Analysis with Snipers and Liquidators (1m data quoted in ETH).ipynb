{
 "cells": [
  {
   "cell_type": "markdown",
   "metadata": {},
   "source": [
    "# Import Packages"
   ]
  },
  {
   "cell_type": "code",
   "execution_count": 1,
   "metadata": {
    "ExecuteTime": {
     "end_time": "2021-01-29T19:45:28.307755Z",
     "start_time": "2021-01-29T19:45:28.285285Z"
    }
   },
   "outputs": [],
   "source": [
    "%load_ext autoreload\n",
    "%autoreload 2"
   ]
  },
  {
   "cell_type": "code",
   "execution_count": 2,
   "metadata": {
    "ExecuteTime": {
     "end_time": "2021-01-29T19:45:29.829321Z",
     "start_time": "2021-01-29T19:45:28.309682Z"
    }
   },
   "outputs": [
    {
     "name": "stdout",
     "output_type": "stream",
     "text": [
      "environment variable OVERLAY_MONETARY_INPUT_BASE_PATH not set defaulting to /home/michael/PycharmProjects/overlay-monetary\n",
      "environment variable OVERLAY_MONETARY_INPUT_BASE_PATH not set defaulting to /home/michael/PycharmProjects/overlay-monetary\n"
     ]
    }
   ],
   "source": [
    "from ovm.monetary.model import MonetaryModel\n",
    "\n",
    "import logging\n",
    "import os\n",
    "import random\n",
    "import typing as tp\n",
    "\n",
    "import line_profiler\n",
    "import matplotlib.pyplot as plt\n",
    "%matplotlib inline\n",
    "# %matplotlib notebook\n",
    "# %matplotlib widget\n",
    "from mesa.datacollection import DataCollector\n",
    "from mesa.visualization.ModularVisualization import ModularServer\n",
    "from mesa.visualization.modules import ChartModule\n",
    "import numpy as np\n",
    "import pandas as pd\n",
    "import chart_studio.plotly as py\n",
    "import plotly.express as px\n",
    "import plotly.graph_objs as go\n",
    "import seaborn as sns\n",
    "from tqdm import tqdm\n",
    "\n",
    "from ovm.monetary.agents import (\n",
    "    MonetaryAgent, \n",
    "    MonetaryArbitrageur, \n",
    "    MonetaryKeeper, \n",
    "    MonetaryLiquidator, \n",
    "    MonetarySniper\n",
    ")\n",
    "\n",
    "from ovm.monetary.markets import MonetaryFMarket\n",
    "from ovm.monetary.model import MonetaryModel\n",
    "from ovm.monetary.data_collection import DataCollectionOptions\n",
    "from ovm.monetary.plot_labels import (\n",
    "    price_deviation_label,\n",
    "    spot_price_label,\n",
    "    futures_price_label,\n",
    "    skew_label,\n",
    "    inventory_wealth_ovl_label,\n",
    "    inventory_wealth_usd_label,\n",
    "    GINI_LABEL,\n",
    "    GINI_ARBITRAGEURS_LABEL,\n",
    "    SUPPLY_LABEL,\n",
    "    TREASURY_LABEL,\n",
    "    LIQUIDITY_LABEL, \n",
    ")\n",
    "\n",
    "from ovm.monetary.plots import (\n",
    "    DEFAULT_FIGURE_SIZE, \n",
    "    convert_time_in_seconds_to_index, \n",
    "    convert_time_interval_in_seconds_to_indices, \n",
    "    construct_full_time_axis, \n",
    "    construct_time_axis, \n",
    "    get_indices_and_time_axis_to_plot, \n",
    "    plot_multiple_variables_over_time, \n",
    "    plot_price_deviations, \n",
    "    plot_skews, \n",
    "    plot_single_variable_over_time, \n",
    "    plot_single_variable_over_time_from_numpy_array, \n",
    "    plot_supply, \n",
    "    plot_treasury, \n",
    "    plot_liquidity, \n",
    "    plot_spot_vs_futures_price, \n",
    "    plot_open_positions\n",
    ")\n",
    "\n",
    "from ovm.monetary.reporters import * \n",
    "from ovm.monetary.data_io import (\n",
    "    construct_sims_map, \n",
    "    construct_ticker_to_series_of_prices_map_from_simulated_prices, \n",
    "    construct_ticker_to_series_of_prices_map_from_historical_prices, \n",
    "    load_and_construct_ticker_to_series_of_prices_map_from_historical_prices\n",
    ")\n",
    "\n",
    "from ovm.paths import (\n",
    "    HistoricalDataSource, \n",
    "    construct_historical_data_directory\n",
    ")\n",
    "\n",
    "from ovm.simulation.bootstrap import plot_multivariate_simulation\n",
    "from ovm.simulation.resampling import (\n",
    "    load_log_returns,\n",
    "    simulate_new_price_series_via_bootstrap,\n",
    "    store_simulated_price_series_in_output_directory\n",
    ")\n",
    "\n",
    "from ovm.tickers import (\n",
    "    ETH_USD_TICKER,\n",
    "    COMP_USD_TICKER,\n",
    "    LINK_USD_TICKER,\n",
    "    YFI_USD_TICKER,\n",
    "    EOS_ETH_TICKER,\n",
    "    MKR_ETH_TICKER,\n",
    "    SNX_ETH_TICKER,\n",
    "    TRX_ETH_TICKER,\n",
    "    XRP_ETH_TICKER,\n",
    "    ETH_TICKER,\n",
    "    USD_TICKER,\n",
    "    get_ovl_quote_ticker,\n",
    ")\n",
    "\n",
    "from ovm.time_resolution import (\n",
    "    TimeResolution, \n",
    "    TimeScale\n",
    ")"
   ]
  },
  {
   "cell_type": "code",
   "execution_count": 3,
   "metadata": {
    "ExecuteTime": {
     "end_time": "2021-01-29T19:45:29.869431Z",
     "start_time": "2021-01-29T19:45:29.831636Z"
    }
   },
   "outputs": [
    {
     "data": {
      "text/plain": [
       "0"
      ]
     },
     "execution_count": 3,
     "metadata": {},
     "output_type": "execute_result"
    }
   ],
   "source": [
    "logger = logging.getLogger(__name__)\n",
    "logger.level"
   ]
  },
  {
   "cell_type": "code",
   "execution_count": 4,
   "metadata": {
    "ExecuteTime": {
     "end_time": "2021-01-29T19:45:29.914615Z",
     "start_time": "2021-01-29T19:45:29.872323Z"
    }
   },
   "outputs": [
    {
     "data": {
      "text/plain": [
       "'WARNING'"
      ]
     },
     "execution_count": 4,
     "metadata": {},
     "output_type": "execute_result"
    }
   ],
   "source": [
    "logging.getLevelName(logging.root.level)"
   ]
  },
  {
   "cell_type": "code",
   "execution_count": 5,
   "metadata": {
    "ExecuteTime": {
     "end_time": "2021-01-29T19:45:29.961204Z",
     "start_time": "2021-01-29T19:45:29.916454Z"
    }
   },
   "outputs": [
    {
     "data": {
      "text/plain": [
       "30"
      ]
     },
     "execution_count": 5,
     "metadata": {},
     "output_type": "execute_result"
    }
   ],
   "source": [
    "logging.root.level"
   ]
  },
  {
   "cell_type": "code",
   "execution_count": 6,
   "metadata": {
    "ExecuteTime": {
     "end_time": "2021-01-29T19:45:30.008107Z",
     "start_time": "2021-01-29T19:45:29.963489Z"
    }
   },
   "outputs": [],
   "source": [
    "%load_ext line_profiler"
   ]
  },
  {
   "cell_type": "markdown",
   "metadata": {},
   "source": [
    "# Set Parameters"
   ]
  },
  {
   "cell_type": "code",
   "execution_count": 7,
   "metadata": {
    "ExecuteTime": {
     "end_time": "2021-01-29T19:45:30.056438Z",
     "start_time": "2021-01-29T19:45:30.010625Z"
    }
   },
   "outputs": [
    {
     "name": "stdout",
     "output_type": "stream",
     "text": [
      "number_of_steps_to_simulate=10080\n"
     ]
    },
    {
     "data": {
      "text/plain": [
       "['EOS-ETH', 'MKR-ETH', 'OVL-ETH', 'XRP-ETH']"
      ]
     },
     "execution_count": 7,
     "metadata": {},
     "output_type": "execute_result"
    }
   ],
   "source": [
    "time_resolution = TimeResolution.ONE_MINUTE\n",
    "\n",
    "# # run agent based simulations for 24 hours\n",
    "# number_of_steps_to_simulate = \\\n",
    "#     time_resolution.convert_time_in_days_to_number_of_steps(1.0)\n",
    "\n",
    "# run agent based simulations for 7 days\n",
    "number_of_steps_to_simulate = \\\n",
    "    time_resolution.convert_time_in_days_to_number_of_steps(7.0)\n",
    "\n",
    "# # run agent based simulations for 2 years\n",
    "# number_of_steps_to_simulate = \\\n",
    "#     time_resolution.convert_time_in_years_to_number_of_steps(2.0)\n",
    "\n",
    "print(f'number_of_steps_to_simulate={number_of_steps_to_simulate}')\n",
    "historical_data_source = HistoricalDataSource.KUCOIN\n",
    "\n",
    "directory_path = \\\n",
    "    construct_historical_data_directory(\n",
    "        historical_data_source=historical_data_source, \n",
    "        time_resolution=time_resolution)\n",
    "\n",
    "numpy_seed = 42\n",
    "\n",
    "tickers = [EOS_ETH_TICKER,\n",
    "           MKR_ETH_TICKER,\n",
    "           SNX_ETH_TICKER,\n",
    "           XRP_ETH_TICKER]\n",
    "\n",
    "ovl_ticker = SNX_ETH_TICKER  # for sim source, since OVL doesn't actually exist yet\n",
    "quote_ticker = ETH_TICKER\n",
    "ovl_quote_ticker = get_ovl_quote_ticker(quote_ticker)\n",
    "\n",
    "\n",
    "tickers_with_ovl = [ovl_quote_ticker if ticker == ovl_ticker else ticker for ticker in tickers]\n",
    "tickers_with_ovl"
   ]
  },
  {
   "cell_type": "markdown",
   "metadata": {},
   "source": [
    "# Load Historical Price Data and Resample"
   ]
  },
  {
   "cell_type": "code",
   "execution_count": 8,
   "metadata": {
    "ExecuteTime": {
     "end_time": "2021-01-29T19:45:31.336926Z",
     "start_time": "2021-01-29T19:45:30.060283Z"
    }
   },
   "outputs": [
    {
     "data": {
      "text/plain": [
       "(1013821, 4)"
      ]
     },
     "execution_count": 8,
     "metadata": {},
     "output_type": "execute_result"
    }
   ],
   "source": [
    "log_return_df, closing_price_df, initial_prices = \\\n",
    "    load_log_returns(series_names=tickers,\n",
    "                     period_length_in_seconds=time_resolution.in_seconds,\n",
    "                     directory_path=directory_path)\n",
    "log_return_df.shape"
   ]
  },
  {
   "cell_type": "code",
   "execution_count": 9,
   "metadata": {
    "ExecuteTime": {
     "end_time": "2021-01-29T19:45:31.969789Z",
     "start_time": "2021-01-29T19:45:31.340028Z"
    }
   },
   "outputs": [
    {
     "data": {
      "text/plain": [
       "(1, 2629800, 4)"
      ]
     },
     "execution_count": 9,
     "metadata": {},
     "output_type": "execute_result"
    }
   ],
   "source": [
    "simulated_sample_length_in_seconds = \\\n",
    "    5 * 365.25 * 24 * 60 * 60\n",
    "\n",
    "# simulated_sample_length_in_seconds = log_return_df.shape[0] * time_resolution.in_seconds\n",
    "np.random.seed(numpy_seed)\n",
    "\n",
    "simulated_prices = \\\n",
    "    simulate_new_price_series_via_bootstrap(\n",
    "        initial_prices=initial_prices,\n",
    "        input_log_return_df=log_return_df,\n",
    "        time_resolution=time_resolution,\n",
    "        block_length_in_seconds=4 * 24 * 60 * 60,  # 4 day block length\n",
    "        simulated_sample_length_in_steps_in_seconds=simulated_sample_length_in_seconds,\n",
    "            number_of_paths=1)\n",
    "simulated_prices.shape"
   ]
  },
  {
   "cell_type": "code",
   "execution_count": 10,
   "metadata": {
    "ExecuteTime": {
     "end_time": "2021-01-29T19:45:32.053960Z",
     "start_time": "2021-01-29T19:45:31.971373Z"
    }
   },
   "outputs": [],
   "source": [
    "simulated_cumulative_returns = simulated_prices / simulated_prices[0, 0, :] - 1.0"
   ]
  },
  {
   "cell_type": "code",
   "execution_count": 11,
   "metadata": {
    "ExecuteTime": {
     "end_time": "2021-01-29T19:45:33.607946Z",
     "start_time": "2021-01-29T19:45:32.055777Z"
    }
   },
   "outputs": [
    {
     "data": {
      "image/png": "[encoded data removed]",
      "text/plain": [
       "<Figure size 1152x648 with 4 Axes>"
      ]
     },
     "metadata": {
      "needs_background": "light"
     },
     "output_type": "display_data"
    }
   ],
   "source": [
    "plot_multivariate_simulation(simulated_data=simulated_cumulative_returns,\n",
    "                             series_names=tickers, \n",
    "                             time_resolution=time_resolution, \n",
    "                             title='Cumulative Returns')"
   ]
  },
  {
   "cell_type": "code",
   "execution_count": 12,
   "metadata": {
    "ExecuteTime": {
     "end_time": "2021-01-29T19:45:35.161110Z",
     "start_time": "2021-01-29T19:45:33.609871Z"
    }
   },
   "outputs": [
    {
     "data": {
      "image/png": "[encoded data removed]",
      "text/plain": [
       "<Figure size 1152x648 with 4 Axes>"
      ]
     },
     "metadata": {
      "needs_background": "light"
     },
     "output_type": "display_data"
    }
   ],
   "source": [
    "plot_multivariate_simulation(simulated_data=simulated_prices,\n",
    "                             series_names=tickers, \n",
    "                             time_resolution=time_resolution, \n",
    "                             title='Exchange Rates')"
   ]
  },
  {
   "cell_type": "code",
   "execution_count": 13,
   "metadata": {
    "ExecuteTime": {
     "end_time": "2021-01-29T19:45:35.201034Z",
     "start_time": "2021-01-29T19:45:35.162910Z"
    }
   },
   "outputs": [],
   "source": [
    "# ticker_to_time_series_of_prices_map = \\\n",
    "#     construct_ticker_to_series_of_prices_map_from_simulated_prices(simulated_prices=simulated_prices, \n",
    "#                                                                    tickers=tickers_with_ovl)"
   ]
  },
  {
   "cell_type": "code",
   "execution_count": 14,
   "metadata": {
    "ExecuteTime": {
     "end_time": "2021-01-29T19:45:35.243787Z",
     "start_time": "2021-01-29T19:45:35.202760Z"
    }
   },
   "outputs": [],
   "source": [
    "# ticker_to_time_series_of_prices_map"
   ]
  },
  {
   "cell_type": "code",
   "execution_count": 15,
   "metadata": {
    "ExecuteTime": {
     "end_time": "2021-01-29T19:45:35.288202Z",
     "start_time": "2021-01-29T19:45:35.246331Z"
    }
   },
   "outputs": [],
   "source": [
    "# def construct_ticker_to_series_of_prices_map_from_historical_prices(\n",
    "#         historical_price_df: pd.DataFrame, \n",
    "#         tickers: tp.Sequence[str], \n",
    "#         ovl_ticker: str, \n",
    "#         ovl_quote_ticker: str) -> tp.Dict[str, np.ndarray]:\n",
    "    \n",
    "#     result = {ovl_quote_ticker if ticker == ovl_ticker else ticker: historical_price_df.loc[:, ticker].values \n",
    "#               for ticker \n",
    "#               in tickers}\n",
    "    \n",
    "#     return result"
   ]
  },
  {
   "cell_type": "code",
   "execution_count": 16,
   "metadata": {
    "ExecuteTime": {
     "end_time": "2021-01-29T19:45:35.332779Z",
     "start_time": "2021-01-29T19:45:35.289876Z"
    }
   },
   "outputs": [],
   "source": [
    "# ticker_to_time_series_of_prices_map = \\\n",
    "#     construct_ticker_to_series_of_prices_map_from_historical_prices(\n",
    "#         historical_price_df=closing_price_df, \n",
    "#         tickers=tickers, \n",
    "#         ovl_ticker=OVL_TICKER, \n",
    "#         ovl_quote_ticker=OVL_QUOTE_TICKER)"
   ]
  },
  {
   "cell_type": "code",
   "execution_count": 17,
   "metadata": {
    "ExecuteTime": {
     "end_time": "2021-01-29T19:45:36.383659Z",
     "start_time": "2021-01-29T19:45:35.334919Z"
    }
   },
   "outputs": [],
   "source": [
    "ticker_to_time_series_of_prices_map = \\\n",
    "    load_and_construct_ticker_to_series_of_prices_map_from_historical_prices(\n",
    "        time_resolution=time_resolution,\n",
    "        historical_data_source=historical_data_source,\n",
    "        tickers=tickers,\n",
    "        ovl_ticker=ovl_ticker,\n",
    "        ovl_quote_ticker=ovl_quote_ticker)"
   ]
  },
  {
   "cell_type": "code",
   "execution_count": 18,
   "metadata": {
    "ExecuteTime": {
     "end_time": "2021-01-29T19:45:36.426484Z",
     "start_time": "2021-01-29T19:45:36.385922Z"
    }
   },
   "outputs": [
    {
     "data": {
      "text/plain": [
       "dict_keys(['EOS-ETH', 'MKR-ETH', 'OVL-ETH', 'XRP-ETH'])"
      ]
     },
     "execution_count": 18,
     "metadata": {},
     "output_type": "execute_result"
    }
   ],
   "source": [
    "ticker_to_time_series_of_prices_map.keys()"
   ]
  },
  {
   "cell_type": "markdown",
   "metadata": {},
   "source": [
    "# Load Resampled Data"
   ]
  },
  {
   "cell_type": "markdown",
   "metadata": {},
   "source": [
    "# Construct Agent Based Monetary Model"
   ]
  },
  {
   "cell_type": "code",
   "execution_count": 19,
   "metadata": {
    "ExecuteTime": {
     "end_time": "2021-01-29T19:45:36.518110Z",
     "start_time": "2021-01-29T19:45:36.428722Z"
    }
   },
   "outputs": [
    {
     "name": "stdout",
     "output_type": "stream",
     "text": [
      "Model kwargs for initial conditions of sim:\n",
      "num_arbitrageurs = 50\n",
      "num_snipers = 50\n",
      "num_keepers = 5\n",
      "num_traders = 0\n",
      "num_holders = 0\n",
      "num_liquidators = 20\n",
      "total number of agents = 125\n",
      "base_wealth = 100.0\n"
     ]
    }
   ],
   "source": [
    "# Constants\n",
    "STEPS_MONTH = int((86400*30)/time_resolution.in_seconds)\n",
    "\n",
    "total_supply = 100000  # OVL\n",
    "# base_wealth = 0.0002*100000  # OVL\n",
    "base_wealth = 0.001*100000  # OVL\n",
    "base_market_fee = 0.0030\n",
    "base_max_leverage = 10.0\n",
    "base_liquidate_reward = 0.1\n",
    "base_maintenance = 0.6\n",
    "liquidity = 0.285*total_supply\n",
    "time_liquidity_mine = STEPS_MONTH\n",
    "treasury = 0.0\n",
    "sampling_interval = int(3600/time_resolution.in_seconds)\n",
    "\n",
    "# num_arbitrageurs = min(int(total_supply*0.1/base_wealth), 100)\n",
    "num_arbitrageurs = min(int(total_supply*0.1/base_wealth), 50)\n",
    "num_keepers = int(total_supply*0.005/base_wealth)\n",
    "# num_traders = int(total_supply*0.005/base_wealth)\n",
    "num_traders = 0\n",
    "# num_holders = int(total_supply*0.5/base_wealth)\n",
    "num_holders = 0\n",
    "# num_snipers = min(int(total_supply*0.1/base_wealth), 100)\n",
    "num_snipers = min(int(total_supply*0.1/base_wealth), 50)\n",
    "# num_liquidators = int(total_supply*0.005/base_wealth)\n",
    "num_liquidators = 4 * (len(tickers) + 1)\n",
    "num_agents = num_arbitrageurs + num_keepers + \\\n",
    "    num_traders + num_holders + num_snipers + num_liquidators\n",
    "\n",
    "DATA_COLLECTOR_NAME = 'data_collector'\n",
    "data_collection_options = \\\n",
    "    DataCollectionOptions(compute_gini_coefficient=False,\n",
    "                          compute_wealth=False,\n",
    "                          compute_inventory_wealth=False, \n",
    "                          use_hdf5=True)\n",
    "\n",
    "# For the first 30 days, emit until reach 100% of total supply; ONLY USE IN LIQUDITIY FOR NOW JUST AS TEST!\n",
    "liquidity_supply_emission = [(0.51*total_supply/time_liquidity_mine)*i + 0.285*total_supply\n",
    "                             for i\n",
    "                             in range(time_liquidity_mine)]\n",
    "\n",
    "monetary_model = \\\n",
    "    MonetaryModel(num_arbitrageurs=num_arbitrageurs, \n",
    "                  num_keepers=num_keepers, \n",
    "                  num_traders=num_traders, \n",
    "                  num_holders=num_holders, \n",
    "                  num_snipers=num_snipers, \n",
    "                  num_liquidators=num_liquidators, \n",
    "                  base_maintenance=base_maintenance, \n",
    "                  base_liquidate_reward=base_liquidate_reward, \n",
    "                  sims=ticker_to_time_series_of_prices_map, \n",
    "                  base_wealth=base_wealth, \n",
    "                  base_market_fee=base_market_fee, \n",
    "                  base_max_leverage=base_max_leverage, \n",
    "                  liquidity=liquidity, \n",
    "                  liquidity_supply_emission=liquidity_supply_emission, \n",
    "                  treasury=treasury, \n",
    "                  sampling_interval=sampling_interval, \n",
    "                  data_collection_options=data_collection_options, \n",
    "                  quote_ticker=quote_ticker, \n",
    "                  ovl_quote_ticker=ovl_quote_ticker, \n",
    "                  time_resolution=time_resolution, \n",
    "                  seed=0)\n",
    "\n",
    "print(\"Model kwargs for initial conditions of sim:\")\n",
    "print(f\"num_arbitrageurs = {num_arbitrageurs}\")\n",
    "print(f\"num_snipers = {num_snipers}\")\n",
    "print(f\"num_keepers = {num_keepers}\")\n",
    "print(f\"num_traders = {num_traders}\")\n",
    "print(f\"num_holders = {num_holders}\")\n",
    "print(f\"num_liquidators = {num_liquidators}\")\n",
    "print(f\"total number of agents = {num_agents}\")\n",
    "print(f\"base_wealth = {base_wealth}\")"
   ]
  },
  {
   "cell_type": "markdown",
   "metadata": {},
   "source": [
    "Drastically reduced the number of traders and holders to bring down the memory requirement for storing agent wealth (with the original numbers it would have been 7500 agents total). This would exceed the 128GB mem of my machine with 200000 steps"
   ]
  },
  {
   "cell_type": "markdown",
   "metadata": {},
   "source": [
    "# Run Simulation"
   ]
  },
  {
   "cell_type": "code",
   "execution_count": 20,
   "metadata": {
    "ExecuteTime": {
     "end_time": "2021-01-29T19:45:36.563805Z",
     "start_time": "2021-01-29T19:45:36.520230Z"
    }
   },
   "outputs": [],
   "source": [
    "# def run_model(number_of_steps_to_simulate: int, use_tqdm: bool = True):\n",
    "#     run_range = range(number_of_steps_to_simulate + 1)\n",
    "#     if use_tqdm:\n",
    "#         run_range = tqdm(run_range)\n",
    "\n",
    "#     try: \n",
    "#         for i in run_range:\n",
    "#             monetary_model.step()\n",
    "#     finally:\n",
    "#         print('end')\n"
   ]
  },
  {
   "cell_type": "code",
   "execution_count": 21,
   "metadata": {
    "ExecuteTime": {
     "end_time": "2021-01-29T19:45:36.604206Z",
     "start_time": "2021-01-29T19:45:36.565791Z"
    }
   },
   "outputs": [],
   "source": [
    "# number_of_steps_to_simulate = 1000"
   ]
  },
  {
   "cell_type": "code",
   "execution_count": 22,
   "metadata": {
    "ExecuteTime": {
     "end_time": "2021-01-29T19:45:36.645987Z",
     "start_time": "2021-01-29T19:45:36.606020Z"
    }
   },
   "outputs": [
    {
     "data": {
      "text/plain": [
       "10080"
      ]
     },
     "execution_count": 22,
     "metadata": {},
     "output_type": "execute_result"
    }
   ],
   "source": [
    "number_of_steps_to_simulate"
   ]
  },
  {
   "cell_type": "code",
   "execution_count": 23,
   "metadata": {
    "ExecuteTime": {
     "end_time": "2021-01-29T19:45:50.464194Z",
     "start_time": "2021-01-29T19:45:36.652260Z"
    },
    "scrolled": false
   },
   "outputs": [
    {
     "name": "stderr",
     "output_type": "stream",
     "text": [
      "100%|██████████| 10081/10081 [00:11<00:00, 879.63it/s] \n"
     ]
    }
   ],
   "source": [
    "monetary_model.run_steps(number_of_steps_to_simulate, use_tqdm=True)"
   ]
  },
  {
   "cell_type": "code",
   "execution_count": 24,
   "metadata": {
    "ExecuteTime": {
     "end_time": "2021-01-29T19:45:50.508626Z",
     "start_time": "2021-01-29T19:45:50.467678Z"
    }
   },
   "outputs": [
    {
     "name": "stdout",
     "output_type": "stream",
     "text": [
      "open positions on EOS-ETH = 1\n",
      "open positions on MKR-ETH = 0\n",
      "open positions on OVL-ETH = 18\n",
      "open positions on XRP-ETH = 16\n"
     ]
    }
   ],
   "source": [
    "for market_name, market in monetary_model.fmarkets.items():\n",
    "    print(f'open positions on {market_name} = {len(market.positions)}')"
   ]
  },
  {
   "cell_type": "code",
   "execution_count": 25,
   "metadata": {
    "ExecuteTime": {
     "end_time": "2021-01-29T19:45:51.042070Z",
     "start_time": "2021-01-29T19:45:50.510757Z"
    }
   },
   "outputs": [
    {
     "name": "stderr",
     "output_type": "stream",
     "text": [
      "100%|██████████| 501/501 [00:00<00:00, 1124.12it/s]\n"
     ]
    }
   ],
   "source": [
    "monetary_model.run_steps(500, use_tqdm=True)"
   ]
  },
  {
   "cell_type": "code",
   "execution_count": 26,
   "metadata": {
    "ExecuteTime": {
     "end_time": "2021-01-29T19:45:51.078503Z",
     "start_time": "2021-01-29T19:45:51.044454Z"
    }
   },
   "outputs": [],
   "source": [
    "# hdf5_model_variables = monetary_model.data_collector.hdf5_file.get('MODEL_VARIABLES')"
   ]
  },
  {
   "cell_type": "code",
   "execution_count": 27,
   "metadata": {
    "ExecuteTime": {
     "end_time": "2021-01-29T19:45:51.116593Z",
     "start_time": "2021-01-29T19:45:51.080225Z"
    }
   },
   "outputs": [],
   "source": [
    "# [len(dataset) for name, dataset in hdf5_model_variables.items()]"
   ]
  },
  {
   "cell_type": "code",
   "execution_count": 28,
   "metadata": {
    "ExecuteTime": {
     "end_time": "2021-01-29T19:45:51.155493Z",
     "start_time": "2021-01-29T19:45:51.118389Z"
    }
   },
   "outputs": [],
   "source": [
    "# df = pd.DataFrame({name: np.array(dataset) for name, dataset in hdf5_model_variables.items()})\n",
    "# df.tail()"
   ]
  },
  {
   "cell_type": "code",
   "execution_count": 29,
   "metadata": {
    "ExecuteTime": {
     "end_time": "2021-01-29T19:45:51.196362Z",
     "start_time": "2021-01-29T19:45:51.157938Z"
    }
   },
   "outputs": [],
   "source": [
    "# len(df)"
   ]
  },
  {
   "cell_type": "markdown",
   "metadata": {},
   "source": [
    "# Extract Model Variables"
   ]
  },
  {
   "cell_type": "code",
   "execution_count": 30,
   "metadata": {
    "ExecuteTime": {
     "end_time": "2021-01-29T19:45:51.235966Z",
     "start_time": "2021-01-29T19:45:51.198062Z"
    }
   },
   "outputs": [],
   "source": [
    "# monetary_model.data_collector.hdf5_file['d-EOS-ETH']"
   ]
  },
  {
   "cell_type": "code",
   "execution_count": 31,
   "metadata": {
    "ExecuteTime": {
     "end_time": "2021-01-29T19:45:51.275738Z",
     "start_time": "2021-01-29T19:45:51.237756Z"
    }
   },
   "outputs": [],
   "source": [
    "# [dataset.shape for dataset in monetary_model.data_collector._model_reporter_collection.datasets]"
   ]
  },
  {
   "cell_type": "code",
   "execution_count": 32,
   "metadata": {
    "ExecuteTime": {
     "end_time": "2021-01-29T19:45:51.344053Z",
     "start_time": "2021-01-29T19:45:51.277695Z"
    }
   },
   "outputs": [
    {
     "data": {
      "text/html": [
       "<div>\n",
       "<style scoped>\n",
       "    .dataframe tbody tr th:only-of-type {\n",
       "        vertical-align: middle;\n",
       "    }\n",
       "\n",
       "    .dataframe tbody tr th {\n",
       "        vertical-align: top;\n",
       "    }\n",
       "\n",
       "    .dataframe thead th {\n",
       "        text-align: right;\n",
       "    }\n",
       "</style>\n",
       "<table border=\"1\" class=\"dataframe\">\n",
       "  <thead>\n",
       "    <tr style=\"text-align: right;\">\n",
       "      <th></th>\n",
       "      <th>d-EOS-ETH</th>\n",
       "      <th>d-MKR-ETH</th>\n",
       "      <th>d-OVL-ETH</th>\n",
       "      <th>d-XRP-ETH</th>\n",
       "      <th>s-EOS-ETH</th>\n",
       "      <th>s-MKR-ETH</th>\n",
       "      <th>s-OVL-ETH</th>\n",
       "      <th>s-XRP-ETH</th>\n",
       "      <th>f-EOS-ETH</th>\n",
       "      <th>f-MKR-ETH</th>\n",
       "      <th>...</th>\n",
       "      <th>Skew OVL-ETH</th>\n",
       "      <th>Skew XRP-ETH</th>\n",
       "      <th>Number of Open Positions on EOS-ETH</th>\n",
       "      <th>Number of Open Positions on MKR-ETH</th>\n",
       "      <th>Number of Open Positions on OVL-ETH</th>\n",
       "      <th>Number of Open Positions on XRP-ETH</th>\n",
       "      <th>Supply</th>\n",
       "      <th>Treasury</th>\n",
       "      <th>Liquidity</th>\n",
       "      <th>step</th>\n",
       "    </tr>\n",
       "  </thead>\n",
       "  <tbody>\n",
       "    <tr>\n",
       "      <th>0</th>\n",
       "      <td>0.000000</td>\n",
       "      <td>0.000000</td>\n",
       "      <td>0.000000</td>\n",
       "      <td>-1.212483e-16</td>\n",
       "      <td>0.025823</td>\n",
       "      <td>4.100000</td>\n",
       "      <td>0.000636</td>\n",
       "      <td>0.003577</td>\n",
       "      <td>0.025823</td>\n",
       "      <td>4.100000</td>\n",
       "      <td>...</td>\n",
       "      <td>0.0</td>\n",
       "      <td>0.0</td>\n",
       "      <td>0</td>\n",
       "      <td>0</td>\n",
       "      <td>0</td>\n",
       "      <td>0</td>\n",
       "      <td>41000.00</td>\n",
       "      <td>0.00</td>\n",
       "      <td>28500.0</td>\n",
       "      <td>0</td>\n",
       "    </tr>\n",
       "    <tr>\n",
       "      <th>1</th>\n",
       "      <td>0.243522</td>\n",
       "      <td>0.178218</td>\n",
       "      <td>0.687998</td>\n",
       "      <td>2.034183e-01</td>\n",
       "      <td>0.020766</td>\n",
       "      <td>3.479833</td>\n",
       "      <td>0.000377</td>\n",
       "      <td>0.002972</td>\n",
       "      <td>0.025823</td>\n",
       "      <td>4.100000</td>\n",
       "      <td>...</td>\n",
       "      <td>0.0</td>\n",
       "      <td>0.0</td>\n",
       "      <td>0</td>\n",
       "      <td>0</td>\n",
       "      <td>0</td>\n",
       "      <td>0</td>\n",
       "      <td>41000.00</td>\n",
       "      <td>0.00</td>\n",
       "      <td>28500.0</td>\n",
       "      <td>1</td>\n",
       "    </tr>\n",
       "    <tr>\n",
       "      <th>2</th>\n",
       "      <td>0.199690</td>\n",
       "      <td>-0.202867</td>\n",
       "      <td>0.444773</td>\n",
       "      <td>5.772809e-01</td>\n",
       "      <td>0.021524</td>\n",
       "      <td>4.167512</td>\n",
       "      <td>0.000440</td>\n",
       "      <td>0.002268</td>\n",
       "      <td>0.025823</td>\n",
       "      <td>3.322063</td>\n",
       "      <td>...</td>\n",
       "      <td>0.0</td>\n",
       "      <td>0.0</td>\n",
       "      <td>0</td>\n",
       "      <td>1</td>\n",
       "      <td>0</td>\n",
       "      <td>0</td>\n",
       "      <td>40999.40</td>\n",
       "      <td>0.60</td>\n",
       "      <td>28500.0</td>\n",
       "      <td>2</td>\n",
       "    </tr>\n",
       "    <tr>\n",
       "      <th>3</th>\n",
       "      <td>0.199690</td>\n",
       "      <td>0.060786</td>\n",
       "      <td>0.444773</td>\n",
       "      <td>5.772809e-01</td>\n",
       "      <td>0.021524</td>\n",
       "      <td>4.167512</td>\n",
       "      <td>0.000440</td>\n",
       "      <td>0.002268</td>\n",
       "      <td>0.025823</td>\n",
       "      <td>4.420837</td>\n",
       "      <td>...</td>\n",
       "      <td>0.0</td>\n",
       "      <td>0.0</td>\n",
       "      <td>0</td>\n",
       "      <td>2</td>\n",
       "      <td>0</td>\n",
       "      <td>0</td>\n",
       "      <td>40998.65</td>\n",
       "      <td>1.35</td>\n",
       "      <td>28500.0</td>\n",
       "      <td>3</td>\n",
       "    </tr>\n",
       "    <tr>\n",
       "      <th>4</th>\n",
       "      <td>0.199690</td>\n",
       "      <td>-0.101655</td>\n",
       "      <td>0.444773</td>\n",
       "      <td>5.772809e-01</td>\n",
       "      <td>0.021524</td>\n",
       "      <td>4.167512</td>\n",
       "      <td>0.000440</td>\n",
       "      <td>0.002268</td>\n",
       "      <td>0.025823</td>\n",
       "      <td>3.743864</td>\n",
       "      <td>...</td>\n",
       "      <td>0.0</td>\n",
       "      <td>0.0</td>\n",
       "      <td>0</td>\n",
       "      <td>3</td>\n",
       "      <td>0</td>\n",
       "      <td>0</td>\n",
       "      <td>40998.20</td>\n",
       "      <td>1.80</td>\n",
       "      <td>28500.0</td>\n",
       "      <td>4</td>\n",
       "    </tr>\n",
       "  </tbody>\n",
       "</table>\n",
       "<p>5 rows × 24 columns</p>\n",
       "</div>"
      ],
      "text/plain": [
       "   d-EOS-ETH  d-MKR-ETH  d-OVL-ETH     d-XRP-ETH  s-EOS-ETH  s-MKR-ETH  \\\n",
       "0   0.000000   0.000000   0.000000 -1.212483e-16   0.025823   4.100000   \n",
       "1   0.243522   0.178218   0.687998  2.034183e-01   0.020766   3.479833   \n",
       "2   0.199690  -0.202867   0.444773  5.772809e-01   0.021524   4.167512   \n",
       "3   0.199690   0.060786   0.444773  5.772809e-01   0.021524   4.167512   \n",
       "4   0.199690  -0.101655   0.444773  5.772809e-01   0.021524   4.167512   \n",
       "\n",
       "   s-OVL-ETH  s-XRP-ETH  f-EOS-ETH  f-MKR-ETH  ...  Skew OVL-ETH  \\\n",
       "0   0.000636   0.003577   0.025823   4.100000  ...           0.0   \n",
       "1   0.000377   0.002972   0.025823   4.100000  ...           0.0   \n",
       "2   0.000440   0.002268   0.025823   3.322063  ...           0.0   \n",
       "3   0.000440   0.002268   0.025823   4.420837  ...           0.0   \n",
       "4   0.000440   0.002268   0.025823   3.743864  ...           0.0   \n",
       "\n",
       "   Skew XRP-ETH  Number of Open Positions on EOS-ETH  \\\n",
       "0           0.0                                    0   \n",
       "1           0.0                                    0   \n",
       "2           0.0                                    0   \n",
       "3           0.0                                    0   \n",
       "4           0.0                                    0   \n",
       "\n",
       "   Number of Open Positions on MKR-ETH  Number of Open Positions on OVL-ETH  \\\n",
       "0                                    0                                    0   \n",
       "1                                    0                                    0   \n",
       "2                                    1                                    0   \n",
       "3                                    2                                    0   \n",
       "4                                    3                                    0   \n",
       "\n",
       "   Number of Open Positions on XRP-ETH    Supply  Treasury  Liquidity  step  \n",
       "0                                    0  41000.00      0.00    28500.0     0  \n",
       "1                                    0  41000.00      0.00    28500.0     1  \n",
       "2                                    0  40999.40      0.60    28500.0     2  \n",
       "3                                    0  40998.65      1.35    28500.0     3  \n",
       "4                                    0  40998.20      1.80    28500.0     4  \n",
       "\n",
       "[5 rows x 24 columns]"
      ]
     },
     "execution_count": 32,
     "metadata": {},
     "output_type": "execute_result"
    }
   ],
   "source": [
    "model_vars_df = monetary_model.data_collector.get_model_vars_dataframe()\n",
    "model_vars_df.head()"
   ]
  },
  {
   "cell_type": "code",
   "execution_count": 33,
   "metadata": {
    "ExecuteTime": {
     "end_time": "2021-01-29T19:45:51.384064Z",
     "start_time": "2021-01-29T19:45:51.346106Z"
    }
   },
   "outputs": [
    {
     "data": {
      "text/plain": [
       "10581"
      ]
     },
     "execution_count": 33,
     "metadata": {},
     "output_type": "execute_result"
    }
   ],
   "source": [
    "len(model_vars_df)"
   ]
  },
  {
   "cell_type": "code",
   "execution_count": 34,
   "metadata": {
    "ExecuteTime": {
     "end_time": "2021-01-29T19:45:51.426513Z",
     "start_time": "2021-01-29T19:45:51.386010Z"
    }
   },
   "outputs": [],
   "source": [
    "# model_vars_df.to_parquet('model_vars.parq')"
   ]
  },
  {
   "cell_type": "code",
   "execution_count": 35,
   "metadata": {
    "ExecuteTime": {
     "end_time": "2021-01-29T19:45:51.472031Z",
     "start_time": "2021-01-29T19:45:51.428322Z"
    }
   },
   "outputs": [
    {
     "data": {
      "text/plain": [
       "Index                                    128\n",
       "d-EOS-ETH                              84648\n",
       "d-MKR-ETH                              84648\n",
       "d-OVL-ETH                              84648\n",
       "d-XRP-ETH                              84648\n",
       "s-EOS-ETH                              84648\n",
       "s-MKR-ETH                              84648\n",
       "s-OVL-ETH                              84648\n",
       "s-XRP-ETH                              84648\n",
       "f-EOS-ETH                              84648\n",
       "f-MKR-ETH                              84648\n",
       "f-OVL-ETH                              84648\n",
       "f-XRP-ETH                              84648\n",
       "Skew EOS-ETH                           84648\n",
       "Skew MKR-ETH                           84648\n",
       "Skew OVL-ETH                           84648\n",
       "Skew XRP-ETH                           84648\n",
       "Number of Open Positions on EOS-ETH    84648\n",
       "Number of Open Positions on MKR-ETH    84648\n",
       "Number of Open Positions on OVL-ETH    84648\n",
       "Number of Open Positions on XRP-ETH    84648\n",
       "Supply                                 84648\n",
       "Treasury                               84648\n",
       "Liquidity                              84648\n",
       "step                                   42324\n",
       "dtype: int64"
      ]
     },
     "execution_count": 35,
     "metadata": {},
     "output_type": "execute_result"
    }
   ],
   "source": [
    "model_vars_df.memory_usage(deep=True)"
   ]
  },
  {
   "cell_type": "code",
   "execution_count": 36,
   "metadata": {
    "ExecuteTime": {
     "end_time": "2021-01-29T19:45:51.522577Z",
     "start_time": "2021-01-29T19:45:51.473908Z"
    }
   },
   "outputs": [
    {
     "name": "stdout",
     "output_type": "stream",
     "text": [
      "<class 'pandas.core.frame.DataFrame'>\n",
      "RangeIndex: 10581 entries, 0 to 10580\n",
      "Data columns (total 24 columns):\n",
      " #   Column                               Non-Null Count  Dtype  \n",
      "---  ------                               --------------  -----  \n",
      " 0   d-EOS-ETH                            10581 non-null  float64\n",
      " 1   d-MKR-ETH                            10581 non-null  float64\n",
      " 2   d-OVL-ETH                            10581 non-null  float64\n",
      " 3   d-XRP-ETH                            10581 non-null  float64\n",
      " 4   s-EOS-ETH                            10581 non-null  float64\n",
      " 5   s-MKR-ETH                            10581 non-null  float64\n",
      " 6   s-OVL-ETH                            10581 non-null  float64\n",
      " 7   s-XRP-ETH                            10581 non-null  float64\n",
      " 8   f-EOS-ETH                            10581 non-null  float64\n",
      " 9   f-MKR-ETH                            10581 non-null  float64\n",
      " 10  f-OVL-ETH                            10581 non-null  float64\n",
      " 11  f-XRP-ETH                            10581 non-null  float64\n",
      " 12  Skew EOS-ETH                         10581 non-null  float64\n",
      " 13  Skew MKR-ETH                         10581 non-null  float64\n",
      " 14  Skew OVL-ETH                         10581 non-null  float64\n",
      " 15  Skew XRP-ETH                         10581 non-null  float64\n",
      " 16  Number of Open Positions on EOS-ETH  10581 non-null  int64  \n",
      " 17  Number of Open Positions on MKR-ETH  10581 non-null  int64  \n",
      " 18  Number of Open Positions on OVL-ETH  10581 non-null  int64  \n",
      " 19  Number of Open Positions on XRP-ETH  10581 non-null  int64  \n",
      " 20  Supply                               10581 non-null  float64\n",
      " 21  Treasury                             10581 non-null  float64\n",
      " 22  Liquidity                            10581 non-null  float64\n",
      " 23  step                                 10581 non-null  int32  \n",
      "dtypes: float64(19), int32(1), int64(4)\n",
      "memory usage: 1.9 MB\n"
     ]
    }
   ],
   "source": [
    "model_vars_df.info()"
   ]
  },
  {
   "cell_type": "code",
   "execution_count": 37,
   "metadata": {
    "ExecuteTime": {
     "end_time": "2021-01-29T19:45:51.565897Z",
     "start_time": "2021-01-29T19:45:51.524619Z"
    }
   },
   "outputs": [],
   "source": [
    "# model_vars_df.head()"
   ]
  },
  {
   "cell_type": "code",
   "execution_count": 38,
   "metadata": {
    "ExecuteTime": {
     "end_time": "2021-01-29T19:45:51.607818Z",
     "start_time": "2021-01-29T19:45:51.567921Z"
    }
   },
   "outputs": [],
   "source": [
    "# fig = px.line(model_vars_df, y=\"Supply\", title='OVL Supply')\n",
    "# fig = px.line(model_vars_df, y=\"Treasury\", title='Treasury')\n",
    "# fig.show()"
   ]
  },
  {
   "cell_type": "markdown",
   "metadata": {},
   "source": [
    "\n",
    "# Extract Wealth"
   ]
  },
  {
   "cell_type": "code",
   "execution_count": 39,
   "metadata": {
    "ExecuteTime": {
     "end_time": "2021-01-29T05:37:52.925749Z",
     "start_time": "2021-01-29T05:37:52.886796Z"
    }
   },
   "outputs": [],
   "source": [
    "# def convert_time_in_seconds_to_index(\n",
    "#     time_resolution: TimeResolution, \n",
    "#     time_in_seconds: float):\n",
    "#     return int(np.floor(time_in_seconds / time_resolution.in_seconds))"
   ]
  },
  {
   "cell_type": "code",
   "execution_count": 40,
   "metadata": {
    "ExecuteTime": {
     "end_time": "2021-01-29T05:37:52.970862Z",
     "start_time": "2021-01-29T05:37:52.927493Z"
    }
   },
   "outputs": [
    {
     "data": {
      "text/plain": [
       "131490"
      ]
     },
     "execution_count": 40,
     "metadata": {},
     "output_type": "execute_result"
    }
   ],
   "source": [
    "quarter_year_index = \\\n",
    "    convert_time_in_seconds_to_index(\n",
    "        time_resolution=time_resolution, \n",
    "        time_in_seconds=365.25 / 4.0 * 24 * 60 * 60)\n",
    "quarter_year_index"
   ]
  },
  {
   "cell_type": "code",
   "execution_count": 41,
   "metadata": {
    "ExecuteTime": {
     "end_time": "2021-01-29T05:37:53.014145Z",
     "start_time": "2021-01-29T05:37:52.972867Z"
    }
   },
   "outputs": [
    {
     "data": {
      "text/plain": [
       "525960"
      ]
     },
     "execution_count": 41,
     "metadata": {},
     "output_type": "execute_result"
    }
   ],
   "source": [
    "one_year_index = \\\n",
    "    convert_time_in_seconds_to_index(\n",
    "        time_resolution=time_resolution, \n",
    "        time_in_seconds=365.25 * 24 * 60 * 60)\n",
    "one_year_index"
   ]
  },
  {
   "cell_type": "code",
   "execution_count": 42,
   "metadata": {
    "ExecuteTime": {
     "end_time": "2021-01-29T05:37:53.067374Z",
     "start_time": "2021-01-29T05:37:53.015927Z"
    }
   },
   "outputs": [
    {
     "data": {
      "text/plain": [
       "1440"
      ]
     },
     "execution_count": 42,
     "metadata": {},
     "output_type": "execute_result"
    }
   ],
   "source": [
    "one_day_index = \\\n",
    "    convert_time_in_seconds_to_index(\n",
    "        time_resolution=time_resolution, \n",
    "        time_in_seconds=24 * 60 * 60)\n",
    "one_day_index"
   ]
  },
  {
   "cell_type": "code",
   "execution_count": 43,
   "metadata": {
    "ExecuteTime": {
     "end_time": "2021-01-29T05:37:53.110695Z",
     "start_time": "2021-01-29T05:37:53.069675Z"
    }
   },
   "outputs": [
    {
     "data": {
      "text/plain": [
       "49.703269703269704"
      ]
     },
     "execution_count": 43,
     "metadata": {},
     "output_type": "execute_result"
    }
   ],
   "source": [
    "525960 / monetary_model.schedule.steps"
   ]
  },
  {
   "cell_type": "code",
   "execution_count": 44,
   "metadata": {
    "ExecuteTime": {
     "end_time": "2021-01-29T05:37:53.151877Z",
     "start_time": "2021-01-29T05:37:53.112444Z"
    }
   },
   "outputs": [
    {
     "data": {
      "text/plain": [
       "1.8371527777777779"
      ]
     },
     "execution_count": 44,
     "metadata": {},
     "output_type": "execute_result"
    }
   ],
   "source": [
    "monetary_model.schedule.steps / 4 / 60 / 24"
   ]
  },
  {
   "cell_type": "code",
   "execution_count": 45,
   "metadata": {
    "ExecuteTime": {
     "end_time": "2021-01-29T05:37:53.188828Z",
     "start_time": "2021-01-29T05:37:53.153613Z"
    }
   },
   "outputs": [],
   "source": [
    "# type(monetary_model.data_collector._agent_records)"
   ]
  },
  {
   "cell_type": "code",
   "execution_count": 46,
   "metadata": {
    "ExecuteTime": {
     "end_time": "2021-01-29T05:37:53.227498Z",
     "start_time": "2021-01-29T05:37:53.190477Z"
    }
   },
   "outputs": [],
   "source": [
    "# def extract_agent_vars_for_time_step(monetary_model: MonetaryModel, time_step: int):\n",
    "#     agent_vars_for_time_step = \\\n",
    "#         monetary_model.data_collector._agent_records[time_step]\n",
    "#     column_names = ['time_step', 'agent_id'] + list(monetary_model.data_collector.agent_reporters.keys())\n",
    "    \n",
    "#     return pd.DataFrame(data=agent_vars_for_time_step, columns=column_names)"
   ]
  },
  {
   "cell_type": "code",
   "execution_count": 47,
   "metadata": {
    "ExecuteTime": {
     "end_time": "2021-01-29T05:38:31.581102Z",
     "start_time": "2021-01-29T05:38:31.542414Z"
    }
   },
   "outputs": [],
   "source": [
    "# column_names = ['time_step', 'agent_id'] + list(monetary_model.data_collector.agent_reporters.keys())\n",
    "# column_names"
   ]
  },
  {
   "cell_type": "code",
   "execution_count": 48,
   "metadata": {
    "ExecuteTime": {
     "end_time": "2021-01-29T05:38:31.803651Z",
     "start_time": "2021-01-29T05:38:31.764326Z"
    }
   },
   "outputs": [],
   "source": [
    "# monetary_model.data_collector.agent_reporters"
   ]
  },
  {
   "cell_type": "code",
   "execution_count": 49,
   "metadata": {
    "ExecuteTime": {
     "end_time": "2021-01-29T05:38:31.995404Z",
     "start_time": "2021-01-29T05:38:31.955731Z"
    }
   },
   "outputs": [],
   "source": [
    "# df = \\\n",
    "#     extract_agent_vars_for_time_step(monetary_model, quarter_year_index)\n",
    "# df.to_csv(f'agent_wealth_after_{quarter_year_index}_time_steps.csv')"
   ]
  },
  {
   "cell_type": "code",
   "execution_count": 50,
   "metadata": {
    "ExecuteTime": {
     "end_time": "2021-01-29T05:38:32.197421Z",
     "start_time": "2021-01-29T05:38:32.156451Z"
    },
    "scrolled": false
   },
   "outputs": [],
   "source": [
    "# monetary_model.data_collector._agent_records[quarter_year_index]"
   ]
  },
  {
   "cell_type": "markdown",
   "metadata": {},
   "source": [
    "# Extract Agent Variables"
   ]
  },
  {
   "cell_type": "code",
   "execution_count": 51,
   "metadata": {
    "ExecuteTime": {
     "end_time": "2021-01-29T19:45:51.652299Z",
     "start_time": "2021-01-29T19:45:51.609788Z"
    }
   },
   "outputs": [
    {
     "data": {
      "text/plain": [
       "['Wealth']"
      ]
     },
     "execution_count": 51,
     "metadata": {},
     "output_type": "execute_result"
    }
   ],
   "source": [
    "monetary_model.data_collector._agent_reporter_collection.reporter_names"
   ]
  },
  {
   "cell_type": "code",
   "execution_count": 52,
   "metadata": {
    "ExecuteTime": {
     "end_time": "2021-01-29T19:45:51.718459Z",
     "start_time": "2021-01-29T19:45:51.658132Z"
    }
   },
   "outputs": [],
   "source": [
    " wealth_df = \\\n",
    "    monetary_model.data_collector.get_agent_report_dataframe('Wealth')"
   ]
  },
  {
   "cell_type": "code",
   "execution_count": 53,
   "metadata": {
    "ExecuteTime": {
     "end_time": "2021-01-29T19:46:06.978975Z",
     "start_time": "2021-01-29T19:46:06.923600Z"
    }
   },
   "outputs": [
    {
     "data": {
      "text/html": [
       "<div>\n",
       "<style scoped>\n",
       "    .dataframe tbody tr th:only-of-type {\n",
       "        vertical-align: middle;\n",
       "    }\n",
       "\n",
       "    .dataframe tbody tr th {\n",
       "        vertical-align: top;\n",
       "    }\n",
       "\n",
       "    .dataframe thead th {\n",
       "        text-align: right;\n",
       "    }\n",
       "</style>\n",
       "<table border=\"1\" class=\"dataframe\">\n",
       "  <thead>\n",
       "    <tr style=\"text-align: right;\">\n",
       "      <th></th>\n",
       "      <th>0</th>\n",
       "      <th>1</th>\n",
       "      <th>2</th>\n",
       "      <th>3</th>\n",
       "      <th>4</th>\n",
       "      <th>5</th>\n",
       "      <th>6</th>\n",
       "      <th>7</th>\n",
       "      <th>8</th>\n",
       "      <th>9</th>\n",
       "      <th>...</th>\n",
       "      <th>115</th>\n",
       "      <th>116</th>\n",
       "      <th>117</th>\n",
       "      <th>118</th>\n",
       "      <th>119</th>\n",
       "      <th>120</th>\n",
       "      <th>121</th>\n",
       "      <th>122</th>\n",
       "      <th>123</th>\n",
       "      <th>124</th>\n",
       "    </tr>\n",
       "  </thead>\n",
       "  <tbody>\n",
       "    <tr>\n",
       "      <th>10576</th>\n",
       "      <td>100.0</td>\n",
       "      <td>100.0</td>\n",
       "      <td>100.0</td>\n",
       "      <td>100.0</td>\n",
       "      <td>100.0</td>\n",
       "      <td>100.0</td>\n",
       "      <td>100.0</td>\n",
       "      <td>100.0</td>\n",
       "      <td>100.0</td>\n",
       "      <td>100.0</td>\n",
       "      <td>...</td>\n",
       "      <td>104.038843</td>\n",
       "      <td>100.477535</td>\n",
       "      <td>100.0</td>\n",
       "      <td>118.088483</td>\n",
       "      <td>100.758102</td>\n",
       "      <td>101.592691</td>\n",
       "      <td>109.70225</td>\n",
       "      <td>100.843159</td>\n",
       "      <td>105.090715</td>\n",
       "      <td>100.0</td>\n",
       "    </tr>\n",
       "    <tr>\n",
       "      <th>10577</th>\n",
       "      <td>100.0</td>\n",
       "      <td>100.0</td>\n",
       "      <td>100.0</td>\n",
       "      <td>100.0</td>\n",
       "      <td>100.0</td>\n",
       "      <td>100.0</td>\n",
       "      <td>100.0</td>\n",
       "      <td>100.0</td>\n",
       "      <td>100.0</td>\n",
       "      <td>100.0</td>\n",
       "      <td>...</td>\n",
       "      <td>104.038843</td>\n",
       "      <td>100.477535</td>\n",
       "      <td>100.0</td>\n",
       "      <td>118.088483</td>\n",
       "      <td>100.758102</td>\n",
       "      <td>101.592691</td>\n",
       "      <td>109.70225</td>\n",
       "      <td>100.843159</td>\n",
       "      <td>105.090715</td>\n",
       "      <td>100.0</td>\n",
       "    </tr>\n",
       "    <tr>\n",
       "      <th>10578</th>\n",
       "      <td>100.0</td>\n",
       "      <td>100.0</td>\n",
       "      <td>100.0</td>\n",
       "      <td>100.0</td>\n",
       "      <td>100.0</td>\n",
       "      <td>100.0</td>\n",
       "      <td>100.0</td>\n",
       "      <td>100.0</td>\n",
       "      <td>100.0</td>\n",
       "      <td>100.0</td>\n",
       "      <td>...</td>\n",
       "      <td>104.038843</td>\n",
       "      <td>100.477535</td>\n",
       "      <td>100.0</td>\n",
       "      <td>118.088483</td>\n",
       "      <td>100.758102</td>\n",
       "      <td>101.592691</td>\n",
       "      <td>109.70225</td>\n",
       "      <td>100.843159</td>\n",
       "      <td>105.090715</td>\n",
       "      <td>100.0</td>\n",
       "    </tr>\n",
       "    <tr>\n",
       "      <th>10579</th>\n",
       "      <td>100.0</td>\n",
       "      <td>100.0</td>\n",
       "      <td>100.0</td>\n",
       "      <td>100.0</td>\n",
       "      <td>100.0</td>\n",
       "      <td>100.0</td>\n",
       "      <td>100.0</td>\n",
       "      <td>100.0</td>\n",
       "      <td>100.0</td>\n",
       "      <td>100.0</td>\n",
       "      <td>...</td>\n",
       "      <td>104.038843</td>\n",
       "      <td>100.477535</td>\n",
       "      <td>100.0</td>\n",
       "      <td>118.088483</td>\n",
       "      <td>100.758102</td>\n",
       "      <td>101.592691</td>\n",
       "      <td>109.70225</td>\n",
       "      <td>100.843159</td>\n",
       "      <td>105.090715</td>\n",
       "      <td>100.0</td>\n",
       "    </tr>\n",
       "    <tr>\n",
       "      <th>10580</th>\n",
       "      <td>100.0</td>\n",
       "      <td>100.0</td>\n",
       "      <td>100.0</td>\n",
       "      <td>100.0</td>\n",
       "      <td>100.0</td>\n",
       "      <td>100.0</td>\n",
       "      <td>100.0</td>\n",
       "      <td>100.0</td>\n",
       "      <td>100.0</td>\n",
       "      <td>100.0</td>\n",
       "      <td>...</td>\n",
       "      <td>104.038843</td>\n",
       "      <td>100.477535</td>\n",
       "      <td>100.0</td>\n",
       "      <td>118.088483</td>\n",
       "      <td>100.758102</td>\n",
       "      <td>101.592691</td>\n",
       "      <td>109.70225</td>\n",
       "      <td>100.843159</td>\n",
       "      <td>105.090715</td>\n",
       "      <td>100.0</td>\n",
       "    </tr>\n",
       "  </tbody>\n",
       "</table>\n",
       "<p>5 rows × 125 columns</p>\n",
       "</div>"
      ],
      "text/plain": [
       "         0      1      2      3      4      5      6      7      8      9    \\\n",
       "10576  100.0  100.0  100.0  100.0  100.0  100.0  100.0  100.0  100.0  100.0   \n",
       "10577  100.0  100.0  100.0  100.0  100.0  100.0  100.0  100.0  100.0  100.0   \n",
       "10578  100.0  100.0  100.0  100.0  100.0  100.0  100.0  100.0  100.0  100.0   \n",
       "10579  100.0  100.0  100.0  100.0  100.0  100.0  100.0  100.0  100.0  100.0   \n",
       "10580  100.0  100.0  100.0  100.0  100.0  100.0  100.0  100.0  100.0  100.0   \n",
       "\n",
       "       ...         115         116    117         118         119         120  \\\n",
       "10576  ...  104.038843  100.477535  100.0  118.088483  100.758102  101.592691   \n",
       "10577  ...  104.038843  100.477535  100.0  118.088483  100.758102  101.592691   \n",
       "10578  ...  104.038843  100.477535  100.0  118.088483  100.758102  101.592691   \n",
       "10579  ...  104.038843  100.477535  100.0  118.088483  100.758102  101.592691   \n",
       "10580  ...  104.038843  100.477535  100.0  118.088483  100.758102  101.592691   \n",
       "\n",
       "             121         122         123    124  \n",
       "10576  109.70225  100.843159  105.090715  100.0  \n",
       "10577  109.70225  100.843159  105.090715  100.0  \n",
       "10578  109.70225  100.843159  105.090715  100.0  \n",
       "10579  109.70225  100.843159  105.090715  100.0  \n",
       "10580  109.70225  100.843159  105.090715  100.0  \n",
       "\n",
       "[5 rows x 125 columns]"
      ]
     },
     "execution_count": 53,
     "metadata": {},
     "output_type": "execute_result"
    }
   ],
   "source": [
    "wealth_df.tail()"
   ]
  },
  {
   "cell_type": "code",
   "execution_count": 53,
   "metadata": {
    "ExecuteTime": {
     "end_time": "2021-01-29T05:38:36.317674Z",
     "start_time": "2021-01-29T05:38:36.277203Z"
    }
   },
   "outputs": [],
   "source": [
    "# monetary_model.data_collector.__dict__"
   ]
  },
  {
   "cell_type": "code",
   "execution_count": 54,
   "metadata": {
    "ExecuteTime": {
     "end_time": "2021-01-29T05:38:36.358394Z",
     "start_time": "2021-01-29T05:38:36.319745Z"
    }
   },
   "outputs": [
    {
     "name": "stdout",
     "output_type": "stream",
     "text": [
      "10581\n"
     ]
    }
   ],
   "source": [
    "agent_vars_df = monetary_model.data_collector.get_agent_vars_dataframe()\n",
    "print(len(agent_vars_df))"
   ]
  },
  {
   "cell_type": "code",
   "execution_count": 55,
   "metadata": {
    "ExecuteTime": {
     "end_time": "2021-01-29T05:38:36.394662Z",
     "start_time": "2021-01-29T05:38:36.360793Z"
    }
   },
   "outputs": [],
   "source": [
    "# agent_vars_df.to_csv(f'agent_vars.csv')"
   ]
  },
  {
   "cell_type": "code",
   "execution_count": 56,
   "metadata": {
    "ExecuteTime": {
     "end_time": "2021-01-29T05:38:36.433364Z",
     "start_time": "2021-01-29T05:38:36.396544Z"
    }
   },
   "outputs": [],
   "source": [
    "# agent_vars_df.to_parquet(f'agent_vars.parq')"
   ]
  },
  {
   "cell_type": "code",
   "execution_count": 57,
   "metadata": {
    "ExecuteTime": {
     "end_time": "2021-01-29T05:38:36.479580Z",
     "start_time": "2021-01-29T05:38:36.435591Z"
    }
   },
   "outputs": [
    {
     "name": "stdout",
     "output_type": "stream",
     "text": [
      "<class 'pandas.core.frame.DataFrame'>\n",
      "RangeIndex: 10581 entries, 0 to 10580\n",
      "Data columns (total 1 columns):\n",
      " #   Column  Non-Null Count  Dtype\n",
      "---  ------  --------------  -----\n",
      " 0   step    10581 non-null  int32\n",
      "dtypes: int32(1)\n",
      "memory usage: 41.5 KB\n"
     ]
    }
   ],
   "source": [
    "agent_vars_df.info()"
   ]
  },
  {
   "cell_type": "code",
   "execution_count": 58,
   "metadata": {
    "ExecuteTime": {
     "end_time": "2021-01-29T05:38:36.526529Z",
     "start_time": "2021-01-29T05:38:36.481477Z"
    }
   },
   "outputs": [
    {
     "data": {
      "text/html": [
       "<div>\n",
       "<style scoped>\n",
       "    .dataframe tbody tr th:only-of-type {\n",
       "        vertical-align: middle;\n",
       "    }\n",
       "\n",
       "    .dataframe tbody tr th {\n",
       "        vertical-align: top;\n",
       "    }\n",
       "\n",
       "    .dataframe thead th {\n",
       "        text-align: right;\n",
       "    }\n",
       "</style>\n",
       "<table border=\"1\" class=\"dataframe\">\n",
       "  <thead>\n",
       "    <tr style=\"text-align: right;\">\n",
       "      <th></th>\n",
       "      <th>step</th>\n",
       "    </tr>\n",
       "  </thead>\n",
       "  <tbody>\n",
       "    <tr>\n",
       "      <th>10281</th>\n",
       "      <td>10281</td>\n",
       "    </tr>\n",
       "    <tr>\n",
       "      <th>10282</th>\n",
       "      <td>10282</td>\n",
       "    </tr>\n",
       "    <tr>\n",
       "      <th>10283</th>\n",
       "      <td>10283</td>\n",
       "    </tr>\n",
       "    <tr>\n",
       "      <th>10284</th>\n",
       "      <td>10284</td>\n",
       "    </tr>\n",
       "    <tr>\n",
       "      <th>10285</th>\n",
       "      <td>10285</td>\n",
       "    </tr>\n",
       "    <tr>\n",
       "      <th>...</th>\n",
       "      <td>...</td>\n",
       "    </tr>\n",
       "    <tr>\n",
       "      <th>10576</th>\n",
       "      <td>10576</td>\n",
       "    </tr>\n",
       "    <tr>\n",
       "      <th>10577</th>\n",
       "      <td>10577</td>\n",
       "    </tr>\n",
       "    <tr>\n",
       "      <th>10578</th>\n",
       "      <td>10578</td>\n",
       "    </tr>\n",
       "    <tr>\n",
       "      <th>10579</th>\n",
       "      <td>10579</td>\n",
       "    </tr>\n",
       "    <tr>\n",
       "      <th>10580</th>\n",
       "      <td>10580</td>\n",
       "    </tr>\n",
       "  </tbody>\n",
       "</table>\n",
       "<p>300 rows × 1 columns</p>\n",
       "</div>"
      ],
      "text/plain": [
       "        step\n",
       "10281  10281\n",
       "10282  10282\n",
       "10283  10283\n",
       "10284  10284\n",
       "10285  10285\n",
       "...      ...\n",
       "10576  10576\n",
       "10577  10577\n",
       "10578  10578\n",
       "10579  10579\n",
       "10580  10580\n",
       "\n",
       "[300 rows x 1 columns]"
      ]
     },
     "execution_count": 58,
     "metadata": {},
     "output_type": "execute_result"
    }
   ],
   "source": [
    "agent_vars_df.tail(300)"
   ]
  },
  {
   "cell_type": "code",
   "execution_count": 59,
   "metadata": {
    "ExecuteTime": {
     "end_time": "2021-01-29T05:38:36.567622Z",
     "start_time": "2021-01-29T05:38:36.528490Z"
    }
   },
   "outputs": [],
   "source": [
    "# agent_vars_df.loc[(699999, 1), :]\n",
    "# df.loc[('cobra', 'mark i'), 'shield']"
   ]
  },
  {
   "cell_type": "code",
   "execution_count": 60,
   "metadata": {
    "ExecuteTime": {
     "end_time": "2021-01-29T05:38:36.666971Z",
     "start_time": "2021-01-29T05:38:36.572081Z"
    }
   },
   "outputs": [
    {
     "ename": "TypeError",
     "evalue": "unhashable type: 'slice'",
     "output_type": "error",
     "traceback": [
      "\u001b[0;31m---------------------------------------------------------------------------\u001b[0m",
      "\u001b[0;31mTypeError\u001b[0m                                 Traceback (most recent call last)",
      "\u001b[0;32m<ipython-input-60-914a74688db2>\u001b[0m in \u001b[0;36m<module>\u001b[0;34m\u001b[0m\n\u001b[1;32m      1\u001b[0m \u001b[0;31m# agent_wealth = agent_vars_df.loc[pd.IndexSlice[one_year_index, :], :].values\u001b[0m\u001b[0;34m\u001b[0m\u001b[0;34m\u001b[0m\u001b[0;34m\u001b[0m\u001b[0m\n\u001b[0;32m----> 2\u001b[0;31m \u001b[0magent_wealth\u001b[0m \u001b[0;34m=\u001b[0m \u001b[0magent_vars_df\u001b[0m\u001b[0;34m.\u001b[0m\u001b[0mloc\u001b[0m\u001b[0;34m[\u001b[0m\u001b[0mpd\u001b[0m\u001b[0;34m.\u001b[0m\u001b[0mIndexSlice\u001b[0m\u001b[0;34m[\u001b[0m\u001b[0mone_day_index\u001b[0m\u001b[0;34m,\u001b[0m \u001b[0;34m:\u001b[0m\u001b[0;34m]\u001b[0m\u001b[0;34m,\u001b[0m \u001b[0;34m:\u001b[0m\u001b[0;34m]\u001b[0m\u001b[0;34m.\u001b[0m\u001b[0mvalues\u001b[0m\u001b[0;34m\u001b[0m\u001b[0;34m\u001b[0m\u001b[0m\n\u001b[0m",
      "\u001b[0;32m~/anaconda3/envs/overlay-monetary/lib/python3.8/site-packages/pandas/core/indexing.py\u001b[0m in \u001b[0;36m__getitem__\u001b[0;34m(self, key)\u001b[0m\n\u001b[1;32m    871\u001b[0m                     \u001b[0;31m# AttributeError for IntervalTree get_value\u001b[0m\u001b[0;34m\u001b[0m\u001b[0;34m\u001b[0m\u001b[0;34m\u001b[0m\u001b[0m\n\u001b[1;32m    872\u001b[0m                     \u001b[0;32mpass\u001b[0m\u001b[0;34m\u001b[0m\u001b[0;34m\u001b[0m\u001b[0m\n\u001b[0;32m--> 873\u001b[0;31m             \u001b[0;32mreturn\u001b[0m \u001b[0mself\u001b[0m\u001b[0;34m.\u001b[0m\u001b[0m_getitem_tuple\u001b[0m\u001b[0;34m(\u001b[0m\u001b[0mkey\u001b[0m\u001b[0;34m)\u001b[0m\u001b[0;34m\u001b[0m\u001b[0;34m\u001b[0m\u001b[0m\n\u001b[0m\u001b[1;32m    874\u001b[0m         \u001b[0;32melse\u001b[0m\u001b[0;34m:\u001b[0m\u001b[0;34m\u001b[0m\u001b[0;34m\u001b[0m\u001b[0m\n\u001b[1;32m    875\u001b[0m             \u001b[0;31m# we by definition only have the 0th axis\u001b[0m\u001b[0;34m\u001b[0m\u001b[0;34m\u001b[0m\u001b[0;34m\u001b[0m\u001b[0m\n",
      "\u001b[0;32m~/anaconda3/envs/overlay-monetary/lib/python3.8/site-packages/pandas/core/indexing.py\u001b[0m in \u001b[0;36m_getitem_tuple\u001b[0;34m(self, tup)\u001b[0m\n\u001b[1;32m   1053\u001b[0m             \u001b[0;32mreturn\u001b[0m \u001b[0mself\u001b[0m\u001b[0;34m.\u001b[0m\u001b[0m_multi_take\u001b[0m\u001b[0;34m(\u001b[0m\u001b[0mtup\u001b[0m\u001b[0;34m)\u001b[0m\u001b[0;34m\u001b[0m\u001b[0;34m\u001b[0m\u001b[0m\n\u001b[1;32m   1054\u001b[0m \u001b[0;34m\u001b[0m\u001b[0m\n\u001b[0;32m-> 1055\u001b[0;31m         \u001b[0;32mreturn\u001b[0m \u001b[0mself\u001b[0m\u001b[0;34m.\u001b[0m\u001b[0m_getitem_tuple_same_dim\u001b[0m\u001b[0;34m(\u001b[0m\u001b[0mtup\u001b[0m\u001b[0;34m)\u001b[0m\u001b[0;34m\u001b[0m\u001b[0;34m\u001b[0m\u001b[0m\n\u001b[0m\u001b[1;32m   1056\u001b[0m \u001b[0;34m\u001b[0m\u001b[0m\n\u001b[1;32m   1057\u001b[0m     \u001b[0;32mdef\u001b[0m \u001b[0m_get_label\u001b[0m\u001b[0;34m(\u001b[0m\u001b[0mself\u001b[0m\u001b[0;34m,\u001b[0m \u001b[0mlabel\u001b[0m\u001b[0;34m,\u001b[0m \u001b[0maxis\u001b[0m\u001b[0;34m:\u001b[0m \u001b[0mint\u001b[0m\u001b[0;34m)\u001b[0m\u001b[0;34m:\u001b[0m\u001b[0;34m\u001b[0m\u001b[0;34m\u001b[0m\u001b[0m\n",
      "\u001b[0;32m~/anaconda3/envs/overlay-monetary/lib/python3.8/site-packages/pandas/core/indexing.py\u001b[0m in \u001b[0;36m_getitem_tuple_same_dim\u001b[0;34m(self, tup)\u001b[0m\n\u001b[1;32m    748\u001b[0m                 \u001b[0;32mcontinue\u001b[0m\u001b[0;34m\u001b[0m\u001b[0;34m\u001b[0m\u001b[0m\n\u001b[1;32m    749\u001b[0m \u001b[0;34m\u001b[0m\u001b[0m\n\u001b[0;32m--> 750\u001b[0;31m             \u001b[0mretval\u001b[0m \u001b[0;34m=\u001b[0m \u001b[0mgetattr\u001b[0m\u001b[0;34m(\u001b[0m\u001b[0mretval\u001b[0m\u001b[0;34m,\u001b[0m \u001b[0mself\u001b[0m\u001b[0;34m.\u001b[0m\u001b[0mname\u001b[0m\u001b[0;34m)\u001b[0m\u001b[0;34m.\u001b[0m\u001b[0m_getitem_axis\u001b[0m\u001b[0;34m(\u001b[0m\u001b[0mkey\u001b[0m\u001b[0;34m,\u001b[0m \u001b[0maxis\u001b[0m\u001b[0;34m=\u001b[0m\u001b[0mi\u001b[0m\u001b[0;34m)\u001b[0m\u001b[0;34m\u001b[0m\u001b[0;34m\u001b[0m\u001b[0m\n\u001b[0m\u001b[1;32m    751\u001b[0m             \u001b[0;31m# We should never have retval.ndim < self.ndim, as that should\u001b[0m\u001b[0;34m\u001b[0m\u001b[0;34m\u001b[0m\u001b[0;34m\u001b[0m\u001b[0m\n\u001b[1;32m    752\u001b[0m             \u001b[0;31m#  be handled by the _getitem_lowerdim call above.\u001b[0m\u001b[0;34m\u001b[0m\u001b[0;34m\u001b[0m\u001b[0;34m\u001b[0m\u001b[0m\n",
      "\u001b[0;32m~/anaconda3/envs/overlay-monetary/lib/python3.8/site-packages/pandas/core/indexing.py\u001b[0m in \u001b[0;36m_getitem_axis\u001b[0;34m(self, key, axis)\u001b[0m\n\u001b[1;32m   1097\u001b[0m                     \u001b[0;32mraise\u001b[0m \u001b[0mValueError\u001b[0m\u001b[0;34m(\u001b[0m\u001b[0;34m\"Cannot index with multidimensional key\"\u001b[0m\u001b[0;34m)\u001b[0m\u001b[0;34m\u001b[0m\u001b[0;34m\u001b[0m\u001b[0m\n\u001b[1;32m   1098\u001b[0m \u001b[0;34m\u001b[0m\u001b[0m\n\u001b[0;32m-> 1099\u001b[0;31m                 \u001b[0;32mreturn\u001b[0m \u001b[0mself\u001b[0m\u001b[0;34m.\u001b[0m\u001b[0m_getitem_iterable\u001b[0m\u001b[0;34m(\u001b[0m\u001b[0mkey\u001b[0m\u001b[0;34m,\u001b[0m \u001b[0maxis\u001b[0m\u001b[0;34m=\u001b[0m\u001b[0maxis\u001b[0m\u001b[0;34m)\u001b[0m\u001b[0;34m\u001b[0m\u001b[0;34m\u001b[0m\u001b[0m\n\u001b[0m\u001b[1;32m   1100\u001b[0m \u001b[0;34m\u001b[0m\u001b[0m\n\u001b[1;32m   1101\u001b[0m             \u001b[0;31m# nested tuple slicing\u001b[0m\u001b[0;34m\u001b[0m\u001b[0;34m\u001b[0m\u001b[0;34m\u001b[0m\u001b[0m\n",
      "\u001b[0;32m~/anaconda3/envs/overlay-monetary/lib/python3.8/site-packages/pandas/core/indexing.py\u001b[0m in \u001b[0;36m_getitem_iterable\u001b[0;34m(self, key, axis)\u001b[0m\n\u001b[1;32m   1035\u001b[0m \u001b[0;34m\u001b[0m\u001b[0m\n\u001b[1;32m   1036\u001b[0m         \u001b[0;31m# A collection of keys\u001b[0m\u001b[0;34m\u001b[0m\u001b[0;34m\u001b[0m\u001b[0;34m\u001b[0m\u001b[0m\n\u001b[0;32m-> 1037\u001b[0;31m         \u001b[0mkeyarr\u001b[0m\u001b[0;34m,\u001b[0m \u001b[0mindexer\u001b[0m \u001b[0;34m=\u001b[0m \u001b[0mself\u001b[0m\u001b[0;34m.\u001b[0m\u001b[0m_get_listlike_indexer\u001b[0m\u001b[0;34m(\u001b[0m\u001b[0mkey\u001b[0m\u001b[0;34m,\u001b[0m \u001b[0maxis\u001b[0m\u001b[0;34m,\u001b[0m \u001b[0mraise_missing\u001b[0m\u001b[0;34m=\u001b[0m\u001b[0;32mFalse\u001b[0m\u001b[0;34m)\u001b[0m\u001b[0;34m\u001b[0m\u001b[0;34m\u001b[0m\u001b[0m\n\u001b[0m\u001b[1;32m   1038\u001b[0m         return self.obj._reindex_with_indexers(\n\u001b[1;32m   1039\u001b[0m             \u001b[0;34m{\u001b[0m\u001b[0maxis\u001b[0m\u001b[0;34m:\u001b[0m \u001b[0;34m[\u001b[0m\u001b[0mkeyarr\u001b[0m\u001b[0;34m,\u001b[0m \u001b[0mindexer\u001b[0m\u001b[0;34m]\u001b[0m\u001b[0;34m}\u001b[0m\u001b[0;34m,\u001b[0m \u001b[0mcopy\u001b[0m\u001b[0;34m=\u001b[0m\u001b[0;32mTrue\u001b[0m\u001b[0;34m,\u001b[0m \u001b[0mallow_dups\u001b[0m\u001b[0;34m=\u001b[0m\u001b[0;32mTrue\u001b[0m\u001b[0;34m\u001b[0m\u001b[0;34m\u001b[0m\u001b[0m\n",
      "\u001b[0;32m~/anaconda3/envs/overlay-monetary/lib/python3.8/site-packages/pandas/core/indexing.py\u001b[0m in \u001b[0;36m_get_listlike_indexer\u001b[0;34m(self, key, axis, raise_missing)\u001b[0m\n\u001b[1;32m   1247\u001b[0m \u001b[0;34m\u001b[0m\u001b[0m\n\u001b[1;32m   1248\u001b[0m         \u001b[0;32mif\u001b[0m \u001b[0max\u001b[0m\u001b[0;34m.\u001b[0m\u001b[0mis_unique\u001b[0m \u001b[0;32mand\u001b[0m \u001b[0;32mnot\u001b[0m \u001b[0mgetattr\u001b[0m\u001b[0;34m(\u001b[0m\u001b[0max\u001b[0m\u001b[0;34m,\u001b[0m \u001b[0;34m\"is_overlapping\"\u001b[0m\u001b[0;34m,\u001b[0m \u001b[0;32mFalse\u001b[0m\u001b[0;34m)\u001b[0m\u001b[0;34m:\u001b[0m\u001b[0;34m\u001b[0m\u001b[0;34m\u001b[0m\u001b[0m\n\u001b[0;32m-> 1249\u001b[0;31m             \u001b[0mindexer\u001b[0m \u001b[0;34m=\u001b[0m \u001b[0max\u001b[0m\u001b[0;34m.\u001b[0m\u001b[0mget_indexer_for\u001b[0m\u001b[0;34m(\u001b[0m\u001b[0mkeyarr\u001b[0m\u001b[0;34m)\u001b[0m\u001b[0;34m\u001b[0m\u001b[0;34m\u001b[0m\u001b[0m\n\u001b[0m\u001b[1;32m   1250\u001b[0m             \u001b[0mkeyarr\u001b[0m \u001b[0;34m=\u001b[0m \u001b[0max\u001b[0m\u001b[0;34m.\u001b[0m\u001b[0mreindex\u001b[0m\u001b[0;34m(\u001b[0m\u001b[0mkeyarr\u001b[0m\u001b[0;34m)\u001b[0m\u001b[0;34m[\u001b[0m\u001b[0;36m0\u001b[0m\u001b[0;34m]\u001b[0m\u001b[0;34m\u001b[0m\u001b[0;34m\u001b[0m\u001b[0m\n\u001b[1;32m   1251\u001b[0m         \u001b[0;32melse\u001b[0m\u001b[0;34m:\u001b[0m\u001b[0;34m\u001b[0m\u001b[0;34m\u001b[0m\u001b[0m\n",
      "\u001b[0;32m~/anaconda3/envs/overlay-monetary/lib/python3.8/site-packages/pandas/core/indexes/base.py\u001b[0m in \u001b[0;36mget_indexer_for\u001b[0;34m(self, target, **kwargs)\u001b[0m\n\u001b[1;32m   4711\u001b[0m         \"\"\"\n\u001b[1;32m   4712\u001b[0m         \u001b[0;32mif\u001b[0m \u001b[0mself\u001b[0m\u001b[0;34m.\u001b[0m\u001b[0mis_unique\u001b[0m\u001b[0;34m:\u001b[0m\u001b[0;34m\u001b[0m\u001b[0;34m\u001b[0m\u001b[0m\n\u001b[0;32m-> 4713\u001b[0;31m             \u001b[0;32mreturn\u001b[0m \u001b[0mself\u001b[0m\u001b[0;34m.\u001b[0m\u001b[0mget_indexer\u001b[0m\u001b[0;34m(\u001b[0m\u001b[0mtarget\u001b[0m\u001b[0;34m,\u001b[0m \u001b[0;34m**\u001b[0m\u001b[0mkwargs\u001b[0m\u001b[0;34m)\u001b[0m\u001b[0;34m\u001b[0m\u001b[0;34m\u001b[0m\u001b[0m\n\u001b[0m\u001b[1;32m   4714\u001b[0m         \u001b[0mindexer\u001b[0m\u001b[0;34m,\u001b[0m \u001b[0m_\u001b[0m \u001b[0;34m=\u001b[0m \u001b[0mself\u001b[0m\u001b[0;34m.\u001b[0m\u001b[0mget_indexer_non_unique\u001b[0m\u001b[0;34m(\u001b[0m\u001b[0mtarget\u001b[0m\u001b[0;34m,\u001b[0m \u001b[0;34m**\u001b[0m\u001b[0mkwargs\u001b[0m\u001b[0;34m)\u001b[0m\u001b[0;34m\u001b[0m\u001b[0;34m\u001b[0m\u001b[0m\n\u001b[1;32m   4715\u001b[0m         \u001b[0;32mreturn\u001b[0m \u001b[0mindexer\u001b[0m\u001b[0;34m\u001b[0m\u001b[0;34m\u001b[0m\u001b[0m\n",
      "\u001b[0;32m~/anaconda3/envs/overlay-monetary/lib/python3.8/site-packages/pandas/core/indexes/range.py\u001b[0m in \u001b[0;36mget_indexer\u001b[0;34m(self, target, method, limit, tolerance)\u001b[0m\n\u001b[1;32m    376\u001b[0m         \u001b[0;32mif\u001b[0m \u001b[0;32mnot\u001b[0m \u001b[0;34m(\u001b[0m\u001b[0mis_integer_dtype\u001b[0m\u001b[0;34m(\u001b[0m\u001b[0mtarget_array\u001b[0m\u001b[0;34m)\u001b[0m \u001b[0;32mand\u001b[0m \u001b[0mtarget_array\u001b[0m\u001b[0;34m.\u001b[0m\u001b[0mndim\u001b[0m \u001b[0;34m==\u001b[0m \u001b[0;36m1\u001b[0m\u001b[0;34m)\u001b[0m\u001b[0;34m:\u001b[0m\u001b[0;34m\u001b[0m\u001b[0;34m\u001b[0m\u001b[0m\n\u001b[1;32m    377\u001b[0m             \u001b[0;31m# checks/conversions/roundings are delegated to general method\u001b[0m\u001b[0;34m\u001b[0m\u001b[0;34m\u001b[0m\u001b[0;34m\u001b[0m\u001b[0m\n\u001b[0;32m--> 378\u001b[0;31m             \u001b[0;32mreturn\u001b[0m \u001b[0msuper\u001b[0m\u001b[0;34m(\u001b[0m\u001b[0;34m)\u001b[0m\u001b[0;34m.\u001b[0m\u001b[0mget_indexer\u001b[0m\u001b[0;34m(\u001b[0m\u001b[0mtarget\u001b[0m\u001b[0;34m,\u001b[0m \u001b[0mmethod\u001b[0m\u001b[0;34m=\u001b[0m\u001b[0mmethod\u001b[0m\u001b[0;34m,\u001b[0m \u001b[0mtolerance\u001b[0m\u001b[0;34m=\u001b[0m\u001b[0mtolerance\u001b[0m\u001b[0;34m)\u001b[0m\u001b[0;34m\u001b[0m\u001b[0;34m\u001b[0m\u001b[0m\n\u001b[0m\u001b[1;32m    379\u001b[0m \u001b[0;34m\u001b[0m\u001b[0m\n\u001b[1;32m    380\u001b[0m         \u001b[0mlocs\u001b[0m \u001b[0;34m=\u001b[0m \u001b[0mtarget_array\u001b[0m \u001b[0;34m-\u001b[0m \u001b[0mstart\u001b[0m\u001b[0;34m\u001b[0m\u001b[0;34m\u001b[0m\u001b[0m\n",
      "\u001b[0;32m~/anaconda3/envs/overlay-monetary/lib/python3.8/site-packages/pandas/core/indexes/base.py\u001b[0m in \u001b[0;36mget_indexer\u001b[0;34m(self, target, method, limit, tolerance)\u001b[0m\n\u001b[1;32m   2979\u001b[0m             \u001b[0mthis\u001b[0m \u001b[0;34m=\u001b[0m \u001b[0mself\u001b[0m\u001b[0;34m.\u001b[0m\u001b[0mastype\u001b[0m\u001b[0;34m(\u001b[0m\u001b[0mobject\u001b[0m\u001b[0;34m)\u001b[0m\u001b[0;34m\u001b[0m\u001b[0;34m\u001b[0m\u001b[0m\n\u001b[1;32m   2980\u001b[0m             \u001b[0mtarget\u001b[0m \u001b[0;34m=\u001b[0m \u001b[0mtarget\u001b[0m\u001b[0;34m.\u001b[0m\u001b[0mastype\u001b[0m\u001b[0;34m(\u001b[0m\u001b[0mobject\u001b[0m\u001b[0;34m)\u001b[0m\u001b[0;34m\u001b[0m\u001b[0;34m\u001b[0m\u001b[0m\n\u001b[0;32m-> 2981\u001b[0;31m             return this.get_indexer(\n\u001b[0m\u001b[1;32m   2982\u001b[0m                 \u001b[0mtarget\u001b[0m\u001b[0;34m,\u001b[0m \u001b[0mmethod\u001b[0m\u001b[0;34m=\u001b[0m\u001b[0mmethod\u001b[0m\u001b[0;34m,\u001b[0m \u001b[0mlimit\u001b[0m\u001b[0;34m=\u001b[0m\u001b[0mlimit\u001b[0m\u001b[0;34m,\u001b[0m \u001b[0mtolerance\u001b[0m\u001b[0;34m=\u001b[0m\u001b[0mtolerance\u001b[0m\u001b[0;34m\u001b[0m\u001b[0;34m\u001b[0m\u001b[0m\n\u001b[1;32m   2983\u001b[0m             )\n",
      "\u001b[0;32m~/anaconda3/envs/overlay-monetary/lib/python3.8/site-packages/pandas/core/indexes/base.py\u001b[0m in \u001b[0;36mget_indexer\u001b[0;34m(self, target, method, limit, tolerance)\u001b[0m\n\u001b[1;32m   3004\u001b[0m                 )\n\u001b[1;32m   3005\u001b[0m \u001b[0;34m\u001b[0m\u001b[0m\n\u001b[0;32m-> 3006\u001b[0;31m             \u001b[0mindexer\u001b[0m \u001b[0;34m=\u001b[0m \u001b[0mself\u001b[0m\u001b[0;34m.\u001b[0m\u001b[0m_engine\u001b[0m\u001b[0;34m.\u001b[0m\u001b[0mget_indexer\u001b[0m\u001b[0;34m(\u001b[0m\u001b[0mtarget\u001b[0m\u001b[0;34m.\u001b[0m\u001b[0m_get_engine_target\u001b[0m\u001b[0;34m(\u001b[0m\u001b[0;34m)\u001b[0m\u001b[0;34m)\u001b[0m\u001b[0;34m\u001b[0m\u001b[0;34m\u001b[0m\u001b[0m\n\u001b[0m\u001b[1;32m   3007\u001b[0m \u001b[0;34m\u001b[0m\u001b[0m\n\u001b[1;32m   3008\u001b[0m         \u001b[0;32mreturn\u001b[0m \u001b[0mensure_platform_int\u001b[0m\u001b[0;34m(\u001b[0m\u001b[0mindexer\u001b[0m\u001b[0;34m)\u001b[0m\u001b[0;34m\u001b[0m\u001b[0;34m\u001b[0m\u001b[0m\n",
      "\u001b[0;32mpandas/_libs/index.pyx\u001b[0m in \u001b[0;36mpandas._libs.index.IndexEngine.get_indexer\u001b[0;34m()\u001b[0m\n",
      "\u001b[0;32mpandas/_libs/hashtable_class_helper.pxi\u001b[0m in \u001b[0;36mpandas._libs.hashtable.PyObjectHashTable.lookup\u001b[0;34m()\u001b[0m\n",
      "\u001b[0;31mTypeError\u001b[0m: unhashable type: 'slice'"
     ]
    }
   ],
   "source": [
    "# agent_wealth = agent_vars_df.loc[pd.IndexSlice[one_year_index, :], :].values\n",
    "agent_wealth = agent_vars_df.loc[pd.IndexSlice[one_day_index, :], :].values"
   ]
  },
  {
   "cell_type": "code",
   "execution_count": null,
   "metadata": {
    "ExecuteTime": {
     "end_time": "2021-01-29T05:38:36.671652Z",
     "start_time": "2021-01-29T05:38:36.296Z"
    },
    "scrolled": true
   },
   "outputs": [],
   "source": [
    "agent_wealth.shape"
   ]
  },
  {
   "cell_type": "code",
   "execution_count": null,
   "metadata": {
    "ExecuteTime": {
     "end_time": "2021-01-29T05:38:36.672852Z",
     "start_time": "2021-01-29T05:38:36.299Z"
    }
   },
   "outputs": [],
   "source": [
    "agent_wealth.sum()"
   ]
  },
  {
   "cell_type": "code",
   "execution_count": null,
   "metadata": {
    "ExecuteTime": {
     "end_time": "2021-01-29T05:38:36.674133Z",
     "start_time": "2021-01-29T05:38:36.301Z"
    }
   },
   "outputs": [],
   "source": [
    "def arbitrageur_indices():\n",
    "    return 0, num_arbitrageurs\n",
    "\n",
    "\n",
    "def keeper_indices():\n",
    "    return num_arbitrageurs, num_arbitrageurs+num_keepers\n",
    "\n",
    "\n",
    "def sniper_indices():\n",
    "    begin_index = num_arbitrageurs + num_keepers + num_holders + num_traders\n",
    "    end_index = num_arbitrageurs + num_keepers + num_holders + num_traders + num_snipers\n",
    "    return begin_index, end_index"
   ]
  },
  {
   "cell_type": "code",
   "execution_count": null,
   "metadata": {
    "ExecuteTime": {
     "end_time": "2021-01-29T05:38:36.675188Z",
     "start_time": "2021-01-29T05:38:36.303Z"
    }
   },
   "outputs": [],
   "source": [
    "sorted(agent_wealth[sniper_indices()[0]:sniper_indices()[1]])"
   ]
  },
  {
   "cell_type": "code",
   "execution_count": null,
   "metadata": {
    "ExecuteTime": {
     "end_time": "2021-01-29T05:38:36.676133Z",
     "start_time": "2021-01-29T05:38:36.305Z"
    }
   },
   "outputs": [],
   "source": [
    "sorted(agent_wealth[keeper_indices()[0]:keeper_indices()[1]])"
   ]
  },
  {
   "cell_type": "code",
   "execution_count": null,
   "metadata": {
    "ExecuteTime": {
     "end_time": "2021-01-29T05:38:36.677169Z",
     "start_time": "2021-01-29T05:38:36.307Z"
    }
   },
   "outputs": [],
   "source": [
    "sorted(agent_wealth[arbitrageur_indices()[0]:arbitrageur_indices()[1]])"
   ]
  },
  {
   "cell_type": "code",
   "execution_count": null,
   "metadata": {
    "ExecuteTime": {
     "end_time": "2021-01-29T05:38:36.678529Z",
     "start_time": "2021-01-29T05:38:36.310Z"
    }
   },
   "outputs": [],
   "source": [
    "histogram = plt.hist(agent_vars_df.loc[pd.IndexSlice[one_day_index, :], :].values)"
   ]
  },
  {
   "cell_type": "code",
   "execution_count": null,
   "metadata": {
    "ExecuteTime": {
     "end_time": "2021-01-29T05:38:36.679621Z",
     "start_time": "2021-01-29T05:38:36.312Z"
    }
   },
   "outputs": [],
   "source": [
    "sns.kdeplot(data=agent_wealth);"
   ]
  },
  {
   "cell_type": "markdown",
   "metadata": {},
   "source": [
    "# Plot Results"
   ]
  },
  {
   "cell_type": "markdown",
   "metadata": {},
   "source": [
    "## New Plots with 100 Arbitrageurs and 100 Snipers (no traders and no holders)"
   ]
  },
  {
   "cell_type": "code",
   "execution_count": null,
   "metadata": {
    "ExecuteTime": {
     "end_time": "2021-01-29T05:38:36.680675Z",
     "start_time": "2021-01-29T05:38:36.315Z"
    }
   },
   "outputs": [],
   "source": [
    "plot_time_scale = TimeScale.YEARS"
   ]
  },
  {
   "cell_type": "markdown",
   "metadata": {},
   "source": [
    "### Set Plot Horizon in Seconds"
   ]
  },
  {
   "cell_type": "code",
   "execution_count": null,
   "metadata": {
    "ExecuteTime": {
     "end_time": "2021-01-29T05:38:36.681811Z",
     "start_time": "2021-01-29T05:38:36.319Z"
    }
   },
   "outputs": [],
   "source": [
    "plot_begin_years = 0.0\n",
    "# plot_end_years = 5 * 365.25 * 24 * 60 * 60  # 5 years\n",
    "# plot_end_years = 0.75 * 365.25 * 24 * 60 * 60  # 9 months\n",
    "plot_end_years = 1 * 365.25 * 24 * 60 * 60  # 1 year\n",
    "time_interval_to_plot_in_seconds = (plot_begin_years, plot_end_years)\n",
    "time_interval_to_plot_in_seconds = None"
   ]
  },
  {
   "cell_type": "markdown",
   "metadata": {},
   "source": [
    "### OVL Supply"
   ]
  },
  {
   "cell_type": "code",
   "execution_count": null,
   "metadata": {
    "ExecuteTime": {
     "end_time": "2021-01-29T05:38:36.682937Z",
     "start_time": "2021-01-29T05:38:36.321Z"
    }
   },
   "outputs": [],
   "source": [
    "def convert_time_index_to_time_in_seconds(\n",
    "    time_step: int, \n",
    "    time_resolution: TimeResolution) -> float:\n",
    "    return time_step * time_resolution.in_seconds"
   ]
  },
  {
   "cell_type": "code",
   "execution_count": null,
   "metadata": {
    "ExecuteTime": {
     "end_time": "2021-01-29T05:38:36.683920Z",
     "start_time": "2021-01-29T05:38:36.323Z"
    }
   },
   "outputs": [],
   "source": [
    "convert_time_index_to_time_in_seconds(\n",
    "    model_vars_df.index.values[-1], \n",
    "    time_resolution=time_resolution)"
   ]
  },
  {
   "cell_type": "code",
   "execution_count": null,
   "metadata": {
    "ExecuteTime": {
     "end_time": "2021-01-29T05:38:36.685450Z",
     "start_time": "2021-01-29T05:38:36.326Z"
    }
   },
   "outputs": [],
   "source": [
    "def express_time_index_in_time_scale(\n",
    "    time_step: int, \n",
    "    time_resolution: TimeResolution, \n",
    "    time_scale: TimeScale) -> float:\n",
    "    return time_step * time_resolution.in_seconds / time_scale.in_seconds()"
   ]
  },
  {
   "cell_type": "code",
   "execution_count": null,
   "metadata": {
    "ExecuteTime": {
     "end_time": "2021-01-29T05:38:36.686603Z",
     "start_time": "2021-01-29T05:38:36.328Z"
    }
   },
   "outputs": [],
   "source": [
    "express_time_index_in_time_scale(\n",
    "    model_vars_df.index.values[-1], \n",
    "    time_resolution=time_resolution, \n",
    "    time_scale=TimeScale.YEARS)"
   ]
  },
  {
   "cell_type": "markdown",
   "metadata": {},
   "source": [
    "Initial OVL Supply"
   ]
  },
  {
   "cell_type": "code",
   "execution_count": null,
   "metadata": {
    "ExecuteTime": {
     "end_time": "2021-01-29T05:38:36.687605Z",
     "start_time": "2021-01-29T05:38:36.331Z"
    },
    "scrolled": true
   },
   "outputs": [],
   "source": [
    "model_vars_df.loc[:, SUPPLY_LABEL].values[0]"
   ]
  },
  {
   "cell_type": "markdown",
   "metadata": {},
   "source": [
    "Final OVL Supply"
   ]
  },
  {
   "cell_type": "code",
   "execution_count": null,
   "metadata": {
    "ExecuteTime": {
     "end_time": "2021-01-29T05:38:36.688703Z",
     "start_time": "2021-01-29T05:38:36.333Z"
    }
   },
   "outputs": [],
   "source": [
    "model_vars_df.loc[:, SUPPLY_LABEL].values[-1]"
   ]
  },
  {
   "cell_type": "markdown",
   "metadata": {},
   "source": [
    "OVL Growth in % over 1.93 years"
   ]
  },
  {
   "cell_type": "code",
   "execution_count": null,
   "metadata": {
    "ExecuteTime": {
     "end_time": "2021-01-29T05:38:36.689756Z",
     "start_time": "2021-01-29T05:38:36.336Z"
    }
   },
   "outputs": [],
   "source": [
    "(model_vars_df.loc[:, SUPPLY_LABEL].values[-1] / model_vars_df.loc[:, SUPPLY_LABEL].values[0] - 1) * 100"
   ]
  },
  {
   "cell_type": "markdown",
   "metadata": {},
   "source": [
    "Important: After the spike, the OVL supply does not go back to its initial level but increases from 41000 to to 54.6 million."
   ]
  },
  {
   "cell_type": "code",
   "execution_count": null,
   "metadata": {
    "ExecuteTime": {
     "end_time": "2021-01-29T05:38:36.690792Z",
     "start_time": "2021-01-29T05:38:36.340Z"
    },
    "scrolled": false
   },
   "outputs": [],
   "source": [
    "plot_supply(model_vars_df=model_vars_df, \n",
    "            plot_time_scale=plot_time_scale, \n",
    "            time_interval_to_plot_in_seconds=time_interval_to_plot_in_seconds, \n",
    "            time_resolution=time_resolution, \n",
    "            data_interval=data_collection_options.data_collection_interval)"
   ]
  },
  {
   "cell_type": "markdown",
   "metadata": {},
   "source": [
    "### Liquidity"
   ]
  },
  {
   "cell_type": "code",
   "execution_count": null,
   "metadata": {
    "ExecuteTime": {
     "end_time": "2021-01-29T05:38:36.691790Z",
     "start_time": "2021-01-29T05:38:36.342Z"
    }
   },
   "outputs": [],
   "source": [
    "plot_liquidity(model_vars_df=model_vars_df,  \n",
    "               plot_time_scale=plot_time_scale, \n",
    "               time_interval_to_plot_in_seconds=time_interval_to_plot_in_seconds, \n",
    "               time_resolution=time_resolution, \n",
    "               data_interval=data_collection_options.data_collection_interval)"
   ]
  },
  {
   "cell_type": "markdown",
   "metadata": {},
   "source": [
    "### Treasury"
   ]
  },
  {
   "cell_type": "code",
   "execution_count": null,
   "metadata": {
    "ExecuteTime": {
     "end_time": "2021-01-29T05:38:36.692946Z",
     "start_time": "2021-01-29T05:38:36.345Z"
    }
   },
   "outputs": [],
   "source": [
    "plot_treasury(model_vars_df=model_vars_df, \n",
    "              plot_time_scale=plot_time_scale, \n",
    "              time_interval_to_plot_in_seconds=time_interval_to_plot_in_seconds, \n",
    "              time_resolution=time_resolution, \n",
    "              data_interval=data_collection_options.data_collection_interval)"
   ]
  },
  {
   "cell_type": "markdown",
   "metadata": {},
   "source": [
    "### Price Deviations"
   ]
  },
  {
   "cell_type": "code",
   "execution_count": null,
   "metadata": {
    "ExecuteTime": {
     "end_time": "2021-01-29T05:38:36.694073Z",
     "start_time": "2021-01-29T05:38:36.347Z"
    },
    "scrolled": false
   },
   "outputs": [],
   "source": [
    "plot_price_deviations(\n",
    "    model_vars_df=model_vars_df, \n",
    "    tickers=tickers_with_ovl, \n",
    "    plot_time_scale=plot_time_scale, \n",
    "    time_resolution=time_resolution, \n",
    "    time_interval_to_plot_in_seconds=time_interval_to_plot_in_seconds, \n",
    "    data_interval=data_collection_options.data_collection_interval)"
   ]
  },
  {
   "cell_type": "markdown",
   "metadata": {},
   "source": [
    "### Open Positions"
   ]
  },
  {
   "cell_type": "code",
   "execution_count": null,
   "metadata": {
    "ExecuteTime": {
     "end_time": "2021-01-29T05:38:36.695074Z",
     "start_time": "2021-01-29T05:38:36.350Z"
    }
   },
   "outputs": [],
   "source": [
    "plot_open_positions(\n",
    "    model_vars_df=model_vars_df, \n",
    "    tickers=tickers_with_ovl, \n",
    "    plot_time_scale=plot_time_scale, \n",
    "    time_resolution=time_resolution, \n",
    "    time_interval_to_plot_in_seconds=time_interval_to_plot_in_seconds, \n",
    "    data_interval=data_collection_options.data_collection_interval)"
   ]
  },
  {
   "cell_type": "markdown",
   "metadata": {},
   "source": [
    "### Skew"
   ]
  },
  {
   "cell_type": "code",
   "execution_count": null,
   "metadata": {
    "ExecuteTime": {
     "end_time": "2021-01-29T05:38:36.696249Z",
     "start_time": "2021-01-29T05:38:36.353Z"
    }
   },
   "outputs": [],
   "source": [
    "plot_skews(\n",
    "    model_vars_df=model_vars_df, \n",
    "#     tickers=tickers_with_ovl[1:], \n",
    "    tickers=tickers_with_ovl, \n",
    "    plot_time_scale=plot_time_scale, \n",
    "    time_resolution=time_resolution, \n",
    "    time_interval_to_plot_in_seconds=time_interval_to_plot_in_seconds, \n",
    "    data_interval=data_collection_options.data_collection_interval)"
   ]
  },
  {
   "cell_type": "markdown",
   "metadata": {},
   "source": [
    "#### Correlation between Skew and Futures Price"
   ]
  },
  {
   "cell_type": "code",
   "execution_count": null,
   "metadata": {
    "ExecuteTime": {
     "end_time": "2021-01-29T05:38:36.697326Z",
     "start_time": "2021-01-29T05:38:36.357Z"
    }
   },
   "outputs": [],
   "source": [
    "for i, ticker in enumerate(tickers_with_ovl):\n",
    "    if i > 0:\n",
    "        break\n",
    "    skew = model_vars_df.loc[:, skew_label(ticker)].values\n",
    "    futures_price = model_vars_df.loc[:, futures_price_label(ticker)].values\n",
    "    spot_price = model_vars_df.loc[:, spot_price_label(ticker)].values\n",
    "    print(np.corrcoef(skew, futures_price))\n",
    "    print(np.corrcoef(skew, spot_price))"
   ]
  },
  {
   "cell_type": "markdown",
   "metadata": {},
   "source": [
    "### Cumulative Returns"
   ]
  },
  {
   "cell_type": "code",
   "execution_count": null,
   "metadata": {
    "ExecuteTime": {
     "end_time": "2021-01-29T05:38:36.698306Z",
     "start_time": "2021-01-29T05:38:36.359Z"
    },
    "scrolled": false
   },
   "outputs": [],
   "source": [
    "for i, ticker in enumerate(tickers_with_ovl):\n",
    "    spot_prices_for_ticker = model_vars_df.loc[:, spot_price_label(ticker)].values\n",
    "    cumulative_return_for_ticker = spot_prices_for_ticker / spot_prices_for_ticker[0] - 1.0\n",
    "    \n",
    "    plot_single_variable_over_time_from_numpy_array(\n",
    "        array=cumulative_return_for_ticker, \n",
    "        plot_time_scale=plot_time_scale, \n",
    "        time_resolution=time_resolution, \n",
    "        time_interval_to_plot_in_seconds=time_interval_to_plot_in_seconds, \n",
    "        data_interval=data_collection_options.data_collection_interval)\n",
    "    \n",
    "    plt.title(f'Cumulative Returns for {ticker}')"
   ]
  },
  {
   "cell_type": "markdown",
   "metadata": {},
   "source": [
    "### Spot vs. Futures Prices"
   ]
  },
  {
   "cell_type": "code",
   "execution_count": null,
   "metadata": {
    "ExecuteTime": {
     "end_time": "2021-01-29T05:38:36.699317Z",
     "start_time": "2021-01-29T05:38:36.362Z"
    },
    "scrolled": false
   },
   "outputs": [],
   "source": [
    "for i, ticker in enumerate(tickers_with_ovl):\n",
    "    plot_spot_vs_futures_price(\n",
    "        model_vars_df=model_vars_df, \n",
    "        ticker=ticker, \n",
    "        plot_time_scale=plot_time_scale, \n",
    "        time_resolution=time_resolution, \n",
    "        time_interval_to_plot_in_seconds=time_interval_to_plot_in_seconds, \n",
    "        data_interval=data_collection_options.data_collection_interval)"
   ]
  },
  {
   "cell_type": "code",
   "execution_count": null,
   "metadata": {
    "ExecuteTime": {
     "end_time": "2021-01-29T05:38:36.700391Z",
     "start_time": "2021-01-29T05:38:36.364Z"
    }
   },
   "outputs": [],
   "source": [
    "# model_vars_df.columns"
   ]
  },
  {
   "cell_type": "code",
   "execution_count": null,
   "metadata": {
    "ExecuteTime": {
     "end_time": "2021-01-29T05:38:36.701484Z",
     "start_time": "2021-01-29T05:38:36.367Z"
    }
   },
   "outputs": [],
   "source": [
    "# tickers_with_ovl[0]"
   ]
  },
  {
   "cell_type": "code",
   "execution_count": null,
   "metadata": {
    "ExecuteTime": {
     "end_time": "2021-01-29T05:38:36.702726Z",
     "start_time": "2021-01-29T05:38:36.370Z"
    }
   },
   "outputs": [],
   "source": [
    "# def plot_cumulative_spot_returns(\n",
    "#         model_vars_df: pd.DataFrame,\n",
    "#         ticker: str,\n",
    "#         plot_time_scale: TimeScale,\n",
    "#         time_resolution: TimeResolution,\n",
    "#         time_interval_to_plot_in_seconds:\n",
    "#         tp.Optional[tp.Tuple[tp.Optional[float], tp.Optional[float]]] = None,\n",
    "#         figure_size: tp.Tuple[float, float] = DEFAULT_FIGURE_SIZE,\n",
    "#         data_interval: int = 1,\n",
    "#         # relative: bool = False\n",
    "# ):\n",
    "#     column_name_to_label_map = \\\n",
    "#         {spot_price_label(ticker): spot_price_label(ticker)}\n",
    "\n",
    "#     plot_multiple_variables_over_time(\n",
    "#         model_vars_df=model_vars_df,\n",
    "#         column_name_to_label_map=column_name_to_label_map,\n",
    "#         plot_time_scale=plot_time_scale,\n",
    "#         time_resolution=time_resolution,\n",
    "#         time_interval_to_plot_in_seconds=time_interval_to_plot_in_seconds,\n",
    "#         figure_size=figure_size,\n",
    "#         data_interval=data_interval)\n",
    "\n",
    "#     plt.legend();\n",
    "#     plt.title(f'Spot Price vs Futures Price for {ticker}')\n"
   ]
  },
  {
   "cell_type": "code",
   "execution_count": null,
   "metadata": {
    "ExecuteTime": {
     "end_time": "2021-01-29T05:38:36.703987Z",
     "start_time": "2021-01-29T05:38:36.372Z"
    }
   },
   "outputs": [],
   "source": [
    "# %lprun \\\n",
    "#     -f compute_gini \\\n",
    "#     -f compute_price_difference \\\n",
    "#     -f compute_futures_price \\\n",
    "#     -f compute_spot_price \\\n",
    "#     -f compute_supply \\\n",
    "#     -f compute_liquidity \\\n",
    "#     -f compute_treasury \\\n",
    "#     -f compute_wealth_for_agent_type \\\n",
    "#     -f compute_inventory_wealth_for_agent \\\n",
    "#     -f compute_inventory_wealth_for_agent_type \\\n",
    "#     -f compute_positional_imbalance_by_market \\\n",
    "#     -f DataCollector.collect \\\n",
    "#     -f MonetaryAgent.step \\\n",
    "#     -f MonetaryArbitrageur._unwind_positions \\\n",
    "#     -f MonetaryArbitrageur._unwind_next_position \\\n",
    "#     -f MonetaryArbitrageur.trade \\\n",
    "#     -f MonetaryArbitrageur.step \\\n",
    "#     -f MonetaryKeeper.step \\\n",
    "#     -f MonetaryKeeper.distribute_funding \\\n",
    "#     -f MonetaryLiquidator.scope_liquidations \\\n",
    "#     -f MonetaryLiquidator.step \\\n",
    "#     -f MonetarySniper._get_unwind_amount \\\n",
    "#     -f MonetarySniper._unwind_positions \\\n",
    "#     -f MonetarySniper._get_filled_price \\\n",
    "#     -f MonetarySniper._get_size \\\n",
    "#     -f MonetarySniper._get_effective_edge \\\n",
    "#     -f MonetarySniper.trade \\\n",
    "#     -f MonetaryFMarket.build \\\n",
    "#     -f MonetaryFMarket.unwind \\\n",
    "#     -f MonetaryFMarket._swap \\\n",
    "#     -f MonetaryFMarket.slippage \\\n",
    "#     -f MonetaryFMarket.fund \\\n",
    "#     -f MonetaryFMarket.funding \\\n",
    "#     -f MonetaryFMarket.liquidatable \\\n",
    "#     -f MonetaryFMarket.liquidate \\\n",
    "#     -f MonetaryModel.step \\\n",
    "#     run_model(number_of_steps_to_simulate)"
   ]
  },
  {
   "cell_type": "code",
   "execution_count": null,
   "metadata": {
    "ExecuteTime": {
     "end_time": "2021-01-29T05:38:36.705292Z",
     "start_time": "2021-01-29T05:38:36.374Z"
    }
   },
   "outputs": [],
   "source": [
    "# plt.close('all')"
   ]
  },
  {
   "cell_type": "code",
   "execution_count": null,
   "metadata": {},
   "outputs": [],
   "source": []
  }
 ],
 "metadata": {
  "kernelspec": {
   "display_name": "Python 3",
   "language": "python",
   "name": "python3"
  },
  "language_info": {
   "codemirror_mode": {
    "name": "ipython",
    "version": 3
   },
   "file_extension": ".py",
   "mimetype": "text/x-python",
   "name": "python",
   "nbconvert_exporter": "python",
   "pygments_lexer": "ipython3",
   "version": "3.8.5"
  },
  "toc": {
   "base_numbering": 1,
   "nav_menu": {},
   "number_sections": true,
   "sideBar": true,
   "skip_h1_title": false,
   "title_cell": "Table of Contents",
   "title_sidebar": "Contents",
   "toc_cell": false,
   "toc_position": {},
   "toc_section_display": true,
   "toc_window_display": false
  }
 },
 "nbformat": 4,
 "nbformat_minor": 4
}
