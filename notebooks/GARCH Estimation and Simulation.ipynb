{
 "cells": [
  {
   "cell_type": "markdown",
   "metadata": {},
   "source": [
    "# Import Stuff"
   ]
  },
  {
   "cell_type": "code",
   "execution_count": 1,
   "metadata": {
    "ExecuteTime": {
     "end_time": "2020-12-01T02:53:07.161299Z",
     "start_time": "2020-12-01T02:53:07.130711Z"
    }
   },
   "outputs": [],
   "source": [
    "%load_ext autoreload\n",
    "%autoreload 2"
   ]
  },
  {
   "cell_type": "code",
   "execution_count": 2,
   "metadata": {
    "ExecuteTime": {
     "end_time": "2020-12-01T02:53:16.675967Z",
     "start_time": "2020-12-01T02:53:07.163155Z"
    }
   },
   "outputs": [],
   "source": [
    "from datetime import datetime\n",
    "import math\n",
    "import typing as tp\n",
    "\n",
    "import arch\n",
    "import matplotlib.pyplot as plt\n",
    "import numpy as np\n",
    "import os\n",
    "import pandas as pd\n",
    "import pyarrow\n",
    "from recombinator import stationary_bootstrap\n",
    "import scipy as sp\n",
    "import statsmodels.api as sm\n",
    "from statsmodels.graphics.gofplots import qqplot_2samples\n",
    "from statsmodels.tsa.stattools import adfuller\n",
    "\n",
    "from ovm.garch_estimation import estimate_garch_parameters\n",
    "\n",
    "from ovm.historical_data_io import (\n",
    "    PriceHistoryColumnNames as PHCN, \n",
    "    compute_scaling_factor, \n",
    "    compute_scaled_log_returns, \n",
    "    PriceHistory, \n",
    "    compute_number_of_days_in_price_history, \n",
    "    compute_log_returns_from_price_history, \n",
    "    save_price_histories, \n",
    "    load_price_history\n",
    ")\n",
    "\n",
    "from ovm.utils import TimeResolution"
   ]
  },
  {
   "cell_type": "code",
   "execution_count": 3,
   "metadata": {
    "ExecuteTime": {
     "end_time": "2020-12-01T02:53:16.718825Z",
     "start_time": "2020-12-01T02:53:16.678291Z"
    }
   },
   "outputs": [],
   "source": [
    "%matplotlib inline"
   ]
  },
  {
   "cell_type": "markdown",
   "metadata": {},
   "source": [
    "# Set Parameters"
   ]
  },
  {
   "cell_type": "markdown",
   "metadata": {},
   "source": [
    "If you want to estimate and simulate a different time scale, make changes here but keep in mind that you need to download the appropriate historical data first (see data import notebook)."
   ]
  },
  {
   "cell_type": "code",
   "execution_count": 4,
   "metadata": {
    "ExecuteTime": {
     "end_time": "2020-12-01T02:53:16.763279Z",
     "start_time": "2020-12-01T02:53:16.723311Z"
    }
   },
   "outputs": [],
   "source": [
    "time_resolution = TimeResolution.FIFTEEN_SECONDS\n",
    "directory_path = time_resolution.value"
   ]
  },
  {
   "cell_type": "code",
   "execution_count": 5,
   "metadata": {
    "ExecuteTime": {
     "end_time": "2020-12-01T02:53:16.803729Z",
     "start_time": "2020-12-01T02:53:16.764791Z"
    }
   },
   "outputs": [],
   "source": [
    "price_history_file_name = 'ETH-USD'"
   ]
  },
  {
   "cell_type": "markdown",
   "metadata": {},
   "source": [
    "# Load Price History"
   ]
  },
  {
   "cell_type": "code",
   "execution_count": 6,
   "metadata": {
    "ExecuteTime": {
     "end_time": "2020-12-01T02:53:17.038214Z",
     "start_time": "2020-12-01T02:53:16.805257Z"
    }
   },
   "outputs": [],
   "source": [
    "price_history = \\\n",
    "    load_price_history(filename=price_history_file_name, \n",
    "                       series_name=price_history_file_name, \n",
    "                       directory_path=directory_path, \n",
    "                       period_length_in_seconds=time_resolution.in_seconds)"
   ]
  },
  {
   "cell_type": "code",
   "execution_count": 7,
   "metadata": {
    "ExecuteTime": {
     "end_time": "2020-12-01T02:53:17.083336Z",
     "start_time": "2020-12-01T02:53:17.042311Z"
    }
   },
   "outputs": [],
   "source": [
    "path_length = len(price_history.price_history_df)"
   ]
  },
  {
   "cell_type": "markdown",
   "metadata": {},
   "source": [
    "# Estimate GARCH Model"
   ]
  },
  {
   "cell_type": "code",
   "execution_count": 8,
   "metadata": {
    "ExecuteTime": {
     "end_time": "2020-12-01T02:53:32.258312Z",
     "start_time": "2020-12-01T02:53:17.085553Z"
    }
   },
   "outputs": [
    {
     "name": "stdout",
     "output_type": "stream",
     "text": [
      "Iteration:      1,   Func. Count:      7,   Neg. LLF: 214398673.52729997\n",
      "Iteration:      2,   Func. Count:     20,   Neg. LLF: 1771834.7322120625\n",
      "Optimization terminated successfully    (Exit mode 0)\n",
      "            Current function value: 1771834.7315221645\n",
      "            Iterations: 6\n",
      "            Function evaluations: 20\n",
      "            Gradient evaluations: 2\n"
     ]
    }
   ],
   "source": [
    "garch_estimation_result = estimate_garch_parameters(price_history)"
   ]
  },
  {
   "cell_type": "code",
   "execution_count": 9,
   "metadata": {
    "ExecuteTime": {
     "end_time": "2020-12-01T02:53:39.972835Z",
     "start_time": "2020-12-01T02:53:32.260161Z"
    }
   },
   "outputs": [
    {
     "data": {
      "text/html": [
       "<table class=\"simpletable\">\n",
       "<caption>Constant Mean - GARCH Model Results</caption>\n",
       "<tr>\n",
       "  <th>Dep. Variable:</th>          <td>ETH-USD</td>         <th>  R-squared:         </th>   <td>  -0.000</td>  \n",
       "</tr>\n",
       "<tr>\n",
       "  <th>Mean Model:</th>          <td>Constant Mean</td>      <th>  Adj. R-squared:    </th>   <td>  -0.000</td>  \n",
       "</tr>\n",
       "<tr>\n",
       "  <th>Vol Model:</th>               <td>GARCH</td>          <th>  Log-Likelihood:    </th> <td>-1.77183e+06</td>\n",
       "</tr>\n",
       "<tr>\n",
       "  <th>Distribution:</th>  <td>Standardized Student's t</td> <th>  AIC:               </th>  <td>3.54368e+06</td>\n",
       "</tr>\n",
       "<tr>\n",
       "  <th>Method:</th>           <td>Maximum Likelihood</td>    <th>  BIC:               </th>  <td>3.54374e+06</td>\n",
       "</tr>\n",
       "<tr>\n",
       "  <th></th>                           <td></td>             <th>  No. Observations:  </th>    <td>2515223</td>  \n",
       "</tr>\n",
       "<tr>\n",
       "  <th>Date:</th>              <td>Tue, Dec 01 2020</td>     <th>  Df Residuals:      </th>    <td>2515218</td>  \n",
       "</tr>\n",
       "<tr>\n",
       "  <th>Time:</th>                  <td>14:18:21</td>         <th>  Df Model:          </th>       <td>5</td>     \n",
       "</tr>\n",
       "</table>\n",
       "<table class=\"simpletable\">\n",
       "<caption>Mean Model</caption>\n",
       "<tr>\n",
       "   <td></td>     <th>coef</th>     <th>std err</th>      <th>t</th>       <th>P>|t|</th>      <th>95.0% Conf. Int.</th>   \n",
       "</tr>\n",
       "<tr>\n",
       "  <th>mu</th> <td>7.1350e-05</td> <td>1.560e-04</td> <td>    0.457</td> <td>    0.647</td> <td>[-2.344e-04,3.771e-04]</td>\n",
       "</tr>\n",
       "</table>\n",
       "<table class=\"simpletable\">\n",
       "<caption>Volatility Model</caption>\n",
       "<tr>\n",
       "      <td></td>        <th>coef</th>     <th>std err</th>      <th>t</th>     <th>P>|t|</th>   <th>95.0% Conf. Int.</th>   \n",
       "</tr>\n",
       "<tr>\n",
       "  <th>omega</th>    <td>    0.0173</td> <td>1.096e-04</td> <td>  158.204</td> <td>0.000</td> <td>[1.712e-02,1.755e-02]</td>\n",
       "</tr>\n",
       "<tr>\n",
       "  <th>alpha[1]</th> <td>    0.2000</td> <td>9.204e-04</td> <td>  217.299</td> <td>0.000</td>   <td>[  0.198,  0.202]</td>  \n",
       "</tr>\n",
       "<tr>\n",
       "  <th>beta[1]</th>  <td>    0.7800</td> <td>8.549e-04</td> <td>  912.373</td> <td>0.000</td>   <td>[  0.778,  0.782]</td>  \n",
       "</tr>\n",
       "</table>\n",
       "<table class=\"simpletable\">\n",
       "<caption>Distribution</caption>\n",
       "<tr>\n",
       "   <td></td>     <th>coef</th>     <th>std err</th>      <th>t</th>     <th>P>|t|</th> <th>95.0% Conf. Int.</th> \n",
       "</tr>\n",
       "<tr>\n",
       "  <th>nu</th> <td>    4.0220</td> <td>7.024e-03</td> <td>  572.605</td> <td>0.000</td> <td>[  4.008,  4.036]</td>\n",
       "</tr>\n",
       "</table><br/><br/>Covariance estimator: robust"
      ],
      "text/plain": [
       "<class 'statsmodels.iolib.summary.Summary'>\n",
       "\"\"\"\n",
       "                        Constant Mean - GARCH Model Results                         \n",
       "====================================================================================\n",
       "Dep. Variable:                      ETH-USD   R-squared:                      -0.000\n",
       "Mean Model:                   Constant Mean   Adj. R-squared:                 -0.000\n",
       "Vol Model:                            GARCH   Log-Likelihood:           -1.77183e+06\n",
       "Distribution:      Standardized Student's t   AIC:                       3.54368e+06\n",
       "Method:                  Maximum Likelihood   BIC:                       3.54374e+06\n",
       "                                              No. Observations:              2515223\n",
       "Date:                      Tue, Dec 01 2020   Df Residuals:                  2515218\n",
       "Time:                              14:18:21   Df Model:                            5\n",
       "                                  Mean Model                                 \n",
       "=============================================================================\n",
       "                 coef    std err          t      P>|t|       95.0% Conf. Int.\n",
       "-----------------------------------------------------------------------------\n",
       "mu         7.1350e-05  1.560e-04      0.457      0.647 [-2.344e-04,3.771e-04]\n",
       "                              Volatility Model                              \n",
       "============================================================================\n",
       "                 coef    std err          t      P>|t|      95.0% Conf. Int.\n",
       "----------------------------------------------------------------------------\n",
       "omega          0.0173  1.096e-04    158.204      0.000 [1.712e-02,1.755e-02]\n",
       "alpha[1]       0.2000  9.204e-04    217.299      0.000     [  0.198,  0.202]\n",
       "beta[1]        0.7800  8.549e-04    912.373      0.000     [  0.778,  0.782]\n",
       "                              Distribution                              \n",
       "========================================================================\n",
       "                 coef    std err          t      P>|t|  95.0% Conf. Int.\n",
       "------------------------------------------------------------------------\n",
       "nu             4.0220  7.024e-03    572.605      0.000 [  4.008,  4.036]\n",
       "========================================================================\n",
       "\n",
       "Covariance estimator: robust\n",
       "\"\"\""
      ]
     },
     "execution_count": 9,
     "metadata": {},
     "output_type": "execute_result"
    }
   ],
   "source": [
    "garch_estimation_result.result.summary()"
   ]
  },
  {
   "cell_type": "code",
   "execution_count": 10,
   "metadata": {
    "ExecuteTime": {
     "end_time": "2020-12-01T02:53:41.210348Z",
     "start_time": "2020-12-01T02:53:39.975059Z"
    }
   },
   "outputs": [
    {
     "data": {
      "image/png": "[encoded data removed]",
      "text/plain": [
       "<Figure size 432x288 with 2 Axes>"
      ]
     },
     "execution_count": 10,
     "metadata": {},
     "output_type": "execute_result"
    },
    {
     "data": {
      "image/png": "[encoded data removed]",
      "text/plain": [
       "<Figure size 432x288 with 2 Axes>"
      ]
     },
     "metadata": {
      "needs_background": "light"
     },
     "output_type": "display_data"
    }
   ],
   "source": [
    "garch_estimation_result.result.plot()"
   ]
  },
  {
   "cell_type": "markdown",
   "metadata": {},
   "source": [
    "# Simulate New Path Using GARCH"
   ]
  },
  {
   "cell_type": "code",
   "execution_count": 11,
   "metadata": {
    "ExecuteTime": {
     "end_time": "2020-12-01T02:53:52.638760Z",
     "start_time": "2020-12-01T02:53:41.211877Z"
    }
   },
   "outputs": [],
   "source": [
    "2# This is pretty slow. I intend to speed this up later on.\n",
    "garch_simulation_result = \\\n",
    "    garch_estimation_result.simulate(path_length=path_length, \n",
    "                                     initial_discard_length=500)"
   ]
  },
  {
   "cell_type": "code",
   "execution_count": 12,
   "metadata": {
    "ExecuteTime": {
     "end_time": "2020-12-01T02:53:52.687771Z",
     "start_time": "2020-12-01T02:53:52.640791Z"
    }
   },
   "outputs": [
    {
     "data": {
      "text/plain": [
       "0   -0.000055\n",
       "1   -0.000016\n",
       "2   -0.000280\n",
       "3    0.000052\n",
       "4   -0.000215\n",
       "Name: data, dtype: float64"
      ]
     },
     "execution_count": 12,
     "metadata": {},
     "output_type": "execute_result"
    }
   ],
   "source": [
    "garch_simulation_result.head()"
   ]
  },
  {
   "cell_type": "markdown",
   "metadata": {},
   "source": [
    "This is the simulated time series"
   ]
  },
  {
   "cell_type": "code",
   "execution_count": 13,
   "metadata": {
    "ExecuteTime": {
     "end_time": "2020-12-01T02:53:53.096710Z",
     "start_time": "2020-12-01T02:53:52.689355Z"
    },
    "scrolled": true
   },
   "outputs": [
    {
     "data": {
      "image/png": "[encoded data removed]",
      "text/plain": [
       "<Figure size 432x288 with 1 Axes>"
      ]
     },
     "metadata": {
      "needs_background": "light"
     },
     "output_type": "display_data"
    }
   ],
   "source": [
    "plt.plot(garch_simulation_result);"
   ]
  },
  {
   "cell_type": "markdown",
   "metadata": {},
   "source": [
    "Note that the GARCH model succeeds at capturing average volatility during typical times but is unable to generate a few extreme returns."
   ]
  },
  {
   "cell_type": "code",
   "execution_count": 14,
   "metadata": {
    "ExecuteTime": {
     "end_time": "2020-12-01T02:53:56.417183Z",
     "start_time": "2020-12-01T02:53:53.098663Z"
    }
   },
   "outputs": [
    {
     "data": {
      "image/png": "[encoded data removed]",
      "text/plain": [
       "<Figure size 432x288 with 1 Axes>"
      ]
     },
     "metadata": {
      "needs_background": "light"
     },
     "output_type": "display_data"
    }
   ],
   "source": [
    "plt.plot(garch_simulation_result, label='GARCH simulation');\n",
    "plt.plot(price_history.unscaled_log_returns.values, label='historical data');\n",
    "plt.legend();"
   ]
  },
  {
   "cell_type": "markdown",
   "metadata": {},
   "source": [
    "This model mis-specification arising from the T-distribution's inability to generate sufficiently heavy tails will be addressed by the non-parametric block-bootstrap."
   ]
  },
  {
   "cell_type": "markdown",
   "metadata": {},
   "source": [
    "This can be seen in the QQ-Plot (note the outliers at the extremes)"
   ]
  },
  {
   "cell_type": "code",
   "execution_count": 15,
   "metadata": {
    "ExecuteTime": {
     "end_time": "2020-12-01T02:54:04.220516Z",
     "start_time": "2020-12-01T02:53:56.418775Z"
    }
   },
   "outputs": [
    {
     "data": {
      "image/png": "[encoded data removed]",
      "text/plain": [
       "<Figure size 432x288 with 1 Axes>"
      ]
     },
     "metadata": {
      "needs_background": "light"
     },
     "output_type": "display_data"
    }
   ],
   "source": [
    "garch_estimation_result.qq_plot();"
   ]
  },
  {
   "cell_type": "markdown",
   "metadata": {},
   "source": [
    "# Simulate New Path Using Block Bootstrap"
   ]
  },
  {
   "cell_type": "markdown",
   "metadata": {},
   "source": [
    "Make the block size approximately 6 hours"
   ]
  },
  {
   "cell_type": "code",
   "execution_count": 16,
   "metadata": {
    "ExecuteTime": {
     "end_time": "2020-12-01T02:54:04.274229Z",
     "start_time": "2020-12-01T02:54:04.223378Z"
    }
   },
   "outputs": [],
   "source": [
    "# block_length = math.ceil(6 * 60 * 60 / time_resolution.in_seconds)\n",
    "block_length = math.ceil(4 * 24 * 60 * 60 / time_resolution.in_seconds)\n",
    "# block_length"
   ]
  },
  {
   "cell_type": "code",
   "execution_count": 17,
   "metadata": {
    "ExecuteTime": {
     "end_time": "2020-12-01T02:54:04.670102Z",
     "start_time": "2020-12-01T02:54:04.276523Z"
    }
   },
   "outputs": [],
   "source": [
    "bootstrap_simulation_result = \\\n",
    "    stationary_bootstrap(x=price_history.unscaled_log_returns, \n",
    "                         block_length=block_length, \n",
    "                         replications=1).squeeze()"
   ]
  },
  {
   "cell_type": "code",
   "execution_count": 18,
   "metadata": {
    "ExecuteTime": {
     "end_time": "2020-12-01T02:54:05.341231Z",
     "start_time": "2020-12-01T02:54:04.673944Z"
    }
   },
   "outputs": [
    {
     "data": {
      "image/png": "[encoded data removed]",
      "text/plain": [
       "<Figure size 432x288 with 1 Axes>"
      ]
     },
     "metadata": {
      "needs_background": "light"
     },
     "output_type": "display_data"
    }
   ],
   "source": [
    "plt.plot(bootstrap_simulation_result, label='bootstrap simulation');\n",
    "plt.plot(price_history.unscaled_log_returns.values, label='historical data');\n",
    "plt.legend(loc=2);"
   ]
  },
  {
   "cell_type": "code",
   "execution_count": 19,
   "metadata": {
    "ExecuteTime": {
     "end_time": "2020-12-01T02:54:07.861114Z",
     "start_time": "2020-12-01T02:54:05.343751Z"
    }
   },
   "outputs": [
    {
     "data": {
      "image/png": "[encoded data removed]",
      "text/plain": [
       "<Figure size 432x288 with 1 Axes>"
      ]
     },
     "metadata": {
      "needs_background": "light"
     },
     "output_type": "display_data"
    }
   ],
   "source": [
    "qqplot_2samples(bootstrap_simulation_result, price_history.unscaled_log_returns.values);"
   ]
  },
  {
   "cell_type": "markdown",
   "metadata": {},
   "source": [
    "Estimate GARCH model with t-distributed errors from boostrap"
   ]
  },
  {
   "cell_type": "code",
   "execution_count": 20,
   "metadata": {
    "ExecuteTime": {
     "end_time": "2020-12-01T02:54:25.759222Z",
     "start_time": "2020-12-01T02:54:07.863165Z"
    }
   },
   "outputs": [
    {
     "name": "stdout",
     "output_type": "stream",
     "text": [
      "Iteration:      1,   Func. Count:      6,   Neg. LLF: 1793383.8958818512\n",
      "Optimization terminated successfully    (Exit mode 0)\n",
      "            Current function value: 1793383.8950834607\n",
      "            Iterations: 5\n",
      "            Function evaluations: 6\n",
      "            Gradient evaluations: 1\n"
     ]
    },
    {
     "data": {
      "text/html": [
       "<table class=\"simpletable\">\n",
       "<caption>Constant Mean - GARCH Model Results</caption>\n",
       "<tr>\n",
       "  <th>Dep. Variable:</th>             <td>y</td>            <th>  R-squared:         </th>   <td>   0.000</td>  \n",
       "</tr>\n",
       "<tr>\n",
       "  <th>Mean Model:</th>          <td>Constant Mean</td>      <th>  Adj. R-squared:    </th>   <td>   0.000</td>  \n",
       "</tr>\n",
       "<tr>\n",
       "  <th>Vol Model:</th>               <td>GARCH</td>          <th>  Log-Likelihood:    </th> <td>-1.79338e+06</td>\n",
       "</tr>\n",
       "<tr>\n",
       "  <th>Distribution:</th>  <td>Standardized Student's t</td> <th>  AIC:               </th>  <td>3.58678e+06</td>\n",
       "</tr>\n",
       "<tr>\n",
       "  <th>Method:</th>           <td>Maximum Likelihood</td>    <th>  BIC:               </th>  <td>3.58684e+06</td>\n",
       "</tr>\n",
       "<tr>\n",
       "  <th></th>                           <td></td>             <th>  No. Observations:  </th>    <td>2515223</td>  \n",
       "</tr>\n",
       "<tr>\n",
       "  <th>Date:</th>              <td>Tue, Dec 01 2020</td>     <th>  Df Residuals:      </th>    <td>2515218</td>  \n",
       "</tr>\n",
       "<tr>\n",
       "  <th>Time:</th>                  <td>14:18:52</td>         <th>  Df Model:          </th>       <td>5</td>     \n",
       "</tr>\n",
       "</table>\n",
       "<table class=\"simpletable\">\n",
       "<caption>Mean Model</caption>\n",
       "<tr>\n",
       "   <td></td>     <th>coef</th>      <th>std err</th>      <th>t</th>       <th>P>|t|</th>      <th>95.0% Conf. Int.</th>    \n",
       "</tr>\n",
       "<tr>\n",
       "  <th>mu</th> <td>-5.0516e-04</td> <td>1.578e-04</td> <td>   -3.202</td> <td>1.364e-03</td> <td>[-8.144e-04,-1.960e-04]</td>\n",
       "</tr>\n",
       "</table>\n",
       "<table class=\"simpletable\">\n",
       "<caption>Volatility Model</caption>\n",
       "<tr>\n",
       "      <td></td>        <th>coef</th>     <th>std err</th>      <th>t</th>     <th>P>|t|</th>   <th>95.0% Conf. Int.</th>   \n",
       "</tr>\n",
       "<tr>\n",
       "  <th>omega</th>    <td>    0.0215</td> <td>1.048e-04</td> <td>  205.463</td> <td>0.000</td> <td>[2.133e-02,2.174e-02]</td>\n",
       "</tr>\n",
       "<tr>\n",
       "  <th>alpha[1]</th> <td>    0.2000</td> <td>9.170e-04</td> <td>  218.109</td> <td>0.000</td>   <td>[  0.198,  0.202]</td>  \n",
       "</tr>\n",
       "<tr>\n",
       "  <th>beta[1]</th>  <td>    0.7800</td> <td>7.389e-04</td> <td> 1055.585</td> <td>0.000</td>   <td>[  0.779,  0.781]</td>  \n",
       "</tr>\n",
       "</table>\n",
       "<table class=\"simpletable\">\n",
       "<caption>Distribution</caption>\n",
       "<tr>\n",
       "   <td></td>     <th>coef</th>     <th>std err</th>      <th>t</th>     <th>P>|t|</th> <th>95.0% Conf. Int.</th> \n",
       "</tr>\n",
       "<tr>\n",
       "  <th>nu</th> <td>    4.0107</td> <td>5.429e-03</td> <td>  738.752</td> <td>0.000</td> <td>[  4.000,  4.021]</td>\n",
       "</tr>\n",
       "</table><br/><br/>Covariance estimator: robust"
      ],
      "text/plain": [
       "<class 'statsmodels.iolib.summary.Summary'>\n",
       "\"\"\"\n",
       "                        Constant Mean - GARCH Model Results                         \n",
       "====================================================================================\n",
       "Dep. Variable:                            y   R-squared:                       0.000\n",
       "Mean Model:                   Constant Mean   Adj. R-squared:                  0.000\n",
       "Vol Model:                            GARCH   Log-Likelihood:           -1.79338e+06\n",
       "Distribution:      Standardized Student's t   AIC:                       3.58678e+06\n",
       "Method:                  Maximum Likelihood   BIC:                       3.58684e+06\n",
       "                                              No. Observations:              2515223\n",
       "Date:                      Tue, Dec 01 2020   Df Residuals:                  2515218\n",
       "Time:                              14:18:52   Df Model:                            5\n",
       "                                   Mean Model                                  \n",
       "===============================================================================\n",
       "                  coef    std err          t      P>|t|        95.0% Conf. Int.\n",
       "-------------------------------------------------------------------------------\n",
       "mu         -5.0516e-04  1.578e-04     -3.202  1.364e-03 [-8.144e-04,-1.960e-04]\n",
       "                              Volatility Model                              \n",
       "============================================================================\n",
       "                 coef    std err          t      P>|t|      95.0% Conf. Int.\n",
       "----------------------------------------------------------------------------\n",
       "omega          0.0215  1.048e-04    205.463      0.000 [2.133e-02,2.174e-02]\n",
       "alpha[1]       0.2000  9.170e-04    218.109      0.000     [  0.198,  0.202]\n",
       "beta[1]        0.7800  7.389e-04   1055.585      0.000     [  0.779,  0.781]\n",
       "                              Distribution                              \n",
       "========================================================================\n",
       "                 coef    std err          t      P>|t|  95.0% Conf. Int.\n",
       "------------------------------------------------------------------------\n",
       "nu             4.0107  5.429e-03    738.752      0.000 [  4.000,  4.021]\n",
       "========================================================================\n",
       "\n",
       "Covariance estimator: robust\n",
       "\"\"\""
      ]
     },
     "execution_count": 20,
     "metadata": {},
     "output_type": "execute_result"
    }
   ],
   "source": [
    "garch_11_t = \\\n",
    "    arch.arch_model(compute_scaled_log_returns(bootstrap_simulation_result, \n",
    "                                               period_length_in_seconds=time_resolution.in_seconds), \n",
    "                    vol='garch', \n",
    "                    p=1, \n",
    "                    o=0, \n",
    "                    q=1, \n",
    "                    dist='StudentsT'\n",
    "                   )\n",
    "garch_11_t_fitted = garch_11_t.fit()\n",
    "garch_11_t_fitted.summary()"
   ]
  },
  {
   "cell_type": "markdown",
   "metadata": {},
   "source": [
    "The GARCH volatility and distribution coefficients are close to those estimated from the original time series."
   ]
  },
  {
   "cell_type": "code",
   "execution_count": null,
   "metadata": {},
   "outputs": [],
   "source": []
  }
 ],
 "metadata": {
  "kernelspec": {
   "display_name": "Python 3",
   "language": "python",
   "name": "python3"
  },
  "language_info": {
   "codemirror_mode": {
    "name": "ipython",
    "version": 3
   },
   "file_extension": ".py",
   "mimetype": "text/x-python",
   "name": "python",
   "nbconvert_exporter": "python",
   "pygments_lexer": "ipython3",
   "version": "3.8.5"
  },
  "toc": {
   "base_numbering": 1,
   "nav_menu": {},
   "number_sections": true,
   "sideBar": true,
   "skip_h1_title": false,
   "title_cell": "Table of Contents",
   "title_sidebar": "Contents",
   "toc_cell": false,
   "toc_position": {},
   "toc_section_display": true,
   "toc_window_display": false
  }
 },
 "nbformat": 4,
 "nbformat_minor": 4
}
