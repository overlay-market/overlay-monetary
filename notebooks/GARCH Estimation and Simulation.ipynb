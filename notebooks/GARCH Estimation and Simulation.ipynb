{
 "cells": [
  {
   "cell_type": "markdown",
   "metadata": {},
   "source": [
    "# Import Stuff"
   ]
  },
  {
   "cell_type": "code",
   "execution_count": 1,
   "metadata": {
    "ExecuteTime": {
     "end_time": "2021-01-16T18:15:31.177089Z",
     "start_time": "2021-01-16T18:15:31.154083Z"
    }
   },
   "outputs": [],
   "source": [
    "%load_ext autoreload\n",
    "%autoreload 2"
   ]
  },
  {
   "cell_type": "code",
   "execution_count": 2,
   "metadata": {
    "ExecuteTime": {
     "end_time": "2021-01-16T18:15:32.936277Z",
     "start_time": "2021-01-16T18:15:31.179685Z"
    }
   },
   "outputs": [
    {
     "name": "stdout",
     "output_type": "stream",
     "text": [
      "environment variable OVERLAY_MONETARY_BASE_PATH not set defaulting to /home/michael/PycharmProjects/overlay-monetary\n"
     ]
    }
   ],
   "source": [
    "from datetime import datetime\n",
    "import math\n",
    "import typing as tp\n",
    "\n",
    "import arch\n",
    "import matplotlib.pyplot as plt\n",
    "import numpy as np\n",
    "import os\n",
    "import pandas as pd\n",
    "import pyarrow\n",
    "from recombinator import stationary_bootstrap\n",
    "import scipy as sp\n",
    "import statsmodels.api as sm\n",
    "from statsmodels.graphics.gofplots import qqplot_2samples\n",
    "from statsmodels.tsa.stattools import adfuller\n",
    "\n",
    "from ovm.estimation.garch_estimation import estimate_garch_parameters\n",
    "\n",
    "from ovm.historical.data_io import (\n",
    "    PriceHistoryColumnNames as PHCN, \n",
    "    compute_scaling_factor, \n",
    "    compute_scaled_log_returns, \n",
    "    PriceHistory, \n",
    "    compute_number_of_days_in_price_history, \n",
    "    compute_log_returns_from_price_history, \n",
    "    save_price_histories, \n",
    "    load_price_history\n",
    ")\n",
    "\n",
    "from ovm.paths import (\n",
    "    HistoricalDataSource, \n",
    "    construct_historical_data_directory\n",
    ")\n",
    "\n",
    "from ovm.time_resolution import TimeResolution"
   ]
  },
  {
   "cell_type": "code",
   "execution_count": 3,
   "metadata": {
    "ExecuteTime": {
     "end_time": "2021-01-16T18:15:32.979865Z",
     "start_time": "2021-01-16T18:15:32.938716Z"
    }
   },
   "outputs": [],
   "source": [
    "%matplotlib inline"
   ]
  },
  {
   "cell_type": "markdown",
   "metadata": {},
   "source": [
    "# Set Parameters"
   ]
  },
  {
   "cell_type": "markdown",
   "metadata": {},
   "source": [
    "If you want to estimate and simulate a different time scale, make changes here but keep in mind that you need to download the appropriate historical data first (see data import notebook)."
   ]
  },
  {
   "cell_type": "code",
   "execution_count": 4,
   "metadata": {
    "ExecuteTime": {
     "end_time": "2021-01-16T18:15:33.025449Z",
     "start_time": "2021-01-16T18:15:32.982238Z"
    }
   },
   "outputs": [
    {
     "data": {
      "text/plain": [
       "'/home/michael/PycharmProjects/overlay-monetary/data/historical/ftx/15s'"
      ]
     },
     "execution_count": 4,
     "metadata": {},
     "output_type": "execute_result"
    }
   ],
   "source": [
    "time_resolution = TimeResolution.FIFTEEN_SECONDS\n",
    "directory_path = \\\n",
    "    construct_historical_data_directory(\n",
    "        historical_data_source=HistoricalDataSource.FTX, \n",
    "        time_resolution=time_resolution)\n",
    "directory_path"
   ]
  },
  {
   "cell_type": "code",
   "execution_count": 5,
   "metadata": {
    "ExecuteTime": {
     "end_time": "2021-01-16T18:15:33.070154Z",
     "start_time": "2021-01-16T18:15:33.027391Z"
    }
   },
   "outputs": [],
   "source": [
    "price_history_file_name = 'ETH-USD'"
   ]
  },
  {
   "cell_type": "markdown",
   "metadata": {},
   "source": [
    "# Load Price History"
   ]
  },
  {
   "cell_type": "code",
   "execution_count": 6,
   "metadata": {
    "ExecuteTime": {
     "end_time": "2021-01-16T18:15:33.286972Z",
     "start_time": "2021-01-16T18:15:33.072142Z"
    }
   },
   "outputs": [],
   "source": [
    "price_history = \\\n",
    "    load_price_history(filename=price_history_file_name, \n",
    "                       series_name=price_history_file_name, \n",
    "                       directory_path=directory_path, \n",
    "                       period_length_in_seconds=time_resolution.in_seconds)"
   ]
  },
  {
   "cell_type": "code",
   "execution_count": 7,
   "metadata": {
    "ExecuteTime": {
     "end_time": "2021-01-16T18:15:33.336210Z",
     "start_time": "2021-01-16T18:15:33.290231Z"
    }
   },
   "outputs": [],
   "source": [
    "path_length = len(price_history.price_history_df)"
   ]
  },
  {
   "cell_type": "markdown",
   "metadata": {},
   "source": [
    "# Estimate GARCH Model"
   ]
  },
  {
   "cell_type": "code",
   "execution_count": 8,
   "metadata": {
    "ExecuteTime": {
     "end_time": "2021-01-16T18:15:47.401197Z",
     "start_time": "2021-01-16T18:15:33.340898Z"
    }
   },
   "outputs": [
    {
     "name": "stdout",
     "output_type": "stream",
     "text": [
      "Iteration:      1,   Func. Count:      7,   Neg. LLF: 214398673.52729997\n",
      "Iteration:      2,   Func. Count:     20,   Neg. LLF: 1771834.7322120625\n",
      "Optimization terminated successfully    (Exit mode 0)\n",
      "            Current function value: 1771834.7315221645\n",
      "            Iterations: 6\n",
      "            Function evaluations: 20\n",
      "            Gradient evaluations: 2\n"
     ]
    }
   ],
   "source": [
    "garch_estimation_result = estimate_garch_parameters(price_history)"
   ]
  },
  {
   "cell_type": "code",
   "execution_count": 9,
   "metadata": {
    "ExecuteTime": {
     "end_time": "2021-01-16T18:15:54.834029Z",
     "start_time": "2021-01-16T18:15:47.404060Z"
    }
   },
   "outputs": [
    {
     "data": {
      "text/html": [
       "<table class=\"simpletable\">\n",
       "<caption>Constant Mean - GARCH Model Results</caption>\n",
       "<tr>\n",
       "  <th>Dep. Variable:</th>          <td>ETH-USD</td>         <th>  R-squared:         </th>   <td>  -0.000</td>  \n",
       "</tr>\n",
       "<tr>\n",
       "  <th>Mean Model:</th>          <td>Constant Mean</td>      <th>  Adj. R-squared:    </th>   <td>  -0.000</td>  \n",
       "</tr>\n",
       "<tr>\n",
       "  <th>Vol Model:</th>               <td>GARCH</td>          <th>  Log-Likelihood:    </th> <td>-1.77183e+06</td>\n",
       "</tr>\n",
       "<tr>\n",
       "  <th>Distribution:</th>  <td>Standardized Student's t</td> <th>  AIC:               </th>  <td>3.54368e+06</td>\n",
       "</tr>\n",
       "<tr>\n",
       "  <th>Method:</th>           <td>Maximum Likelihood</td>    <th>  BIC:               </th>  <td>3.54374e+06</td>\n",
       "</tr>\n",
       "<tr>\n",
       "  <th></th>                           <td></td>             <th>  No. Observations:  </th>    <td>2515223</td>  \n",
       "</tr>\n",
       "<tr>\n",
       "  <th>Date:</th>              <td>Mon, Jan 25 2021</td>     <th>  Df Residuals:      </th>    <td>2515218</td>  \n",
       "</tr>\n",
       "<tr>\n",
       "  <th>Time:</th>                  <td>19:56:46</td>         <th>  Df Model:          </th>       <td>5</td>     \n",
       "</tr>\n",
       "</table>\n",
       "<table class=\"simpletable\">\n",
       "<caption>Mean Model</caption>\n",
       "<tr>\n",
       "   <td></td>     <th>coef</th>     <th>std err</th>      <th>t</th>       <th>P>|t|</th>      <th>95.0% Conf. Int.</th>   \n",
       "</tr>\n",
       "<tr>\n",
       "  <th>mu</th> <td>7.1350e-05</td> <td>1.560e-04</td> <td>    0.457</td> <td>    0.647</td> <td>[-2.344e-04,3.771e-04]</td>\n",
       "</tr>\n",
       "</table>\n",
       "<table class=\"simpletable\">\n",
       "<caption>Volatility Model</caption>\n",
       "<tr>\n",
       "      <td></td>        <th>coef</th>     <th>std err</th>      <th>t</th>     <th>P>|t|</th>   <th>95.0% Conf. Int.</th>   \n",
       "</tr>\n",
       "<tr>\n",
       "  <th>omega</th>    <td>    0.0173</td> <td>1.096e-04</td> <td>  158.204</td> <td>0.000</td> <td>[1.712e-02,1.755e-02]</td>\n",
       "</tr>\n",
       "<tr>\n",
       "  <th>alpha[1]</th> <td>    0.2000</td> <td>9.204e-04</td> <td>  217.299</td> <td>0.000</td>   <td>[  0.198,  0.202]</td>  \n",
       "</tr>\n",
       "<tr>\n",
       "  <th>beta[1]</th>  <td>    0.7800</td> <td>8.549e-04</td> <td>  912.373</td> <td>0.000</td>   <td>[  0.778,  0.782]</td>  \n",
       "</tr>\n",
       "</table>\n",
       "<table class=\"simpletable\">\n",
       "<caption>Distribution</caption>\n",
       "<tr>\n",
       "   <td></td>     <th>coef</th>     <th>std err</th>      <th>t</th>     <th>P>|t|</th> <th>95.0% Conf. Int.</th> \n",
       "</tr>\n",
       "<tr>\n",
       "  <th>nu</th> <td>    4.0220</td> <td>7.024e-03</td> <td>  572.605</td> <td>0.000</td> <td>[  4.008,  4.036]</td>\n",
       "</tr>\n",
       "</table><br/><br/>Covariance estimator: robust"
      ],
      "text/plain": [
       "<class 'statsmodels.iolib.summary.Summary'>\n",
       "\"\"\"\n",
       "                        Constant Mean - GARCH Model Results                         \n",
       "====================================================================================\n",
       "Dep. Variable:                      ETH-USD   R-squared:                      -0.000\n",
       "Mean Model:                   Constant Mean   Adj. R-squared:                 -0.000\n",
       "Vol Model:                            GARCH   Log-Likelihood:           -1.77183e+06\n",
       "Distribution:      Standardized Student's t   AIC:                       3.54368e+06\n",
       "Method:                  Maximum Likelihood   BIC:                       3.54374e+06\n",
       "                                              No. Observations:              2515223\n",
       "Date:                      Mon, Jan 25 2021   Df Residuals:                  2515218\n",
       "Time:                              19:56:46   Df Model:                            5\n",
       "                                  Mean Model                                 \n",
       "=============================================================================\n",
       "                 coef    std err          t      P>|t|       95.0% Conf. Int.\n",
       "-----------------------------------------------------------------------------\n",
       "mu         7.1350e-05  1.560e-04      0.457      0.647 [-2.344e-04,3.771e-04]\n",
       "                              Volatility Model                              \n",
       "============================================================================\n",
       "                 coef    std err          t      P>|t|      95.0% Conf. Int.\n",
       "----------------------------------------------------------------------------\n",
       "omega          0.0173  1.096e-04    158.204      0.000 [1.712e-02,1.755e-02]\n",
       "alpha[1]       0.2000  9.204e-04    217.299      0.000     [  0.198,  0.202]\n",
       "beta[1]        0.7800  8.549e-04    912.373      0.000     [  0.778,  0.782]\n",
       "                              Distribution                              \n",
       "========================================================================\n",
       "                 coef    std err          t      P>|t|  95.0% Conf. Int.\n",
       "------------------------------------------------------------------------\n",
       "nu             4.0220  7.024e-03    572.605      0.000 [  4.008,  4.036]\n",
       "========================================================================\n",
       "\n",
       "Covariance estimator: robust\n",
       "\"\"\""
      ]
     },
     "execution_count": 9,
     "metadata": {},
     "output_type": "execute_result"
    }
   ],
   "source": [
    "garch_estimation_result.result.summary()"
   ]
  },
  {
   "cell_type": "code",
   "execution_count": 10,
   "metadata": {
    "ExecuteTime": {
     "end_time": "2021-01-16T18:15:56.230522Z",
     "start_time": "2021-01-16T18:15:54.836393Z"
    }
   },
   "outputs": [
    {
     "data": {
      "image/png": "[encoded data removed]",
      "text/plain": [
       "<Figure size 432x288 with 2 Axes>"
      ]
     },
     "execution_count": 10,
     "metadata": {},
     "output_type": "execute_result"
    },
    {
     "data": {
      "image/png": "[encoded data removed]",
      "text/plain": [
       "<Figure size 432x288 with 2 Axes>"
      ]
     },
     "metadata": {
      "needs_background": "light"
     },
     "output_type": "display_data"
    }
   ],
   "source": [
    "garch_estimation_result.result.plot()"
   ]
  },
  {
   "cell_type": "markdown",
   "metadata": {},
   "source": [
    "# Simulate New Path Using GARCH"
   ]
  },
  {
   "cell_type": "code",
   "execution_count": 11,
   "metadata": {
    "ExecuteTime": {
     "end_time": "2021-01-16T18:16:08.213787Z",
     "start_time": "2021-01-16T18:15:56.232968Z"
    }
   },
   "outputs": [],
   "source": [
    "2# This is pretty slow. I intend to speed this up later on.\n",
    "garch_simulation_result = \\\n",
    "    garch_estimation_result.simulate(path_length=path_length, \n",
    "                                     initial_discard_length=500)"
   ]
  },
  {
   "cell_type": "code",
   "execution_count": 12,
   "metadata": {
    "ExecuteTime": {
     "end_time": "2021-01-16T18:16:08.261909Z",
     "start_time": "2021-01-16T18:16:08.215648Z"
    }
   },
   "outputs": [
    {
     "data": {
      "text/plain": [
       "0    0.000354\n",
       "1   -0.000143\n",
       "2   -0.000280\n",
       "3   -0.000204\n",
       "4    0.000108\n",
       "Name: data, dtype: float64"
      ]
     },
     "execution_count": 12,
     "metadata": {},
     "output_type": "execute_result"
    }
   ],
   "source": [
    "garch_simulation_result.head()"
   ]
  },
  {
   "cell_type": "markdown",
   "metadata": {},
   "source": [
    "This is the simulated time series"
   ]
  },
  {
   "cell_type": "code",
   "execution_count": 13,
   "metadata": {
    "ExecuteTime": {
     "end_time": "2021-01-16T18:16:08.696065Z",
     "start_time": "2021-01-16T18:16:08.264134Z"
    },
    "scrolled": true
   },
   "outputs": [
    {
     "data": {
      "image/png": "[encoded data removed]",
      "text/plain": [
       "<Figure size 432x288 with 1 Axes>"
      ]
     },
     "metadata": {
      "needs_background": "light"
     },
     "output_type": "display_data"
    }
   ],
   "source": [
    "plt.plot(garch_simulation_result);"
   ]
  },
  {
   "cell_type": "markdown",
   "metadata": {},
   "source": [
    "Note that the GARCH model succeeds at capturing average volatility during typical times but is unable to generate a few extreme returns."
   ]
  },
  {
   "cell_type": "code",
   "execution_count": 14,
   "metadata": {
    "ExecuteTime": {
     "end_time": "2021-01-16T18:16:12.116568Z",
     "start_time": "2021-01-16T18:16:08.697720Z"
    }
   },
   "outputs": [
    {
     "data": {
      "image/png": "[encoded data removed]",
      "text/plain": [
       "<Figure size 432x288 with 1 Axes>"
      ]
     },
     "metadata": {
      "needs_background": "light"
     },
     "output_type": "display_data"
    }
   ],
   "source": [
    "plt.plot(garch_simulation_result, label='GARCH simulation');\n",
    "plt.plot(price_history.unscaled_log_returns.values, label='historical data');\n",
    "plt.legend();"
   ]
  },
  {
   "cell_type": "markdown",
   "metadata": {},
   "source": [
    "This model mis-specification arising from the T-distribution's inability to generate sufficiently heavy tails will be addressed by the non-parametric block-bootstrap."
   ]
  },
  {
   "cell_type": "markdown",
   "metadata": {},
   "source": [
    "This can be seen in the QQ-Plot (note the outliers at the extremes)"
   ]
  },
  {
   "cell_type": "code",
   "execution_count": 15,
   "metadata": {
    "ExecuteTime": {
     "end_time": "2021-01-16T18:16:19.240880Z",
     "start_time": "2021-01-16T18:16:12.118240Z"
    }
   },
   "outputs": [
    {
     "data": {
      "image/png": "[encoded data removed]",
      "text/plain": [
       "<Figure size 432x288 with 1 Axes>"
      ]
     },
     "metadata": {
      "needs_background": "light"
     },
     "output_type": "display_data"
    }
   ],
   "source": [
    "garch_estimation_result.qq_plot();"
   ]
  },
  {
   "cell_type": "markdown",
   "metadata": {},
   "source": [
    "# Simulate New Path Using Block Bootstrap"
   ]
  },
  {
   "cell_type": "markdown",
   "metadata": {},
   "source": [
    "Make the block size approximately 6 hours"
   ]
  },
  {
   "cell_type": "code",
   "execution_count": 16,
   "metadata": {
    "ExecuteTime": {
     "end_time": "2021-01-16T18:16:19.279027Z",
     "start_time": "2021-01-16T18:16:19.243235Z"
    }
   },
   "outputs": [],
   "source": [
    "# block_length = math.ceil(6 * 60 * 60 / time_resolution.in_seconds)\n",
    "block_length = math.ceil(4 * 24 * 60 * 60 / time_resolution.in_seconds)\n",
    "# block_length"
   ]
  },
  {
   "cell_type": "code",
   "execution_count": 17,
   "metadata": {
    "ExecuteTime": {
     "end_time": "2021-01-16T18:16:19.539987Z",
     "start_time": "2021-01-16T18:16:19.280776Z"
    }
   },
   "outputs": [],
   "source": [
    "bootstrap_simulation_result = \\\n",
    "    stationary_bootstrap(x=price_history.unscaled_log_returns, \n",
    "                         block_length=block_length, \n",
    "                         replications=1).squeeze()"
   ]
  },
  {
   "cell_type": "code",
   "execution_count": 18,
   "metadata": {
    "ExecuteTime": {
     "end_time": "2021-01-16T18:16:20.263324Z",
     "start_time": "2021-01-16T18:16:19.541735Z"
    }
   },
   "outputs": [
    {
     "data": {
      "image/png": "[encoded data removed]",
      "text/plain": [
       "<Figure size 432x288 with 1 Axes>"
      ]
     },
     "metadata": {
      "needs_background": "light"
     },
     "output_type": "display_data"
    }
   ],
   "source": [
    "plt.plot(bootstrap_simulation_result, label='bootstrap simulation');\n",
    "plt.plot(price_history.unscaled_log_returns.values, label='historical data');\n",
    "plt.legend(loc=2);"
   ]
  },
  {
   "cell_type": "code",
   "execution_count": 19,
   "metadata": {
    "ExecuteTime": {
     "end_time": "2021-01-16T18:16:22.725738Z",
     "start_time": "2021-01-16T18:16:20.265344Z"
    }
   },
   "outputs": [
    {
     "data": {
      "image/png": "[encoded data removed]",
      "text/plain": [
       "<Figure size 432x288 with 1 Axes>"
      ]
     },
     "metadata": {
      "needs_background": "light"
     },
     "output_type": "display_data"
    }
   ],
   "source": [
    "qqplot_2samples(bootstrap_simulation_result, price_history.unscaled_log_returns.values);"
   ]
  },
  {
   "cell_type": "markdown",
   "metadata": {},
   "source": [
    "Estimate GARCH model with t-distributed errors from boostrap"
   ]
  },
  {
   "cell_type": "code",
   "execution_count": 20,
   "metadata": {
    "ExecuteTime": {
     "end_time": "2021-01-16T18:16:37.097532Z",
     "start_time": "2021-01-16T18:16:22.728085Z"
    }
   },
   "outputs": [
    {
     "name": "stdout",
     "output_type": "stream",
     "text": [
      "Iteration:      1,   Func. Count:      7,   Neg. LLF: 874790601.1770648\n",
      "Iteration:      2,   Func. Count:     20,   Neg. LLF: 1941936.7896702925\n",
      "Optimization terminated successfully    (Exit mode 0)\n",
      "            Current function value: 1941936.7890308062\n",
      "            Iterations: 6\n",
      "            Function evaluations: 20\n",
      "            Gradient evaluations: 2\n"
     ]
    },
    {
     "data": {
      "text/html": [
       "<table class=\"simpletable\">\n",
       "<caption>Constant Mean - GARCH Model Results</caption>\n",
       "<tr>\n",
       "  <th>Dep. Variable:</th>             <td>y</td>            <th>  R-squared:         </th>   <td>  -0.000</td>  \n",
       "</tr>\n",
       "<tr>\n",
       "  <th>Mean Model:</th>          <td>Constant Mean</td>      <th>  Adj. R-squared:    </th>   <td>  -0.000</td>  \n",
       "</tr>\n",
       "<tr>\n",
       "  <th>Vol Model:</th>               <td>GARCH</td>          <th>  Log-Likelihood:    </th> <td>-1.94194e+06</td>\n",
       "</tr>\n",
       "<tr>\n",
       "  <th>Distribution:</th>  <td>Standardized Student's t</td> <th>  AIC:               </th>  <td>3.88388e+06</td>\n",
       "</tr>\n",
       "<tr>\n",
       "  <th>Method:</th>           <td>Maximum Likelihood</td>    <th>  BIC:               </th>  <td>3.88395e+06</td>\n",
       "</tr>\n",
       "<tr>\n",
       "  <th></th>                           <td></td>             <th>  No. Observations:  </th>    <td>2515223</td>  \n",
       "</tr>\n",
       "<tr>\n",
       "  <th>Date:</th>              <td>Mon, Jan 25 2021</td>     <th>  Df Residuals:      </th>    <td>2515218</td>  \n",
       "</tr>\n",
       "<tr>\n",
       "  <th>Time:</th>                  <td>19:57:18</td>         <th>  Df Model:          </th>       <td>5</td>     \n",
       "</tr>\n",
       "</table>\n",
       "<table class=\"simpletable\">\n",
       "<caption>Mean Model</caption>\n",
       "<tr>\n",
       "   <td></td>     <th>coef</th>      <th>std err</th>      <th>t</th>       <th>P>|t|</th>      <th>95.0% Conf. Int.</th>    \n",
       "</tr>\n",
       "<tr>\n",
       "  <th>mu</th> <td>-1.0363e-03</td> <td>1.665e-04</td> <td>   -6.225</td> <td>4.814e-10</td> <td>[-1.363e-03,-7.100e-04]</td>\n",
       "</tr>\n",
       "</table>\n",
       "<table class=\"simpletable\">\n",
       "<caption>Volatility Model</caption>\n",
       "<tr>\n",
       "      <td></td>        <th>coef</th>     <th>std err</th>      <th>t</th>     <th>P>|t|</th>   <th>95.0% Conf. Int.</th>   \n",
       "</tr>\n",
       "<tr>\n",
       "  <th>omega</th>    <td>    0.0196</td> <td>1.209e-04</td> <td>  161.809</td> <td>0.000</td> <td>[1.932e-02,1.980e-02]</td>\n",
       "</tr>\n",
       "<tr>\n",
       "  <th>alpha[1]</th> <td>    0.2000</td> <td>8.309e-04</td> <td>  240.712</td> <td>0.000</td>   <td>[  0.198,  0.202]</td>  \n",
       "</tr>\n",
       "<tr>\n",
       "  <th>beta[1]</th>  <td>    0.7800</td> <td>8.259e-04</td> <td>  944.411</td> <td>0.000</td>   <td>[  0.778,  0.782]</td>  \n",
       "</tr>\n",
       "</table>\n",
       "<table class=\"simpletable\">\n",
       "<caption>Distribution</caption>\n",
       "<tr>\n",
       "   <td></td>     <th>coef</th>     <th>std err</th>      <th>t</th>     <th>P>|t|</th> <th>95.0% Conf. Int.</th> \n",
       "</tr>\n",
       "<tr>\n",
       "  <th>nu</th> <td>    4.0258</td> <td>7.614e-03</td> <td>  528.724</td> <td>0.000</td> <td>[  4.011,  4.041]</td>\n",
       "</tr>\n",
       "</table><br/><br/>Covariance estimator: robust"
      ],
      "text/plain": [
       "<class 'statsmodels.iolib.summary.Summary'>\n",
       "\"\"\"\n",
       "                        Constant Mean - GARCH Model Results                         \n",
       "====================================================================================\n",
       "Dep. Variable:                            y   R-squared:                      -0.000\n",
       "Mean Model:                   Constant Mean   Adj. R-squared:                 -0.000\n",
       "Vol Model:                            GARCH   Log-Likelihood:           -1.94194e+06\n",
       "Distribution:      Standardized Student's t   AIC:                       3.88388e+06\n",
       "Method:                  Maximum Likelihood   BIC:                       3.88395e+06\n",
       "                                              No. Observations:              2515223\n",
       "Date:                      Mon, Jan 25 2021   Df Residuals:                  2515218\n",
       "Time:                              19:57:18   Df Model:                            5\n",
       "                                   Mean Model                                  \n",
       "===============================================================================\n",
       "                  coef    std err          t      P>|t|        95.0% Conf. Int.\n",
       "-------------------------------------------------------------------------------\n",
       "mu         -1.0363e-03  1.665e-04     -6.225  4.814e-10 [-1.363e-03,-7.100e-04]\n",
       "                              Volatility Model                              \n",
       "============================================================================\n",
       "                 coef    std err          t      P>|t|      95.0% Conf. Int.\n",
       "----------------------------------------------------------------------------\n",
       "omega          0.0196  1.209e-04    161.809      0.000 [1.932e-02,1.980e-02]\n",
       "alpha[1]       0.2000  8.309e-04    240.712      0.000     [  0.198,  0.202]\n",
       "beta[1]        0.7800  8.259e-04    944.411      0.000     [  0.778,  0.782]\n",
       "                              Distribution                              \n",
       "========================================================================\n",
       "                 coef    std err          t      P>|t|  95.0% Conf. Int.\n",
       "------------------------------------------------------------------------\n",
       "nu             4.0258  7.614e-03    528.724      0.000 [  4.011,  4.041]\n",
       "========================================================================\n",
       "\n",
       "Covariance estimator: robust\n",
       "\"\"\""
      ]
     },
     "execution_count": 20,
     "metadata": {},
     "output_type": "execute_result"
    }
   ],
   "source": [
    "garch_11_t = \\\n",
    "    arch.arch_model(compute_scaled_log_returns(bootstrap_simulation_result, \n",
    "                                               period_length_in_seconds=time_resolution.in_seconds), \n",
    "                    vol='garch', \n",
    "                    p=1, \n",
    "                    o=0, \n",
    "                    q=1, \n",
    "                    dist='StudentsT'\n",
    "                   )\n",
    "garch_11_t_fitted = garch_11_t.fit()\n",
    "garch_11_t_fitted.summary()"
   ]
  },
  {
   "cell_type": "markdown",
   "metadata": {},
   "source": [
    "The GARCH volatility and distribution coefficients are close to those estimated from the original time series."
   ]
  },
  {
   "cell_type": "code",
   "execution_count": null,
   "metadata": {},
   "outputs": [],
   "source": []
  }
 ],
 "metadata": {
  "kernelspec": {
   "display_name": "Python 3",
   "language": "python",
   "name": "python3"
  },
  "language_info": {
   "codemirror_mode": {
    "name": "ipython",
    "version": 3
   },
   "file_extension": ".py",
   "mimetype": "text/x-python",
   "name": "python",
   "nbconvert_exporter": "python",
   "pygments_lexer": "ipython3",
   "version": "3.8.5"
  },
  "toc": {
   "base_numbering": 1,
   "nav_menu": {},
   "number_sections": true,
   "sideBar": true,
   "skip_h1_title": false,
   "title_cell": "Table of Contents",
   "title_sidebar": "Contents",
   "toc_cell": false,
   "toc_position": {},
   "toc_section_display": true,
   "toc_window_display": false
  }
 },
 "nbformat": 4,
 "nbformat_minor": 4
}
