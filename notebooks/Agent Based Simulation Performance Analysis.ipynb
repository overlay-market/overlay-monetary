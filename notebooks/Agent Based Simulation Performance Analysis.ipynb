{
 "cells": [
  {
   "cell_type": "markdown",
   "metadata": {},
   "source": [
    "# Import Packages"
   ]
  },
  {
   "cell_type": "code",
   "execution_count": 1,
   "metadata": {
    "ExecuteTime": {
     "end_time": "2021-01-17T20:55:27.693866Z",
     "start_time": "2021-01-17T20:55:27.675283Z"
    }
   },
   "outputs": [],
   "source": [
    "%load_ext autoreload\n",
    "%autoreload 2"
   ]
  },
  {
   "cell_type": "code",
   "execution_count": 2,
   "metadata": {
    "ExecuteTime": {
     "end_time": "2021-01-17T20:55:28.080012Z",
     "start_time": "2021-01-17T20:55:27.695727Z"
    }
   },
   "outputs": [],
   "source": [
    "from ovm.monetary.model import MonetaryModel\n",
    "\n",
    "import logging\n",
    "import random\n",
    "import typing as tp\n",
    "\n",
    "import line_profiler\n",
    "\n",
    "from mesa.visualization.ModularVisualization import ModularServer\n",
    "from mesa.visualization.modules import ChartModule\n",
    "from tqdm import tqdm\n",
    "\n",
    "from ovm.monetary.agents import MonetaryArbitrageur\n",
    "from ovm.monetary.markets import MonetaryFMarket\n",
    "from ovm.monetary.model import MonetaryModel\n",
    "from ovm.monetary.data_io import construct_ticker_to_series_of_prices_map\n",
    "\n",
    "from ovm.tickers import (\n",
    "    ETH_USD_TICKER,\n",
    "    COMP_USD_TICKER,\n",
    "    LINK_USD_TICKER,\n",
    "    YFI_USD_TICKER\n",
    ")\n",
    "\n",
    "from ovm.time_resolution import TimeResolution"
   ]
  },
  {
   "cell_type": "code",
   "execution_count": 3,
   "metadata": {
    "ExecuteTime": {
     "end_time": "2021-01-17T20:55:28.101340Z",
     "start_time": "2021-01-17T20:55:28.082101Z"
    }
   },
   "outputs": [],
   "source": [
    "logger = logging.getLogger(__name__)"
   ]
  },
  {
   "cell_type": "code",
   "execution_count": 4,
   "metadata": {
    "ExecuteTime": {
     "end_time": "2021-01-17T20:55:28.129879Z",
     "start_time": "2021-01-17T20:55:28.103658Z"
    }
   },
   "outputs": [
    {
     "data": {
      "text/plain": [
       "0"
      ]
     },
     "execution_count": 4,
     "metadata": {},
     "output_type": "execute_result"
    }
   ],
   "source": [
    "logger.level"
   ]
  },
  {
   "cell_type": "code",
   "execution_count": 5,
   "metadata": {
    "ExecuteTime": {
     "end_time": "2021-01-17T20:55:28.153205Z",
     "start_time": "2021-01-17T20:55:28.131391Z"
    }
   },
   "outputs": [
    {
     "data": {
      "text/plain": [
       "'WARNING'"
      ]
     },
     "execution_count": 5,
     "metadata": {},
     "output_type": "execute_result"
    }
   ],
   "source": [
    "logging.getLevelName(logging.root.level)"
   ]
  },
  {
   "cell_type": "code",
   "execution_count": 6,
   "metadata": {
    "ExecuteTime": {
     "end_time": "2021-01-17T20:55:28.176948Z",
     "start_time": "2021-01-17T20:55:28.154766Z"
    }
   },
   "outputs": [
    {
     "data": {
      "text/plain": [
       "30"
      ]
     },
     "execution_count": 6,
     "metadata": {},
     "output_type": "execute_result"
    }
   ],
   "source": [
    "logging.root.level"
   ]
  },
  {
   "cell_type": "code",
   "execution_count": 7,
   "metadata": {
    "ExecuteTime": {
     "end_time": "2021-01-17T20:55:28.201434Z",
     "start_time": "2021-01-17T20:55:28.178440Z"
    }
   },
   "outputs": [],
   "source": [
    "%load_ext line_profiler"
   ]
  },
  {
   "cell_type": "markdown",
   "metadata": {},
   "source": [
    "# Set Parameters"
   ]
  },
  {
   "cell_type": "code",
   "execution_count": 8,
   "metadata": {
    "ExecuteTime": {
     "end_time": "2021-01-17T20:55:28.226448Z",
     "start_time": "2021-01-17T20:55:28.204511Z"
    }
   },
   "outputs": [],
   "source": [
    "number_of_steps_to_simulate = 100\n",
    "\n",
    "TIME_RESOLUTION = TimeResolution.FIFTEEN_SECONDS\n",
    "DATA_SIM_RNG = 42\n",
    "\n",
    "TICKERS = [ETH_USD_TICKER,\n",
    "           # not a long history of simulation (can we use a different token instead)\n",
    "           COMP_USD_TICKER,\n",
    "           # not a long history of simulation (can we use a different token instead)\n",
    "           LINK_USD_TICKER,\n",
    "           # less than half a year of simulation (can we use a different token instead)\n",
    "           YFI_USD_TICKER\n",
    "           ]"
   ]
  },
  {
   "cell_type": "markdown",
   "metadata": {},
   "source": [
    "# Load Data"
   ]
  },
  {
   "cell_type": "code",
   "execution_count": 9,
   "metadata": {
    "ExecuteTime": {
     "end_time": "2021-01-17T20:55:28.764397Z",
     "start_time": "2021-01-17T20:55:28.228936Z"
    }
   },
   "outputs": [],
   "source": [
    "ticker_to_time_series_of_prices_map = \\\n",
    "    construct_ticker_to_series_of_prices_map(data_sim_rng=DATA_SIM_RNG,\n",
    "                                             time_resolution=TIME_RESOLUTION,\n",
    "                                             tickers=TICKERS)"
   ]
  },
  {
   "cell_type": "code",
   "execution_count": 10,
   "metadata": {
    "ExecuteTime": {
     "end_time": "2021-01-17T20:55:28.927563Z",
     "start_time": "2021-01-17T20:55:28.766059Z"
    }
   },
   "outputs": [
    {
     "name": "stdout",
     "output_type": "stream",
     "text": [
      "Model kwargs for initial conditions of sim:\n",
      "num_arbitrageurs = 100\n",
      "num_keepers = 50\n",
      "num_traders = 2000\n",
      "num_holders = 5000\n",
      "base_wealth = 10.0\n"
     ]
    }
   ],
   "source": [
    "# \"\"\"\n",
    "# Configure visualization elements and instantiate a server\n",
    "# \"\"\"\n",
    "\n",
    "\n",
    "# def random_color():\n",
    "#     return '#%02X%02X%02X' % (random.randint(0, 255), random.randint(0, 255), random.randint(0, 255))\n",
    "\n",
    "\n",
    "\n",
    "# Constants\n",
    "STEPS_MONTH = int((86400*30) / TIME_RESOLUTION.in_seconds)\n",
    "\n",
    "\n",
    "\n",
    "total_supply = 100000  # OVL\n",
    "base_wealth = 0.0001*100000  # OVL\n",
    "base_market_fee = 0.0030\n",
    "base_max_leverage = 10.0\n",
    "time_liquidity_mine = STEPS_MONTH\n",
    "\n",
    "# For the first 30 days, emit until reach 100% of total supply; ONLY USE IN LIQUDITIY FOR NOW JUST AS TEST!\n",
    "liquidity_supply_emission = [(0.51*total_supply/time_liquidity_mine)*i + 0.285*total_supply\n",
    "                             for i\n",
    "                             in range(time_liquidity_mine)]\n",
    "\n",
    "num_arbitrageurs = max(len(ticker_to_time_series_of_prices_map.keys()) * 5,\n",
    "                       int(total_supply*0.01/base_wealth))\n",
    "num_keepers = max(len(ticker_to_time_series_of_prices_map.keys()), int(total_supply * 0.005 / base_wealth))\n",
    "num_traders = int(total_supply*0.2/base_wealth)\n",
    "num_holders = int(total_supply*0.5/base_wealth)\n",
    "num_agents = num_arbitrageurs + num_keepers + num_traders + num_holders\n",
    "\n",
    "liquidity = 0.285*total_supply\n",
    "treasury = 0.0\n",
    "sampling_interval = 240\n",
    "\n",
    "# TODO: Vary these initial num_ ... numbers; for init, reference empirical #s already seeing for diff projects\n",
    "MODEL_KWARGS = {\n",
    "    \"ticker_to_time_series_of_prices_map\": ticker_to_time_series_of_prices_map,\n",
    "    \"num_arbitrageurs\": num_arbitrageurs,\n",
    "    \"num_keepers\": num_keepers,\n",
    "    \"num_traders\": num_traders,\n",
    "    \"num_holders\": num_holders,\n",
    "    \"base_wealth\": base_wealth,\n",
    "    \"base_market_fee\": base_market_fee,\n",
    "    \"base_max_leverage\": base_max_leverage,\n",
    "    # Setting liquidity = 100x agent-owned OVL for now; TODO: eventually have this be a function/array\n",
    "    \"liquidity\": liquidity,\n",
    "    \"liquidity_supply_emission\": liquidity_supply_emission,\n",
    "    \"treasury\": treasury,\n",
    "    # TODO: 1920 ... 8h with 15s blocks (sim simulation is every 15s)\n",
    "    \"sampling_interval\": sampling_interval,\n",
    "}\n",
    "\n",
    "\n",
    "print(\"Model kwargs for initial conditions of sim:\")\n",
    "print(f\"num_arbitrageurs = {MODEL_KWARGS['num_arbitrageurs']}\")\n",
    "print(f\"num_keepers = {MODEL_KWARGS['num_keepers']}\")\n",
    "print(f\"num_traders = {MODEL_KWARGS['num_traders']}\")\n",
    "print(f\"num_holders = {MODEL_KWARGS['num_holders']}\")\n",
    "print(f\"base_wealth = {MODEL_KWARGS['base_wealth']}\")\n",
    "\n",
    "monetary_model = \\\n",
    "    MonetaryModel(num_arbitrageurs=num_arbitrageurs, \n",
    "                  num_keepers=num_keepers, \n",
    "                  num_traders=num_traders, \n",
    "                  num_holders=num_holders, \n",
    "                  ticker_to_time_series_of_prices_map=ticker_to_time_series_of_prices_map, \n",
    "                  base_wealth=base_wealth, \n",
    "                  base_market_fee=base_market_fee, \n",
    "                  base_max_leverage=base_max_leverage, \n",
    "                  liquidity=liquidity, \n",
    "                  liquidity_supply_emission=liquidity_supply_emission, \n",
    "                  treasury=treasury, \n",
    "                  sampling_interval=sampling_interval, \n",
    "                  collect_data=False)"
   ]
  },
  {
   "cell_type": "code",
   "execution_count": 11,
   "metadata": {
    "ExecuteTime": {
     "end_time": "2021-01-17T20:55:29.630041Z",
     "start_time": "2021-01-17T20:55:28.929350Z"
    }
   },
   "outputs": [],
   "source": [
    "for i in range(number_of_steps_to_simulate):\n",
    "    monetary_model.step()"
   ]
  },
  {
   "cell_type": "code",
   "execution_count": 12,
   "metadata": {
    "ExecuteTime": {
     "end_time": "2021-01-17T20:55:29.653348Z",
     "start_time": "2021-01-17T20:55:29.632092Z"
    }
   },
   "outputs": [],
   "source": [
    "def run_model(number_of_steps_to_simulate: int):\n",
    "    for i in range(number_of_steps_to_simulate):\n",
    "        monetary_model.step()"
   ]
  },
  {
   "cell_type": "code",
   "execution_count": 13,
   "metadata": {
    "ExecuteTime": {
     "end_time": "2021-01-17T20:55:32.192318Z",
     "start_time": "2021-01-17T20:55:29.655882Z"
    }
   },
   "outputs": [],
   "source": [
    "%lprun \\\n",
    "    -f MonetaryArbitrageur._unwind_positions \\\n",
    "    -f MonetaryArbitrageur._unwind_next_position \\\n",
    "    -f MonetaryArbitrageur.trade \\\n",
    "    -f MonetaryFMarket.build \\\n",
    "    -f MonetaryFMarket.unwind \\\n",
    "    -f MonetaryFMarket._swap \\\n",
    "    -f MonetaryFMarket.fund \\\n",
    "    -f MonetaryModel.step \\\n",
    "    run_model(number_of_steps_to_simulate)"
   ]
  },
  {
   "cell_type": "code",
   "execution_count": null,
   "metadata": {},
   "outputs": [],
   "source": []
  }
 ],
 "metadata": {
  "kernelspec": {
   "display_name": "Python 3",
   "language": "python",
   "name": "python3"
  },
  "language_info": {
   "codemirror_mode": {
    "name": "ipython",
    "version": 3
   },
   "file_extension": ".py",
   "mimetype": "text/x-python",
   "name": "python",
   "nbconvert_exporter": "python",
   "pygments_lexer": "ipython3",
   "version": "3.8.5"
  },
  "toc": {
   "base_numbering": 1,
   "nav_menu": {},
   "number_sections": true,
   "sideBar": true,
   "skip_h1_title": false,
   "title_cell": "Table of Contents",
   "title_sidebar": "Contents",
   "toc_cell": false,
   "toc_position": {},
   "toc_section_display": true,
   "toc_window_display": false
  }
 },
 "nbformat": 4,
 "nbformat_minor": 4
}
