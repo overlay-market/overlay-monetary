{
 "cells": [
  {
   "cell_type": "markdown",
   "metadata": {},
   "source": [
    "# Import Packages"
   ]
  },
  {
   "cell_type": "code",
   "execution_count": 1,
   "metadata": {
    "ExecuteTime": {
     "end_time": "2021-01-18T17:24:23.144303Z",
     "start_time": "2021-01-18T17:24:23.121281Z"
    }
   },
   "outputs": [],
   "source": [
    "%load_ext autoreload\n",
    "%autoreload 2"
   ]
  },
  {
   "cell_type": "code",
   "execution_count": 2,
   "metadata": {
    "ExecuteTime": {
     "end_time": "2021-01-18T17:24:23.627714Z",
     "start_time": "2021-01-18T17:24:23.146175Z"
    }
   },
   "outputs": [],
   "source": [
    "from ovm.monetary.model import MonetaryModel\n",
    "\n",
    "import logging\n",
    "import random\n",
    "import typing as tp\n",
    "\n",
    "import line_profiler\n",
    "\n",
    "from mesa.datacollection import DataCollector\n",
    "from mesa.visualization.ModularVisualization import ModularServer\n",
    "from mesa.visualization.modules import ChartModule\n",
    "from tqdm import tqdm\n",
    "\n",
    "from ovm.monetary.agents import (\n",
    "    MonetaryAgent, \n",
    "    MonetaryArbitrageur, \n",
    "    MonetaryKeeper\n",
    ")\n",
    "\n",
    "from ovm.monetary.markets import MonetaryFMarket\n",
    "from ovm.monetary.model import MonetaryModel\n",
    "from ovm.monetary.options import DataCollectionOptions\n",
    "\n",
    "from ovm.monetary.reporters import *\n",
    "from ovm.monetary.data_io import construct_ticker_to_series_of_prices_map\n",
    "\n",
    "from ovm.tickers import (\n",
    "    ETH_USD_TICKER,\n",
    "    COMP_USD_TICKER,\n",
    "    LINK_USD_TICKER,\n",
    "    YFI_USD_TICKER\n",
    ")\n",
    "\n",
    "from ovm.time_resolution import TimeResolution"
   ]
  },
  {
   "cell_type": "code",
   "execution_count": 3,
   "metadata": {
    "ExecuteTime": {
     "end_time": "2021-01-18T17:24:23.657911Z",
     "start_time": "2021-01-18T17:24:23.630205Z"
    }
   },
   "outputs": [
    {
     "data": {
      "text/plain": [
       "0"
      ]
     },
     "execution_count": 3,
     "metadata": {},
     "output_type": "execute_result"
    }
   ],
   "source": [
    "logger = logging.getLogger(__name__)\n",
    "logger.level"
   ]
  },
  {
   "cell_type": "code",
   "execution_count": 4,
   "metadata": {
    "ExecuteTime": {
     "end_time": "2021-01-18T17:24:23.684411Z",
     "start_time": "2021-01-18T17:24:23.660126Z"
    }
   },
   "outputs": [
    {
     "data": {
      "text/plain": [
       "'WARNING'"
      ]
     },
     "execution_count": 4,
     "metadata": {},
     "output_type": "execute_result"
    }
   ],
   "source": [
    "logging.getLevelName(logging.root.level)"
   ]
  },
  {
   "cell_type": "code",
   "execution_count": 5,
   "metadata": {
    "ExecuteTime": {
     "end_time": "2021-01-18T17:24:23.709774Z",
     "start_time": "2021-01-18T17:24:23.686179Z"
    }
   },
   "outputs": [
    {
     "data": {
      "text/plain": [
       "30"
      ]
     },
     "execution_count": 5,
     "metadata": {},
     "output_type": "execute_result"
    }
   ],
   "source": [
    "logging.root.level"
   ]
  },
  {
   "cell_type": "code",
   "execution_count": 6,
   "metadata": {
    "ExecuteTime": {
     "end_time": "2021-01-18T17:24:23.734663Z",
     "start_time": "2021-01-18T17:24:23.711330Z"
    }
   },
   "outputs": [],
   "source": [
    "%load_ext line_profiler"
   ]
  },
  {
   "cell_type": "markdown",
   "metadata": {},
   "source": [
    "# Set Parameters"
   ]
  },
  {
   "cell_type": "code",
   "execution_count": 7,
   "metadata": {
    "ExecuteTime": {
     "end_time": "2021-01-18T17:24:23.767039Z",
     "start_time": "2021-01-18T17:24:23.736686Z"
    }
   },
   "outputs": [],
   "source": [
    "number_of_steps_to_simulate = 100\n",
    "\n",
    "TIME_RESOLUTION = TimeResolution.FIFTEEN_SECONDS\n",
    "DATA_SIM_RNG = 42\n",
    "\n",
    "TICKERS = [ETH_USD_TICKER,\n",
    "           # not a long history of simulation (can we use a different token instead)\n",
    "           COMP_USD_TICKER,\n",
    "           # not a long history of simulation (can we use a different token instead)\n",
    "           LINK_USD_TICKER,\n",
    "           # less than half a year of simulation (can we use a different token instead)\n",
    "           YFI_USD_TICKER\n",
    "           ]"
   ]
  },
  {
   "cell_type": "markdown",
   "metadata": {},
   "source": [
    "# Load Data"
   ]
  },
  {
   "cell_type": "code",
   "execution_count": 8,
   "metadata": {
    "ExecuteTime": {
     "end_time": "2021-01-18T17:24:24.302961Z",
     "start_time": "2021-01-18T17:24:23.770970Z"
    }
   },
   "outputs": [],
   "source": [
    "ticker_to_time_series_of_prices_map = \\\n",
    "    construct_ticker_to_series_of_prices_map(data_sim_rng=DATA_SIM_RNG,\n",
    "                                             time_resolution=TIME_RESOLUTION,\n",
    "                                             tickers=TICKERS)"
   ]
  },
  {
   "cell_type": "code",
   "execution_count": 17,
   "metadata": {
    "ExecuteTime": {
     "end_time": "2021-01-18T17:26:10.930861Z",
     "start_time": "2021-01-18T17:26:10.827329Z"
    }
   },
   "outputs": [],
   "source": [
    "# \"\"\"\n",
    "# Configure visualization elements and instantiate a server\n",
    "# \"\"\"\n",
    "\n",
    "\n",
    "# def random_color():\n",
    "#     return '#%02X%02X%02X' % (random.randint(0, 255), random.randint(0, 255), random.randint(0, 255))\n",
    "\n",
    "\n",
    "\n",
    "# Constants\n",
    "STEPS_MONTH = int((86400*30) / TIME_RESOLUTION.in_seconds)\n",
    "\n",
    "\n",
    "\n",
    "total_supply = 100000  # OVL\n",
    "base_wealth = 0.0001*100000  # OVL\n",
    "base_market_fee = 0.0030\n",
    "base_max_leverage = 10.0\n",
    "time_liquidity_mine = STEPS_MONTH\n",
    "\n",
    "# For the first 30 days, emit until reach 100% of total supply; ONLY USE IN LIQUDITIY FOR NOW JUST AS TEST!\n",
    "liquidity_supply_emission = [(0.51*total_supply/time_liquidity_mine)*i + 0.285*total_supply\n",
    "                             for i\n",
    "                             in range(time_liquidity_mine)]\n",
    "\n",
    "num_arbitrageurs = max(len(ticker_to_time_series_of_prices_map.keys()) * 5,\n",
    "                       int(total_supply*0.01/base_wealth))\n",
    "num_keepers = max(len(ticker_to_time_series_of_prices_map.keys()), int(total_supply * 0.005 / base_wealth))\n",
    "num_traders = int(total_supply*0.2/base_wealth)\n",
    "num_holders = int(total_supply*0.5/base_wealth)\n",
    "num_agents = num_arbitrageurs + num_keepers + num_traders + num_holders\n",
    "\n",
    "liquidity = 0.285*total_supply\n",
    "treasury = 0.0\n",
    "sampling_interval = 240\n",
    "\n",
    "# TODO: Vary these initial num_ ... numbers; for init, reference empirical #s already seeing for diff projects\n",
    "MODEL_KWARGS = {\n",
    "    \"ticker_to_time_series_of_prices_map\": ticker_to_time_series_of_prices_map,\n",
    "    \"num_arbitrageurs\": num_arbitrageurs,\n",
    "    \"num_keepers\": num_keepers,\n",
    "    \"num_traders\": num_traders,\n",
    "    \"num_holders\": num_holders,\n",
    "    \"base_wealth\": base_wealth,\n",
    "    \"base_market_fee\": base_market_fee,\n",
    "    \"base_max_leverage\": base_max_leverage,\n",
    "    # Setting liquidity = 100x agent-owned OVL for now; TODO: eventually have this be a function/array\n",
    "    \"liquidity\": liquidity,\n",
    "    \"liquidity_supply_emission\": liquidity_supply_emission,\n",
    "    \"treasury\": treasury,\n",
    "    # TODO: 1920 ... 8h with 15s blocks (sim simulation is every 15s)\n",
    "    \"sampling_interval\": sampling_interval,\n",
    "}\n",
    "\n",
    "data_collection_options = \\\n",
    "    DataCollectionOptions(perform_data_collection=True, \n",
    "                          compute_gini_coefficient=False,\n",
    "                          compute_wealth=False,\n",
    "                          compute_inventory_wealth=False)\n",
    "\n",
    "\n",
    "monetary_model = \\\n",
    "    MonetaryModel(num_arbitrageurs=num_arbitrageurs, \n",
    "                  num_keepers=num_keepers, \n",
    "                  num_traders=num_traders, \n",
    "                  num_holders=num_holders, \n",
    "                  ticker_to_time_series_of_prices_map=ticker_to_time_series_of_prices_map, \n",
    "                  base_wealth=base_wealth, \n",
    "                  base_market_fee=base_market_fee, \n",
    "                  base_max_leverage=base_max_leverage, \n",
    "                  liquidity=liquidity, \n",
    "                  liquidity_supply_emission=liquidity_supply_emission, \n",
    "                  treasury=treasury, \n",
    "                  sampling_interval=sampling_interval, \n",
    "                  data_collection_options=data_collection_options)"
   ]
  },
  {
   "cell_type": "code",
   "execution_count": 18,
   "metadata": {
    "ExecuteTime": {
     "end_time": "2021-01-18T17:26:12.205377Z",
     "start_time": "2021-01-18T17:26:11.174001Z"
    }
   },
   "outputs": [],
   "source": [
    "for i in range(number_of_steps_to_simulate):\n",
    "    monetary_model.step()"
   ]
  },
  {
   "cell_type": "code",
   "execution_count": 11,
   "metadata": {
    "ExecuteTime": {
     "end_time": "2021-01-18T17:24:25.508837Z",
     "start_time": "2021-01-18T17:24:25.487464Z"
    }
   },
   "outputs": [],
   "source": [
    "def run_model(number_of_steps_to_simulate: int):\n",
    "    for i in range(number_of_steps_to_simulate):\n",
    "        monetary_model.step()"
   ]
  },
  {
   "cell_type": "code",
   "execution_count": 12,
   "metadata": {
    "ExecuteTime": {
     "end_time": "2021-01-18T17:24:29.509502Z",
     "start_time": "2021-01-18T17:24:25.510555Z"
    }
   },
   "outputs": [],
   "source": [
    "%lprun \\\n",
    "    -f compute_gini \\\n",
    "    -f compute_price_difference \\\n",
    "    -f compute_futures_price \\\n",
    "    -f compute_spot_price \\\n",
    "    -f compute_supply \\\n",
    "    -f compute_liquidity \\\n",
    "    -f compute_treasury \\\n",
    "    -f compute_wealth_for_agent_type \\\n",
    "    -f compute_inventory_wealth_for_agent \\\n",
    "    -f compute_inventory_wealth_for_agent_type \\\n",
    "    -f compute_positional_imbalance_by_market \\\n",
    "    -f DataCollector.collect \\\n",
    "    -f MonetaryAgent.step \\\n",
    "    -f MonetaryArbitrageur._unwind_positions \\\n",
    "    -f MonetaryArbitrageur._unwind_next_position \\\n",
    "    -f MonetaryArbitrageur.trade \\\n",
    "    -f MonetaryArbitrageur.step \\\n",
    "    -f MonetaryKeeper.step \\\n",
    "    -f MonetaryKeeper.distribute_funding \\\n",
    "    -f MonetaryFMarket.build \\\n",
    "    -f MonetaryFMarket.unwind \\\n",
    "    -f MonetaryFMarket._swap \\\n",
    "    -f MonetaryFMarket.fund \\\n",
    "    -f MonetaryModel.step \\\n",
    "    run_model(number_of_steps_to_simulate)"
   ]
  },
  {
   "cell_type": "code",
   "execution_count": 19,
   "metadata": {
    "ExecuteTime": {
     "end_time": "2021-01-18T17:26:14.133843Z",
     "start_time": "2021-01-18T17:26:14.091734Z"
    }
   },
   "outputs": [
    {
     "data": {
      "text/html": [
       "<div>\n",
       "<style scoped>\n",
       "    .dataframe tbody tr th:only-of-type {\n",
       "        vertical-align: middle;\n",
       "    }\n",
       "\n",
       "    .dataframe tbody tr th {\n",
       "        vertical-align: top;\n",
       "    }\n",
       "\n",
       "    .dataframe thead th {\n",
       "        text-align: right;\n",
       "    }\n",
       "</style>\n",
       "<table border=\"1\" class=\"dataframe\">\n",
       "  <thead>\n",
       "    <tr style=\"text-align: right;\">\n",
       "      <th></th>\n",
       "      <th>d-ETH-USD</th>\n",
       "      <th>d-COMP-USD</th>\n",
       "      <th>d-LINK-USD</th>\n",
       "      <th>d-OVL-USD</th>\n",
       "      <th>s-ETH-USD</th>\n",
       "      <th>s-COMP-USD</th>\n",
       "      <th>s-LINK-USD</th>\n",
       "      <th>s-OVL-USD</th>\n",
       "      <th>f-ETH-USD</th>\n",
       "      <th>f-COMP-USD</th>\n",
       "      <th>f-LINK-USD</th>\n",
       "      <th>f-OVL-USD</th>\n",
       "      <th>Skew ETH-USD</th>\n",
       "      <th>Skew COMP-USD</th>\n",
       "      <th>Skew LINK-USD</th>\n",
       "      <th>Skew OVL-USD</th>\n",
       "      <th>Supply</th>\n",
       "      <th>Treasury</th>\n",
       "      <th>Liquidity</th>\n",
       "    </tr>\n",
       "  </thead>\n",
       "  <tbody>\n",
       "    <tr>\n",
       "      <th>0</th>\n",
       "      <td>0.000000</td>\n",
       "      <td>0.000000</td>\n",
       "      <td>0.000000</td>\n",
       "      <td>0.000000</td>\n",
       "      <td>284.578702</td>\n",
       "      <td>157.277894</td>\n",
       "      <td>7.707481</td>\n",
       "      <td>3565.000000</td>\n",
       "      <td>284.578702</td>\n",
       "      <td>157.277894</td>\n",
       "      <td>7.707481</td>\n",
       "      <td>3565.000000</td>\n",
       "      <td>0.0</td>\n",
       "      <td>0.0</td>\n",
       "      <td>0.000000</td>\n",
       "      <td>0.000</td>\n",
       "      <td>100000.000000</td>\n",
       "      <td>0.000000</td>\n",
       "      <td>28500.0</td>\n",
       "    </tr>\n",
       "    <tr>\n",
       "      <th>1</th>\n",
       "      <td>0.000000</td>\n",
       "      <td>0.000000</td>\n",
       "      <td>0.000000</td>\n",
       "      <td>0.000000</td>\n",
       "      <td>284.578702</td>\n",
       "      <td>157.277894</td>\n",
       "      <td>7.707481</td>\n",
       "      <td>3565.000000</td>\n",
       "      <td>284.578702</td>\n",
       "      <td>157.277894</td>\n",
       "      <td>7.707481</td>\n",
       "      <td>3565.000000</td>\n",
       "      <td>0.0</td>\n",
       "      <td>0.0</td>\n",
       "      <td>0.000000</td>\n",
       "      <td>0.000</td>\n",
       "      <td>100000.000000</td>\n",
       "      <td>0.000000</td>\n",
       "      <td>28500.0</td>\n",
       "    </tr>\n",
       "    <tr>\n",
       "      <th>2</th>\n",
       "      <td>0.000069</td>\n",
       "      <td>0.000000</td>\n",
       "      <td>-0.008617</td>\n",
       "      <td>0.000000</td>\n",
       "      <td>284.559134</td>\n",
       "      <td>157.277894</td>\n",
       "      <td>7.774473</td>\n",
       "      <td>3565.000000</td>\n",
       "      <td>284.578702</td>\n",
       "      <td>157.277894</td>\n",
       "      <td>7.707481</td>\n",
       "      <td>3565.000000</td>\n",
       "      <td>0.0</td>\n",
       "      <td>0.0</td>\n",
       "      <td>0.000000</td>\n",
       "      <td>0.000</td>\n",
       "      <td>100000.000000</td>\n",
       "      <td>0.000000</td>\n",
       "      <td>28500.0</td>\n",
       "    </tr>\n",
       "    <tr>\n",
       "      <th>3</th>\n",
       "      <td>-0.000389</td>\n",
       "      <td>-0.001381</td>\n",
       "      <td>-0.015742</td>\n",
       "      <td>0.000000</td>\n",
       "      <td>284.689582</td>\n",
       "      <td>157.495320</td>\n",
       "      <td>7.830755</td>\n",
       "      <td>3565.000000</td>\n",
       "      <td>284.578702</td>\n",
       "      <td>157.277894</td>\n",
       "      <td>7.707481</td>\n",
       "      <td>3565.000000</td>\n",
       "      <td>0.0</td>\n",
       "      <td>0.0</td>\n",
       "      <td>0.000000</td>\n",
       "      <td>0.000</td>\n",
       "      <td>100000.000000</td>\n",
       "      <td>0.000000</td>\n",
       "      <td>28500.0</td>\n",
       "    </tr>\n",
       "    <tr>\n",
       "      <th>4</th>\n",
       "      <td>-0.000412</td>\n",
       "      <td>-0.001381</td>\n",
       "      <td>-0.011388</td>\n",
       "      <td>-0.016055</td>\n",
       "      <td>284.696105</td>\n",
       "      <td>157.495320</td>\n",
       "      <td>7.835585</td>\n",
       "      <td>3623.170163</td>\n",
       "      <td>284.578702</td>\n",
       "      <td>157.277894</td>\n",
       "      <td>7.746356</td>\n",
       "      <td>3565.000000</td>\n",
       "      <td>0.0</td>\n",
       "      <td>0.0</td>\n",
       "      <td>8.973000</td>\n",
       "      <td>0.000</td>\n",
       "      <td>99999.986500</td>\n",
       "      <td>0.013500</td>\n",
       "      <td>28500.0</td>\n",
       "    </tr>\n",
       "    <tr>\n",
       "      <th>...</th>\n",
       "      <td>...</td>\n",
       "      <td>...</td>\n",
       "      <td>...</td>\n",
       "      <td>...</td>\n",
       "      <td>...</td>\n",
       "      <td>...</td>\n",
       "      <td>...</td>\n",
       "      <td>...</td>\n",
       "      <td>...</td>\n",
       "      <td>...</td>\n",
       "      <td>...</td>\n",
       "      <td>...</td>\n",
       "      <td>...</td>\n",
       "      <td>...</td>\n",
       "      <td>...</td>\n",
       "      <td>...</td>\n",
       "      <td>...</td>\n",
       "      <td>...</td>\n",
       "      <td>...</td>\n",
       "    </tr>\n",
       "    <tr>\n",
       "      <th>96</th>\n",
       "      <td>0.010164</td>\n",
       "      <td>0.003152</td>\n",
       "      <td>-0.014288</td>\n",
       "      <td>0.002014</td>\n",
       "      <td>281.715369</td>\n",
       "      <td>156.783744</td>\n",
       "      <td>7.937439</td>\n",
       "      <td>3540.069930</td>\n",
       "      <td>284.578702</td>\n",
       "      <td>157.277894</td>\n",
       "      <td>7.824030</td>\n",
       "      <td>3547.198503</td>\n",
       "      <td>0.0</td>\n",
       "      <td>0.0</td>\n",
       "      <td>26.870436</td>\n",
       "      <td>-8.973</td>\n",
       "      <td>99999.703411</td>\n",
       "      <td>0.161765</td>\n",
       "      <td>28500.0</td>\n",
       "    </tr>\n",
       "    <tr>\n",
       "      <th>97</th>\n",
       "      <td>0.011546</td>\n",
       "      <td>0.003152</td>\n",
       "      <td>-0.009353</td>\n",
       "      <td>0.002014</td>\n",
       "      <td>281.330548</td>\n",
       "      <td>156.783744</td>\n",
       "      <td>7.937439</td>\n",
       "      <td>3540.069930</td>\n",
       "      <td>284.578702</td>\n",
       "      <td>157.277894</td>\n",
       "      <td>7.863198</td>\n",
       "      <td>3547.198503</td>\n",
       "      <td>0.0</td>\n",
       "      <td>0.0</td>\n",
       "      <td>35.843436</td>\n",
       "      <td>-8.973</td>\n",
       "      <td>99999.689911</td>\n",
       "      <td>0.175265</td>\n",
       "      <td>28500.0</td>\n",
       "    </tr>\n",
       "    <tr>\n",
       "      <th>98</th>\n",
       "      <td>0.012414</td>\n",
       "      <td>0.003152</td>\n",
       "      <td>-0.006198</td>\n",
       "      <td>0.002014</td>\n",
       "      <td>281.089219</td>\n",
       "      <td>156.783744</td>\n",
       "      <td>7.912238</td>\n",
       "      <td>3540.069930</td>\n",
       "      <td>284.578702</td>\n",
       "      <td>157.277894</td>\n",
       "      <td>7.863198</td>\n",
       "      <td>3547.198503</td>\n",
       "      <td>0.0</td>\n",
       "      <td>0.0</td>\n",
       "      <td>35.843436</td>\n",
       "      <td>-8.973</td>\n",
       "      <td>99999.689911</td>\n",
       "      <td>0.175265</td>\n",
       "      <td>28500.0</td>\n",
       "    </tr>\n",
       "    <tr>\n",
       "      <th>99</th>\n",
       "      <td>0.012156</td>\n",
       "      <td>0.003405</td>\n",
       "      <td>-0.005353</td>\n",
       "      <td>0.002014</td>\n",
       "      <td>281.160966</td>\n",
       "      <td>156.744212</td>\n",
       "      <td>7.905518</td>\n",
       "      <td>3540.069930</td>\n",
       "      <td>284.578702</td>\n",
       "      <td>157.277894</td>\n",
       "      <td>7.863198</td>\n",
       "      <td>3547.198503</td>\n",
       "      <td>0.0</td>\n",
       "      <td>0.0</td>\n",
       "      <td>35.843436</td>\n",
       "      <td>-8.973</td>\n",
       "      <td>99999.689911</td>\n",
       "      <td>0.175265</td>\n",
       "      <td>28500.0</td>\n",
       "    </tr>\n",
       "    <tr>\n",
       "      <th>100</th>\n",
       "      <td>0.011616</td>\n",
       "      <td>0.003152</td>\n",
       "      <td>-0.006198</td>\n",
       "      <td>0.002014</td>\n",
       "      <td>281.310981</td>\n",
       "      <td>156.783744</td>\n",
       "      <td>7.912238</td>\n",
       "      <td>3540.069930</td>\n",
       "      <td>284.578702</td>\n",
       "      <td>157.277894</td>\n",
       "      <td>7.863198</td>\n",
       "      <td>3547.198503</td>\n",
       "      <td>0.0</td>\n",
       "      <td>0.0</td>\n",
       "      <td>35.843436</td>\n",
       "      <td>-8.973</td>\n",
       "      <td>99999.689911</td>\n",
       "      <td>0.175265</td>\n",
       "      <td>28500.0</td>\n",
       "    </tr>\n",
       "  </tbody>\n",
       "</table>\n",
       "<p>101 rows × 19 columns</p>\n",
       "</div>"
      ],
      "text/plain": [
       "     d-ETH-USD  d-COMP-USD  d-LINK-USD  d-OVL-USD   s-ETH-USD  s-COMP-USD  \\\n",
       "0     0.000000    0.000000    0.000000   0.000000  284.578702  157.277894   \n",
       "1     0.000000    0.000000    0.000000   0.000000  284.578702  157.277894   \n",
       "2     0.000069    0.000000   -0.008617   0.000000  284.559134  157.277894   \n",
       "3    -0.000389   -0.001381   -0.015742   0.000000  284.689582  157.495320   \n",
       "4    -0.000412   -0.001381   -0.011388  -0.016055  284.696105  157.495320   \n",
       "..         ...         ...         ...        ...         ...         ...   \n",
       "96    0.010164    0.003152   -0.014288   0.002014  281.715369  156.783744   \n",
       "97    0.011546    0.003152   -0.009353   0.002014  281.330548  156.783744   \n",
       "98    0.012414    0.003152   -0.006198   0.002014  281.089219  156.783744   \n",
       "99    0.012156    0.003405   -0.005353   0.002014  281.160966  156.744212   \n",
       "100   0.011616    0.003152   -0.006198   0.002014  281.310981  156.783744   \n",
       "\n",
       "     s-LINK-USD    s-OVL-USD   f-ETH-USD  f-COMP-USD  f-LINK-USD    f-OVL-USD  \\\n",
       "0      7.707481  3565.000000  284.578702  157.277894    7.707481  3565.000000   \n",
       "1      7.707481  3565.000000  284.578702  157.277894    7.707481  3565.000000   \n",
       "2      7.774473  3565.000000  284.578702  157.277894    7.707481  3565.000000   \n",
       "3      7.830755  3565.000000  284.578702  157.277894    7.707481  3565.000000   \n",
       "4      7.835585  3623.170163  284.578702  157.277894    7.746356  3565.000000   \n",
       "..          ...          ...         ...         ...         ...          ...   \n",
       "96     7.937439  3540.069930  284.578702  157.277894    7.824030  3547.198503   \n",
       "97     7.937439  3540.069930  284.578702  157.277894    7.863198  3547.198503   \n",
       "98     7.912238  3540.069930  284.578702  157.277894    7.863198  3547.198503   \n",
       "99     7.905518  3540.069930  284.578702  157.277894    7.863198  3547.198503   \n",
       "100    7.912238  3540.069930  284.578702  157.277894    7.863198  3547.198503   \n",
       "\n",
       "     Skew ETH-USD  Skew COMP-USD  Skew LINK-USD  Skew OVL-USD         Supply  \\\n",
       "0             0.0            0.0       0.000000         0.000  100000.000000   \n",
       "1             0.0            0.0       0.000000         0.000  100000.000000   \n",
       "2             0.0            0.0       0.000000         0.000  100000.000000   \n",
       "3             0.0            0.0       0.000000         0.000  100000.000000   \n",
       "4             0.0            0.0       8.973000         0.000   99999.986500   \n",
       "..            ...            ...            ...           ...            ...   \n",
       "96            0.0            0.0      26.870436        -8.973   99999.703411   \n",
       "97            0.0            0.0      35.843436        -8.973   99999.689911   \n",
       "98            0.0            0.0      35.843436        -8.973   99999.689911   \n",
       "99            0.0            0.0      35.843436        -8.973   99999.689911   \n",
       "100           0.0            0.0      35.843436        -8.973   99999.689911   \n",
       "\n",
       "     Treasury  Liquidity  \n",
       "0    0.000000    28500.0  \n",
       "1    0.000000    28500.0  \n",
       "2    0.000000    28500.0  \n",
       "3    0.000000    28500.0  \n",
       "4    0.013500    28500.0  \n",
       "..        ...        ...  \n",
       "96   0.161765    28500.0  \n",
       "97   0.175265    28500.0  \n",
       "98   0.175265    28500.0  \n",
       "99   0.175265    28500.0  \n",
       "100  0.175265    28500.0  \n",
       "\n",
       "[101 rows x 19 columns]"
      ]
     },
     "execution_count": 19,
     "metadata": {},
     "output_type": "execute_result"
    }
   ],
   "source": [
    "monetary_model.data_collector.get_model_vars_dataframe()"
   ]
  },
  {
   "cell_type": "code",
   "execution_count": null,
   "metadata": {},
   "outputs": [],
   "source": []
  }
 ],
 "metadata": {
  "kernelspec": {
   "display_name": "Python 3",
   "language": "python",
   "name": "python3"
  },
  "language_info": {
   "codemirror_mode": {
    "name": "ipython",
    "version": 3
   },
   "file_extension": ".py",
   "mimetype": "text/x-python",
   "name": "python",
   "nbconvert_exporter": "python",
   "pygments_lexer": "ipython3",
   "version": "3.8.5"
  },
  "toc": {
   "base_numbering": 1,
   "nav_menu": {},
   "number_sections": true,
   "sideBar": true,
   "skip_h1_title": false,
   "title_cell": "Table of Contents",
   "title_sidebar": "Contents",
   "toc_cell": false,
   "toc_position": {},
   "toc_section_display": true,
   "toc_window_display": false
  }
 },
 "nbformat": 4,
 "nbformat_minor": 4
}
