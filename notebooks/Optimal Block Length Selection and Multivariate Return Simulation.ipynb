{
 "cells": [
  {
   "cell_type": "code",
   "execution_count": 1,
   "metadata": {
    "ExecuteTime": {
     "end_time": "2020-11-24T18:50:09.073123Z",
     "start_time": "2020-11-24T18:50:09.054591Z"
    }
   },
   "outputs": [],
   "source": [
    "%load_ext autoreload\n",
    "%autoreload 2"
   ]
  },
  {
   "cell_type": "code",
   "execution_count": 2,
   "metadata": {
    "ExecuteTime": {
     "end_time": "2020-11-24T18:50:11.444982Z",
     "start_time": "2020-11-24T18:50:09.074928Z"
    }
   },
   "outputs": [],
   "source": [
    "from datetime import datetime\n",
    "import typing as tp\n",
    "\n",
    "import arch\n",
    "import matplotlib.pyplot as plt\n",
    "import numpy as np\n",
    "import os\n",
    "import pandas as pd\n",
    "import pyarrow\n",
    "import scipy as sp\n",
    "import statsmodels.api as sm\n",
    "from statsmodels.tsa.stattools import adfuller\n",
    "from tqdm import tqdm\n",
    "\n",
    "from ovm.bootstrap import (\n",
    "    convert_block_lenghts_to_seconds, \n",
    "    convert_block_length_from_seconds_to_blocks, \n",
    "    estimate_optimal_block_lengths_for_multiple_price_series, \n",
    "    estimate_optimal_block_lengths_in_seconds_for_multiple_price_series\n",
    ")\n",
    "    \n",
    "from ovm.historical_data_io import (\n",
    "    PriceHistoryColumnNames as PHCN, \n",
    "    compute_number_of_days_in_price_history, \n",
    "    compute_log_returns_from_price_history, \n",
    "    save_price_histories, \n",
    "    load_price_history, \n",
    "    load_price_histories, \n",
    "    construct_series_name_to_closing_price_map, \n",
    "    construct_closing_price_df, \n",
    "    compute_log_return_df\n",
    ")\n",
    "\n",
    "from ovm.utils import TimeResolution"
   ]
  },
  {
   "cell_type": "code",
   "execution_count": 3,
   "metadata": {
    "ExecuteTime": {
     "end_time": "2020-11-24T18:50:11.497845Z",
     "start_time": "2020-11-24T18:50:11.447198Z"
    }
   },
   "outputs": [],
   "source": [
    "from recombinator import (\n",
    "    stationary_bootstrap, \n",
    "    tapered_block_bootstrap\n",
    ")\n",
    "\n",
    "from recombinator.optimal_block_length import optimal_block_length"
   ]
  },
  {
   "cell_type": "code",
   "execution_count": 4,
   "metadata": {
    "ExecuteTime": {
     "end_time": "2020-11-24T18:50:11.545302Z",
     "start_time": "2020-11-24T18:50:11.500012Z"
    }
   },
   "outputs": [],
   "source": [
    "%matplotlib inline"
   ]
  },
  {
   "cell_type": "code",
   "execution_count": 5,
   "metadata": {
    "ExecuteTime": {
     "end_time": "2020-11-24T18:50:11.585474Z",
     "start_time": "2020-11-24T18:50:11.546947Z"
    }
   },
   "outputs": [],
   "source": [
    "# def adf_test(timeseries):\n",
    "#     print ('Results of Dickey-Fuller Test:')\n",
    "#     dftest = adfuller(timeseries, autolag='AIC')\n",
    "#     dfoutput = pd.Series(dftest[0:4], index=['Test Statistic','p-value','#Lags Used','Number of Observations Used'])\n",
    "#     for key,value in dftest[4].items():\n",
    "#        dfoutput['Critical Value (%s)'%key] = value\n",
    "#     print (dfoutput)"
   ]
  },
  {
   "cell_type": "code",
   "execution_count": 6,
   "metadata": {
    "ExecuteTime": {
     "end_time": "2020-11-24T18:50:11.625716Z",
     "start_time": "2020-11-24T18:50:11.587341Z"
    }
   },
   "outputs": [],
   "source": [
    "time_resolution = TimeResolution.FIFTEEN_MINUTES\n",
    "directory_path = time_resolution.value"
   ]
  },
  {
   "cell_type": "code",
   "execution_count": 7,
   "metadata": {},
   "outputs": [],
   "source": [
    "series_names = \\\n",
    "    ['BTC-USD', \n",
    "     'ETH-USD', \n",
    "     'AAVE-USD', \n",
    "     'YFI-USD', \n",
    "     'UNI-USD', \n",
    "     'BAL-USD', \n",
    "     'COMP-USD', \n",
    "     'LINK-USD', \n",
    "     'CREAM-USD', \n",
    "     'SUSHI-USD' ]"
   ]
  },
  {
   "cell_type": "code",
   "execution_count": 8,
   "metadata": {},
   "outputs": [],
   "source": [
    "# series_name_to_price_history_map = \\\n",
    "#     {series_name: load_price_history(filename=series_name, \n",
    "#                                      series_name=series_name, \n",
    "#                                      directory_path=directory_path, \n",
    "#                                      period_length_in_seconds=time_resolution.in_seconds)\n",
    "#      for series_name in series_names}\n",
    "series_name_to_price_history_map = \\\n",
    "    load_price_histories(series_names=series_names, \n",
    "                         period_length_in_seconds=time_resolution.in_seconds, \n",
    "                         directory_path=time_resolution.value)"
   ]
  },
  {
   "cell_type": "code",
   "execution_count": 9,
   "metadata": {},
   "outputs": [
    {
     "data": {
      "text/plain": [
       "{'BTC-USD': 47353,\n",
       " 'ETH-USD': 42052,\n",
       " 'AAVE-USD': 4308,\n",
       " 'YFI-USD': 11873,\n",
       " 'UNI-USD': 6702,\n",
       " 'BAL-USD': 14761,\n",
       " 'COMP-USD': 15360,\n",
       " 'LINK-USD': 21010,\n",
       " 'CREAM-USD': 7330,\n",
       " 'SUSHI-USD': 8261}"
      ]
     },
     "execution_count": 9,
     "metadata": {},
     "output_type": "execute_result"
    }
   ],
   "source": [
    "series_name_to_data_length_map = \\\n",
    "    {series_name: len(price_history.price_history_df)\n",
    "     for series_name, price_history \n",
    "     in series_name_to_price_history_map.items()}\n",
    "series_name_to_data_length_map"
   ]
  },
  {
   "cell_type": "code",
   "execution_count": 10,
   "metadata": {},
   "outputs": [],
   "source": [
    "selected_series_names = \\\n",
    "    ['BTC-USD', \n",
    "     'ETH-USD', \n",
    "     'YFI-USD', \n",
    "     'BAL-USD', \n",
    "     'COMP-USD', \n",
    "     'LINK-USD']"
   ]
  },
  {
   "cell_type": "code",
   "execution_count": 11,
   "metadata": {},
   "outputs": [
    {
     "name": "stderr",
     "output_type": "stream",
     "text": [
      "100%|██████████| 10/10 [00:00<00:00, 30.59it/s]\n"
     ]
    }
   ],
   "source": [
    "# series_name_to_optimal_block_length_map = \\\n",
    "#     {series_name: optimal_block_length(price_history.unscaled_log_returns.values) \n",
    "#      for series_name, price_historyhttps://github.com/InvestmentSystems/recombinator.git\n",
    "#      in tqdm(series_name_to_price_history_map.items())}\n",
    "series_name_to_optimal_block_length_map = \\\n",
    "    estimate_optimal_block_lengths_for_multiple_price_series(series_name_to_price_history_map)"
   ]
  },
  {
   "cell_type": "code",
   "execution_count": 12,
   "metadata": {},
   "outputs": [
    {
     "data": {
      "text/plain": [
       "{'BTC-USD': 53805.20232678347,\n",
       " 'ETH-USD': 25813.264459000082,\n",
       " 'AAVE-USD': 2390.547686238729,\n",
       " 'YFI-USD': 1742.7813342914674,\n",
       " 'UNI-USD': 3372.5955728885147,\n",
       " 'BAL-USD': 5821.908768821018,\n",
       " 'COMP-USD': 26408.615697511766,\n",
       " 'LINK-USD': 10629.986144578435,\n",
       " 'CREAM-USD': 3024.6533849087496,\n",
       " 'SUSHI-USD': 1512.9629972802327}"
      ]
     },
     "execution_count": 12,
     "metadata": {},
     "output_type": "execute_result"
    }
   ],
   "source": [
    "# series_name_to_block_lengths_in_seconds_map = \\\n",
    "#     {series_name: obl[0].b_star_sb * time_resolution.in_seconds\n",
    "#      for series_name, obl \n",
    "#      in series_name_to_optimal_block_length_map.items()}\n",
    "# series_name_to_block_lengths_in_seconds_map\n",
    "# series_name_to_block_lengths_in_seconds_map = \\\n",
    "#     estimate_optimal_block_lengths_in_seconds_for_multiple_price_series(\n",
    "#         series_name_to_price_history_map=series_name_to_price_history_map, \n",
    "#         period_length_in_seconds=time_resolution.in_seconds)\n",
    "# series_name_to_block_lengths_in_seconds_map\n",
    "series_name_to_block_lengths_in_seconds_map = \\\n",
    "    convert_block_lenghts_to_seconds(series_name_to_optimal_block_length_map, \n",
    "                                     period_length_in_seconds=time_resolution.in_seconds)\n",
    "series_name_to_block_lengths_in_seconds_map"
   ]
  },
  {
   "cell_type": "code",
   "execution_count": 13,
   "metadata": {},
   "outputs": [
    {
     "data": {
      "text/plain": [
       "53805.20232678347"
      ]
     },
     "execution_count": 13,
     "metadata": {},
     "output_type": "execute_result"
    }
   ],
   "source": [
    "max_optimal_block_length_in_seconds_for_selected_series = \\\n",
    "    max(block_lengths_in_seconds \n",
    "        for series_name, block_lengths_in_seconds \n",
    "        in series_name_to_block_lengths_in_seconds_map.items() \n",
    "        if series_name in selected_series_names)\n",
    "max_optimal_block_length_in_seconds_for_selected_series"
   ]
  },
  {
   "cell_type": "code",
   "execution_count": 14,
   "metadata": {},
   "outputs": [],
   "source": [
    "# series_name_to_closing_price_map = \\\n",
    "#     {series_name: price_history.price_history_df.loc[:, PHCN.CLOSE]\n",
    "#      for series_name, price_history\n",
    "#      in tqdm(series_name_to_price_history_map.items())}\n",
    "series_name_to_closing_price_map = \\\n",
    "    construct_series_name_to_closing_price_map(series_name_to_price_history_map)"
   ]
  },
  {
   "cell_type": "code",
   "execution_count": 15,
   "metadata": {},
   "outputs": [],
   "source": [
    "df = pd.DataFrame(data=series_name_to_closing_price_map)"
   ]
  },
  {
   "cell_type": "code",
   "execution_count": 16,
   "metadata": {},
   "outputs": [
    {
     "data": {
      "text/html": [
       "<div>\n",
       "<style scoped>\n",
       "    .dataframe tbody tr th:only-of-type {\n",
       "        vertical-align: middle;\n",
       "    }\n",
       "\n",
       "    .dataframe tbody tr th {\n",
       "        vertical-align: top;\n",
       "    }\n",
       "\n",
       "    .dataframe thead th {\n",
       "        text-align: right;\n",
       "    }\n",
       "</style>\n",
       "<table border=\"1\" class=\"dataframe\">\n",
       "  <thead>\n",
       "    <tr style=\"text-align: right;\">\n",
       "      <th></th>\n",
       "      <th>BTC-USD</th>\n",
       "      <th>ETH-USD</th>\n",
       "      <th>AAVE-USD</th>\n",
       "      <th>YFI-USD</th>\n",
       "      <th>UNI-USD</th>\n",
       "      <th>BAL-USD</th>\n",
       "      <th>COMP-USD</th>\n",
       "      <th>LINK-USD</th>\n",
       "      <th>CREAM-USD</th>\n",
       "      <th>SUSHI-USD</th>\n",
       "    </tr>\n",
       "    <tr>\n",
       "      <th>start_time</th>\n",
       "      <th></th>\n",
       "      <th></th>\n",
       "      <th></th>\n",
       "      <th></th>\n",
       "      <th></th>\n",
       "      <th></th>\n",
       "      <th></th>\n",
       "      <th></th>\n",
       "      <th></th>\n",
       "      <th></th>\n",
       "    </tr>\n",
       "  </thead>\n",
       "  <tbody>\n",
       "    <tr>\n",
       "      <th>1563714000000</th>\n",
       "      <td>10542.0</td>\n",
       "      <td>NaN</td>\n",
       "      <td>NaN</td>\n",
       "      <td>NaN</td>\n",
       "      <td>NaN</td>\n",
       "      <td>NaN</td>\n",
       "      <td>NaN</td>\n",
       "      <td>NaN</td>\n",
       "      <td>NaN</td>\n",
       "      <td>NaN</td>\n",
       "    </tr>\n",
       "    <tr>\n",
       "      <th>1563714900000</th>\n",
       "      <td>10584.0</td>\n",
       "      <td>NaN</td>\n",
       "      <td>NaN</td>\n",
       "      <td>NaN</td>\n",
       "      <td>NaN</td>\n",
       "      <td>NaN</td>\n",
       "      <td>NaN</td>\n",
       "      <td>NaN</td>\n",
       "      <td>NaN</td>\n",
       "      <td>NaN</td>\n",
       "    </tr>\n",
       "    <tr>\n",
       "      <th>1563715800000</th>\n",
       "      <td>10568.0</td>\n",
       "      <td>NaN</td>\n",
       "      <td>NaN</td>\n",
       "      <td>NaN</td>\n",
       "      <td>NaN</td>\n",
       "      <td>NaN</td>\n",
       "      <td>NaN</td>\n",
       "      <td>NaN</td>\n",
       "      <td>NaN</td>\n",
       "      <td>NaN</td>\n",
       "    </tr>\n",
       "    <tr>\n",
       "      <th>1563716700000</th>\n",
       "      <td>10535.5</td>\n",
       "      <td>NaN</td>\n",
       "      <td>NaN</td>\n",
       "      <td>NaN</td>\n",
       "      <td>NaN</td>\n",
       "      <td>NaN</td>\n",
       "      <td>NaN</td>\n",
       "      <td>NaN</td>\n",
       "      <td>NaN</td>\n",
       "      <td>NaN</td>\n",
       "    </tr>\n",
       "    <tr>\n",
       "      <th>1563717600000</th>\n",
       "      <td>10531.0</td>\n",
       "      <td>NaN</td>\n",
       "      <td>NaN</td>\n",
       "      <td>NaN</td>\n",
       "      <td>NaN</td>\n",
       "      <td>NaN</td>\n",
       "      <td>NaN</td>\n",
       "      <td>NaN</td>\n",
       "      <td>NaN</td>\n",
       "      <td>NaN</td>\n",
       "    </tr>\n",
       "  </tbody>\n",
       "</table>\n",
       "</div>"
      ],
      "text/plain": [
       "               BTC-USD  ETH-USD  AAVE-USD  YFI-USD  UNI-USD  BAL-USD  \\\n",
       "start_time                                                             \n",
       "1563714000000  10542.0      NaN       NaN      NaN      NaN      NaN   \n",
       "1563714900000  10584.0      NaN       NaN      NaN      NaN      NaN   \n",
       "1563715800000  10568.0      NaN       NaN      NaN      NaN      NaN   \n",
       "1563716700000  10535.5      NaN       NaN      NaN      NaN      NaN   \n",
       "1563717600000  10531.0      NaN       NaN      NaN      NaN      NaN   \n",
       "\n",
       "               COMP-USD  LINK-USD  CREAM-USD  SUSHI-USD  \n",
       "start_time                                               \n",
       "1563714000000       NaN       NaN        NaN        NaN  \n",
       "1563714900000       NaN       NaN        NaN        NaN  \n",
       "1563715800000       NaN       NaN        NaN        NaN  \n",
       "1563716700000       NaN       NaN        NaN        NaN  \n",
       "1563717600000       NaN       NaN        NaN        NaN  "
      ]
     },
     "execution_count": 16,
     "metadata": {},
     "output_type": "execute_result"
    }
   ],
   "source": [
    "df.head()"
   ]
  },
  {
   "cell_type": "code",
   "execution_count": 17,
   "metadata": {},
   "outputs": [
    {
     "data": {
      "text/html": [
       "<div>\n",
       "<style scoped>\n",
       "    .dataframe tbody tr th:only-of-type {\n",
       "        vertical-align: middle;\n",
       "    }\n",
       "\n",
       "    .dataframe tbody tr th {\n",
       "        vertical-align: top;\n",
       "    }\n",
       "\n",
       "    .dataframe thead th {\n",
       "        text-align: right;\n",
       "    }\n",
       "</style>\n",
       "<table border=\"1\" class=\"dataframe\">\n",
       "  <thead>\n",
       "    <tr style=\"text-align: right;\">\n",
       "      <th></th>\n",
       "      <th>BTC-USD</th>\n",
       "      <th>ETH-USD</th>\n",
       "      <th>AAVE-USD</th>\n",
       "      <th>YFI-USD</th>\n",
       "      <th>UNI-USD</th>\n",
       "      <th>BAL-USD</th>\n",
       "      <th>COMP-USD</th>\n",
       "      <th>LINK-USD</th>\n",
       "      <th>CREAM-USD</th>\n",
       "      <th>SUSHI-USD</th>\n",
       "    </tr>\n",
       "    <tr>\n",
       "      <th>start_time</th>\n",
       "      <th></th>\n",
       "      <th></th>\n",
       "      <th></th>\n",
       "      <th></th>\n",
       "      <th></th>\n",
       "      <th></th>\n",
       "      <th></th>\n",
       "      <th></th>\n",
       "      <th></th>\n",
       "      <th></th>\n",
       "    </tr>\n",
       "  </thead>\n",
       "  <tbody>\n",
       "    <tr>\n",
       "      <th>1563714000000</th>\n",
       "      <td>NaN</td>\n",
       "      <td>NaN</td>\n",
       "      <td>NaN</td>\n",
       "      <td>NaN</td>\n",
       "      <td>NaN</td>\n",
       "      <td>NaN</td>\n",
       "      <td>NaN</td>\n",
       "      <td>NaN</td>\n",
       "      <td>NaN</td>\n",
       "      <td>NaN</td>\n",
       "    </tr>\n",
       "    <tr>\n",
       "      <th>1563714900000</th>\n",
       "      <td>42.0</td>\n",
       "      <td>NaN</td>\n",
       "      <td>NaN</td>\n",
       "      <td>NaN</td>\n",
       "      <td>NaN</td>\n",
       "      <td>NaN</td>\n",
       "      <td>NaN</td>\n",
       "      <td>NaN</td>\n",
       "      <td>NaN</td>\n",
       "      <td>NaN</td>\n",
       "    </tr>\n",
       "    <tr>\n",
       "      <th>1563715800000</th>\n",
       "      <td>-16.0</td>\n",
       "      <td>NaN</td>\n",
       "      <td>NaN</td>\n",
       "      <td>NaN</td>\n",
       "      <td>NaN</td>\n",
       "      <td>NaN</td>\n",
       "      <td>NaN</td>\n",
       "      <td>NaN</td>\n",
       "      <td>NaN</td>\n",
       "      <td>NaN</td>\n",
       "    </tr>\n",
       "    <tr>\n",
       "      <th>1563716700000</th>\n",
       "      <td>-32.5</td>\n",
       "      <td>NaN</td>\n",
       "      <td>NaN</td>\n",
       "      <td>NaN</td>\n",
       "      <td>NaN</td>\n",
       "      <td>NaN</td>\n",
       "      <td>NaN</td>\n",
       "      <td>NaN</td>\n",
       "      <td>NaN</td>\n",
       "      <td>NaN</td>\n",
       "    </tr>\n",
       "    <tr>\n",
       "      <th>1563717600000</th>\n",
       "      <td>-4.5</td>\n",
       "      <td>NaN</td>\n",
       "      <td>NaN</td>\n",
       "      <td>NaN</td>\n",
       "      <td>NaN</td>\n",
       "      <td>NaN</td>\n",
       "      <td>NaN</td>\n",
       "      <td>NaN</td>\n",
       "      <td>NaN</td>\n",
       "      <td>NaN</td>\n",
       "    </tr>\n",
       "    <tr>\n",
       "      <th>...</th>\n",
       "      <td>...</td>\n",
       "      <td>...</td>\n",
       "      <td>...</td>\n",
       "      <td>...</td>\n",
       "      <td>...</td>\n",
       "      <td>...</td>\n",
       "      <td>...</td>\n",
       "      <td>...</td>\n",
       "      <td>...</td>\n",
       "      <td>...</td>\n",
       "    </tr>\n",
       "    <tr>\n",
       "      <th>1606341600000</th>\n",
       "      <td>0.0</td>\n",
       "      <td>-1.55</td>\n",
       "      <td>-0.45</td>\n",
       "      <td>-305.0</td>\n",
       "      <td>-0.033</td>\n",
       "      <td>-0.3975</td>\n",
       "      <td>-0.66</td>\n",
       "      <td>-0.1095</td>\n",
       "      <td>0.05</td>\n",
       "      <td>-0.0047</td>\n",
       "    </tr>\n",
       "    <tr>\n",
       "      <th>1606342500000</th>\n",
       "      <td>-58.0</td>\n",
       "      <td>-6.09</td>\n",
       "      <td>-0.82</td>\n",
       "      <td>-275.0</td>\n",
       "      <td>-0.037</td>\n",
       "      <td>-0.3275</td>\n",
       "      <td>-2.05</td>\n",
       "      <td>-0.1210</td>\n",
       "      <td>-0.40</td>\n",
       "      <td>-0.0231</td>\n",
       "    </tr>\n",
       "    <tr>\n",
       "      <th>1606343400000</th>\n",
       "      <td>-90.5</td>\n",
       "      <td>-5.31</td>\n",
       "      <td>-0.54</td>\n",
       "      <td>-105.0</td>\n",
       "      <td>-0.062</td>\n",
       "      <td>-0.0125</td>\n",
       "      <td>-0.45</td>\n",
       "      <td>-0.2555</td>\n",
       "      <td>-0.05</td>\n",
       "      <td>-0.0329</td>\n",
       "    </tr>\n",
       "    <tr>\n",
       "      <th>1606344300000</th>\n",
       "      <td>34.5</td>\n",
       "      <td>3.06</td>\n",
       "      <td>0.45</td>\n",
       "      <td>450.0</td>\n",
       "      <td>-0.019</td>\n",
       "      <td>0.0000</td>\n",
       "      <td>1.01</td>\n",
       "      <td>0.1555</td>\n",
       "      <td>0.20</td>\n",
       "      <td>-0.0080</td>\n",
       "    </tr>\n",
       "    <tr>\n",
       "      <th>1606345200000</th>\n",
       "      <td>-51.0</td>\n",
       "      <td>-4.23</td>\n",
       "      <td>0.00</td>\n",
       "      <td>-205.0</td>\n",
       "      <td>-0.055</td>\n",
       "      <td>0.0000</td>\n",
       "      <td>-0.61</td>\n",
       "      <td>-0.1290</td>\n",
       "      <td>0.00</td>\n",
       "      <td>-0.0307</td>\n",
       "    </tr>\n",
       "  </tbody>\n",
       "</table>\n",
       "<p>47354 rows × 10 columns</p>\n",
       "</div>"
      ],
      "text/plain": [
       "               BTC-USD  ETH-USD  AAVE-USD  YFI-USD  UNI-USD  BAL-USD  \\\n",
       "start_time                                                             \n",
       "1563714000000      NaN      NaN       NaN      NaN      NaN      NaN   \n",
       "1563714900000     42.0      NaN       NaN      NaN      NaN      NaN   \n",
       "1563715800000    -16.0      NaN       NaN      NaN      NaN      NaN   \n",
       "1563716700000    -32.5      NaN       NaN      NaN      NaN      NaN   \n",
       "1563717600000     -4.5      NaN       NaN      NaN      NaN      NaN   \n",
       "...                ...      ...       ...      ...      ...      ...   \n",
       "1606341600000      0.0    -1.55     -0.45   -305.0   -0.033  -0.3975   \n",
       "1606342500000    -58.0    -6.09     -0.82   -275.0   -0.037  -0.3275   \n",
       "1606343400000    -90.5    -5.31     -0.54   -105.0   -0.062  -0.0125   \n",
       "1606344300000     34.5     3.06      0.45    450.0   -0.019   0.0000   \n",
       "1606345200000    -51.0    -4.23      0.00   -205.0   -0.055   0.0000   \n",
       "\n",
       "               COMP-USD  LINK-USD  CREAM-USD  SUSHI-USD  \n",
       "start_time                                               \n",
       "1563714000000       NaN       NaN        NaN        NaN  \n",
       "1563714900000       NaN       NaN        NaN        NaN  \n",
       "1563715800000       NaN       NaN        NaN        NaN  \n",
       "1563716700000       NaN       NaN        NaN        NaN  \n",
       "1563717600000       NaN       NaN        NaN        NaN  \n",
       "...                 ...       ...        ...        ...  \n",
       "1606341600000     -0.66   -0.1095       0.05    -0.0047  \n",
       "1606342500000     -2.05   -0.1210      -0.40    -0.0231  \n",
       "1606343400000     -0.45   -0.2555      -0.05    -0.0329  \n",
       "1606344300000      1.01    0.1555       0.20    -0.0080  \n",
       "1606345200000     -0.61   -0.1290       0.00    -0.0307  \n",
       "\n",
       "[47354 rows x 10 columns]"
      ]
     },
     "execution_count": 17,
     "metadata": {},
     "output_type": "execute_result"
    }
   ],
   "source": [
    "df.diff()"
   ]
  },
  {
   "cell_type": "code",
   "execution_count": 18,
   "metadata": {},
   "outputs": [
    {
     "data": {
      "text/plain": [
       "47354"
      ]
     },
     "execution_count": 18,
     "metadata": {},
     "output_type": "execute_result"
    }
   ],
   "source": [
    "len(np.log(df).diff())"
   ]
  },
  {
   "cell_type": "code",
   "execution_count": 19,
   "metadata": {},
   "outputs": [
    {
     "data": {
      "text/html": [
       "<div>\n",
       "<style scoped>\n",
       "    .dataframe tbody tr th:only-of-type {\n",
       "        vertical-align: middle;\n",
       "    }\n",
       "\n",
       "    .dataframe tbody tr th {\n",
       "        vertical-align: top;\n",
       "    }\n",
       "\n",
       "    .dataframe thead th {\n",
       "        text-align: right;\n",
       "    }\n",
       "</style>\n",
       "<table border=\"1\" class=\"dataframe\">\n",
       "  <thead>\n",
       "    <tr style=\"text-align: right;\">\n",
       "      <th></th>\n",
       "      <th>BTC-USD</th>\n",
       "      <th>ETH-USD</th>\n",
       "      <th>AAVE-USD</th>\n",
       "      <th>YFI-USD</th>\n",
       "      <th>UNI-USD</th>\n",
       "      <th>BAL-USD</th>\n",
       "      <th>COMP-USD</th>\n",
       "      <th>LINK-USD</th>\n",
       "      <th>CREAM-USD</th>\n",
       "      <th>SUSHI-USD</th>\n",
       "    </tr>\n",
       "    <tr>\n",
       "      <th>start_time</th>\n",
       "      <th></th>\n",
       "      <th></th>\n",
       "      <th></th>\n",
       "      <th></th>\n",
       "      <th></th>\n",
       "      <th></th>\n",
       "      <th></th>\n",
       "      <th></th>\n",
       "      <th></th>\n",
       "      <th></th>\n",
       "    </tr>\n",
       "  </thead>\n",
       "  <tbody>\n",
       "    <tr>\n",
       "      <th>1563714000000</th>\n",
       "      <td>NaN</td>\n",
       "      <td>NaN</td>\n",
       "      <td>NaN</td>\n",
       "      <td>NaN</td>\n",
       "      <td>NaN</td>\n",
       "      <td>NaN</td>\n",
       "      <td>NaN</td>\n",
       "      <td>NaN</td>\n",
       "      <td>NaN</td>\n",
       "      <td>NaN</td>\n",
       "    </tr>\n",
       "    <tr>\n",
       "      <th>1563714900000</th>\n",
       "      <td>0.003976</td>\n",
       "      <td>NaN</td>\n",
       "      <td>NaN</td>\n",
       "      <td>NaN</td>\n",
       "      <td>NaN</td>\n",
       "      <td>NaN</td>\n",
       "      <td>NaN</td>\n",
       "      <td>NaN</td>\n",
       "      <td>NaN</td>\n",
       "      <td>NaN</td>\n",
       "    </tr>\n",
       "    <tr>\n",
       "      <th>1563715800000</th>\n",
       "      <td>-0.001513</td>\n",
       "      <td>NaN</td>\n",
       "      <td>NaN</td>\n",
       "      <td>NaN</td>\n",
       "      <td>NaN</td>\n",
       "      <td>NaN</td>\n",
       "      <td>NaN</td>\n",
       "      <td>NaN</td>\n",
       "      <td>NaN</td>\n",
       "      <td>NaN</td>\n",
       "    </tr>\n",
       "    <tr>\n",
       "      <th>1563716700000</th>\n",
       "      <td>-0.003080</td>\n",
       "      <td>NaN</td>\n",
       "      <td>NaN</td>\n",
       "      <td>NaN</td>\n",
       "      <td>NaN</td>\n",
       "      <td>NaN</td>\n",
       "      <td>NaN</td>\n",
       "      <td>NaN</td>\n",
       "      <td>NaN</td>\n",
       "      <td>NaN</td>\n",
       "    </tr>\n",
       "    <tr>\n",
       "      <th>1563717600000</th>\n",
       "      <td>-0.000427</td>\n",
       "      <td>NaN</td>\n",
       "      <td>NaN</td>\n",
       "      <td>NaN</td>\n",
       "      <td>NaN</td>\n",
       "      <td>NaN</td>\n",
       "      <td>NaN</td>\n",
       "      <td>NaN</td>\n",
       "      <td>NaN</td>\n",
       "      <td>NaN</td>\n",
       "    </tr>\n",
       "  </tbody>\n",
       "</table>\n",
       "</div>"
      ],
      "text/plain": [
       "                BTC-USD  ETH-USD  AAVE-USD  YFI-USD  UNI-USD  BAL-USD  \\\n",
       "start_time                                                              \n",
       "1563714000000       NaN      NaN       NaN      NaN      NaN      NaN   \n",
       "1563714900000  0.003976      NaN       NaN      NaN      NaN      NaN   \n",
       "1563715800000 -0.001513      NaN       NaN      NaN      NaN      NaN   \n",
       "1563716700000 -0.003080      NaN       NaN      NaN      NaN      NaN   \n",
       "1563717600000 -0.000427      NaN       NaN      NaN      NaN      NaN   \n",
       "\n",
       "               COMP-USD  LINK-USD  CREAM-USD  SUSHI-USD  \n",
       "start_time                                               \n",
       "1563714000000       NaN       NaN        NaN        NaN  \n",
       "1563714900000       NaN       NaN        NaN        NaN  \n",
       "1563715800000       NaN       NaN        NaN        NaN  \n",
       "1563716700000       NaN       NaN        NaN        NaN  \n",
       "1563717600000       NaN       NaN        NaN        NaN  "
      ]
     },
     "execution_count": 19,
     "metadata": {},
     "output_type": "execute_result"
    }
   ],
   "source": [
    "log_return_df = \\\n",
    "    compute_log_return_df(\n",
    "        construct_closing_price_df(\n",
    "            construct_series_name_to_closing_price_map(series_name_to_price_history_map)))\n",
    "log_return_df.head()"
   ]
  },
  {
   "cell_type": "code",
   "execution_count": 20,
   "metadata": {},
   "outputs": [],
   "source": [
    "selected_log_return_df = log_return_df.loc[:, selected_series_names].dropna()"
   ]
  },
  {
   "cell_type": "code",
   "execution_count": 21,
   "metadata": {},
   "outputs": [
    {
     "data": {
      "text/plain": [
       "11871"
      ]
     },
     "execution_count": 21,
     "metadata": {},
     "output_type": "execute_result"
    }
   ],
   "source": [
    "len(selected_log_return_df)"
   ]
  },
  {
   "cell_type": "markdown",
   "metadata": {},
   "source": [
    "Block Bootstrap. The shape of the output array is  \n",
    "(number of monte carlo replications, length of simulated time series, number of cryptocurrencies simulated)  \n",
    "\n",
    "The order of the cryptocurrencies on the last axis corresponds to the sequence `selected_series_names`"
   ]
  },
  {
   "cell_type": "code",
   "execution_count": 22,
   "metadata": {},
   "outputs": [
    {
     "data": {
      "text/plain": [
       "(1, 11871, 6)"
      ]
     },
     "execution_count": 22,
     "metadata": {},
     "output_type": "execute_result"
    }
   ],
   "source": [
    "block_length = \\\n",
    "    convert_block_length_from_seconds_to_blocks(max_optimal_block_length_in_seconds_for_selected_series, \n",
    "                                                period_length_in_seconds=time_resolution.in_seconds)\n",
    "\n",
    "bootstrap_log_returns = \\\n",
    "    stationary_bootstrap(\n",
    "        selected_log_return_df.values, \n",
    "        block_length=block_length, \n",
    "        replications=1)\n",
    "\n",
    "bootstrap_log_returns.shape"
   ]
  },
  {
   "cell_type": "code",
   "execution_count": null,
   "metadata": {},
   "outputs": [],
   "source": []
  }
 ],
 "metadata": {
  "kernelspec": {
   "display_name": "Python 3",
   "language": "python",
   "name": "python3"
  },
  "language_info": {
   "codemirror_mode": {
    "name": "ipython",
    "version": 3
   },
   "file_extension": ".py",
   "mimetype": "text/x-python",
   "name": "python",
   "nbconvert_exporter": "python",
   "pygments_lexer": "ipython3",
   "version": "3.8.5"
  },
  "toc": {
   "base_numbering": 1,
   "nav_menu": {},
   "number_sections": true,
   "sideBar": true,
   "skip_h1_title": false,
   "title_cell": "Table of Contents",
   "title_sidebar": "Contents",
   "toc_cell": false,
   "toc_position": {
    "height": "calc(100% - 180px)",
    "left": "10px",
    "top": "150px",
    "width": "266.3999938964844px"
   },
   "toc_section_display": true,
   "toc_window_display": true
  }
 },
 "nbformat": 4,
 "nbformat_minor": 4
}
