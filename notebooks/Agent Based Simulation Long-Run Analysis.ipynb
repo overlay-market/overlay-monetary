{
 "cells": [
  {
   "cell_type": "markdown",
   "metadata": {},
   "source": [
    "# Import Packages"
   ]
  },
  {
   "cell_type": "code",
   "execution_count": 1,
   "metadata": {
    "ExecuteTime": {
     "end_time": "2021-01-18T18:51:26.953818Z",
     "start_time": "2021-01-18T18:51:26.935783Z"
    }
   },
   "outputs": [],
   "source": [
    "%load_ext autoreload\n",
    "%autoreload 2"
   ]
  },
  {
   "cell_type": "code",
   "execution_count": 2,
   "metadata": {
    "ExecuteTime": {
     "end_time": "2021-01-18T18:51:27.630297Z",
     "start_time": "2021-01-18T18:51:26.955526Z"
    }
   },
   "outputs": [],
   "source": [
    "from ovm.monetary.model import MonetaryModel\n",
    "\n",
    "import logging\n",
    "import os\n",
    "import random\n",
    "import typing as tp\n",
    "\n",
    "import line_profiler\n",
    "import matplotlib.pyplot as plt\n",
    "%matplotlib inline\n",
    "# %matplotlib notebook\n",
    "# %matplotlib widget\n",
    "from mesa.datacollection import DataCollector\n",
    "from mesa.visualization.ModularVisualization import ModularServer\n",
    "from mesa.visualization.modules import ChartModule\n",
    "import numpy as np\n",
    "import pandas as pd\n",
    "import chart_studio.plotly as py\n",
    "import plotly.express as px\n",
    "import plotly.graph_objs as go\n",
    "import seaborn as sns\n",
    "from tqdm import tqdm\n",
    "\n",
    "from ovm.monetary.agents import (\n",
    "    MonetaryAgent, \n",
    "    MonetaryArbitrageur, \n",
    "    MonetaryKeeper\n",
    ")\n",
    "\n",
    "from ovm.monetary.markets import MonetaryFMarket\n",
    "from ovm.monetary.model import MonetaryModel\n",
    "from ovm.monetary.options import DataCollectionOptions\n",
    "from ovm.monetary.plot_labels import (\n",
    "    price_deviation_label,\n",
    "    spot_price_label,\n",
    "    futures_price_label,\n",
    "    skew_label,\n",
    "    inventory_wealth_ovl_label,\n",
    "    inventory_wealth_usd_label,\n",
    "    GINI_LABEL,\n",
    "    GINI_ARBITRAGEURS_LABEL,\n",
    "    SUPPLY_LABEL,\n",
    "    TREASURY_LABEL,\n",
    "    LIQUIDITY_LABEL, \n",
    ")\n",
    "\n",
    "from ovm.monetary.plots import (\n",
    "    DEFAULT_FIGURE_SIZE, \n",
    "    convert_time_interval_in_seconds_to_indices, \n",
    "    construct_full_time_axis, \n",
    "    construct_time_axis, \n",
    "    get_indices_and_time_axis_to_plot, \n",
    "    plot_multiple_variables_over_time, \n",
    "    plot_price_deviations, \n",
    "    plot_skews, \n",
    "    plot_single_variable_over_time, \n",
    "    plot_supply, \n",
    "    plot_treasury, \n",
    "    plot_liquidity, \n",
    "    plot_spot_vs_futures_price\n",
    ")\n",
    "\n",
    "from ovm.monetary.reporters import * \n",
    "from ovm.monetary.data_io import (\n",
    "    construct_sims_map, \n",
    "    construct_ticker_to_series_of_prices_map_from_simulated_prices\n",
    ")\n",
    "\n",
    "from ovm.paths import (\n",
    "    HistoricalDataSource, \n",
    "    construct_historical_data_directory\n",
    ")\n",
    "\n",
    "from ovm.simulation.bootstrap import plot_multivariate_simulation\n",
    "from ovm.simulation.resampling import (\n",
    "    load_log_returns,\n",
    "    simulate_new_price_series_via_bootstrap,\n",
    "    store_simulated_price_series_in_output_directory\n",
    ")\n",
    "\n",
    "from ovm.tickers import (\n",
    "    ETH_USD_TICKER,\n",
    "    COMP_USD_TICKER,\n",
    "    LINK_USD_TICKER,\n",
    "    YFI_USD_TICKER\n",
    ")\n",
    "\n",
    "from ovm.time_resolution import (\n",
    "    TimeResolution, \n",
    "    TimeScale\n",
    ")"
   ]
  },
  {
   "cell_type": "code",
   "execution_count": 3,
   "metadata": {
    "ExecuteTime": {
     "end_time": "2021-01-18T18:51:27.656450Z",
     "start_time": "2021-01-18T18:51:27.632435Z"
    }
   },
   "outputs": [
    {
     "data": {
      "text/plain": [
       "0"
      ]
     },
     "execution_count": 3,
     "metadata": {},
     "output_type": "execute_result"
    }
   ],
   "source": [
    "logger = logging.getLogger(__name__)\n",
    "logger.level"
   ]
  },
  {
   "cell_type": "code",
   "execution_count": 4,
   "metadata": {
    "ExecuteTime": {
     "end_time": "2021-01-18T18:51:27.684573Z",
     "start_time": "2021-01-18T18:51:27.660399Z"
    }
   },
   "outputs": [
    {
     "data": {
      "text/plain": [
       "'WARNING'"
      ]
     },
     "execution_count": 4,
     "metadata": {},
     "output_type": "execute_result"
    }
   ],
   "source": [
    "logging.getLevelName(logging.root.level)"
   ]
  },
  {
   "cell_type": "code",
   "execution_count": 5,
   "metadata": {
    "ExecuteTime": {
     "end_time": "2021-01-18T18:51:27.709503Z",
     "start_time": "2021-01-18T18:51:27.686055Z"
    }
   },
   "outputs": [
    {
     "data": {
      "text/plain": [
       "30"
      ]
     },
     "execution_count": 5,
     "metadata": {},
     "output_type": "execute_result"
    }
   ],
   "source": [
    "logging.root.level"
   ]
  },
  {
   "cell_type": "code",
   "execution_count": 6,
   "metadata": {
    "ExecuteTime": {
     "end_time": "2021-01-18T18:51:27.735021Z",
     "start_time": "2021-01-18T18:51:27.711399Z"
    }
   },
   "outputs": [],
   "source": [
    "%load_ext line_profiler"
   ]
  },
  {
   "cell_type": "markdown",
   "metadata": {},
   "source": [
    "# Set Parameters"
   ]
  },
  {
   "cell_type": "code",
   "execution_count": 7,
   "metadata": {
    "ExecuteTime": {
     "end_time": "2021-01-18T18:51:27.763124Z",
     "start_time": "2021-01-18T18:51:27.738295Z"
    }
   },
   "outputs": [
    {
     "name": "stdout",
     "output_type": "stream",
     "text": [
      "number_of_steps_to_simulate=4207680\n"
     ]
    },
    {
     "data": {
      "text/plain": [
       "['ETH-USD', 'COMP-USD', 'LINK-USD', 'OVL-USD']"
      ]
     },
     "execution_count": 7,
     "metadata": {},
     "output_type": "execute_result"
    }
   ],
   "source": [
    "time_resolution = TimeResolution.FIFTEEN_SECONDS\n",
    "\n",
    "# 200000 steps corresponds to about 1.14 months\n",
    "# 200000 * 15 / 60 / 60 / 24 / 365.25 * 12 = 1.14077116131\n",
    "# number_of_steps_to_simulate = 200000\n",
    "\n",
    "# number_of_steps_to_simulate = 1000\n",
    "\n",
    "# 700000 steps corresponds to about 4 months (i.e. 1/3 year with 15 seconds per step)\n",
    "# 700000 * 15 / 60 / 60 / 24 / 365.25 = 0.33272492204\n",
    "# number_of_steps_to_simulate = 700000\n",
    "\n",
    "# number_of_steps_to_simulate = int(24 * 60 * 60 / time_resolution.in_seconds)\n",
    "\n",
    "# run agent based simulations for 2 years\n",
    "number_of_steps_to_simulate = int(2 * 365.25 * 24 * 60 * 60 / time_resolution.in_seconds)\n",
    "print(f'number_of_steps_to_simulate={number_of_steps_to_simulate}')\n",
    "\n",
    "directory_path = \\\n",
    "    construct_historical_data_directory(\n",
    "        historical_data_source=HistoricalDataSource.FTX, \n",
    "        time_resolution=time_resolution)\n",
    "numpy_seed = 42\n",
    "\n",
    "tickers = [ETH_USD_TICKER,\n",
    "           # not a long history of simulation (can we use a different token instead)\n",
    "           COMP_USD_TICKER,\n",
    "           # not a long history of simulation (can we use a different token instead)\n",
    "           LINK_USD_TICKER,\n",
    "           # less than half a year of simulation (can we use a different token instead)\n",
    "           YFI_USD_TICKER\n",
    "           ]\n",
    "\n",
    "ovl_usd_replacement_ticker = 'YFI-USD'\n",
    "ovl_usd_ticker = 'OVL-USD'\n",
    "\n",
    "tickers_with_ovl = [ovl_usd_ticker if ticker == ovl_usd_replacement_ticker else ticker for ticker in tickers]\n",
    "tickers_with_ovl"
   ]
  },
  {
   "cell_type": "markdown",
   "metadata": {},
   "source": [
    "# Load Historical Price Data and Resample"
   ]
  },
  {
   "cell_type": "code",
   "execution_count": 8,
   "metadata": {},
   "outputs": [
    {
     "data": {
      "text/plain": [
       "(705007, 4)"
      ]
     },
     "execution_count": 8,
     "metadata": {},
     "output_type": "execute_result"
    }
   ],
   "source": [
    "log_return_df, closing_price_df, initial_prices = \\\n",
    "    load_log_returns(series_names=tickers,\n",
    "                     period_length_in_seconds=time_resolution.in_seconds,\n",
    "                     directory_path=directory_path)\n",
    "log_return_df.shape"
   ]
  },
  {
   "cell_type": "code",
   "execution_count": 9,
   "metadata": {},
   "outputs": [
    {
     "data": {
      "text/plain": [
       "(1, 10519200, 4)"
      ]
     },
     "execution_count": 9,
     "metadata": {},
     "output_type": "execute_result"
    }
   ],
   "source": [
    "simulated_sample_length_in_seconds = \\\n",
    "    5 * 365.25 * 24 * 60 * 60\n",
    "\n",
    "# simulated_sample_length_in_seconds = log_return_df.shape[0] * time_resolution.in_seconds\n",
    "np.random.seed(numpy_seed)\n",
    "\n",
    "simulated_prices = \\\n",
    "    simulate_new_price_series_via_bootstrap(\n",
    "        initial_prices=initial_prices,\n",
    "        input_log_return_df=log_return_df,\n",
    "        time_resolution=time_resolution,\n",
    "        block_length_in_seconds=4 * 24 * 60 * 60,  # 4 day block length\n",
    "        simulated_sample_length_in_steps_in_seconds=simulated_sample_length_in_seconds,\n",
    "            number_of_paths=1)\n",
    "simulated_prices.shape"
   ]
  },
  {
   "cell_type": "code",
   "execution_count": 10,
   "metadata": {},
   "outputs": [
    {
     "data": {
      "image/png": "[encoded data removed]",
      "text/plain": [
       "<Figure size 1152x648 with 4 Axes>"
      ]
     },
     "metadata": {
      "needs_background": "light"
     },
     "output_type": "display_data"
    }
   ],
   "source": [
    "plot_multivariate_simulation(simulated_data=simulated_prices,\n",
    "                             series_names=tickers, \n",
    "                             time_resolution=time_resolution, \n",
    "                             title='Exchange Rates')"
   ]
  },
  {
   "cell_type": "code",
   "execution_count": 11,
   "metadata": {},
   "outputs": [],
   "source": [
    "ticker_to_time_series_of_prices_map = \\\n",
    "    construct_ticker_to_series_of_prices_map_from_simulated_prices(simulated_prices=simulated_prices, \n",
    "                                                                   tickers=tickers_with_ovl)"
   ]
  },
  {
   "cell_type": "markdown",
   "metadata": {},
   "source": [
    "# Load Resampled Data"
   ]
  },
  {
   "cell_type": "markdown",
   "metadata": {},
   "source": [
    "# Construct Agent Based Monetary Model"
   ]
  },
  {
   "cell_type": "code",
   "execution_count": 12,
   "metadata": {
    "ExecuteTime": {
     "end_time": "2021-01-18T18:51:28.412034Z",
     "start_time": "2021-01-18T18:51:28.287190Z"
    }
   },
   "outputs": [
    {
     "name": "stdout",
     "output_type": "stream",
     "text": [
      "Model kwargs for initial conditions of sim:\n",
      "num_arbitrageurs = 100\n",
      "num_keepers = 50\n",
      "num_traders = 0\n",
      "num_holders = 0\n",
      "total number of agents = 150\n",
      "base_wealth = 10.0\n"
     ]
    }
   ],
   "source": [
    "# \"\"\"\n",
    "# Configure visualization elements and instantiate a server\n",
    "# \"\"\"\n",
    "\n",
    "\n",
    "# def random_color():\n",
    "#     return '#%02X%02X%02X' % (random.randint(0, 255), random.randint(0, 255), random.randint(0, 255))\n",
    "\n",
    "\n",
    "\n",
    "# Constants\n",
    "STEPS_MONTH = int((86400*30) / time_resolution.in_seconds)\n",
    "\n",
    "total_supply = 100000  # OVL\n",
    "base_wealth = 0.0001*100000  # OVL\n",
    "# base_wealth = 0.0005*100000  # OVL\n",
    "base_market_fee = 0.0030\n",
    "base_max_leverage = 10.0\n",
    "time_liquidity_mine = STEPS_MONTH\n",
    "\n",
    "# For the first 30 days, emit until reach 100% of total supply; ONLY USE IN LIQUDITIY FOR NOW JUST AS TEST!\n",
    "liquidity_supply_emission = [(0.51*total_supply/time_liquidity_mine)*i + 0.285*total_supply\n",
    "                             for i\n",
    "                             in range(time_liquidity_mine)]\n",
    "\n",
    "num_arbitrageurs = \\\n",
    "    min(max(len(ticker_to_time_series_of_prices_map.keys()) * 5, \n",
    "            int(total_supply*0.01/base_wealth)), \n",
    "        100)\n",
    "num_keepers = max(len(ticker_to_time_series_of_prices_map.keys()), int(total_supply * 0.005 / base_wealth))\n",
    "# num_traders = min(int(total_supply*0.2/base_wealth), 100)\n",
    "num_traders = 0\n",
    "# num_holders = min(int(total_supply*0.5/base_wealth), 100)\n",
    "num_holders = 0\n",
    "num_agents = num_arbitrageurs + num_keepers + num_traders + num_holders\n",
    "\n",
    "liquidity = 0.285*total_supply\n",
    "treasury = 0.0\n",
    "sampling_interval = 240\n",
    "\n",
    "# TODO: Vary these initial num_ ... numbers; for init, reference empirical #s already seeing for diff projects\n",
    "model_kwargs = {\n",
    "    \"ticker_to_time_series_of_prices_map\": ticker_to_time_series_of_prices_map,\n",
    "    \"num_arbitrageurs\": num_arbitrageurs,\n",
    "    \"num_keepers\": num_keepers,\n",
    "    \"num_traders\": num_traders,\n",
    "    \"num_holders\": num_holders,\n",
    "    \"base_wealth\": base_wealth,\n",
    "    \"base_market_fee\": base_market_fee,\n",
    "    \"base_max_leverage\": base_max_leverage,\n",
    "    # Setting liquidity = 100x agent-owned OVL for now; TODO: eventually have this be a function/array\n",
    "    \"liquidity\": liquidity,\n",
    "    \"liquidity_supply_emission\": liquidity_supply_emission,\n",
    "    \"treasury\": treasury,\n",
    "    # TODO: 1920 ... 8h with 15s blocks (sim simulation is every 15s)\n",
    "    \"sampling_interval\": sampling_interval,\n",
    "}\n",
    "\n",
    "print(\"Model kwargs for initial conditions of sim:\")\n",
    "print(f\"num_arbitrageurs = {model_kwargs['num_arbitrageurs']}\")\n",
    "print(f\"num_keepers = {model_kwargs['num_keepers']}\")\n",
    "print(f\"num_traders = {model_kwargs['num_traders']}\")\n",
    "print(f\"num_holders = {model_kwargs['num_holders']}\")\n",
    "print(f\"total number of agents = {num_agents}\")\n",
    "print(f\"base_wealth = {model_kwargs['base_wealth']}\")\n",
    "\n",
    "\n",
    "data_collection_options = \\\n",
    "    DataCollectionOptions(perform_data_collection=True, \n",
    "                          compute_gini_coefficient=False,\n",
    "                          compute_wealth=False,\n",
    "                          compute_inventory_wealth=False, \n",
    "                          data_collection_interval=4  # collect data once per minute (every 4 steps)\n",
    "                         )\n",
    "\n",
    "base_liquidate_reward = 0.1\n",
    "base_maintenance = 0.6\n",
    "num_snipers = 0\n",
    "num_liquidators = 0\n",
    "\n",
    "monetary_model = \\\n",
    "    MonetaryModel(num_arbitrageurs=num_arbitrageurs, \n",
    "                  num_keepers=num_keepers, \n",
    "                  num_traders=num_traders, \n",
    "                  num_holders=num_holders, \n",
    "                  num_snipers=num_snipers, \n",
    "                  num_liquidators=num_liquidators, \n",
    "                  base_maintenance=base_maintenance, \n",
    "                  base_liquidate_reward=base_liquidate_reward, \n",
    "                  sims=ticker_to_time_series_of_prices_map, \n",
    "                  base_wealth=base_wealth, \n",
    "                  base_market_fee=base_market_fee, \n",
    "                  base_max_leverage=base_max_leverage, \n",
    "                  liquidity=liquidity, \n",
    "                  liquidity_supply_emission=liquidity_supply_emission, \n",
    "                  treasury=treasury, \n",
    "                  sampling_interval=sampling_interval, \n",
    "                  data_collection_options=data_collection_options)"
   ]
  },
  {
   "cell_type": "markdown",
   "metadata": {},
   "source": [
    "Drastically reduced the number of traders and holders to bring down the memory requirement for storing agent wealth (with the original numbers it would have been 7500 agents total). This would exceed the 128GB mem of my machine with 200000 steps"
   ]
  },
  {
   "cell_type": "markdown",
   "metadata": {},
   "source": [
    "# Run Simulation"
   ]
  },
  {
   "cell_type": "code",
   "execution_count": 13,
   "metadata": {
    "ExecuteTime": {
     "end_time": "2021-01-18T18:51:36.166699Z",
     "start_time": "2021-01-18T18:51:36.148154Z"
    }
   },
   "outputs": [],
   "source": [
    "def run_model(number_of_steps_to_simulate: int):\n",
    "    for i in tqdm(range(number_of_steps_to_simulate + 1)):\n",
    "        monetary_model.step()"
   ]
  },
  {
   "cell_type": "code",
   "execution_count": 14,
   "metadata": {},
   "outputs": [
    {
     "data": {
      "text/plain": [
       "4207680"
      ]
     },
     "execution_count": 14,
     "metadata": {},
     "output_type": "execute_result"
    }
   ],
   "source": [
    "number_of_steps_to_simulate"
   ]
  },
  {
   "cell_type": "code",
   "execution_count": null,
   "metadata": {
    "ExecuteTime": {
     "end_time": "2021-01-18T18:51:36.146641Z",
     "start_time": "2021-01-18T18:51:28.414018Z"
    }
   },
   "outputs": [
    {
     "name": "stderr",
     "output_type": "stream",
     "text": [
      " 38%|███▊      | 1609699/4207681 [09:05<25:23, 1705.74it/s]"
     ]
    }
   ],
   "source": [
    "run_model(number_of_steps_to_simulate)"
   ]
  },
  {
   "cell_type": "code",
   "execution_count": null,
   "metadata": {
    "ExecuteTime": {
     "end_time": "2021-01-18T18:51:36.189863Z",
     "start_time": "2021-01-18T18:51:36.168480Z"
    }
   },
   "outputs": [],
   "source": [
    "# %lprun \\\n",
    "#     -f compute_gini \\\n",
    "#     -f compute_price_difference \\\n",
    "#     -f compute_futures_price \\\n",
    "#     -f compute_spot_price \\\n",
    "#     -f compute_supply \\\n",
    "#     -f compute_liquidity \\\n",
    "#     -f compute_treasury \\\n",
    "#     -f compute_wealth_for_agent_type \\\n",
    "#     -f compute_inventory_wealth_for_agent \\\n",
    "#     -f compute_inventory_wealth_for_agent_type \\\n",
    "#     -f compute_positional_imbalance_by_market \\\n",
    "#     -f DataCollector.collect \\\n",
    "#     -f MonetaryAgent.step \\\n",
    "#     -f MonetaryArbitrageur._unwind_positions \\\n",
    "#     -f MonetaryArbitrageur._unwind_next_position \\\n",
    "#     -f MonetaryArbitrageur.trade \\\n",
    "#     -f MonetaryArbitrageur.step \\\n",
    "#     -f MonetaryKeeper.step \\\n",
    "#     -f MonetaryKeeper.distribute_funding \\\n",
    "#     -f MonetaryFMarket.build \\\n",
    "#     -f MonetaryFMarket.unwind \\\n",
    "#     -f MonetaryFMarket._swap \\\n",
    "#     -f MonetaryFMarket.slippage \\\n",
    "#     -f MonetaryFMarket.fund \\\n",
    "#     -f MonetaryFMarket.funding \\\n",
    "#     -f MonetaryFMarket.liquidatable \\\n",
    "#     -f MonetaryFMarket.liquidate \\\n",
    "#     -f MonetaryModel.step \\\n",
    "#     run_model(number_of_steps_to_simulate)"
   ]
  },
  {
   "cell_type": "markdown",
   "metadata": {},
   "source": [
    "# Extract Model Variables"
   ]
  },
  {
   "cell_type": "code",
   "execution_count": null,
   "metadata": {
    "ExecuteTime": {
     "end_time": "2021-01-18T18:51:36.232034Z",
     "start_time": "2021-01-18T18:51:36.191414Z"
    }
   },
   "outputs": [],
   "source": [
    "model_vars_df = monetary_model.data_collector.get_model_vars_dataframe()\n",
    "model_vars_df.head()"
   ]
  },
  {
   "cell_type": "code",
   "execution_count": null,
   "metadata": {},
   "outputs": [],
   "source": [
    "model_vars_df.memory_usage(deep=True)"
   ]
  },
  {
   "cell_type": "code",
   "execution_count": null,
   "metadata": {},
   "outputs": [],
   "source": [
    "model_vars_df.info()"
   ]
  },
  {
   "cell_type": "code",
   "execution_count": null,
   "metadata": {},
   "outputs": [],
   "source": [
    "# fig = px.line(model_vars_df, y=\"Supply\", title='OVL Supply')\n",
    "# fig = px.line(model_vars_df, y=\"Treasury\", title='Treasury')\n",
    "# fig.show()"
   ]
  },
  {
   "cell_type": "markdown",
   "metadata": {},
   "source": [
    "# Extract Agent Variables"
   ]
  },
  {
   "cell_type": "code",
   "execution_count": null,
   "metadata": {},
   "outputs": [],
   "source": [
    "agent_vars_df = monetary_model.data_collector.get_agent_vars_dataframe()\n",
    "print(len(agent_vars_df))"
   ]
  },
  {
   "cell_type": "code",
   "execution_count": null,
   "metadata": {},
   "outputs": [],
   "source": [
    "agent_vars_df.info()"
   ]
  },
  {
   "cell_type": "code",
   "execution_count": null,
   "metadata": {},
   "outputs": [],
   "source": [
    "agent_vars_df.tail(300)"
   ]
  },
  {
   "cell_type": "code",
   "execution_count": null,
   "metadata": {},
   "outputs": [],
   "source": [
    "# agent_vars_df.loc[(699999, 1), :]\n",
    "# df.loc[('cobra', 'mark i'), 'shield']"
   ]
  },
  {
   "cell_type": "code",
   "execution_count": null,
   "metadata": {},
   "outputs": [],
   "source": [
    "def convert_time_in_seconds_to_index(\n",
    "    time_resolution: TimeResolution, \n",
    "    time_in_seconds: float):\n",
    "    return int(np.floor(time_in_seconds / time_resolution.in_seconds))"
   ]
  },
  {
   "cell_type": "code",
   "execution_count": null,
   "metadata": {},
   "outputs": [],
   "source": [
    "one_year_index = \\\n",
    "    convert_time_in_seconds_to_index(\n",
    "        time_resolution=time_resolution, \n",
    "        time_in_seconds=365.25 * 24 * 60 * 60)\n",
    "one_year_index"
   ]
  },
  {
   "cell_type": "code",
   "execution_count": null,
   "metadata": {},
   "outputs": [],
   "source": [
    "one_day_index = \\\n",
    "    convert_time_in_seconds_to_index(\n",
    "        time_resolution=time_resolution, \n",
    "        time_in_seconds=24 * 60 * 60)\n",
    "one_day_index"
   ]
  },
  {
   "cell_type": "code",
   "execution_count": null,
   "metadata": {},
   "outputs": [],
   "source": [
    "# agent_wealth = agent_vars_df.loc[pd.IndexSlice[one_year_index, :], :].values\n",
    "agent_wealth = agent_vars_df.loc[pd.IndexSlice[one_day_index, :], :].values"
   ]
  },
  {
   "cell_type": "code",
   "execution_count": null,
   "metadata": {
    "scrolled": true
   },
   "outputs": [],
   "source": [
    "agent_wealth.shape"
   ]
  },
  {
   "cell_type": "code",
   "execution_count": null,
   "metadata": {},
   "outputs": [],
   "source": [
    "agent_wealth.sum()"
   ]
  },
  {
   "cell_type": "code",
   "execution_count": null,
   "metadata": {},
   "outputs": [],
   "source": [
    "sorted(agent_wealth[:100])"
   ]
  },
  {
   "cell_type": "code",
   "execution_count": null,
   "metadata": {},
   "outputs": [],
   "source": [
    "histogram = plt.hist(agent_vars_df.loc[pd.IndexSlice[one_day_index, :], :].values)"
   ]
  },
  {
   "cell_type": "code",
   "execution_count": null,
   "metadata": {},
   "outputs": [],
   "source": [
    "sns.kdeplot(data=agent_wealth);"
   ]
  },
  {
   "cell_type": "markdown",
   "metadata": {},
   "source": [
    "# Plot Results"
   ]
  },
  {
   "cell_type": "markdown",
   "metadata": {},
   "source": [
    "## New Plots with 100 Arbitrageurs (no traders and no holders)"
   ]
  },
  {
   "cell_type": "code",
   "execution_count": null,
   "metadata": {},
   "outputs": [],
   "source": [
    "plot_time_scale = TimeScale.YEARS"
   ]
  },
  {
   "cell_type": "markdown",
   "metadata": {},
   "source": [
    "### Set Plot Horizon in Seconds"
   ]
  },
  {
   "cell_type": "code",
   "execution_count": null,
   "metadata": {},
   "outputs": [],
   "source": [
    "plot_begin_years = 0.0\n",
    "# plot_end_years = 5 * 365.25 * 24 * 60 * 60  # 5 years\n",
    "# plot_end_years = 0.75 * 365.25 * 24 * 60 * 60  # 9 months\n",
    "plot_end_years = 1 * 365.25 * 24 * 60 * 60  # 1 year\n",
    "time_interval_to_plot_in_seconds = (plot_begin_years, plot_end_years)\n",
    "time_interval_to_plot_in_seconds = None"
   ]
  },
  {
   "cell_type": "markdown",
   "metadata": {},
   "source": [
    "### OVL Supply"
   ]
  },
  {
   "cell_type": "code",
   "execution_count": null,
   "metadata": {
    "scrolled": false
   },
   "outputs": [],
   "source": [
    "plot_supply(model_vars_df=model_vars_df, \n",
    "            plot_time_scale=plot_time_scale, \n",
    "            time_interval_to_plot_in_seconds=time_interval_to_plot_in_seconds, \n",
    "            time_resolution=time_resolution, \n",
    "            data_interval=4)"
   ]
  },
  {
   "cell_type": "markdown",
   "metadata": {},
   "source": [
    "### Liquidity"
   ]
  },
  {
   "cell_type": "code",
   "execution_count": null,
   "metadata": {},
   "outputs": [],
   "source": [
    "# plot_liquidity(model_vars_df=model_vars_df,  \n",
    "#                plot_time_scale=plot_time_scale, \n",
    "#                time_interval_to_plot_in_seconds=time_interval_to_plot_in_seconds, \n",
    "#                time_resolution=time_resolution, \n",
    "#                data_interval=4)"
   ]
  },
  {
   "cell_type": "markdown",
   "metadata": {},
   "source": [
    "### Treasury"
   ]
  },
  {
   "cell_type": "code",
   "execution_count": null,
   "metadata": {},
   "outputs": [],
   "source": [
    "plot_treasury(model_vars_df=model_vars_df, \n",
    "              plot_time_scale=plot_time_scale, \n",
    "            time_interval_to_plot_in_seconds=time_interval_to_plot_in_seconds, \n",
    "              time_resolution=time_resolution, \n",
    "              data_interval=4) "
   ]
  },
  {
   "cell_type": "markdown",
   "metadata": {},
   "source": [
    "### Price Deviations"
   ]
  },
  {
   "cell_type": "code",
   "execution_count": null,
   "metadata": {},
   "outputs": [],
   "source": [
    "plot_price_deviations(\n",
    "    model_vars_df=model_vars_df, \n",
    "    tickers=tickers_with_ovl, \n",
    "    plot_time_scale=plot_time_scale, \n",
    "    time_resolution=time_resolution, \n",
    "    time_interval_to_plot_in_seconds=time_interval_to_plot_in_seconds, \n",
    "    data_interval=data_collection_options.data_collection_interval)"
   ]
  },
  {
   "cell_type": "markdown",
   "metadata": {},
   "source": [
    "### Skew"
   ]
  },
  {
   "cell_type": "code",
   "execution_count": null,
   "metadata": {},
   "outputs": [],
   "source": [
    "plot_skews(\n",
    "    model_vars_df=model_vars_df, \n",
    "    tickers=tickers_with_ovl, \n",
    "    plot_time_scale=plot_time_scale, \n",
    "    time_resolution=time_resolution, \n",
    "    time_interval_to_plot_in_seconds=time_interval_to_plot_in_seconds, \n",
    "    data_interval=data_collection_options.data_collection_interval)"
   ]
  },
  {
   "cell_type": "markdown",
   "metadata": {},
   "source": [
    "#### Correlation between Skew and Futures Price"
   ]
  },
  {
   "cell_type": "code",
   "execution_count": null,
   "metadata": {},
   "outputs": [],
   "source": [
    "for i, ticker in enumerate(tickers_with_ovl):\n",
    "    if i > 0:\n",
    "        break\n",
    "    skew = model_vars_df.loc[:, skew_label(ticker)].values\n",
    "    futures_price = model_vars_df.loc[:, futures_price_label(ticker)].values\n",
    "    spot_price = model_vars_df.loc[:, spot_price_label(ticker)].values\n",
    "    print(np.corrcoef(skew, futures_price))\n",
    "    print(np.corrcoef(skew, spot_price))"
   ]
  },
  {
   "cell_type": "markdown",
   "metadata": {},
   "source": [
    "### Spot vs. Futures Prices"
   ]
  },
  {
   "cell_type": "code",
   "execution_count": null,
   "metadata": {
    "scrolled": false
   },
   "outputs": [],
   "source": [
    "for i, ticker in enumerate(tickers_with_ovl):\n",
    "    plot_spot_vs_futures_price(\n",
    "        model_vars_df=model_vars_df, \n",
    "        ticker=ticker, \n",
    "        plot_time_scale=plot_time_scale, \n",
    "        time_resolution=time_resolution, \n",
    "        time_interval_to_plot_in_seconds=time_interval_to_plot_in_seconds, \n",
    "        data_interval=data_collection_options.data_collection_interval)"
   ]
  },
  {
   "cell_type": "code",
   "execution_count": null,
   "metadata": {},
   "outputs": [],
   "source": [
    "plt.close('all')"
   ]
  },
  {
   "cell_type": "code",
   "execution_count": null,
   "metadata": {},
   "outputs": [],
   "source": []
  }
 ],
 "metadata": {
  "kernelspec": {
   "display_name": "Python 3",
   "language": "python",
   "name": "python3"
  },
  "language_info": {
   "codemirror_mode": {
    "name": "ipython",
    "version": 3
   },
   "file_extension": ".py",
   "mimetype": "text/x-python",
   "name": "python",
   "nbconvert_exporter": "python",
   "pygments_lexer": "ipython3",
   "version": "3.8.5"
  },
  "toc": {
   "base_numbering": 1,
   "nav_menu": {},
   "number_sections": true,
   "sideBar": true,
   "skip_h1_title": false,
   "title_cell": "Table of Contents",
   "title_sidebar": "Contents",
   "toc_cell": false,
   "toc_position": {},
   "toc_section_display": true,
   "toc_window_display": false
  }
 },
 "nbformat": 4,
 "nbformat_minor": 4
}
