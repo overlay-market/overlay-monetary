{
 "cells": [
  {
   "cell_type": "markdown",
   "metadata": {},
   "source": [
    "# Import Stuff"
   ]
  },
  {
   "cell_type": "code",
   "execution_count": 1,
   "metadata": {
    "ExecuteTime": {
     "end_time": "2021-01-17T20:40:25.759218Z",
     "start_time": "2021-01-17T20:40:25.738971Z"
    }
   },
   "outputs": [],
   "source": [
    "%load_ext autoreload\n",
    "%autoreload 2"
   ]
  },
  {
   "cell_type": "code",
   "execution_count": 2,
   "metadata": {
    "ExecuteTime": {
     "end_time": "2021-01-17T20:40:30.992603Z",
     "start_time": "2021-01-17T20:40:25.889521Z"
    }
   },
   "outputs": [],
   "source": [
    "from datetime import datetime\n",
    "import os\n",
    "import typing as tp\n",
    "\n",
    "import matplotlib.pyplot as plt\n",
    "import numpy as np\n",
    "import pandas as pd\n",
    "import pyarrow\n",
    "import statsmodels.api as sm\n",
    "from statsmodels.tsa.stattools import adfuller\n",
    "\n",
    "from ovm.historical.utils import fetch_data\n",
    "\n",
    "from ovm.historical.data_io import (\n",
    "    convert_multiple_raw_price_histories_from_nested_lists_to_dict_of_dataframes, \n",
    "    convert_raw_price_history_from_nested_list_to_dataframe, \n",
    "    compute_number_of_days_in_price_history, \n",
    "    save_price_histories    \n",
    ")\n",
    "\n",
    "from ovm.paths import HISTORICAL_DATA_DIRECTORY\n",
    "from ovm.time_resolution import TimeResolution"
   ]
  },
  {
   "cell_type": "markdown",
   "metadata": {},
   "source": [
    "# Set Time Resolution"
   ]
  },
  {
   "cell_type": "code",
   "execution_count": 3,
   "metadata": {
    "ExecuteTime": {
     "end_time": "2021-01-17T20:40:31.030960Z",
     "start_time": "2021-01-17T20:40:30.994588Z"
    }
   },
   "outputs": [
    {
     "data": {
      "text/plain": [
       "'/home/michael/PycharmProjects/overlay-monetary/data/historical/1m'"
      ]
     },
     "execution_count": 3,
     "metadata": {},
     "output_type": "execute_result"
    }
   ],
   "source": [
    "# time_resolution = TimeResolution.FIFTEEN_SECONDS\n",
    "time_resolution = TimeResolution.ONE_MINUTE\n",
    "# directory_path = time_resolution.value\n",
    "directory_path = os.path.join(HISTORICAL_DATA_DIRECTORY, time_resolution.value)\n",
    "directory_path"
   ]
  },
  {
   "cell_type": "markdown",
   "metadata": {},
   "source": [
    "# Download Raw Data from FTX"
   ]
  },
  {
   "cell_type": "code",
   "execution_count": 4,
   "metadata": {
    "ExecuteTime": {
     "end_time": "2020-11-24T20:28:51.766398Z",
     "start_time": "2020-11-24T18:19:27.403501Z"
    },
    "scrolled": false
   },
   "outputs": [
    {
     "name": "stderr",
     "output_type": "stream",
     "text": [
      "\r",
      "  0%|          | 0/720 [00:00<?, ?it/s]"
     ]
    },
    {
     "name": "stdout",
     "output_type": "stream",
     "text": [
      "fetching data for symbol BTC/USD\n"
     ]
    },
    {
     "name": "stderr",
     "output_type": "stream",
     "text": [
      "100%|██████████| 720/720 [05:19<00:00,  2.25it/s]\n",
      "  0%|          | 0/720 [00:00<?, ?it/s]"
     ]
    },
    {
     "name": "stdout",
     "output_type": "stream",
     "text": [
      "fetching data for symbol ETH/USD\n"
     ]
    },
    {
     "name": "stderr",
     "output_type": "stream",
     "text": [
      "100%|██████████| 720/720 [05:02<00:00,  2.38it/s]\n",
      "  0%|          | 0/720 [00:00<?, ?it/s]"
     ]
    },
    {
     "name": "stdout",
     "output_type": "stream",
     "text": [
      "fetching data for symbol AAVE/USD\n"
     ]
    },
    {
     "name": "stderr",
     "output_type": "stream",
     "text": [
      "100%|██████████| 720/720 [02:48<00:00,  4.27it/s]\n",
      "  0%|          | 0/720 [00:00<?, ?it/s]"
     ]
    },
    {
     "name": "stdout",
     "output_type": "stream",
     "text": [
      "fetching data for symbol YFI/USD\n"
     ]
    },
    {
     "name": "stderr",
     "output_type": "stream",
     "text": [
      "100%|██████████| 720/720 [03:16<00:00,  3.66it/s]\n",
      "  0%|          | 0/720 [00:00<?, ?it/s]"
     ]
    },
    {
     "name": "stdout",
     "output_type": "stream",
     "text": [
      "fetching data for symbol UNI/USD\n"
     ]
    },
    {
     "name": "stderr",
     "output_type": "stream",
     "text": [
      "100%|██████████| 720/720 [02:54<00:00,  4.12it/s]\n",
      "  0%|          | 0/720 [00:00<?, ?it/s]"
     ]
    },
    {
     "name": "stdout",
     "output_type": "stream",
     "text": [
      "fetching data for symbol BAL/USD\n"
     ]
    },
    {
     "name": "stderr",
     "output_type": "stream",
     "text": [
      "100%|██████████| 720/720 [03:17<00:00,  3.65it/s]\n",
      "  0%|          | 0/720 [00:00<?, ?it/s]"
     ]
    },
    {
     "name": "stdout",
     "output_type": "stream",
     "text": [
      "fetching data for symbol COMP/USD\n"
     ]
    },
    {
     "name": "stderr",
     "output_type": "stream",
     "text": [
      "100%|██████████| 720/720 [03:09<00:00,  3.80it/s]\n",
      "  0%|          | 0/720 [00:00<?, ?it/s]"
     ]
    },
    {
     "name": "stdout",
     "output_type": "stream",
     "text": [
      "fetching data for symbol LINK/USD\n"
     ]
    },
    {
     "name": "stderr",
     "output_type": "stream",
     "text": [
      "100%|██████████| 720/720 [03:41<00:00,  3.24it/s]\n",
      "  0%|          | 0/720 [00:00<?, ?it/s]"
     ]
    },
    {
     "name": "stdout",
     "output_type": "stream",
     "text": [
      "fetching data for symbol CREAM/USD\n"
     ]
    },
    {
     "name": "stderr",
     "output_type": "stream",
     "text": [
      "100%|██████████| 720/720 [02:51<00:00,  4.21it/s]\n",
      "  0%|          | 0/720 [00:00<?, ?it/s]"
     ]
    },
    {
     "name": "stdout",
     "output_type": "stream",
     "text": [
      "fetching data for symbol SUSHI/USD\n"
     ]
    },
    {
     "name": "stderr",
     "output_type": "stream",
     "text": [
      "100%|██████████| 720/720 [02:56<00:00,  4.08it/s]\n"
     ]
    }
   ],
   "source": [
    "# ftx_column_names = ['start_time', 'open', 'high', 'low', 'close', 'volume']\n",
    "symbols = [ 'BTC/USD', 'ETH/USD', 'AAVE/USD', 'YFI/USD', 'UNI/USD', 'BAL/USD', 'COMP/USD', 'LINK/USD', 'CREAM/USD', 'SUSHI/USD' ]\n",
    "dur = 250 * 3 * 1000 * 86400\n",
    "until = datetime.now().timestamp() * 1000\n",
    "since = until - dur\n",
    "symbol_to_data_map = {}\n",
    "symbol_to_data_map = \\\n",
    "    fetch_data(symbols=symbols, \n",
    "               timeframe=time_resolution.value, \n",
    "               since=since, \n",
    "               until=until, \n",
    "               symbol_to_data_map=symbol_to_data_map)"
   ]
  },
  {
   "cell_type": "code",
   "execution_count": 5,
   "metadata": {
    "ExecuteTime": {
     "end_time": "2020-11-19T23:28:51.698630Z",
     "start_time": "2020-11-19T23:11:11.448942Z"
    }
   },
   "outputs": [],
   "source": [
    "# eth_data = fetch_data(['ETH/USD'], since=since, until=until)"
   ]
  },
  {
   "cell_type": "markdown",
   "metadata": {},
   "source": [
    "# Convert To Dataframe"
   ]
  },
  {
   "cell_type": "code",
   "execution_count": 6,
   "metadata": {
    "ExecuteTime": {
     "end_time": "2020-11-20T00:38:54.297336Z",
     "start_time": "2020-11-20T00:38:47.592623Z"
    }
   },
   "outputs": [],
   "source": [
    "name_to_price_history_dfs = \\\n",
    "    convert_multiple_raw_price_histories_from_nested_lists_to_dict_of_dataframes(symbol_to_data_map)"
   ]
  },
  {
   "cell_type": "code",
   "execution_count": 7,
   "metadata": {
    "ExecuteTime": {
     "end_time": "2020-11-20T21:43:59.857575Z",
     "start_time": "2020-11-20T21:43:59.491278Z"
    }
   },
   "outputs": [],
   "source": [
    "df = name_to_price_history_dfs['ETH/USD']"
   ]
  },
  {
   "cell_type": "code",
   "execution_count": 8,
   "metadata": {
    "ExecuteTime": {
     "end_time": "2020-11-20T21:44:04.274595Z",
     "start_time": "2020-11-20T21:44:04.225612Z"
    }
   },
   "outputs": [
    {
     "data": {
      "text/plain": [
       "630547"
      ]
     },
     "execution_count": 8,
     "metadata": {},
     "output_type": "execute_result"
    }
   ],
   "source": [
    "len(df)"
   ]
  },
  {
   "cell_type": "markdown",
   "metadata": {},
   "source": [
    "# Save Pandas Dataframes as Parquet"
   ]
  },
  {
   "cell_type": "code",
   "execution_count": 9,
   "metadata": {
    "ExecuteTime": {
     "end_time": "2020-11-20T00:46:16.410658Z",
     "start_time": "2020-11-20T00:46:13.723206Z"
    }
   },
   "outputs": [],
   "source": [
    "save_price_histories(name_to_price_history_dfs, directory_path=directory_path)"
   ]
  },
  {
   "cell_type": "markdown",
   "metadata": {},
   "source": [
    "# Compute Descriptive Information"
   ]
  },
  {
   "cell_type": "code",
   "execution_count": 10,
   "metadata": {
    "ExecuteTime": {
     "end_time": "2020-11-20T00:38:04.511971Z",
     "start_time": "2020-11-20T00:38:02.956727Z"
    }
   },
   "outputs": [],
   "source": [
    "# df = convert_raw_price_history_from_nested_list_to_dataframe(eth_data['ETH/USD'])"
   ]
  },
  {
   "cell_type": "code",
   "execution_count": 11,
   "metadata": {
    "ExecuteTime": {
     "end_time": "2020-11-20T00:36:50.763262Z",
     "start_time": "2020-11-20T00:36:50.754492Z"
    }
   },
   "outputs": [],
   "source": [
    "# df.tail(20)"
   ]
  },
  {
   "cell_type": "code",
   "execution_count": 12,
   "metadata": {
    "ExecuteTime": {
     "end_time": "2020-11-20T00:32:04.944158Z",
     "start_time": "2020-11-20T00:32:04.936923Z"
    }
   },
   "outputs": [],
   "source": [
    "# df.info(memory_usage=\"deep\")"
   ]
  },
  {
   "cell_type": "code",
   "execution_count": 13,
   "metadata": {
    "ExecuteTime": {
     "end_time": "2020-11-20T00:32:05.670486Z",
     "start_time": "2020-11-20T00:32:05.666079Z"
    }
   },
   "outputs": [],
   "source": [
    "# df.memory_usage(deep=True).sum()"
   ]
  },
  {
   "cell_type": "code",
   "execution_count": 14,
   "metadata": {
    "ExecuteTime": {
     "end_time": "2020-11-20T00:53:02.540968Z",
     "start_time": "2020-11-20T00:53:02.538865Z"
    }
   },
   "outputs": [],
   "source": [
    "# def compute_number_of_days_in_price_history(price_history_df: pd.DataFrame, \n",
    "#                                             period_length_in_seconds: float) -> float:\n",
    "#     return len(price_history_df) / 60 / 60 / 24 * period_length_in_seconds "
   ]
  },
  {
   "cell_type": "code",
   "execution_count": 15,
   "metadata": {
    "ExecuteTime": {
     "end_time": "2020-11-20T00:53:03.230981Z",
     "start_time": "2020-11-20T00:53:03.228271Z"
    }
   },
   "outputs": [
    {
     "data": {
      "text/plain": [
       "437.8798611111111"
      ]
     },
     "execution_count": 15,
     "metadata": {},
     "output_type": "execute_result"
    }
   ],
   "source": [
    "compute_number_of_days_in_price_history(df, time_resolution.in_seconds)"
   ]
  },
  {
   "cell_type": "code",
   "execution_count": null,
   "metadata": {},
   "outputs": [],
   "source": []
  }
 ],
 "metadata": {
  "kernelspec": {
   "display_name": "Python 3",
   "language": "python",
   "name": "python3"
  },
  "language_info": {
   "codemirror_mode": {
    "name": "ipython",
    "version": 3
   },
   "file_extension": ".py",
   "mimetype": "text/x-python",
   "name": "python",
   "nbconvert_exporter": "python",
   "pygments_lexer": "ipython3",
   "version": "3.8.5"
  },
  "toc": {
   "base_numbering": 1,
   "nav_menu": {},
   "number_sections": true,
   "sideBar": true,
   "skip_h1_title": false,
   "title_cell": "Table of Contents",
   "title_sidebar": "Contents",
   "toc_cell": false,
   "toc_position": {},
   "toc_section_display": true,
   "toc_window_display": false
  }
 },
 "nbformat": 4,
 "nbformat_minor": 4
}
