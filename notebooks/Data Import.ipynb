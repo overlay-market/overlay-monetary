{
 "cells": [
  {
   "cell_type": "code",
   "execution_count": 41,
   "metadata": {
    "ExecuteTime": {
     "end_time": "2020-11-19T23:48:38.997552Z",
     "start_time": "2020-11-19T23:48:38.995334Z"
    }
   },
   "outputs": [],
   "source": [
    "from ovm.utils import fetch_data\n",
    "from datetime import datetime\n",
    "import matplotlib.pyplot as plt\n",
    "import pandas as pd\n",
    "import statsmodels.api as sm\n",
    "from statsmodels.tsa.stattools import adfuller"
   ]
  },
  {
   "cell_type": "code",
   "execution_count": 53,
   "metadata": {
    "ExecuteTime": {
     "end_time": "2020-11-20T00:12:05.313850Z",
     "start_time": "2020-11-20T00:12:05.311571Z"
    }
   },
   "outputs": [],
   "source": [
    "ftx_column_names = ['start_time', 'open', 'high', 'low', 'close', 'volume']"
   ]
  },
  {
   "cell_type": "code",
   "execution_count": 12,
   "metadata": {
    "ExecuteTime": {
     "end_time": "2020-11-19T23:04:45.984129Z",
     "start_time": "2020-11-19T20:51:55.033093Z"
    }
   },
   "outputs": [],
   "source": [
    "symbols = [ 'BTC/USD', 'ETH/USD', 'AAVE/USD', 'YFI/USD', 'UNI/USD', 'BAL/USD', 'COMP/USD', 'LINK/USD', 'CREAM/USD', 'SUSHI/USD' ]\n",
    "dur = 250 * 3 * 1000 * 86400\n",
    "until = datetime.now().timestamp() * 1000\n",
    "since = until - dur\n",
    "data = fetch_data(symbols, since=since, until=until)"
   ]
  },
  {
   "cell_type": "code",
   "execution_count": 13,
   "metadata": {
    "ExecuteTime": {
     "end_time": "2020-11-19T23:04:45.990620Z",
     "start_time": "2020-11-19T23:04:45.986783Z"
    }
   },
   "outputs": [
    {
     "data": {
      "text/plain": [
       "dict"
      ]
     },
     "execution_count": 13,
     "metadata": {},
     "output_type": "execute_result"
    }
   ],
   "source": [
    "type(data)"
   ]
  },
  {
   "cell_type": "code",
   "execution_count": 14,
   "metadata": {
    "ExecuteTime": {
     "end_time": "2020-11-19T23:04:46.000701Z",
     "start_time": "2020-11-19T23:04:45.993974Z"
    }
   },
   "outputs": [
    {
     "data": {
      "text/plain": [
       "dict_keys(['BTC/USD', 'ETH/USD', 'AAVE/USD', 'YFI/USD', 'UNI/USD', 'BAL/USD', 'COMP/USD', 'LINK/USD', 'CREAM/USD', 'SUSHI/USD'])"
      ]
     },
     "execution_count": 14,
     "metadata": {},
     "output_type": "execute_result"
    }
   ],
   "source": [
    "data.keys()"
   ]
  },
  {
   "cell_type": "code",
   "execution_count": 15,
   "metadata": {
    "ExecuteTime": {
     "end_time": "2020-11-19T23:04:46.008074Z",
     "start_time": "2020-11-19T23:04:46.003366Z"
    }
   },
   "outputs": [
    {
     "data": {
      "text/plain": [
       "2803882"
      ]
     },
     "execution_count": 15,
     "metadata": {},
     "output_type": "execute_result"
    }
   ],
   "source": [
    "len(data[symbols[0]])"
   ]
  },
  {
   "cell_type": "code",
   "execution_count": 35,
   "metadata": {
    "ExecuteTime": {
     "end_time": "2020-11-19T23:41:17.223196Z",
     "start_time": "2020-11-19T23:41:17.219543Z"
    }
   },
   "outputs": [
    {
     "data": {
      "text/plain": [
       "486.78506944444445"
      ]
     },
     "execution_count": 35,
     "metadata": {},
     "output_type": "execute_result"
    }
   ],
   "source": [
    "len(data[symbols[0]]) / 60 / 4 / 24"
   ]
  },
  {
   "cell_type": "code",
   "execution_count": 20,
   "metadata": {
    "ExecuteTime": {
     "end_time": "2020-11-19T23:28:51.698630Z",
     "start_time": "2020-11-19T23:11:11.448942Z"
    }
   },
   "outputs": [],
   "source": [
    "eth_data = fetch_data(['ETH/USD'], since=since, until=until)"
   ]
  },
  {
   "cell_type": "code",
   "execution_count": 27,
   "metadata": {
    "ExecuteTime": {
     "end_time": "2020-11-19T23:37:02.900042Z",
     "start_time": "2020-11-19T23:37:02.896513Z"
    }
   },
   "outputs": [
    {
     "data": {
      "text/plain": [
       "64800000000"
      ]
     },
     "execution_count": 27,
     "metadata": {},
     "output_type": "execute_result"
    }
   ],
   "source": [
    "dur"
   ]
  },
  {
   "cell_type": "code",
   "execution_count": 23,
   "metadata": {
    "ExecuteTime": {
     "end_time": "2020-11-19T23:36:13.607474Z",
     "start_time": "2020-11-19T23:36:13.603171Z"
    }
   },
   "outputs": [],
   "source": [
    "def adf_test(timeseries):\n",
    "    print ('Results of Dickey-Fuller Test:')\n",
    "    dftest = adfuller(timeseries, autolag='AIC')\n",
    "    dfoutput = pd.Series(dftest[0:4], index=['Test Statistic','p-value','#Lags Used','Number of Observations Used'])\n",
    "    for key,value in dftest[4].items():\n",
    "       dfoutput['Critical Value (%s)'%key] = value\n",
    "    print (dfoutput)"
   ]
  },
  {
   "cell_type": "code",
   "execution_count": 33,
   "metadata": {
    "ExecuteTime": {
     "end_time": "2020-11-19T23:40:59.724838Z",
     "start_time": "2020-11-19T23:40:59.721223Z"
    }
   },
   "outputs": [
    {
     "data": {
      "text/plain": [
       "431.59392361111117"
      ]
     },
     "execution_count": 33,
     "metadata": {},
     "output_type": "execute_result"
    }
   ],
   "source": [
    "len(eth_data['ETH/USD']) / 60 / 4 / 24"
   ]
  },
  {
   "cell_type": "code",
   "execution_count": 29,
   "metadata": {
    "ExecuteTime": {
     "end_time": "2020-11-19T23:37:44.619252Z",
     "start_time": "2020-11-19T23:37:44.615925Z"
    }
   },
   "outputs": [
    {
     "data": {
      "text/plain": [
       "2485981"
      ]
     },
     "execution_count": 29,
     "metadata": {},
     "output_type": "execute_result"
    }
   ],
   "source": [
    "len(eth_data['ETH/USD'])"
   ]
  },
  {
   "cell_type": "code",
   "execution_count": 34,
   "metadata": {
    "ExecuteTime": {
     "end_time": "2020-11-19T23:41:02.193077Z",
     "start_time": "2020-11-19T23:41:02.189084Z"
    }
   },
   "outputs": [
    {
     "data": {
      "text/plain": [
       "431.59392361111117"
      ]
     },
     "execution_count": 34,
     "metadata": {},
     "output_type": "execute_result"
    }
   ],
   "source": [
    "len(data['ETH/USD']) / 60 / 4 / 24"
   ]
  },
  {
   "cell_type": "code",
   "execution_count": 36,
   "metadata": {
    "ExecuteTime": {
     "end_time": "2020-11-19T23:42:05.819527Z",
     "start_time": "2020-11-19T23:42:05.816048Z"
    }
   },
   "outputs": [
    {
     "data": {
      "text/plain": [
       "2485981"
      ]
     },
     "execution_count": 36,
     "metadata": {},
     "output_type": "execute_result"
    }
   ],
   "source": [
    "len(eth_data['ETH/USD'])"
   ]
  },
  {
   "cell_type": "code",
   "execution_count": 39,
   "metadata": {
    "ExecuteTime": {
     "end_time": "2020-11-19T23:44:30.833112Z",
     "start_time": "2020-11-19T23:44:30.829390Z"
    }
   },
   "outputs": [
    {
     "data": {
      "text/plain": [
       "37323885000"
      ]
     },
     "execution_count": 39,
     "metadata": {},
     "output_type": "execute_result"
    }
   ],
   "source": [
    "eth_data['ETH/USD'][-1][0] - eth_data['ETH/USD'][0][0]"
   ]
  },
  {
   "cell_type": "code",
   "execution_count": 54,
   "metadata": {
    "ExecuteTime": {
     "end_time": "2020-11-20T00:12:44.585076Z",
     "start_time": "2020-11-20T00:12:43.049664Z"
    }
   },
   "outputs": [],
   "source": [
    "df = pd.DataFrame(data=eth_data['ETH/USD'], columns=ftx_column_names)"
   ]
  },
  {
   "cell_type": "code",
   "execution_count": 55,
   "metadata": {
    "ExecuteTime": {
     "end_time": "2020-11-20T00:12:44.597768Z",
     "start_time": "2020-11-20T00:12:44.587247Z"
    }
   },
   "outputs": [
    {
     "data": {
      "text/html": [
       "<div>\n",
       "<style scoped>\n",
       "    .dataframe tbody tr th:only-of-type {\n",
       "        vertical-align: middle;\n",
       "    }\n",
       "\n",
       "    .dataframe tbody tr th {\n",
       "        vertical-align: top;\n",
       "    }\n",
       "\n",
       "    .dataframe thead th {\n",
       "        text-align: right;\n",
       "    }\n",
       "</style>\n",
       "<table border=\"1\" class=\"dataframe\">\n",
       "  <thead>\n",
       "    <tr style=\"text-align: right;\">\n",
       "      <th></th>\n",
       "      <th>start_time</th>\n",
       "      <th>open</th>\n",
       "      <th>high</th>\n",
       "      <th>low</th>\n",
       "      <th>close</th>\n",
       "      <th>volume</th>\n",
       "    </tr>\n",
       "  </thead>\n",
       "  <tbody>\n",
       "    <tr>\n",
       "      <th>2485961</th>\n",
       "      <td>1605818820000</td>\n",
       "      <td>474.79</td>\n",
       "      <td>474.85</td>\n",
       "      <td>474.79</td>\n",
       "      <td>474.83</td>\n",
       "      <td>0.00000</td>\n",
       "    </tr>\n",
       "    <tr>\n",
       "      <th>2485962</th>\n",
       "      <td>1605818835000</td>\n",
       "      <td>474.83</td>\n",
       "      <td>474.85</td>\n",
       "      <td>474.80</td>\n",
       "      <td>474.82</td>\n",
       "      <td>0.00000</td>\n",
       "    </tr>\n",
       "    <tr>\n",
       "      <th>2485963</th>\n",
       "      <td>1605818850000</td>\n",
       "      <td>474.82</td>\n",
       "      <td>474.82</td>\n",
       "      <td>474.74</td>\n",
       "      <td>474.76</td>\n",
       "      <td>0.00000</td>\n",
       "    </tr>\n",
       "    <tr>\n",
       "      <th>2485964</th>\n",
       "      <td>1605818865000</td>\n",
       "      <td>474.76</td>\n",
       "      <td>474.84</td>\n",
       "      <td>474.76</td>\n",
       "      <td>474.78</td>\n",
       "      <td>1044.04122</td>\n",
       "    </tr>\n",
       "    <tr>\n",
       "      <th>2485965</th>\n",
       "      <td>1605818880000</td>\n",
       "      <td>474.78</td>\n",
       "      <td>474.92</td>\n",
       "      <td>474.78</td>\n",
       "      <td>474.78</td>\n",
       "      <td>0.00000</td>\n",
       "    </tr>\n",
       "    <tr>\n",
       "      <th>2485966</th>\n",
       "      <td>1605818895000</td>\n",
       "      <td>474.79</td>\n",
       "      <td>474.79</td>\n",
       "      <td>474.51</td>\n",
       "      <td>474.54</td>\n",
       "      <td>0.00000</td>\n",
       "    </tr>\n",
       "    <tr>\n",
       "      <th>2485967</th>\n",
       "      <td>1605818910000</td>\n",
       "      <td>474.54</td>\n",
       "      <td>474.78</td>\n",
       "      <td>474.54</td>\n",
       "      <td>474.78</td>\n",
       "      <td>0.00000</td>\n",
       "    </tr>\n",
       "    <tr>\n",
       "      <th>2485968</th>\n",
       "      <td>1605818925000</td>\n",
       "      <td>474.78</td>\n",
       "      <td>474.78</td>\n",
       "      <td>474.78</td>\n",
       "      <td>474.78</td>\n",
       "      <td>0.00000</td>\n",
       "    </tr>\n",
       "    <tr>\n",
       "      <th>2485969</th>\n",
       "      <td>1605818940000</td>\n",
       "      <td>474.78</td>\n",
       "      <td>474.78</td>\n",
       "      <td>474.62</td>\n",
       "      <td>474.67</td>\n",
       "      <td>1043.25872</td>\n",
       "    </tr>\n",
       "    <tr>\n",
       "      <th>2485970</th>\n",
       "      <td>1605818955000</td>\n",
       "      <td>474.67</td>\n",
       "      <td>474.71</td>\n",
       "      <td>474.64</td>\n",
       "      <td>474.64</td>\n",
       "      <td>0.00000</td>\n",
       "    </tr>\n",
       "    <tr>\n",
       "      <th>2485971</th>\n",
       "      <td>1605818970000</td>\n",
       "      <td>474.64</td>\n",
       "      <td>474.64</td>\n",
       "      <td>474.60</td>\n",
       "      <td>474.63</td>\n",
       "      <td>0.00000</td>\n",
       "    </tr>\n",
       "    <tr>\n",
       "      <th>2485972</th>\n",
       "      <td>1605818985000</td>\n",
       "      <td>474.63</td>\n",
       "      <td>474.63</td>\n",
       "      <td>474.40</td>\n",
       "      <td>474.42</td>\n",
       "      <td>498.17250</td>\n",
       "    </tr>\n",
       "    <tr>\n",
       "      <th>2485973</th>\n",
       "      <td>1605819000000</td>\n",
       "      <td>474.42</td>\n",
       "      <td>474.69</td>\n",
       "      <td>474.40</td>\n",
       "      <td>474.69</td>\n",
       "      <td>2378.65030</td>\n",
       "    </tr>\n",
       "    <tr>\n",
       "      <th>2485974</th>\n",
       "      <td>1605819015000</td>\n",
       "      <td>474.69</td>\n",
       "      <td>474.70</td>\n",
       "      <td>474.69</td>\n",
       "      <td>474.69</td>\n",
       "      <td>0.00000</td>\n",
       "    </tr>\n",
       "    <tr>\n",
       "      <th>2485975</th>\n",
       "      <td>1605819030000</td>\n",
       "      <td>474.69</td>\n",
       "      <td>474.69</td>\n",
       "      <td>474.68</td>\n",
       "      <td>474.68</td>\n",
       "      <td>0.00000</td>\n",
       "    </tr>\n",
       "    <tr>\n",
       "      <th>2485976</th>\n",
       "      <td>1605819045000</td>\n",
       "      <td>474.68</td>\n",
       "      <td>474.68</td>\n",
       "      <td>474.68</td>\n",
       "      <td>474.68</td>\n",
       "      <td>0.00000</td>\n",
       "    </tr>\n",
       "    <tr>\n",
       "      <th>2485977</th>\n",
       "      <td>1605819060000</td>\n",
       "      <td>474.68</td>\n",
       "      <td>474.68</td>\n",
       "      <td>474.58</td>\n",
       "      <td>474.63</td>\n",
       "      <td>0.00000</td>\n",
       "    </tr>\n",
       "    <tr>\n",
       "      <th>2485978</th>\n",
       "      <td>1605819075000</td>\n",
       "      <td>474.63</td>\n",
       "      <td>474.63</td>\n",
       "      <td>474.63</td>\n",
       "      <td>474.63</td>\n",
       "      <td>0.00000</td>\n",
       "    </tr>\n",
       "    <tr>\n",
       "      <th>2485979</th>\n",
       "      <td>1605819090000</td>\n",
       "      <td>474.63</td>\n",
       "      <td>474.69</td>\n",
       "      <td>474.63</td>\n",
       "      <td>474.69</td>\n",
       "      <td>0.00000</td>\n",
       "    </tr>\n",
       "    <tr>\n",
       "      <th>2485980</th>\n",
       "      <td>1605819105000</td>\n",
       "      <td>474.69</td>\n",
       "      <td>474.69</td>\n",
       "      <td>474.69</td>\n",
       "      <td>474.69</td>\n",
       "      <td>0.00000</td>\n",
       "    </tr>\n",
       "  </tbody>\n",
       "</table>\n",
       "</div>"
      ],
      "text/plain": [
       "            start_time    open    high     low   close      volume\n",
       "2485961  1605818820000  474.79  474.85  474.79  474.83     0.00000\n",
       "2485962  1605818835000  474.83  474.85  474.80  474.82     0.00000\n",
       "2485963  1605818850000  474.82  474.82  474.74  474.76     0.00000\n",
       "2485964  1605818865000  474.76  474.84  474.76  474.78  1044.04122\n",
       "2485965  1605818880000  474.78  474.92  474.78  474.78     0.00000\n",
       "2485966  1605818895000  474.79  474.79  474.51  474.54     0.00000\n",
       "2485967  1605818910000  474.54  474.78  474.54  474.78     0.00000\n",
       "2485968  1605818925000  474.78  474.78  474.78  474.78     0.00000\n",
       "2485969  1605818940000  474.78  474.78  474.62  474.67  1043.25872\n",
       "2485970  1605818955000  474.67  474.71  474.64  474.64     0.00000\n",
       "2485971  1605818970000  474.64  474.64  474.60  474.63     0.00000\n",
       "2485972  1605818985000  474.63  474.63  474.40  474.42   498.17250\n",
       "2485973  1605819000000  474.42  474.69  474.40  474.69  2378.65030\n",
       "2485974  1605819015000  474.69  474.70  474.69  474.69     0.00000\n",
       "2485975  1605819030000  474.69  474.69  474.68  474.68     0.00000\n",
       "2485976  1605819045000  474.68  474.68  474.68  474.68     0.00000\n",
       "2485977  1605819060000  474.68  474.68  474.58  474.63     0.00000\n",
       "2485978  1605819075000  474.63  474.63  474.63  474.63     0.00000\n",
       "2485979  1605819090000  474.63  474.69  474.63  474.69     0.00000\n",
       "2485980  1605819105000  474.69  474.69  474.69  474.69     0.00000"
      ]
     },
     "execution_count": 55,
     "metadata": {},
     "output_type": "execute_result"
    }
   ],
   "source": [
    "df.tail(20)"
   ]
  },
  {
   "cell_type": "code",
   "execution_count": 56,
   "metadata": {
    "ExecuteTime": {
     "end_time": "2020-11-20T00:20:49.482145Z",
     "start_time": "2020-11-20T00:20:49.468061Z"
    }
   },
   "outputs": [
    {
     "name": "stdout",
     "output_type": "stream",
     "text": [
      "<class 'pandas.core.frame.DataFrame'>\n",
      "RangeIndex: 2485981 entries, 0 to 2485980\n",
      "Data columns (total 6 columns):\n",
      " #   Column      Dtype  \n",
      "---  ------      -----  \n",
      " 0   start_time  int64  \n",
      " 1   open        float64\n",
      " 2   high        float64\n",
      " 3   low         float64\n",
      " 4   close       float64\n",
      " 5   volume      float64\n",
      "dtypes: float64(5), int64(1)\n",
      "memory usage: 113.8 MB\n"
     ]
    }
   ],
   "source": [
    "df.info(memory_usage=\"deep\")"
   ]
  },
  {
   "cell_type": "code",
   "execution_count": null,
   "metadata": {},
   "outputs": [],
   "source": []
  }
 ],
 "metadata": {
  "kernelspec": {
   "display_name": "Python 3",
   "language": "python",
   "name": "python3"
  },
  "language_info": {
   "codemirror_mode": {
    "name": "ipython",
    "version": 3
   },
   "file_extension": ".py",
   "mimetype": "text/x-python",
   "name": "python",
   "nbconvert_exporter": "python",
   "pygments_lexer": "ipython3",
   "version": "3.8.5"
  },
  "toc": {
   "base_numbering": 1,
   "nav_menu": {},
   "number_sections": true,
   "sideBar": true,
   "skip_h1_title": false,
   "title_cell": "Table of Contents",
   "title_sidebar": "Contents",
   "toc_cell": false,
   "toc_position": {},
   "toc_section_display": true,
   "toc_window_display": false
  }
 },
 "nbformat": 4,
 "nbformat_minor": 4
}
