{
 "cells": [
  {
   "cell_type": "code",
   "execution_count": 98,
   "metadata": {
    "ExecuteTime": {
     "end_time": "2020-11-20T00:54:34.370855Z",
     "start_time": "2020-11-20T00:54:34.330823Z"
    }
   },
   "outputs": [],
   "source": [
    "%load_ext autoreload\n",
    "%autoreload 2"
   ]
  },
  {
   "cell_type": "code",
   "execution_count": 134,
   "metadata": {
    "ExecuteTime": {
     "end_time": "2020-11-21T01:54:00.349909Z",
     "start_time": "2020-11-21T01:53:59.738705Z"
    }
   },
   "outputs": [],
   "source": [
    "from ovm.utils import (\n",
    "    TimeResolution, \n",
    "    fetch_data\n",
    ")\n",
    "\n",
    "from ovm.historical_data_io import (\n",
    "    convert_multiple_raw_price_histories_from_nested_lists_to_dict_of_dataframes, \n",
    "    convert_raw_price_history_from_nested_list_to_dataframe, \n",
    "    compute_number_of_days_in_price_history, \n",
    "    save_price_histories    \n",
    ")\n",
    "\n",
    "from datetime import datetime\n",
    "import matplotlib.pyplot as plt\n",
    "import numpy as np\n",
    "import pandas as pd\n",
    "import pyarrow\n",
    "import statsmodels.api as sm\n",
    "from statsmodels.tsa.stattools import adfuller\n",
    "import typing as tp"
   ]
  },
  {
   "cell_type": "code",
   "execution_count": null,
   "metadata": {},
   "outputs": [],
   "source": [
    "time_resolution = TimeResolution.FIFTEEN_SECONDS\n",
    "directory_path = time_resolution.value"
   ]
  },
  {
   "cell_type": "code",
   "execution_count": 12,
   "metadata": {
    "ExecuteTime": {
     "end_time": "2020-11-19T23:04:45.984129Z",
     "start_time": "2020-11-19T20:51:55.033093Z"
    }
   },
   "outputs": [],
   "source": [
    "# ftx_column_names = ['start_time', 'open', 'high', 'low', 'close', 'volume']\n",
    "symbols = [ 'BTC/USD', 'ETH/USD', 'AAVE/USD', 'YFI/USD', 'UNI/USD', 'BAL/USD', 'COMP/USD', 'LINK/USD', 'CREAM/USD', 'SUSHI/USD' ]\n",
    "dur = 250 * 3 * 1000 * 86400\n",
    "until = datetime.now().timestamp() * 1000\n",
    "since = until - dur\n",
    "data = fetch_data(symbols, since=since, until=until)"
   ]
  },
  {
   "cell_type": "code",
   "execution_count": 20,
   "metadata": {
    "ExecuteTime": {
     "end_time": "2020-11-19T23:28:51.698630Z",
     "start_time": "2020-11-19T23:11:11.448942Z"
    }
   },
   "outputs": [],
   "source": [
    "# eth_data = fetch_data(['ETH/USD'], since=since, until=until)"
   ]
  },
  {
   "cell_type": "code",
   "execution_count": 78,
   "metadata": {
    "ExecuteTime": {
     "end_time": "2020-11-20T00:38:54.297336Z",
     "start_time": "2020-11-20T00:38:47.592623Z"
    }
   },
   "outputs": [],
   "source": [
    "name_to_price_history_dfs = \\\n",
    "    convert_multiple_raw_price_histories_from_nested_lists_to_dict_of_dataframes(data)"
   ]
  },
  {
   "cell_type": "code",
   "execution_count": 100,
   "metadata": {
    "ExecuteTime": {
     "end_time": "2020-11-20T21:43:59.857575Z",
     "start_time": "2020-11-20T21:43:59.491278Z"
    }
   },
   "outputs": [],
   "source": [
    "df = name_to_price_history_dfs['ETH/USD']"
   ]
  },
  {
   "cell_type": "code",
   "execution_count": 101,
   "metadata": {
    "ExecuteTime": {
     "end_time": "2020-11-20T21:44:04.274595Z",
     "start_time": "2020-11-20T21:44:04.225612Z"
    }
   },
   "outputs": [
    {
     "data": {
      "text/plain": [
       "2485981"
      ]
     },
     "execution_count": 101,
     "metadata": {},
     "output_type": "execute_result"
    }
   ],
   "source": [
    "len(df)"
   ]
  },
  {
   "cell_type": "code",
   "execution_count": 90,
   "metadata": {
    "ExecuteTime": {
     "end_time": "2020-11-20T00:46:16.410658Z",
     "start_time": "2020-11-20T00:46:13.723206Z"
    }
   },
   "outputs": [],
   "source": [
    "save_price_histories(name_to_price_history_dfs)"
   ]
  },
  {
   "cell_type": "code",
   "execution_count": 77,
   "metadata": {
    "ExecuteTime": {
     "end_time": "2020-11-20T00:38:04.511971Z",
     "start_time": "2020-11-20T00:38:02.956727Z"
    }
   },
   "outputs": [],
   "source": [
    "# df = convert_raw_price_history_from_nested_list_to_dataframe(eth_data['ETH/USD'])"
   ]
  },
  {
   "cell_type": "code",
   "execution_count": 74,
   "metadata": {
    "ExecuteTime": {
     "end_time": "2020-11-20T00:36:50.763262Z",
     "start_time": "2020-11-20T00:36:50.754492Z"
    }
   },
   "outputs": [
    {
     "data": {
      "text/html": [
       "<div>\n",
       "<style scoped>\n",
       "    .dataframe tbody tr th:only-of-type {\n",
       "        vertical-align: middle;\n",
       "    }\n",
       "\n",
       "    .dataframe tbody tr th {\n",
       "        vertical-align: top;\n",
       "    }\n",
       "\n",
       "    .dataframe thead th {\n",
       "        text-align: right;\n",
       "    }\n",
       "</style>\n",
       "<table border=\"1\" class=\"dataframe\">\n",
       "  <thead>\n",
       "    <tr style=\"text-align: right;\">\n",
       "      <th></th>\n",
       "      <th>open</th>\n",
       "      <th>high</th>\n",
       "      <th>low</th>\n",
       "      <th>close</th>\n",
       "      <th>volume</th>\n",
       "    </tr>\n",
       "    <tr>\n",
       "      <th>start_time</th>\n",
       "      <th></th>\n",
       "      <th></th>\n",
       "      <th></th>\n",
       "      <th></th>\n",
       "      <th></th>\n",
       "    </tr>\n",
       "  </thead>\n",
       "  <tbody>\n",
       "    <tr>\n",
       "      <th>1605818820000</th>\n",
       "      <td>474.79</td>\n",
       "      <td>474.85</td>\n",
       "      <td>474.79</td>\n",
       "      <td>474.83</td>\n",
       "      <td>0.00000</td>\n",
       "    </tr>\n",
       "    <tr>\n",
       "      <th>1605818835000</th>\n",
       "      <td>474.83</td>\n",
       "      <td>474.85</td>\n",
       "      <td>474.80</td>\n",
       "      <td>474.82</td>\n",
       "      <td>0.00000</td>\n",
       "    </tr>\n",
       "    <tr>\n",
       "      <th>1605818850000</th>\n",
       "      <td>474.82</td>\n",
       "      <td>474.82</td>\n",
       "      <td>474.74</td>\n",
       "      <td>474.76</td>\n",
       "      <td>0.00000</td>\n",
       "    </tr>\n",
       "    <tr>\n",
       "      <th>1605818865000</th>\n",
       "      <td>474.76</td>\n",
       "      <td>474.84</td>\n",
       "      <td>474.76</td>\n",
       "      <td>474.78</td>\n",
       "      <td>1044.04122</td>\n",
       "    </tr>\n",
       "    <tr>\n",
       "      <th>1605818880000</th>\n",
       "      <td>474.78</td>\n",
       "      <td>474.92</td>\n",
       "      <td>474.78</td>\n",
       "      <td>474.78</td>\n",
       "      <td>0.00000</td>\n",
       "    </tr>\n",
       "    <tr>\n",
       "      <th>1605818895000</th>\n",
       "      <td>474.79</td>\n",
       "      <td>474.79</td>\n",
       "      <td>474.51</td>\n",
       "      <td>474.54</td>\n",
       "      <td>0.00000</td>\n",
       "    </tr>\n",
       "    <tr>\n",
       "      <th>1605818910000</th>\n",
       "      <td>474.54</td>\n",
       "      <td>474.78</td>\n",
       "      <td>474.54</td>\n",
       "      <td>474.78</td>\n",
       "      <td>0.00000</td>\n",
       "    </tr>\n",
       "    <tr>\n",
       "      <th>1605818925000</th>\n",
       "      <td>474.78</td>\n",
       "      <td>474.78</td>\n",
       "      <td>474.78</td>\n",
       "      <td>474.78</td>\n",
       "      <td>0.00000</td>\n",
       "    </tr>\n",
       "    <tr>\n",
       "      <th>1605818940000</th>\n",
       "      <td>474.78</td>\n",
       "      <td>474.78</td>\n",
       "      <td>474.62</td>\n",
       "      <td>474.67</td>\n",
       "      <td>1043.25872</td>\n",
       "    </tr>\n",
       "    <tr>\n",
       "      <th>1605818955000</th>\n",
       "      <td>474.67</td>\n",
       "      <td>474.71</td>\n",
       "      <td>474.64</td>\n",
       "      <td>474.64</td>\n",
       "      <td>0.00000</td>\n",
       "    </tr>\n",
       "    <tr>\n",
       "      <th>1605818970000</th>\n",
       "      <td>474.64</td>\n",
       "      <td>474.64</td>\n",
       "      <td>474.60</td>\n",
       "      <td>474.63</td>\n",
       "      <td>0.00000</td>\n",
       "    </tr>\n",
       "    <tr>\n",
       "      <th>1605818985000</th>\n",
       "      <td>474.63</td>\n",
       "      <td>474.63</td>\n",
       "      <td>474.40</td>\n",
       "      <td>474.42</td>\n",
       "      <td>498.17250</td>\n",
       "    </tr>\n",
       "    <tr>\n",
       "      <th>1605819000000</th>\n",
       "      <td>474.42</td>\n",
       "      <td>474.69</td>\n",
       "      <td>474.40</td>\n",
       "      <td>474.69</td>\n",
       "      <td>2378.65030</td>\n",
       "    </tr>\n",
       "    <tr>\n",
       "      <th>1605819015000</th>\n",
       "      <td>474.69</td>\n",
       "      <td>474.70</td>\n",
       "      <td>474.69</td>\n",
       "      <td>474.69</td>\n",
       "      <td>0.00000</td>\n",
       "    </tr>\n",
       "    <tr>\n",
       "      <th>1605819030000</th>\n",
       "      <td>474.69</td>\n",
       "      <td>474.69</td>\n",
       "      <td>474.68</td>\n",
       "      <td>474.68</td>\n",
       "      <td>0.00000</td>\n",
       "    </tr>\n",
       "    <tr>\n",
       "      <th>1605819045000</th>\n",
       "      <td>474.68</td>\n",
       "      <td>474.68</td>\n",
       "      <td>474.68</td>\n",
       "      <td>474.68</td>\n",
       "      <td>0.00000</td>\n",
       "    </tr>\n",
       "    <tr>\n",
       "      <th>1605819060000</th>\n",
       "      <td>474.68</td>\n",
       "      <td>474.68</td>\n",
       "      <td>474.58</td>\n",
       "      <td>474.63</td>\n",
       "      <td>0.00000</td>\n",
       "    </tr>\n",
       "    <tr>\n",
       "      <th>1605819075000</th>\n",
       "      <td>474.63</td>\n",
       "      <td>474.63</td>\n",
       "      <td>474.63</td>\n",
       "      <td>474.63</td>\n",
       "      <td>0.00000</td>\n",
       "    </tr>\n",
       "    <tr>\n",
       "      <th>1605819090000</th>\n",
       "      <td>474.63</td>\n",
       "      <td>474.69</td>\n",
       "      <td>474.63</td>\n",
       "      <td>474.69</td>\n",
       "      <td>0.00000</td>\n",
       "    </tr>\n",
       "    <tr>\n",
       "      <th>1605819105000</th>\n",
       "      <td>474.69</td>\n",
       "      <td>474.69</td>\n",
       "      <td>474.69</td>\n",
       "      <td>474.69</td>\n",
       "      <td>0.00000</td>\n",
       "    </tr>\n",
       "  </tbody>\n",
       "</table>\n",
       "</div>"
      ],
      "text/plain": [
       "                 open    high     low   close      volume\n",
       "start_time                                               \n",
       "1605818820000  474.79  474.85  474.79  474.83     0.00000\n",
       "1605818835000  474.83  474.85  474.80  474.82     0.00000\n",
       "1605818850000  474.82  474.82  474.74  474.76     0.00000\n",
       "1605818865000  474.76  474.84  474.76  474.78  1044.04122\n",
       "1605818880000  474.78  474.92  474.78  474.78     0.00000\n",
       "1605818895000  474.79  474.79  474.51  474.54     0.00000\n",
       "1605818910000  474.54  474.78  474.54  474.78     0.00000\n",
       "1605818925000  474.78  474.78  474.78  474.78     0.00000\n",
       "1605818940000  474.78  474.78  474.62  474.67  1043.25872\n",
       "1605818955000  474.67  474.71  474.64  474.64     0.00000\n",
       "1605818970000  474.64  474.64  474.60  474.63     0.00000\n",
       "1605818985000  474.63  474.63  474.40  474.42   498.17250\n",
       "1605819000000  474.42  474.69  474.40  474.69  2378.65030\n",
       "1605819015000  474.69  474.70  474.69  474.69     0.00000\n",
       "1605819030000  474.69  474.69  474.68  474.68     0.00000\n",
       "1605819045000  474.68  474.68  474.68  474.68     0.00000\n",
       "1605819060000  474.68  474.68  474.58  474.63     0.00000\n",
       "1605819075000  474.63  474.63  474.63  474.63     0.00000\n",
       "1605819090000  474.63  474.69  474.63  474.69     0.00000\n",
       "1605819105000  474.69  474.69  474.69  474.69     0.00000"
      ]
     },
     "execution_count": 74,
     "metadata": {},
     "output_type": "execute_result"
    }
   ],
   "source": [
    "# df.tail(20)"
   ]
  },
  {
   "cell_type": "code",
   "execution_count": 68,
   "metadata": {
    "ExecuteTime": {
     "end_time": "2020-11-20T00:32:04.944158Z",
     "start_time": "2020-11-20T00:32:04.936923Z"
    }
   },
   "outputs": [
    {
     "name": "stdout",
     "output_type": "stream",
     "text": [
      "<class 'pandas.core.frame.DataFrame'>\n",
      "Int64Index: 2485981 entries, 1568495220000 to 1605819105000\n",
      "Data columns (total 5 columns):\n",
      " #   Column  Dtype  \n",
      "---  ------  -----  \n",
      " 0   open    float64\n",
      " 1   high    float64\n",
      " 2   low     float64\n",
      " 3   close   float64\n",
      " 4   volume  float64\n",
      "dtypes: float64(5)\n",
      "memory usage: 113.8 MB\n"
     ]
    }
   ],
   "source": [
    "# df.info(memory_usage=\"deep\")"
   ]
  },
  {
   "cell_type": "code",
   "execution_count": 69,
   "metadata": {
    "ExecuteTime": {
     "end_time": "2020-11-20T00:32:05.670486Z",
     "start_time": "2020-11-20T00:32:05.666079Z"
    }
   },
   "outputs": [
    {
     "data": {
      "text/plain": [
       "119327088"
      ]
     },
     "execution_count": 69,
     "metadata": {},
     "output_type": "execute_result"
    }
   ],
   "source": [
    "# df.memory_usage(deep=True).sum()"
   ]
  },
  {
   "cell_type": "code",
   "execution_count": 94,
   "metadata": {
    "ExecuteTime": {
     "end_time": "2020-11-20T00:53:02.540968Z",
     "start_time": "2020-11-20T00:53:02.538865Z"
    }
   },
   "outputs": [],
   "source": [
    "# def compute_number_of_days_in_price_history(price_history_df: pd.DataFrame, \n",
    "#                                             period_length_in_seconds: float) -> float:\n",
    "#     return len(price_history_df) / 60 / 60 / 24 * period_length_in_seconds "
   ]
  },
  {
   "cell_type": "code",
   "execution_count": 95,
   "metadata": {
    "ExecuteTime": {
     "end_time": "2020-11-20T00:53:03.230981Z",
     "start_time": "2020-11-20T00:53:03.228271Z"
    }
   },
   "outputs": [
    {
     "data": {
      "text/plain": [
       "431.59392361111117"
      ]
     },
     "execution_count": 95,
     "metadata": {},
     "output_type": "execute_result"
    }
   ],
   "source": [
    "compute_number_of_days_in_price_history(df, 15)"
   ]
  },
  {
   "cell_type": "code",
   "execution_count": null,
   "metadata": {},
   "outputs": [],
   "source": []
  }
 ],
 "metadata": {
  "kernelspec": {
   "display_name": "Python 3",
   "language": "python",
   "name": "python3"
  },
  "language_info": {
   "codemirror_mode": {
    "name": "ipython",
    "version": 3
   },
   "file_extension": ".py",
   "mimetype": "text/x-python",
   "name": "python",
   "nbconvert_exporter": "python",
   "pygments_lexer": "ipython3",
   "version": "3.8.5"
  },
  "toc": {
   "base_numbering": 1,
   "nav_menu": {},
   "number_sections": true,
   "sideBar": true,
   "skip_h1_title": false,
   "title_cell": "Table of Contents",
   "title_sidebar": "Contents",
   "toc_cell": false,
   "toc_position": {},
   "toc_section_display": true,
   "toc_window_display": false
  }
 },
 "nbformat": 4,
 "nbformat_minor": 4
}
