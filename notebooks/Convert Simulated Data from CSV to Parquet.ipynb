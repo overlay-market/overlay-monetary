{
 "cells": [
  {
   "cell_type": "markdown",
   "id": "turkish-mechanism",
   "metadata": {},
   "source": [
    "# Import Packages"
   ]
  },
  {
   "cell_type": "code",
   "execution_count": 1,
   "id": "brazilian-retailer",
   "metadata": {
    "ExecuteTime": {
     "end_time": "2021-01-18T18:51:26.953818Z",
     "start_time": "2021-01-18T18:51:26.935783Z"
    }
   },
   "outputs": [],
   "source": [
    "%load_ext autoreload\n",
    "%autoreload 2"
   ]
  },
  {
   "cell_type": "code",
   "execution_count": 2,
   "id": "stone-logistics",
   "metadata": {},
   "outputs": [
    {
     "name": "stdout",
     "output_type": "stream",
     "text": [
      "environment variable OVERLAY_MONETARY_BASE_PATH not set defaulting to /home/michael/PycharmProjects/overlay-monetary\n"
     ]
    }
   ],
   "source": [
    "import os\n",
    "\n",
    "import pandas as pd\n",
    "\n",
    "from ovm.paths import (\n",
    "    HISTORICAL_DATA_DIRECTORY, \n",
    "    SIMULATED_DATA_DIRECTORY\n",
    ")"
   ]
  },
  {
   "cell_type": "code",
   "execution_count": 3,
   "id": "geographic-andrews",
   "metadata": {},
   "outputs": [
    {
     "name": "stdout",
     "output_type": "stream",
     "text": [
      "/home/michael/PycharmProjects/overlay-monetary/data/simulation/kucoin/1m/sims-42/sim-TRX-ETH.parq\n",
      "/home/michael/PycharmProjects/overlay-monetary/data/simulation/kucoin/1m/sims-42/sim-XRP-BTC.parq\n",
      "/home/michael/PycharmProjects/overlay-monetary/data/simulation/kucoin/1m/sims-42/sim-ADA-USDT.parq\n",
      "/home/michael/PycharmProjects/overlay-monetary/data/simulation/kucoin/1m/sims-42/sim-XRP-USDT.parq\n",
      "/home/michael/PycharmProjects/overlay-monetary/data/simulation/kucoin/1m/sims-42/sim-TRX-BTC.parq\n",
      "/home/michael/PycharmProjects/overlay-monetary/data/simulation/kucoin/1m/sims-42/sim-EOS-ETH.parq\n",
      "/home/michael/PycharmProjects/overlay-monetary/data/simulation/kucoin/1m/sims-42/sim-ETC-ETH.parq\n",
      "/home/michael/PycharmProjects/overlay-monetary/data/simulation/kucoin/1m/sims-42/sim-TRX-USDT.parq\n",
      "/home/michael/PycharmProjects/overlay-monetary/data/simulation/kucoin/1m/sims-42/sim-MKR-ETH.parq\n",
      "/home/michael/PycharmProjects/overlay-monetary/data/simulation/kucoin/1m/sims-42/sim-XRP-ETH.parq\n",
      "/home/michael/PycharmProjects/overlay-monetary/data/simulation/kucoin/1m/sims-42/sim-ETH-USDT.parq\n",
      "/home/michael/PycharmProjects/overlay-monetary/data/simulation/kucoin/1m/sims-42/sim-BTC-USDT.parq\n",
      "/home/michael/PycharmProjects/overlay-monetary/data/simulation/kucoin/1m/sims-42/sim-MKR-BTC.parq\n",
      "/home/michael/PycharmProjects/overlay-monetary/data/simulation/kucoin/1m/sims-42/sim-ETC-BTC.parq\n",
      "/home/michael/PycharmProjects/overlay-monetary/data/simulation/kucoin/1m/sims-42/sim-ADA-BTC.parq\n",
      "/home/michael/PycharmProjects/overlay-monetary/data/simulation/kucoin/1m/sims-42/sim-EOS-USDT.parq\n",
      "/home/michael/PycharmProjects/overlay-monetary/data/simulation/kucoin/1m/sims-42/sim-SNX-ETH.parq\n",
      "/home/michael/PycharmProjects/overlay-monetary/data/simulation/kucoin/1m/sims-42/sim-ETC-USDT.parq\n",
      "/home/michael/PycharmProjects/overlay-monetary/data/simulation/kucoin/1m/sims-42/sim-EOS-BTC.parq\n",
      "/home/michael/PycharmProjects/overlay-monetary/data/simulation/kucoin/1m/sims-42/sim-ETH-BTC.parq\n",
      "/home/michael/PycharmProjects/overlay-monetary/data/simulation/kucoin/1m/sims-42/sim-SNX-BTC.parq\n",
      "/home/michael/PycharmProjects/overlay-monetary/data/simulation/ftx/15s/sims-42/sim-YFI-USD.parq\n",
      "/home/michael/PycharmProjects/overlay-monetary/data/simulation/ftx/15s/sims-42/sim-LINK-USD.parq\n",
      "/home/michael/PycharmProjects/overlay-monetary/data/simulation/ftx/15s/sims-42/sim-BAL-USD.parq\n",
      "/home/michael/PycharmProjects/overlay-monetary/data/simulation/ftx/15s/sims-42/sim-BTC-USD.parq\n",
      "/home/michael/PycharmProjects/overlay-monetary/data/simulation/ftx/15s/sims-42/sim-COMP-USD.parq\n",
      "/home/michael/PycharmProjects/overlay-monetary/data/simulation/ftx/15s/sims-42/sim-ETH-USD.parq\n",
      "/home/michael/PycharmProjects/overlay-monetary/data/simulation/ftx/15s/sims-0/sim-YFI-USD.parq\n",
      "/home/michael/PycharmProjects/overlay-monetary/data/simulation/ftx/15s/sims-0/sim-LINK-USD.parq\n",
      "/home/michael/PycharmProjects/overlay-monetary/data/simulation/ftx/15s/sims-0/sim-BAL-USD.parq\n",
      "/home/michael/PycharmProjects/overlay-monetary/data/simulation/ftx/15s/sims-0/sim-BTC-USD.parq\n",
      "/home/michael/PycharmProjects/overlay-monetary/data/simulation/ftx/15s/sims-0/sim-COMP-USD.parq\n",
      "/home/michael/PycharmProjects/overlay-monetary/data/simulation/ftx/15s/sims-0/sim-ETH-USD.parq\n",
      "/home/michael/PycharmProjects/overlay-monetary/data/simulation/ftx/15s/sims-100/sim-YFI-USD.parq\n",
      "/home/michael/PycharmProjects/overlay-monetary/data/simulation/ftx/15s/sims-100/sim-LINK-USD.parq\n",
      "/home/michael/PycharmProjects/overlay-monetary/data/simulation/ftx/15s/sims-100/sim-BAL-USD.parq\n",
      "/home/michael/PycharmProjects/overlay-monetary/data/simulation/ftx/15s/sims-100/sim-BTC-USD.parq\n",
      "/home/michael/PycharmProjects/overlay-monetary/data/simulation/ftx/15s/sims-100/sim-COMP-USD.parq\n",
      "/home/michael/PycharmProjects/overlay-monetary/data/simulation/ftx/15s/sims-100/sim-ETH-USD.parq\n",
      "/home/michael/PycharmProjects/overlay-monetary/data/simulation/ftx/15s/sims-115/sim-YFI-USD.parq\n",
      "/home/michael/PycharmProjects/overlay-monetary/data/simulation/ftx/15s/sims-115/sim-LINK-USD.parq\n",
      "/home/michael/PycharmProjects/overlay-monetary/data/simulation/ftx/15s/sims-115/sim-BAL-USD.parq\n",
      "/home/michael/PycharmProjects/overlay-monetary/data/simulation/ftx/15s/sims-115/sim-BTC-USD.parq\n",
      "/home/michael/PycharmProjects/overlay-monetary/data/simulation/ftx/15s/sims-115/sim-COMP-USD.parq\n",
      "/home/michael/PycharmProjects/overlay-monetary/data/simulation/ftx/15s/sims-115/sim-ETH-USD.parq\n"
     ]
    }
   ],
   "source": [
    "for root, dirs, files in os.walk(SIMULATED_DATA_DIRECTORY, topdown=False):\n",
    "    for name in files:\n",
    "        old_file_path = os.path.join(root, name)\n",
    "        file_path_without_extension, file_extension = os.path.splitext(old_file_path)\n",
    "\n",
    "        if file_extension.lower() == '.csv':\n",
    "            new_file_path = file_path_without_extension + '.parq'\n",
    "            print(new_file_path)\n",
    "            simulated_data = pd.read_csv(old_file_path)\n",
    "            simulated_data.to_parquet(new_file_path)"
   ]
  },
  {
   "cell_type": "code",
   "execution_count": null,
   "id": "corresponding-federation",
   "metadata": {},
   "outputs": [],
   "source": []
  }
 ],
 "metadata": {
  "kernelspec": {
   "display_name": "Python 3",
   "language": "python",
   "name": "python3"
  },
  "language_info": {
   "codemirror_mode": {
    "name": "ipython",
    "version": 3
   },
   "file_extension": ".py",
   "mimetype": "text/x-python",
   "name": "python",
   "nbconvert_exporter": "python",
   "pygments_lexer": "ipython3",
   "version": "3.8.5"
  }
 },
 "nbformat": 4,
 "nbformat_minor": 5
}
