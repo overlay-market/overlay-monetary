{
 "cells": [
  {
   "cell_type": "markdown",
   "metadata": {},
   "source": [
    "# Import Packages"
   ]
  },
  {
   "cell_type": "code",
   "execution_count": 1,
   "metadata": {
    "ExecuteTime": {
     "end_time": "2021-01-26T05:09:17.826684Z",
     "start_time": "2021-01-26T05:09:17.805210Z"
    }
   },
   "outputs": [],
   "source": [
    "%load_ext autoreload\n",
    "%autoreload 2"
   ]
  },
  {
   "cell_type": "code",
   "execution_count": 2,
   "metadata": {
    "ExecuteTime": {
     "end_time": "2021-01-26T05:09:19.552269Z",
     "start_time": "2021-01-26T05:09:17.828812Z"
    }
   },
   "outputs": [
    {
     "name": "stdout",
     "output_type": "stream",
     "text": [
      "environment variable OVERLAY_MONETARY_INPUT_BASE_PATH not set defaulting to /home/michael/PycharmProjects/overlay-monetary\n",
      "environment variable OVERLAY_MONETARY_INPUT_BASE_PATH not set defaulting to /home/michael/PycharmProjects/overlay-monetary\n"
     ]
    }
   ],
   "source": [
    "from ovm.monetary.model import MonetaryModel\n",
    "\n",
    "import logging\n",
    "import os\n",
    "import random\n",
    "import typing as tp\n",
    "\n",
    "import line_profiler\n",
    "import matplotlib.pyplot as plt\n",
    "%matplotlib inline\n",
    "# %matplotlib notebook\n",
    "# %matplotlib widget\n",
    "from mesa.datacollection import DataCollector\n",
    "from mesa.visualization.ModularVisualization import ModularServer\n",
    "from mesa.visualization.modules import ChartModule\n",
    "import numpy as np\n",
    "import pandas as pd\n",
    "import chart_studio.plotly as py\n",
    "import plotly.express as px\n",
    "import plotly.graph_objs as go\n",
    "import seaborn as sns\n",
    "from tqdm import tqdm\n",
    "\n",
    "from ovm.monetary.agents import (\n",
    "    MonetaryAgent, \n",
    "    MonetaryArbitrageur, \n",
    "    MonetaryKeeper, \n",
    "    MonetaryLiquidator, \n",
    "    MonetarySniper\n",
    ")\n",
    "\n",
    "from ovm.monetary.markets import MonetaryFMarket\n",
    "from ovm.monetary.model import MonetaryModel\n",
    "from ovm.monetary.data_collection import DataCollectionOptions\n",
    "from ovm.monetary.plot_labels import (\n",
    "    price_deviation_label,\n",
    "    spot_price_label,\n",
    "    futures_price_label,\n",
    "    skew_label,\n",
    "    inventory_wealth_ovl_label,\n",
    "    inventory_wealth_usd_label,\n",
    "    GINI_LABEL,\n",
    "    GINI_ARBITRAGEURS_LABEL,\n",
    "    SUPPLY_LABEL,\n",
    "    TREASURY_LABEL,\n",
    "    LIQUIDITY_LABEL, \n",
    ")\n",
    "\n",
    "from ovm.monetary.plots import (\n",
    "    DEFAULT_FIGURE_SIZE, \n",
    "    convert_time_in_seconds_to_index, \n",
    "    convert_time_interval_in_seconds_to_indices, \n",
    "    construct_full_time_axis, \n",
    "    construct_time_axis, \n",
    "    get_indices_and_time_axis_to_plot, \n",
    "    plot_multiple_variables_over_time, \n",
    "    plot_price_deviations, \n",
    "    plot_skews, \n",
    "    plot_single_variable_over_time, \n",
    "    plot_single_variable_over_time_from_numpy_array, \n",
    "    plot_supply, \n",
    "    plot_treasury, \n",
    "    plot_liquidity, \n",
    "    plot_spot_vs_futures_price, \n",
    "    plot_open_positions\n",
    ")\n",
    "\n",
    "from ovm.monetary.reporters import * \n",
    "from ovm.monetary.data_io import (\n",
    "    construct_sims_map, \n",
    "    construct_ticker_to_series_of_prices_map_from_simulated_prices, \n",
    "    construct_ticker_to_series_of_prices_map_from_historical_prices, \n",
    "    load_and_construct_ticker_to_series_of_prices_map_from_historical_prices,\n",
    "    construct_abs_data_input_with_historical_data, \n",
    "    construct_hist_map\n",
    ")\n",
    "\n",
    "from ovm.paths import (\n",
    "    HistoricalDataSource, \n",
    "    construct_historical_data_directory\n",
    ")\n",
    "\n",
    "from ovm.simulation.bootstrap import plot_multivariate_simulation\n",
    "from ovm.simulation.resampling import (\n",
    "    load_log_returns,\n",
    "    simulate_new_price_series_via_bootstrap,\n",
    "    store_simulated_price_series_in_output_directory\n",
    ")\n",
    "\n",
    "from ovm.tickers import (\n",
    "    ETH_USD_TICKER,\n",
    "    COMP_USD_TICKER,\n",
    "    LINK_USD_TICKER,\n",
    "    YFI_USD_TICKER,\n",
    "    EOS_ETH_TICKER,\n",
    "    ETC_ETH_TICKER,\n",
    "    MKR_ETH_TICKER,\n",
    "    SNX_ETH_TICKER,\n",
    "    TRX_ETH_TICKER,\n",
    "    XRP_ETH_TICKER,\n",
    "    ETH_TICKER,\n",
    "    USD_TICKER,\n",
    "    get_ovl_quote_ticker,\n",
    ")\n",
    "\n",
    "from ovm.time_resolution import (\n",
    "    TimeResolution, \n",
    "    TimeScale\n",
    ")"
   ]
  },
  {
   "cell_type": "code",
   "execution_count": 3,
   "metadata": {
    "ExecuteTime": {
     "end_time": "2021-01-26T05:09:19.591377Z",
     "start_time": "2021-01-26T05:09:19.554703Z"
    }
   },
   "outputs": [
    {
     "data": {
      "text/plain": [
       "0"
      ]
     },
     "execution_count": 3,
     "metadata": {},
     "output_type": "execute_result"
    }
   ],
   "source": [
    "logger = logging.getLogger(__name__)\n",
    "logger.level"
   ]
  },
  {
   "cell_type": "code",
   "execution_count": 4,
   "metadata": {
    "ExecuteTime": {
     "end_time": "2021-01-26T05:09:19.631785Z",
     "start_time": "2021-01-26T05:09:19.593546Z"
    }
   },
   "outputs": [
    {
     "data": {
      "text/plain": [
       "'WARNING'"
      ]
     },
     "execution_count": 4,
     "metadata": {},
     "output_type": "execute_result"
    }
   ],
   "source": [
    "logging.getLevelName(logging.root.level)"
   ]
  },
  {
   "cell_type": "code",
   "execution_count": 5,
   "metadata": {
    "ExecuteTime": {
     "end_time": "2021-01-26T05:09:19.671667Z",
     "start_time": "2021-01-26T05:09:19.633814Z"
    }
   },
   "outputs": [
    {
     "data": {
      "text/plain": [
       "30"
      ]
     },
     "execution_count": 5,
     "metadata": {},
     "output_type": "execute_result"
    }
   ],
   "source": [
    "logging.root.level"
   ]
  },
  {
   "cell_type": "code",
   "execution_count": 6,
   "metadata": {
    "ExecuteTime": {
     "end_time": "2021-01-26T05:09:19.711980Z",
     "start_time": "2021-01-26T05:09:19.673497Z"
    }
   },
   "outputs": [],
   "source": [
    "%load_ext line_profiler"
   ]
  },
  {
   "cell_type": "markdown",
   "metadata": {},
   "source": [
    "# Set Parameters"
   ]
  },
  {
   "cell_type": "code",
   "execution_count": 7,
   "metadata": {},
   "outputs": [],
   "source": [
    "historical_data_source = HistoricalDataSource.KUCOIN\n",
    "time_resolution = TimeResolution.ONE_MINUTE\n",
    "numpy_seed = 42\n",
    "\n",
    "OVL_TICKER = SNX_ETH_TICKER  # for sim source, since OVL doesn't actually exist yet\n",
    "QUOTE_TICKER = ETH_TICKER\n",
    "OVL_QUOTE_TICKER = get_ovl_quote_ticker(QUOTE_TICKER)\n",
    "\n",
    "tickers = [EOS_ETH_TICKER,\n",
    "           ETC_ETH_TICKER,\n",
    "           MKR_ETH_TICKER,\n",
    "           SNX_ETH_TICKER,\n",
    "           XRP_ETH_TICKER]\n",
    "\n",
    "ovl_ticker = SNX_ETH_TICKER  # for sim source, since OVL doesn't actually exist yet\n",
    "quote_ticker = ETH_TICKER\n",
    "ovl_quote_ticker = get_ovl_quote_ticker(quote_ticker)\n",
    "\n",
    "total_supply = 100000  # OVL\n",
    "base_wealth = 0.0005*total_supply  # OVL\n",
    "base_market_fee = 0.0030\n",
    "base_max_leverage = 10.0\n",
    "base_liquidate_reward = 0.1\n",
    "base_maintenance = 0.6\n",
    "liquidity = 0.285*total_supply\n",
    "time_liquidity_mine = time_resolution.steps_per_month_clamped\n",
    "treasury = 0.0\n",
    "sampling_interval = int(3600 / time_resolution.in_seconds)\n",
    "\n",
    "num_arbitrageurs = int(total_supply*0.1/base_wealth)\n",
    "num_long_apes = int(total_supply*0.035/base_wealth)\n",
    "num_short_apes = int(total_supply*0.015/base_wealth)\n",
    "num_keepers = int(total_supply*0.005/base_wealth)\n",
    "num_traders = int(total_supply*0.005/base_wealth)\n",
    "num_holders = int(total_supply*0.5/base_wealth)\n",
    "num_snipers = int(total_supply*0.05/base_wealth)\n",
    "num_liquidators = int(total_supply*0.005/base_wealth)\n",
    "num_agents = num_arbitrageurs + num_keepers + \\\n",
    "    num_traders + num_holders + num_snipers + num_liquidators"
   ]
  },
  {
   "cell_type": "markdown",
   "metadata": {},
   "source": [
    "# Load Historical Price"
   ]
  },
  {
   "cell_type": "code",
   "execution_count": 8,
   "metadata": {},
   "outputs": [],
   "source": [
    "sims = construct_abs_data_input_with_historical_data(\n",
    "            time_resolution=time_resolution,\n",
    "            historical_data_source=historical_data_source,\n",
    "            tickers=tickers,\n",
    "            ovl_ticker=ovl_ticker,\n",
    "            ovl_quote_ticker=ovl_quote_ticker)"
   ]
  },
  {
   "cell_type": "code",
   "execution_count": 9,
   "metadata": {},
   "outputs": [],
   "source": [
    "# ticker_to_time_series_of_prices_map = \\\n",
    "#     construct_hist_map(time_resolution=time_resolution, \n",
    "#                        historical_data_source=historical_data_source, \n",
    "#                        tickers=tickers, \n",
    "#                        ovl_ticker=OVL_TICKER, \n",
    "#                        ovl_quote_ticker=OVL_QUOTE_TICKER)"
   ]
  },
  {
   "cell_type": "markdown",
   "metadata": {},
   "source": [
    "# Construct Agent Based Monetary Model"
   ]
  },
  {
   "cell_type": "code",
   "execution_count": 10,
   "metadata": {},
   "outputs": [
    {
     "data": {
      "text/plain": [
       "dict_keys(['EOS-ETH', 'ETC-ETH', 'MKR-ETH', 'OVL-ETH', 'XRP-ETH'])"
      ]
     },
     "execution_count": 10,
     "metadata": {},
     "output_type": "execute_result"
    }
   ],
   "source": [
    "sims.ticker_to_series_of_prices_map.keys()"
   ]
  },
  {
   "cell_type": "code",
   "execution_count": 11,
   "metadata": {
    "ExecuteTime": {
     "end_time": "2021-01-26T05:09:24.740739Z",
     "start_time": "2021-01-26T05:09:24.686163Z"
    }
   },
   "outputs": [
    {
     "name": "stdout",
     "output_type": "stream",
     "text": [
      "['EOS-ETH', 'ETC-ETH', 'MKR-ETH', 'OVL-ETH', 'XRP-ETH']\n",
      "number_of_steps_to_simulate=999324\n",
      "Model kwargs for initial conditions of sim:\n",
      "num_arbitrageurs = 200\n",
      "num_snipers = 100\n",
      "num_long_apes = 70\n",
      "num_short_apes = 30\n",
      "num_keepers = 10\n",
      "num_traders = 10\n",
      "num_holders = 1000\n",
      "num_liquidators = 10\n",
      "total number of agents = 1330\n",
      "base_wealth = 50.0\n"
     ]
    }
   ],
   "source": [
    "tickers_with_ovl = [OVL_QUOTE_TICKER if ticker == OVL_TICKER else ticker for ticker in tickers]\n",
    "print(tickers_with_ovl)\n",
    "\n",
    "# # run agent based simulations for 24 hours\n",
    "# number_of_steps_to_simulate = \\\n",
    "#     time_resolution.convert_time_in_days_to_number_of_steps(1.0)\n",
    "\n",
    "# run agent based simulations for 2 years\n",
    "number_of_steps_to_simulate = \\\n",
    "    time_resolution.convert_time_in_years_to_number_of_steps(1.9)\n",
    "\n",
    "print(f'number_of_steps_to_simulate={number_of_steps_to_simulate}')\n",
    "\n",
    "# directory_path = \\\n",
    "#     construct_historical_data_directory(\n",
    "#         historical_data_source=historical_data_source, \n",
    "#         time_resolution=time_resolution)\n",
    "\n",
    "\n",
    "DATA_COLLECTOR_NAME = 'data_collector'\n",
    "data_collection_options = \\\n",
    "    DataCollectionOptions(compute_gini_coefficient=False,\n",
    "                          compute_wealth=False,\n",
    "                          compute_inventory_wealth=False)\n",
    "\n",
    "# For the first 30 days, emit until reach 100% of total supply; ONLY USE IN LIQUDITIY FOR NOW JUST AS TEST!\n",
    "liquidity_supply_emission = [(0.51*total_supply/time_liquidity_mine)*i + 0.285*total_supply\n",
    "                             for i\n",
    "                             in range(time_liquidity_mine)]\n",
    "\n",
    "monetary_model = \\\n",
    "    MonetaryModel(num_arbitrageurs=num_arbitrageurs, \n",
    "                  num_keepers=num_keepers, \n",
    "                  num_traders=num_traders, \n",
    "                  num_holders=num_holders, \n",
    "                  num_snipers=num_snipers, \n",
    "                  num_long_apes=num_long_apes, \n",
    "                  num_short_apes=num_short_apes,\n",
    "                  num_liquidators=num_liquidators, \n",
    "                  base_maintenance=base_maintenance, \n",
    "                  base_liquidate_reward=base_liquidate_reward, \n",
    "                  input_data=sims, \n",
    "                  base_wealth=base_wealth, \n",
    "                  base_market_fee=base_market_fee, \n",
    "                  base_max_leverage=base_max_leverage, \n",
    "                  liquidity=liquidity, \n",
    "                  liquidity_supply_emission=liquidity_supply_emission, \n",
    "                  treasury=treasury, \n",
    "                  sampling_interval=sampling_interval, \n",
    "                  time_resolution=time_resolution, \n",
    "                  data_collection_options=data_collection_options, \n",
    "                  quote_ticker=QUOTE_TICKER, \n",
    "                  ovl_quote_ticker=OVL_QUOTE_TICKER,\n",
    "                  seed=0)\n",
    "\n",
    "print(\"Model kwargs for initial conditions of sim:\")\n",
    "print(f\"num_arbitrageurs = {num_arbitrageurs}\")\n",
    "print(f\"num_snipers = {num_snipers}\")\n",
    "print(f\"num_long_apes = {num_long_apes}\")\n",
    "print(f\"num_short_apes = {num_short_apes}\")\n",
    "print(f\"num_keepers = {num_keepers}\")\n",
    "print(f\"num_traders = {num_traders}\")\n",
    "print(f\"num_holders = {num_holders}\")\n",
    "print(f\"num_liquidators = {num_liquidators}\")\n",
    "print(f\"total number of agents = {num_agents}\")\n",
    "print(f\"base_wealth = {base_wealth}\")"
   ]
  },
  {
   "cell_type": "markdown",
   "metadata": {},
   "source": [
    "Drastically reduced the number of traders and holders to bring down the memory requirement for storing agent wealth (with the original numbers it would have been 7500 agents total). This would exceed the 128GB mem of my machine with 200000 steps"
   ]
  },
  {
   "cell_type": "markdown",
   "metadata": {},
   "source": [
    "# Run Simulation"
   ]
  },
  {
   "cell_type": "code",
   "execution_count": 12,
   "metadata": {
    "ExecuteTime": {
     "end_time": "2021-01-26T05:09:24.780855Z",
     "start_time": "2021-01-26T05:09:24.742546Z"
    }
   },
   "outputs": [],
   "source": [
    "def run_model(number_of_steps_to_simulate: int):\n",
    "    for i in tqdm(range(number_of_steps_to_simulate + 1)):\n",
    "        monetary_model.step()"
   ]
  },
  {
   "cell_type": "code",
   "execution_count": 13,
   "metadata": {
    "ExecuteTime": {
     "end_time": "2021-01-26T05:09:24.819118Z",
     "start_time": "2021-01-26T05:09:24.782370Z"
    }
   },
   "outputs": [
    {
     "data": {
      "text/plain": [
       "999324"
      ]
     },
     "execution_count": 13,
     "metadata": {},
     "output_type": "execute_result"
    }
   ],
   "source": [
    "number_of_steps_to_simulate"
   ]
  },
  {
   "cell_type": "code",
   "execution_count": 14,
   "metadata": {
    "ExecuteTime": {
     "end_time": "2021-01-26T05:09:50.738295Z",
     "start_time": "2021-01-26T05:09:24.820812Z"
    },
    "scrolled": false
   },
   "outputs": [
    {
     "name": "stderr",
     "output_type": "stream",
     "text": [
      "  2%|▏         | 16726/999325 [00:40<47:36, 344.05it/s]  /home/michael/PycharmProjects/overlay-monetary/ovm/monetary/agents.py:141: RuntimeWarning: divide by zero encountered in double_scalars\n",
      "  open_margin = 1/open_leverage\n",
      "/home/michael/PycharmProjects/overlay-monetary/ovm/monetary/markets.py:609: RuntimeWarning: divide by zero encountered in double_scalars\n",
      "  open_margin = 1/open_leverage\n",
      "/home/michael/PycharmProjects/overlay-monetary/ovm/monetary/agents.py:140: RuntimeWarning: invalid value encountered in double_scalars\n",
      "  open_leverage = open_position_notional/value\n",
      " 18%|█▊        | 181207/999325 [07:34<34:10, 399.03it/s]  \n"
     ]
    },
    {
     "ename": "AssertionError",
     "evalue": "_swap: Not enough liquidity in self.ny for swap",
     "output_type": "error",
     "traceback": [
      "\u001b[0;31m---------------------------------------------------------------------------\u001b[0m",
      "\u001b[0;31mAssertionError\u001b[0m                            Traceback (most recent call last)",
      "\u001b[0;32m<ipython-input-14-77014ce343fa>\u001b[0m in \u001b[0;36m<module>\u001b[0;34m\u001b[0m\n\u001b[0;32m----> 1\u001b[0;31m \u001b[0mrun_model\u001b[0m\u001b[0;34m(\u001b[0m\u001b[0mnumber_of_steps_to_simulate\u001b[0m\u001b[0;34m)\u001b[0m\u001b[0;34m\u001b[0m\u001b[0;34m\u001b[0m\u001b[0m\n\u001b[0m",
      "\u001b[0;32m<ipython-input-12-53c9cdeb8ffc>\u001b[0m in \u001b[0;36mrun_model\u001b[0;34m(number_of_steps_to_simulate)\u001b[0m\n\u001b[1;32m      1\u001b[0m \u001b[0;32mdef\u001b[0m \u001b[0mrun_model\u001b[0m\u001b[0;34m(\u001b[0m\u001b[0mnumber_of_steps_to_simulate\u001b[0m\u001b[0;34m:\u001b[0m \u001b[0mint\u001b[0m\u001b[0;34m)\u001b[0m\u001b[0;34m:\u001b[0m\u001b[0;34m\u001b[0m\u001b[0;34m\u001b[0m\u001b[0m\n\u001b[1;32m      2\u001b[0m     \u001b[0;32mfor\u001b[0m \u001b[0mi\u001b[0m \u001b[0;32min\u001b[0m \u001b[0mtqdm\u001b[0m\u001b[0;34m(\u001b[0m\u001b[0mrange\u001b[0m\u001b[0;34m(\u001b[0m\u001b[0mnumber_of_steps_to_simulate\u001b[0m \u001b[0;34m+\u001b[0m \u001b[0;36m1\u001b[0m\u001b[0;34m)\u001b[0m\u001b[0;34m)\u001b[0m\u001b[0;34m:\u001b[0m\u001b[0;34m\u001b[0m\u001b[0;34m\u001b[0m\u001b[0m\n\u001b[0;32m----> 3\u001b[0;31m         \u001b[0mmonetary_model\u001b[0m\u001b[0;34m.\u001b[0m\u001b[0mstep\u001b[0m\u001b[0;34m(\u001b[0m\u001b[0;34m)\u001b[0m\u001b[0;34m\u001b[0m\u001b[0;34m\u001b[0m\u001b[0m\n\u001b[0m",
      "\u001b[0;32m~/PycharmProjects/overlay-monetary/ovm/monetary/model.py\u001b[0m in \u001b[0;36mstep\u001b[0;34m(self)\u001b[0m\n\u001b[1;32m    594\u001b[0m                                  f\"{compute_open_positions_per_market(self, ticker)}\")\n\u001b[1;32m    595\u001b[0m \u001b[0;34m\u001b[0m\u001b[0m\n\u001b[0;32m--> 596\u001b[0;31m         \u001b[0mself\u001b[0m\u001b[0;34m.\u001b[0m\u001b[0mschedule\u001b[0m\u001b[0;34m.\u001b[0m\u001b[0mstep\u001b[0m\u001b[0;34m(\u001b[0m\u001b[0;34m)\u001b[0m\u001b[0;34m\u001b[0m\u001b[0;34m\u001b[0m\u001b[0m\n\u001b[0m\u001b[1;32m    597\u001b[0m \u001b[0;34m\u001b[0m\u001b[0m\n\u001b[1;32m    598\u001b[0m     \u001b[0;32mdef\u001b[0m \u001b[0mrun_steps\u001b[0m\u001b[0;34m(\u001b[0m\u001b[0mself\u001b[0m\u001b[0;34m,\u001b[0m \u001b[0mnumber_of_steps_to_simulate\u001b[0m\u001b[0;34m:\u001b[0m \u001b[0mint\u001b[0m\u001b[0;34m,\u001b[0m \u001b[0muse_tqdm\u001b[0m\u001b[0;34m:\u001b[0m \u001b[0mbool\u001b[0m \u001b[0;34m=\u001b[0m \u001b[0;32mTrue\u001b[0m\u001b[0;34m)\u001b[0m\u001b[0;34m:\u001b[0m\u001b[0;34m\u001b[0m\u001b[0;34m\u001b[0m\u001b[0m\n",
      "\u001b[0;32m~/anaconda3/envs/overlay-monetary/lib/python3.8/site-packages/mesa/time.py\u001b[0m in \u001b[0;36mstep\u001b[0;34m(self)\u001b[0m\n\u001b[1;32m    118\u001b[0m         \"\"\"\n\u001b[1;32m    119\u001b[0m         \u001b[0;32mfor\u001b[0m \u001b[0magent\u001b[0m \u001b[0;32min\u001b[0m \u001b[0mself\u001b[0m\u001b[0;34m.\u001b[0m\u001b[0magent_buffer\u001b[0m\u001b[0;34m(\u001b[0m\u001b[0mshuffled\u001b[0m\u001b[0;34m=\u001b[0m\u001b[0;32mTrue\u001b[0m\u001b[0;34m)\u001b[0m\u001b[0;34m:\u001b[0m\u001b[0;34m\u001b[0m\u001b[0;34m\u001b[0m\u001b[0m\n\u001b[0;32m--> 120\u001b[0;31m             \u001b[0magent\u001b[0m\u001b[0;34m.\u001b[0m\u001b[0mstep\u001b[0m\u001b[0;34m(\u001b[0m\u001b[0;34m)\u001b[0m\u001b[0;34m\u001b[0m\u001b[0;34m\u001b[0m\u001b[0m\n\u001b[0m\u001b[1;32m    121\u001b[0m         \u001b[0mself\u001b[0m\u001b[0;34m.\u001b[0m\u001b[0msteps\u001b[0m \u001b[0;34m+=\u001b[0m \u001b[0;36m1\u001b[0m\u001b[0;34m\u001b[0m\u001b[0;34m\u001b[0m\u001b[0m\n\u001b[1;32m    122\u001b[0m         \u001b[0mself\u001b[0m\u001b[0;34m.\u001b[0m\u001b[0mtime\u001b[0m \u001b[0;34m+=\u001b[0m \u001b[0;36m1\u001b[0m\u001b[0;34m\u001b[0m\u001b[0;34m\u001b[0m\u001b[0m\n",
      "\u001b[0;32m~/PycharmProjects/overlay-monetary/ovm/monetary/agents.py\u001b[0m in \u001b[0;36mstep\u001b[0;34m(self)\u001b[0m\n\u001b[1;32m    732\u001b[0m            \u001b[0;34m(\u001b[0m\u001b[0midx\u001b[0m \u001b[0;34m>=\u001b[0m \u001b[0mself\u001b[0m\u001b[0;34m.\u001b[0m\u001b[0minit_delay\u001b[0m\u001b[0;34m)\u001b[0m \u001b[0;32mand\u001b[0m\u001b[0;31m \u001b[0m\u001b[0;31m\\\u001b[0m\u001b[0;34m\u001b[0m\u001b[0;34m\u001b[0m\u001b[0m\n\u001b[1;32m    733\u001b[0m            \u001b[0;34m(\u001b[0m\u001b[0mself\u001b[0m\u001b[0;34m.\u001b[0m\u001b[0mlast_trade_idx\u001b[0m \u001b[0;34m==\u001b[0m \u001b[0;36m0\u001b[0m \u001b[0;32mor\u001b[0m \u001b[0;34m(\u001b[0m\u001b[0midx\u001b[0m \u001b[0;34m-\u001b[0m \u001b[0mself\u001b[0m\u001b[0;34m.\u001b[0m\u001b[0mlast_trade_idx\u001b[0m\u001b[0;34m)\u001b[0m \u001b[0;34m>\u001b[0m \u001b[0mself\u001b[0m\u001b[0;34m.\u001b[0m\u001b[0mtrade_delay\u001b[0m\u001b[0;34m)\u001b[0m\u001b[0;34m:\u001b[0m\u001b[0;34m\u001b[0m\u001b[0;34m\u001b[0m\u001b[0m\n\u001b[0;32m--> 734\u001b[0;31m             \u001b[0mself\u001b[0m\u001b[0;34m.\u001b[0m\u001b[0mtrade\u001b[0m\u001b[0;34m(\u001b[0m\u001b[0;34m)\u001b[0m\u001b[0;34m\u001b[0m\u001b[0;34m\u001b[0m\u001b[0m\n\u001b[0m",
      "\u001b[0;32m~/PycharmProjects/overlay-monetary/ovm/monetary/agents.py\u001b[0m in \u001b[0;36mtrade\u001b[0;34m(self)\u001b[0m\n\u001b[1;32m    703\u001b[0m             fees = self.fmarket.fees(\n\u001b[1;32m    704\u001b[0m                 amount, build=True, long=long, leverage=leverage)\n\u001b[0;32m--> 705\u001b[0;31m             pos = self.fmarket.build(amount, long=long,\n\u001b[0m\u001b[1;32m    706\u001b[0m                                      leverage=leverage, trader=self)\n\u001b[1;32m    707\u001b[0m             \u001b[0;32mif\u001b[0m \u001b[0mPERFORM_DEBUG_LOGGING\u001b[0m\u001b[0;34m:\u001b[0m\u001b[0;34m\u001b[0m\u001b[0;34m\u001b[0m\u001b[0m\n",
      "\u001b[0;32m~/PycharmProjects/overlay-monetary/ovm/monetary/markets.py\u001b[0m in \u001b[0;36mbuild\u001b[0;34m(self, dn, long, leverage, trader)\u001b[0m\n\u001b[1;32m    317\u001b[0m         amount = self._impose_fees(\n\u001b[1;32m    318\u001b[0m             dn, build=True, long=long, leverage=leverage)\n\u001b[0;32m--> 319\u001b[0;31m         \u001b[0mprice\u001b[0m \u001b[0;34m=\u001b[0m \u001b[0mself\u001b[0m\u001b[0;34m.\u001b[0m\u001b[0m_swap\u001b[0m\u001b[0;34m(\u001b[0m\u001b[0mamount\u001b[0m\u001b[0;34m,\u001b[0m \u001b[0mbuild\u001b[0m\u001b[0;34m=\u001b[0m\u001b[0;32mTrue\u001b[0m\u001b[0;34m,\u001b[0m \u001b[0mlong\u001b[0m\u001b[0;34m=\u001b[0m\u001b[0mlong\u001b[0m\u001b[0;34m,\u001b[0m \u001b[0mleverage\u001b[0m\u001b[0;34m=\u001b[0m\u001b[0mleverage\u001b[0m\u001b[0;34m)\u001b[0m\u001b[0;34m\u001b[0m\u001b[0;34m\u001b[0m\u001b[0m\n\u001b[0m\u001b[1;32m    320\u001b[0m         pos = MonetaryFPosition(fmarket_ticker=self.unique_id,\n\u001b[1;32m    321\u001b[0m                                 \u001b[0mlock_price\u001b[0m\u001b[0;34m=\u001b[0m\u001b[0mprice\u001b[0m\u001b[0;34m,\u001b[0m\u001b[0;34m\u001b[0m\u001b[0;34m\u001b[0m\u001b[0m\n",
      "\u001b[0;32m~/PycharmProjects/overlay-monetary/ovm/monetary/markets.py\u001b[0m in \u001b[0;36m_swap\u001b[0;34m(self, dn, build, long, leverage)\u001b[0m\n\u001b[1;32m    270\u001b[0m \u001b[0;34m\u001b[0m\u001b[0m\n\u001b[1;32m    271\u001b[0m             \u001b[0;32massert\u001b[0m \u001b[0mdy\u001b[0m \u001b[0;34m<\u001b[0m \u001b[0mself\u001b[0m\u001b[0;34m.\u001b[0m\u001b[0my\u001b[0m\u001b[0;34m,\u001b[0m \u001b[0;34m\"_swap: Not enough liquidity in self.y for swap\"\u001b[0m\u001b[0;34m\u001b[0m\u001b[0;34m\u001b[0m\u001b[0m\n\u001b[0;32m--> 272\u001b[0;31m             \u001b[0;32massert\u001b[0m \u001b[0mdy\u001b[0m\u001b[0;34m/\u001b[0m\u001b[0mself\u001b[0m\u001b[0;34m.\u001b[0m\u001b[0mpy\u001b[0m \u001b[0;34m<\u001b[0m \u001b[0mself\u001b[0m\u001b[0;34m.\u001b[0m\u001b[0mny\u001b[0m\u001b[0;34m,\u001b[0m \u001b[0;34m\"_swap: Not enough liquidity in self.ny for swap\"\u001b[0m\u001b[0;34m\u001b[0m\u001b[0;34m\u001b[0m\u001b[0m\n\u001b[0m\u001b[1;32m    273\u001b[0m             \u001b[0mavg_price\u001b[0m \u001b[0;34m=\u001b[0m \u001b[0mself\u001b[0m\u001b[0;34m.\u001b[0m\u001b[0mk\u001b[0m \u001b[0;34m/\u001b[0m \u001b[0;34m(\u001b[0m\u001b[0mself\u001b[0m\u001b[0;34m.\u001b[0m\u001b[0mx\u001b[0m \u001b[0;34m*\u001b[0m \u001b[0;34m(\u001b[0m\u001b[0mself\u001b[0m\u001b[0;34m.\u001b[0m\u001b[0mx\u001b[0m\u001b[0;34m+\u001b[0m\u001b[0mdx\u001b[0m\u001b[0;34m)\u001b[0m\u001b[0;34m)\u001b[0m\u001b[0;34m\u001b[0m\u001b[0;34m\u001b[0m\u001b[0m\n\u001b[1;32m    274\u001b[0m             \u001b[0mself\u001b[0m\u001b[0;34m.\u001b[0m\u001b[0mx\u001b[0m \u001b[0;34m+=\u001b[0m \u001b[0mdx\u001b[0m\u001b[0;34m\u001b[0m\u001b[0;34m\u001b[0m\u001b[0m\n",
      "\u001b[0;31mAssertionError\u001b[0m: _swap: Not enough liquidity in self.ny for swap"
     ]
    }
   ],
   "source": [
    "run_model(number_of_steps_to_simulate)"
   ]
  },
  {
   "cell_type": "code",
   "execution_count": null,
   "metadata": {
    "ExecuteTime": {
     "end_time": "2021-01-26T05:10:20.398588Z",
     "start_time": "2021-01-26T05:10:20.358082Z"
    }
   },
   "outputs": [],
   "source": [
    "for market_name, market in monetary_model.fmarkets.items():\n",
    "    print(f'open positions on {market_name} = {len(market.positions)}')"
   ]
  },
  {
   "cell_type": "markdown",
   "metadata": {},
   "source": [
    "# Extract Model Variables"
   ]
  },
  {
   "cell_type": "code",
   "execution_count": null,
   "metadata": {
    "ExecuteTime": {
     "end_time": "2021-01-26T05:10:24.348288Z",
     "start_time": "2021-01-26T05:10:24.164616Z"
    }
   },
   "outputs": [],
   "source": [
    "model_vars_df = monetary_model.data_collector.get_model_vars_dataframe()\n",
    "model_vars_df.head()"
   ]
  },
  {
   "cell_type": "code",
   "execution_count": null,
   "metadata": {
    "ExecuteTime": {
     "end_time": "2021-01-26T05:10:24.413114Z",
     "start_time": "2021-01-26T05:10:24.350211Z"
    }
   },
   "outputs": [],
   "source": [
    "model_vars_df.to_parquet('model_vars.parq')"
   ]
  },
  {
   "cell_type": "code",
   "execution_count": null,
   "metadata": {
    "ExecuteTime": {
     "end_time": "2021-01-26T05:10:24.454323Z",
     "start_time": "2021-01-26T05:10:24.415080Z"
    }
   },
   "outputs": [],
   "source": [
    "model_vars_df.memory_usage(deep=True)"
   ]
  },
  {
   "cell_type": "code",
   "execution_count": null,
   "metadata": {
    "ExecuteTime": {
     "end_time": "2021-01-26T05:10:24.501544Z",
     "start_time": "2021-01-26T05:10:24.456403Z"
    }
   },
   "outputs": [],
   "source": [
    "model_vars_df.info()"
   ]
  },
  {
   "cell_type": "code",
   "execution_count": null,
   "metadata": {
    "ExecuteTime": {
     "end_time": "2021-01-26T05:10:24.555076Z",
     "start_time": "2021-01-26T05:10:24.503300Z"
    }
   },
   "outputs": [],
   "source": [
    "model_vars_df.head()"
   ]
  },
  {
   "cell_type": "code",
   "execution_count": null,
   "metadata": {
    "ExecuteTime": {
     "end_time": "2021-01-26T05:10:24.593675Z",
     "start_time": "2021-01-26T05:10:24.556837Z"
    }
   },
   "outputs": [],
   "source": [
    "# fig = px.line(model_vars_df, y=\"Supply\", title='OVL Supply')\n",
    "# fig = px.line(model_vars_df, y=\"Treasury\", title='Treasury')\n",
    "# fig.show()"
   ]
  },
  {
   "cell_type": "markdown",
   "metadata": {},
   "source": [
    "\n",
    "# Extract Wealth"
   ]
  },
  {
   "cell_type": "code",
   "execution_count": null,
   "metadata": {
    "ExecuteTime": {
     "end_time": "2021-01-26T05:10:24.638521Z",
     "start_time": "2021-01-26T05:10:24.595309Z"
    }
   },
   "outputs": [],
   "source": [
    "# def convert_time_in_seconds_to_index(\n",
    "#     time_resolution: TimeResolution, \n",
    "#     time_in_seconds: float):\n",
    "#     return int(np.floor(time_in_seconds / time_resolution.in_seconds))"
   ]
  },
  {
   "cell_type": "code",
   "execution_count": null,
   "metadata": {
    "ExecuteTime": {
     "end_time": "2021-01-26T05:10:24.680781Z",
     "start_time": "2021-01-26T05:10:24.642853Z"
    }
   },
   "outputs": [],
   "source": [
    "quarter_year_index = \\\n",
    "    convert_time_in_seconds_to_index(\n",
    "        time_resolution=time_resolution, \n",
    "        time_in_seconds=365.25 / 4.0 * 24 * 60 * 60)\n",
    "quarter_year_index"
   ]
  },
  {
   "cell_type": "code",
   "execution_count": null,
   "metadata": {
    "ExecuteTime": {
     "end_time": "2021-01-26T05:10:24.724298Z",
     "start_time": "2021-01-26T05:10:24.683748Z"
    }
   },
   "outputs": [],
   "source": [
    "one_year_index = \\\n",
    "    convert_time_in_seconds_to_index(\n",
    "        time_resolution=time_resolution, \n",
    "        time_in_seconds=365.25 * 24 * 60 * 60)\n",
    "one_year_index"
   ]
  },
  {
   "cell_type": "code",
   "execution_count": null,
   "metadata": {
    "ExecuteTime": {
     "end_time": "2021-01-26T05:10:24.763842Z",
     "start_time": "2021-01-26T05:10:24.726064Z"
    }
   },
   "outputs": [],
   "source": [
    "one_day_index = \\\n",
    "    convert_time_in_seconds_to_index(\n",
    "        time_resolution=time_resolution, \n",
    "        time_in_seconds=24 * 60 * 60)\n",
    "one_day_index"
   ]
  },
  {
   "cell_type": "code",
   "execution_count": null,
   "metadata": {
    "ExecuteTime": {
     "end_time": "2021-01-26T05:10:24.803625Z",
     "start_time": "2021-01-26T05:10:24.765611Z"
    }
   },
   "outputs": [],
   "source": [
    "525960 / monetary_model.schedule.steps"
   ]
  },
  {
   "cell_type": "code",
   "execution_count": null,
   "metadata": {
    "ExecuteTime": {
     "end_time": "2021-01-26T05:10:24.843453Z",
     "start_time": "2021-01-26T05:10:24.805322Z"
    }
   },
   "outputs": [],
   "source": [
    "monetary_model.schedule.steps / 4 / 60 / 24"
   ]
  },
  {
   "cell_type": "code",
   "execution_count": null,
   "metadata": {
    "ExecuteTime": {
     "end_time": "2021-01-26T05:10:24.884053Z",
     "start_time": "2021-01-26T05:10:24.845277Z"
    }
   },
   "outputs": [],
   "source": [
    "type(monetary_model.data_collector._agent_records)"
   ]
  },
  {
   "cell_type": "code",
   "execution_count": null,
   "metadata": {
    "ExecuteTime": {
     "end_time": "2021-01-26T05:10:24.932306Z",
     "start_time": "2021-01-26T05:10:24.886319Z"
    }
   },
   "outputs": [],
   "source": [
    "def extract_agent_vars_for_time_step(monetary_model: MonetaryModel, time_step: int):\n",
    "    agent_vars_for_time_step = \\\n",
    "        monetary_model.data_collector._agent_records[time_step]\n",
    "    column_names = ['time_step', 'agent_id'] + list(monetary_model.data_collector.agent_reporters.keys())\n",
    "    \n",
    "    return pd.DataFrame(data=agent_vars_for_time_step, columns=column_names)"
   ]
  },
  {
   "cell_type": "code",
   "execution_count": null,
   "metadata": {
    "ExecuteTime": {
     "end_time": "2021-01-26T05:10:24.980964Z",
     "start_time": "2021-01-26T05:10:24.934403Z"
    }
   },
   "outputs": [],
   "source": [
    "column_names = ['time_step', 'agent_id'] + list(monetary_model.data_collector.agent_reporters.keys())\n",
    "column_names"
   ]
  },
  {
   "cell_type": "code",
   "execution_count": null,
   "metadata": {
    "ExecuteTime": {
     "end_time": "2021-01-26T05:10:25.025123Z",
     "start_time": "2021-01-26T05:10:24.983121Z"
    }
   },
   "outputs": [],
   "source": [
    "monetary_model.data_collector.agent_reporters"
   ]
  },
  {
   "cell_type": "code",
   "execution_count": null,
   "metadata": {
    "ExecuteTime": {
     "end_time": "2021-01-26T05:10:25.066399Z",
     "start_time": "2021-01-26T05:10:25.026975Z"
    }
   },
   "outputs": [],
   "source": [
    "# df = \\\n",
    "#     extract_agent_vars_for_time_step(monetary_model, quarter_year_index)\n",
    "# df.to_csv(f'agent_wealth_after_{quarter_year_index}_time_steps.csv')"
   ]
  },
  {
   "cell_type": "code",
   "execution_count": null,
   "metadata": {
    "ExecuteTime": {
     "end_time": "2021-01-26T05:10:25.107055Z",
     "start_time": "2021-01-26T05:10:25.068151Z"
    },
    "scrolled": false
   },
   "outputs": [],
   "source": [
    "# monetary_model.data_collector._agent_records[quarter_year_index]"
   ]
  },
  {
   "cell_type": "markdown",
   "metadata": {},
   "source": [
    "# Extract Agent Variables"
   ]
  },
  {
   "cell_type": "code",
   "execution_count": null,
   "metadata": {
    "ExecuteTime": {
     "end_time": "2021-01-26T05:10:25.148774Z",
     "start_time": "2021-01-26T05:10:25.108933Z"
    }
   },
   "outputs": [],
   "source": [
    "# monetary_model.data_collector.__dict__"
   ]
  },
  {
   "cell_type": "code",
   "execution_count": null,
   "metadata": {
    "ExecuteTime": {
     "end_time": "2021-01-26T05:10:26.958067Z",
     "start_time": "2021-01-26T05:10:25.150555Z"
    }
   },
   "outputs": [],
   "source": [
    "# agent_vars_df = monetary_model.data_collector.get_agent_vars_dataframe()\n",
    "# print(len(agent_vars_df))"
   ]
  },
  {
   "cell_type": "code",
   "execution_count": null,
   "metadata": {
    "ExecuteTime": {
     "end_time": "2021-01-26T05:10:26.999665Z",
     "start_time": "2021-01-26T05:10:26.959982Z"
    }
   },
   "outputs": [],
   "source": [
    "# agent_vars_df.to_csv(f'agent_vars.csv')"
   ]
  },
  {
   "cell_type": "code",
   "execution_count": null,
   "metadata": {
    "ExecuteTime": {
     "end_time": "2021-01-26T05:10:27.276554Z",
     "start_time": "2021-01-26T05:10:27.001498Z"
    }
   },
   "outputs": [],
   "source": [
    "# agent_vars_df.to_parquet(f'agent_vars.parq')"
   ]
  },
  {
   "cell_type": "code",
   "execution_count": null,
   "metadata": {
    "ExecuteTime": {
     "end_time": "2021-01-26T05:10:27.321901Z",
     "start_time": "2021-01-26T05:10:27.282045Z"
    }
   },
   "outputs": [],
   "source": [
    "# agent_vars_df.info()"
   ]
  },
  {
   "cell_type": "code",
   "execution_count": null,
   "metadata": {
    "ExecuteTime": {
     "end_time": "2021-01-26T05:10:27.371238Z",
     "start_time": "2021-01-26T05:10:27.325508Z"
    }
   },
   "outputs": [],
   "source": [
    "# agent_vars_df.tail(300)"
   ]
  },
  {
   "cell_type": "code",
   "execution_count": null,
   "metadata": {
    "ExecuteTime": {
     "end_time": "2021-01-26T05:10:27.412508Z",
     "start_time": "2021-01-26T05:10:27.374329Z"
    }
   },
   "outputs": [],
   "source": [
    "# agent_vars_df.loc[(699999, 1), :]\n",
    "# df.loc[('cobra', 'mark i'), 'shield']"
   ]
  },
  {
   "cell_type": "code",
   "execution_count": null,
   "metadata": {
    "ExecuteTime": {
     "end_time": "2021-01-26T05:10:27.497167Z",
     "start_time": "2021-01-26T05:10:27.414194Z"
    }
   },
   "outputs": [],
   "source": [
    "# agent_wealth = agent_vars_df.loc[pd.IndexSlice[one_year_index, :], :].values\n",
    "# agent_wealth = agent_vars_df.loc[pd.IndexSlice[one_day_index, :], :].values"
   ]
  },
  {
   "cell_type": "code",
   "execution_count": null,
   "metadata": {
    "ExecuteTime": {
     "end_time": "2021-01-26T05:10:27.536734Z",
     "start_time": "2021-01-26T05:10:27.499166Z"
    },
    "scrolled": true
   },
   "outputs": [],
   "source": [
    "# agent_wealth.shape"
   ]
  },
  {
   "cell_type": "code",
   "execution_count": null,
   "metadata": {
    "ExecuteTime": {
     "end_time": "2021-01-26T05:10:27.580580Z",
     "start_time": "2021-01-26T05:10:27.539091Z"
    }
   },
   "outputs": [],
   "source": [
    "# agent_wealth.sum()"
   ]
  },
  {
   "cell_type": "code",
   "execution_count": null,
   "metadata": {
    "ExecuteTime": {
     "end_time": "2021-01-26T05:10:27.619696Z",
     "start_time": "2021-01-26T05:10:27.582460Z"
    }
   },
   "outputs": [],
   "source": [
    "def arbitrageur_indices():\n",
    "    return 0, num_arbitrageurs\n",
    "\n",
    "\n",
    "def keeper_indices():\n",
    "    return num_arbitrageurs, num_arbitrageurs+num_keepers\n",
    "\n",
    "\n",
    "def sniper_indices():\n",
    "    begin_index = num_arbitrageurs + num_keepers + num_holders + num_traders\n",
    "    end_index = num_arbitrageurs + num_keepers + num_holders + num_traders + num_snipers\n",
    "    return begin_index, end_index"
   ]
  },
  {
   "cell_type": "code",
   "execution_count": null,
   "metadata": {
    "ExecuteTime": {
     "end_time": "2021-01-26T05:10:27.665883Z",
     "start_time": "2021-01-26T05:10:27.621677Z"
    }
   },
   "outputs": [],
   "source": [
    "# sorted(agent_wealth[sniper_indices()[0]:sniper_indices()[1]])"
   ]
  },
  {
   "cell_type": "code",
   "execution_count": null,
   "metadata": {
    "ExecuteTime": {
     "end_time": "2021-01-26T05:10:27.706211Z",
     "start_time": "2021-01-26T05:10:27.667505Z"
    }
   },
   "outputs": [],
   "source": [
    "# sorted(agent_wealth[keeper_indices()[0]:keeper_indices()[1]])"
   ]
  },
  {
   "cell_type": "code",
   "execution_count": null,
   "metadata": {
    "ExecuteTime": {
     "end_time": "2021-01-26T05:10:27.769666Z",
     "start_time": "2021-01-26T05:10:27.707827Z"
    }
   },
   "outputs": [],
   "source": [
    "# sorted(agent_wealth[arbitrageur_indices()[0]:arbitrageur_indices()[1]])"
   ]
  },
  {
   "cell_type": "code",
   "execution_count": null,
   "metadata": {
    "ExecuteTime": {
     "end_time": "2021-01-26T05:10:27.951213Z",
     "start_time": "2021-01-26T05:10:27.773127Z"
    }
   },
   "outputs": [],
   "source": [
    "# histogram = plt.hist(agent_vars_df.loc[pd.IndexSlice[one_day_index, :], :].values)"
   ]
  },
  {
   "cell_type": "code",
   "execution_count": null,
   "metadata": {
    "ExecuteTime": {
     "end_time": "2021-01-26T05:10:28.130369Z",
     "start_time": "2021-01-26T05:10:27.953238Z"
    }
   },
   "outputs": [],
   "source": [
    "# sns.kdeplot(data=agent_wealth);"
   ]
  },
  {
   "cell_type": "markdown",
   "metadata": {},
   "source": [
    "# Plot Results"
   ]
  },
  {
   "cell_type": "markdown",
   "metadata": {},
   "source": [
    "## New Plots with 100 Arbitrageurs and 100 Snipers (no traders and no holders)"
   ]
  },
  {
   "cell_type": "code",
   "execution_count": null,
   "metadata": {
    "ExecuteTime": {
     "end_time": "2021-01-26T05:10:28.170705Z",
     "start_time": "2021-01-26T05:10:28.132808Z"
    }
   },
   "outputs": [],
   "source": [
    "plot_time_scale = TimeScale.YEARS"
   ]
  },
  {
   "cell_type": "markdown",
   "metadata": {},
   "source": [
    "### Set Plot Horizon in Seconds"
   ]
  },
  {
   "cell_type": "code",
   "execution_count": null,
   "metadata": {
    "ExecuteTime": {
     "end_time": "2021-01-26T05:10:28.209599Z",
     "start_time": "2021-01-26T05:10:28.172423Z"
    }
   },
   "outputs": [],
   "source": [
    "plot_begin_years = 0.0\n",
    "# plot_end_years = 5 * 365.25 * 24 * 60 * 60  # 5 years\n",
    "# plot_end_years = 0.75 * 365.25 * 24 * 60 * 60  # 9 months\n",
    "plot_end_years = 1 * 365.25 * 24 * 60 * 60  # 1 year\n",
    "time_interval_to_plot_in_seconds = (plot_begin_years, plot_end_years)\n",
    "time_interval_to_plot_in_seconds = None"
   ]
  },
  {
   "cell_type": "markdown",
   "metadata": {},
   "source": [
    "### OVL Supply"
   ]
  },
  {
   "cell_type": "code",
   "execution_count": null,
   "metadata": {
    "ExecuteTime": {
     "end_time": "2021-01-26T05:10:28.248094Z",
     "start_time": "2021-01-26T05:10:28.211250Z"
    }
   },
   "outputs": [],
   "source": [
    "def convert_time_index_to_time_in_seconds(\n",
    "    time_step: int, \n",
    "    time_resolution: TimeResolution) -> float:\n",
    "    return time_step * time_resolution.in_seconds"
   ]
  },
  {
   "cell_type": "code",
   "execution_count": null,
   "metadata": {
    "ExecuteTime": {
     "end_time": "2021-01-26T05:10:28.288167Z",
     "start_time": "2021-01-26T05:10:28.249909Z"
    }
   },
   "outputs": [],
   "source": [
    "convert_time_index_to_time_in_seconds(\n",
    "    model_vars_df.index.values[-1], \n",
    "    time_resolution=time_resolution)"
   ]
  },
  {
   "cell_type": "code",
   "execution_count": null,
   "metadata": {
    "ExecuteTime": {
     "end_time": "2021-01-26T05:10:28.326542Z",
     "start_time": "2021-01-26T05:10:28.289768Z"
    }
   },
   "outputs": [],
   "source": [
    "def express_time_index_in_time_scale(\n",
    "    time_step: int, \n",
    "    time_resolution: TimeResolution, \n",
    "    time_scale: TimeScale) -> float:\n",
    "    return time_step * time_resolution.in_seconds / time_scale.in_seconds()"
   ]
  },
  {
   "cell_type": "code",
   "execution_count": null,
   "metadata": {
    "ExecuteTime": {
     "end_time": "2021-01-26T05:10:28.368695Z",
     "start_time": "2021-01-26T05:10:28.328250Z"
    }
   },
   "outputs": [],
   "source": [
    "express_time_index_in_time_scale(\n",
    "    model_vars_df.index.values[-1], \n",
    "    time_resolution=time_resolution, \n",
    "    time_scale=TimeScale.YEARS)"
   ]
  },
  {
   "cell_type": "markdown",
   "metadata": {},
   "source": [
    "Initial OVL Supply"
   ]
  },
  {
   "cell_type": "code",
   "execution_count": null,
   "metadata": {
    "ExecuteTime": {
     "end_time": "2021-01-26T05:10:28.408471Z",
     "start_time": "2021-01-26T05:10:28.370361Z"
    },
    "scrolled": true
   },
   "outputs": [],
   "source": [
    "model_vars_df.loc[:, SUPPLY_LABEL].values[0]"
   ]
  },
  {
   "cell_type": "markdown",
   "metadata": {},
   "source": [
    "Final OVL Supply"
   ]
  },
  {
   "cell_type": "code",
   "execution_count": null,
   "metadata": {
    "ExecuteTime": {
     "end_time": "2021-01-26T05:10:28.449087Z",
     "start_time": "2021-01-26T05:10:28.410169Z"
    }
   },
   "outputs": [],
   "source": [
    "model_vars_df.loc[:, SUPPLY_LABEL].values[-1]"
   ]
  },
  {
   "cell_type": "markdown",
   "metadata": {},
   "source": [
    "OVL Growth in % over 1.93 years"
   ]
  },
  {
   "cell_type": "code",
   "execution_count": null,
   "metadata": {
    "ExecuteTime": {
     "end_time": "2021-01-26T05:10:28.490907Z",
     "start_time": "2021-01-26T05:10:28.450753Z"
    }
   },
   "outputs": [],
   "source": [
    "(model_vars_df.loc[:, SUPPLY_LABEL].values[-1] / model_vars_df.loc[:, SUPPLY_LABEL].values[0] - 1) * 100"
   ]
  },
  {
   "cell_type": "markdown",
   "metadata": {},
   "source": [
    "Important: After the spike, the OVL supply does not go back to its initial level but increases from 41000 to to 54.6 million."
   ]
  },
  {
   "cell_type": "code",
   "execution_count": null,
   "metadata": {
    "ExecuteTime": {
     "end_time": "2021-01-26T05:10:28.667262Z",
     "start_time": "2021-01-26T05:10:28.492600Z"
    },
    "scrolled": false
   },
   "outputs": [],
   "source": [
    "plot_supply(model_vars_df=model_vars_df, \n",
    "            plot_time_scale=plot_time_scale, \n",
    "            time_interval_to_plot_in_seconds=time_interval_to_plot_in_seconds, \n",
    "            time_resolution=time_resolution, \n",
    "            data_interval=data_collection_options.data_collection_interval)"
   ]
  },
  {
   "cell_type": "markdown",
   "metadata": {},
   "source": [
    "### Liquidity"
   ]
  },
  {
   "cell_type": "code",
   "execution_count": null,
   "metadata": {
    "ExecuteTime": {
     "end_time": "2021-01-26T05:10:28.809442Z",
     "start_time": "2021-01-26T05:10:28.669663Z"
    }
   },
   "outputs": [],
   "source": [
    "plot_liquidity(model_vars_df=model_vars_df,  \n",
    "               plot_time_scale=plot_time_scale, \n",
    "               time_interval_to_plot_in_seconds=time_interval_to_plot_in_seconds, \n",
    "               time_resolution=time_resolution, \n",
    "               data_interval=data_collection_options.data_collection_interval)"
   ]
  },
  {
   "cell_type": "markdown",
   "metadata": {},
   "source": [
    "### Treasury"
   ]
  },
  {
   "cell_type": "code",
   "execution_count": null,
   "metadata": {
    "ExecuteTime": {
     "end_time": "2021-01-26T05:10:28.965782Z",
     "start_time": "2021-01-26T05:10:28.811130Z"
    }
   },
   "outputs": [],
   "source": [
    "plot_treasury(model_vars_df=model_vars_df, \n",
    "              plot_time_scale=plot_time_scale, \n",
    "              time_interval_to_plot_in_seconds=time_interval_to_plot_in_seconds, \n",
    "              time_resolution=time_resolution, \n",
    "              data_interval=data_collection_options.data_collection_interval)"
   ]
  },
  {
   "cell_type": "markdown",
   "metadata": {},
   "source": [
    "### Price Deviations"
   ]
  },
  {
   "cell_type": "code",
   "execution_count": null,
   "metadata": {
    "ExecuteTime": {
     "end_time": "2021-01-26T05:10:29.210455Z",
     "start_time": "2021-01-26T05:10:28.968095Z"
    },
    "scrolled": false
   },
   "outputs": [],
   "source": [
    "plot_price_deviations(\n",
    "    model_vars_df=model_vars_df, \n",
    "    tickers=tickers_with_ovl, \n",
    "    plot_time_scale=plot_time_scale, \n",
    "    time_resolution=time_resolution, \n",
    "    time_interval_to_plot_in_seconds=time_interval_to_plot_in_seconds, \n",
    "    data_interval=data_collection_options.data_collection_interval)"
   ]
  },
  {
   "cell_type": "markdown",
   "metadata": {},
   "source": [
    "### Open Positions"
   ]
  },
  {
   "cell_type": "code",
   "execution_count": null,
   "metadata": {
    "ExecuteTime": {
     "end_time": "2021-01-26T05:10:29.458001Z",
     "start_time": "2021-01-26T05:10:29.212644Z"
    }
   },
   "outputs": [],
   "source": [
    "plot_open_positions(\n",
    "    model_vars_df=model_vars_df, \n",
    "    tickers=tickers_with_ovl, \n",
    "    plot_time_scale=plot_time_scale, \n",
    "    time_resolution=time_resolution, \n",
    "    time_interval_to_plot_in_seconds=time_interval_to_plot_in_seconds, \n",
    "    data_interval=data_collection_options.data_collection_interval)"
   ]
  },
  {
   "cell_type": "markdown",
   "metadata": {},
   "source": [
    "### Skew"
   ]
  },
  {
   "cell_type": "code",
   "execution_count": null,
   "metadata": {
    "ExecuteTime": {
     "end_time": "2021-01-26T05:10:29.691466Z",
     "start_time": "2021-01-26T05:10:29.460554Z"
    }
   },
   "outputs": [],
   "source": [
    "plot_skews(\n",
    "    model_vars_df=model_vars_df, \n",
    "#     tickers=tickers_with_ovl[1:], \n",
    "    tickers=tickers_with_ovl, \n",
    "    plot_time_scale=plot_time_scale, \n",
    "    time_resolution=time_resolution, \n",
    "    time_interval_to_plot_in_seconds=time_interval_to_plot_in_seconds, \n",
    "    data_interval=data_collection_options.data_collection_interval)"
   ]
  },
  {
   "cell_type": "markdown",
   "metadata": {},
   "source": [
    "#### Correlation between Skew and Futures Price"
   ]
  },
  {
   "cell_type": "code",
   "execution_count": null,
   "metadata": {
    "ExecuteTime": {
     "end_time": "2021-01-26T05:10:29.736283Z",
     "start_time": "2021-01-26T05:10:29.693795Z"
    }
   },
   "outputs": [],
   "source": [
    "for i, ticker in enumerate(tickers_with_ovl):\n",
    "    if i > 0:\n",
    "        break\n",
    "    skew = model_vars_df.loc[:, skew_label(ticker)].values\n",
    "    futures_price = model_vars_df.loc[:, futures_price_label(ticker)].values\n",
    "    spot_price = model_vars_df.loc[:, spot_price_label(ticker)].values\n",
    "    print(np.corrcoef(skew, futures_price))\n",
    "    print(np.corrcoef(skew, spot_price))"
   ]
  },
  {
   "cell_type": "markdown",
   "metadata": {},
   "source": [
    "### Cumulative Returns"
   ]
  },
  {
   "cell_type": "code",
   "execution_count": null,
   "metadata": {
    "ExecuteTime": {
     "end_time": "2021-01-26T05:10:30.230517Z",
     "start_time": "2021-01-26T05:10:29.738780Z"
    },
    "scrolled": false
   },
   "outputs": [],
   "source": [
    "for i, ticker in enumerate(tickers_with_ovl):\n",
    "    spot_prices_for_ticker = model_vars_df.loc[:, spot_price_label(ticker)].values\n",
    "    cumulative_return_for_ticker = spot_prices_for_ticker / spot_prices_for_ticker[0] - 1.0\n",
    "    \n",
    "    plot_single_variable_over_time_from_numpy_array(\n",
    "        array=cumulative_return_for_ticker, \n",
    "        plot_time_scale=plot_time_scale, \n",
    "        time_resolution=time_resolution, \n",
    "        time_interval_to_plot_in_seconds=time_interval_to_plot_in_seconds, \n",
    "        data_interval=data_collection_options.data_collection_interval)\n",
    "    \n",
    "    plt.title(f'Cumulative Returns for {ticker}')"
   ]
  },
  {
   "cell_type": "markdown",
   "metadata": {},
   "source": [
    "### Spot vs. Futures Prices"
   ]
  },
  {
   "cell_type": "code",
   "execution_count": null,
   "metadata": {
    "ExecuteTime": {
     "end_time": "2021-01-26T05:10:30.880082Z",
     "start_time": "2021-01-26T05:10:30.233294Z"
    },
    "scrolled": false
   },
   "outputs": [],
   "source": [
    "for i, ticker in enumerate(tickers_with_ovl):\n",
    "    plot_spot_vs_futures_price(\n",
    "        model_vars_df=model_vars_df, \n",
    "        ticker=ticker, \n",
    "        plot_time_scale=plot_time_scale, \n",
    "        time_resolution=time_resolution, \n",
    "        time_interval_to_plot_in_seconds=time_interval_to_plot_in_seconds, \n",
    "        data_interval=data_collection_options.data_collection_interval)"
   ]
  },
  {
   "cell_type": "code",
   "execution_count": null,
   "metadata": {
    "ExecuteTime": {
     "end_time": "2021-01-26T05:10:30.914205Z",
     "start_time": "2021-01-26T05:10:30.882644Z"
    }
   },
   "outputs": [],
   "source": [
    "# model_vars_df.columns"
   ]
  },
  {
   "cell_type": "code",
   "execution_count": null,
   "metadata": {
    "ExecuteTime": {
     "end_time": "2021-01-26T05:10:30.951154Z",
     "start_time": "2021-01-26T05:10:30.915784Z"
    }
   },
   "outputs": [],
   "source": [
    "# tickers_with_ovl[0]"
   ]
  },
  {
   "cell_type": "code",
   "execution_count": null,
   "metadata": {
    "ExecuteTime": {
     "end_time": "2021-01-26T05:10:30.989832Z",
     "start_time": "2021-01-26T05:10:30.952846Z"
    }
   },
   "outputs": [],
   "source": [
    "# def plot_cumulative_spot_returns(\n",
    "#         model_vars_df: pd.DataFrame,\n",
    "#         ticker: str,\n",
    "#         plot_time_scale: TimeScale,\n",
    "#         time_resolution: TimeResolution,\n",
    "#         time_interval_to_plot_in_seconds:\n",
    "#         tp.Optional[tp.Tuple[tp.Optional[float], tp.Optional[float]]] = None,\n",
    "#         figure_size: tp.Tuple[float, float] = DEFAULT_FIGURE_SIZE,\n",
    "#         data_interval: int = 1,\n",
    "#         # relative: bool = False\n",
    "# ):\n",
    "#     column_name_to_label_map = \\\n",
    "#         {spot_price_label(ticker): spot_price_label(ticker)}\n",
    "\n",
    "#     plot_multiple_variables_over_time(\n",
    "#         model_vars_df=model_vars_df,\n",
    "#         column_name_to_label_map=column_name_to_label_map,\n",
    "#         plot_time_scale=plot_time_scale,\n",
    "#         time_resolution=time_resolution,\n",
    "#         time_interval_to_plot_in_seconds=time_interval_to_plot_in_seconds,\n",
    "#         figure_size=figure_size,\n",
    "#         data_interval=data_interval)\n",
    "\n",
    "#     plt.legend();\n",
    "#     plt.title(f'Spot Price vs Futures Price for {ticker}')\n"
   ]
  },
  {
   "cell_type": "code",
   "execution_count": null,
   "metadata": {
    "ExecuteTime": {
     "end_time": "2021-01-26T05:10:31.029829Z",
     "start_time": "2021-01-26T05:10:30.991537Z"
    }
   },
   "outputs": [],
   "source": [
    "# %lprun \\\n",
    "#     -f compute_gini \\\n",
    "#     -f compute_price_difference \\\n",
    "#     -f compute_futures_price \\\n",
    "#     -f compute_spot_price \\\n",
    "#     -f compute_supply \\\n",
    "#     -f compute_liquidity \\\n",
    "#     -f compute_treasury \\\n",
    "#     -f compute_wealth_for_agent_type \\\n",
    "#     -f compute_inventory_wealth_for_agent \\\n",
    "#     -f compute_inventory_wealth_for_agent_type \\\n",
    "#     -f compute_positional_imbalance_by_market \\\n",
    "#     -f DataCollector.collect \\\n",
    "#     -f MonetaryAgent.step \\\n",
    "#     -f MonetaryArbitrageur._unwind_positions \\\n",
    "#     -f MonetaryArbitrageur._unwind_next_position \\\n",
    "#     -f MonetaryArbitrageur.trade \\\n",
    "#     -f MonetaryArbitrageur.step \\\n",
    "#     -f MonetaryKeeper.step \\\n",
    "#     -f MonetaryKeeper.distribute_funding \\\n",
    "#     -f MonetaryLiquidator.scope_liquidations \\\n",
    "#     -f MonetaryLiquidator.step \\\n",
    "#     -f MonetarySniper._get_unwind_amount \\\n",
    "#     -f MonetarySniper._unwind_positions \\\n",
    "#     -f MonetarySniper._get_filled_price \\\n",
    "#     -f MonetarySniper._get_size \\\n",
    "#     -f MonetarySniper._get_effective_edge \\\n",
    "#     -f MonetarySniper.trade \\\n",
    "#     -f MonetaryFMarket.build \\\n",
    "#     -f MonetaryFMarket.unwind \\\n",
    "#     -f MonetaryFMarket._swap \\\n",
    "#     -f MonetaryFMarket.slippage \\\n",
    "#     -f MonetaryFMarket.fund \\\n",
    "#     -f MonetaryFMarket.funding \\\n",
    "#     -f MonetaryFMarket.liquidatable \\\n",
    "#     -f MonetaryFMarket.liquidate \\\n",
    "#     -f MonetaryModel.step \\\n",
    "#     run_model(number_of_steps_to_simulate)"
   ]
  },
  {
   "cell_type": "code",
   "execution_count": null,
   "metadata": {
    "ExecuteTime": {
     "end_time": "2021-01-26T05:10:31.068630Z",
     "start_time": "2021-01-26T05:10:31.031503Z"
    }
   },
   "outputs": [],
   "source": [
    "# plt.close('all')"
   ]
  },
  {
   "cell_type": "code",
   "execution_count": null,
   "metadata": {},
   "outputs": [],
   "source": []
  }
 ],
 "metadata": {
  "kernelspec": {
   "display_name": "Python 3",
   "language": "python",
   "name": "python3"
  },
  "language_info": {
   "codemirror_mode": {
    "name": "ipython",
    "version": 3
   },
   "file_extension": ".py",
   "mimetype": "text/x-python",
   "name": "python",
   "nbconvert_exporter": "python",
   "pygments_lexer": "ipython3",
   "version": "3.8.5"
  },
  "toc": {
   "base_numbering": 1,
   "nav_menu": {},
   "number_sections": true,
   "sideBar": true,
   "skip_h1_title": false,
   "title_cell": "Table of Contents",
   "title_sidebar": "Contents",
   "toc_cell": false,
   "toc_position": {},
   "toc_section_display": true,
   "toc_window_display": false
  }
 },
 "nbformat": 4,
 "nbformat_minor": 4
}
